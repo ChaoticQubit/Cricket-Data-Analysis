{
 "cells": [
  {
   "cell_type": "code",
   "execution_count": 1,
   "metadata": {},
   "outputs": [],
   "source": [
    "import pandas as pd\n",
    "import csv\n",
    "import os\n",
    "import sys\n",
    "import re\n",
    "import glob\n",
    "from shutil import copy\n",
    "import numpy as np\n",
    "from collections import Counter"
   ]
  },
  {
   "cell_type": "code",
   "execution_count": 164,
   "metadata": {},
   "outputs": [],
   "source": [
    "files = glob.glob('test/*')\n",
    "files1 = glob.glob('odi/*')\n",
    "files2 = glob.glob('t20/*')\n",
    "files3 = glob.glob('doubt/*')\n",
    "for f in files:\n",
    "    os.remove(f)\n",
    "for f1 in files1:\n",
    "    os.remove(f1)\n",
    "for f2 in files2:\n",
    "    os.remove(f2)\n",
    "for f3 in files3:\n",
    "    os.remove(f3)"
   ]
  },
  {
   "cell_type": "code",
   "execution_count": 165,
   "metadata": {},
   "outputs": [
    {
     "name": "stdout",
     "output_type": "stream",
     "text": [
      "all_csv/881747.csv : T 20\n",
      "all_csv/710305.csv : ODI\n",
      "all_csv/667889.csv : ODI\n",
      "all_csv/412679.csv : T 20\n",
      "all_csv/892515.csv : Test\n",
      "all_csv/1073420.csv : ODI\n",
      "all_csv/392206.csv : T 20\n",
      "all_csv/1136611.csv : T 20\n",
      "all_csv/1136619.csv : T 20\n",
      "all_csv/501231.csv : T 20\n",
      "all_csv/881749.csv : T 20\n",
      "all_csv/749547.csv : ODI\n",
      "all_csv/463154.csv : ODI\n",
      "all_csv/897737.csv : T 20\n",
      "all_csv/1000885.csv : Test\n",
      "all_csv/598064.csv : T 20\n",
      "all_csv/336017.csv : T 20\n",
      "all_csv/298798.csv : ODI\n",
      "all_csv/336040.csv : T 20\n",
      "all_csv/649089.csv : Test\n",
      "all_csv/1074971.csv : T 20\n",
      "all_csv/474464.csv : Test\n",
      "all_csv/247484.csv : ODI\n",
      "all_csv/654039.csv : T 20\n",
      "all_csv/527690.csv : T 20\n",
      "all_csv/412700.csv : T 20\n",
      "all_csv/746101.csv : ODI\n",
      "all_csv/366341.csv : ODI\n",
      "all_csv/1085952.csv : ODI\n",
      "all_csv/754759.csv : ODI\n",
      "all_csv/1059703.csv : Test\n",
      "all_csv/439139.csv : T 20\n",
      "all_csv/736515.csv : ODI\n",
      "all_csv/524936.csv : T 20\n",
      "all_csv/980963.csv : T 20\n",
      "all_csv/1178431.csv : T 20\n",
      "all_csv/749771.csv : ODI\n",
      "all_csv/902639.csv : Test\n",
      "all_csv/430881.csv : Test\n",
      "all_csv/406201.csv : Test\n",
      "all_csv/953339.csv : ODI\n",
      "all_csv/336012.csv : T 20\n",
      "all_csv/356006.csv : T 20\n",
      "all_csv/419137.csv : T 20\n",
      "all_csv/1152556.csv : T 20\n",
      "all_csv/355998.csv : T 20\n",
      "all_csv/560924.csv : ODI\n",
      "all_csv/489225.csv : ODI\n",
      "all_csv/930567.csv : ODI\n",
      "all_csv/565807.csv : Test\n",
      "all_csv/682899.csv : T 20\n",
      "all_csv/419138.csv : T 20\n",
      "all_csv/693433.csv : T 20\n",
      "all_csv/875541.csv : T 20\n",
      "all_csv/247460.csv : In Doubt\n",
      "all_csv/1089243.csv : T 20\n",
      "all_csv/1190608.csv : T 20\n",
      "all_csv/597928.csv : ODI\n",
      "all_csv/829811.csv : T 20\n",
      "all_csv/533295.csv : T 20\n",
      "all_csv/291346.csv : T 20\n",
      "all_csv/426395.csv : Test\n",
      "all_csv/291353.csv : Test\n",
      "all_csv/793201.csv : ODI\n",
      "all_csv/951353.csv : T 20\n",
      "all_csv/351679.csv : Test\n",
      "all_csv/464988.csv : Test\n",
      "all_csv/412718.csv : T 20\n",
      "all_csv/628092.csv : ODI\n",
      "all_csv/598062.csv : T 20\n",
      "all_csv/954743.csv : T 20\n",
      "all_csv/710303.csv : ODI\n",
      "all_csv/433562.csv : ODI\n",
      "all_csv/392196.csv : T 20\n",
      "all_csv/336013.csv : T 20\n",
      "all_csv/247490.csv : ODI\n",
      "all_csv/931396.csv : T 20\n",
      "all_csv/247480.csv : In Doubt\n",
      "all_csv/666049.csv : T 20\n",
      "all_csv/1072207.csv : T 20\n",
      "all_csv/533278.csv : T 20\n",
      "all_csv/548349.csv : T 20\n",
      "all_csv/660187.csv : T 20\n",
      "all_csv/598011.csv : T 20\n",
      "all_csv/754727.csv : ODI\n",
      "all_csv/1152533.csv : T 20\n",
      "all_csv/387568.csv : ODI\n",
      "all_csv/660117.csv : T 20\n",
      "all_csv/656457.csv : ODI\n",
      "all_csv/745161.csv : ODI\n",
      "all_csv/518968.csv : ODI\n",
      "all_csv/682923.csv : T 20\n",
      "all_csv/1080631.csv : ODI\n",
      "Something Went Wrong!!!\n",
      "all_csv/291365.csv : ODI\n",
      "all_csv/980945.csv : T 20\n",
      "all_csv/548312.csv : T 20\n",
      "all_csv/566947.csv : ODI\n",
      "all_csv/919611.csv : ODI\n",
      "all_csv/598036.csv : T 20\n",
      "all_csv/661689.csv : T 20\n",
      "all_csv/897733.csv : T 20\n",
      "all_csv/523735.csv : T 20\n",
      "all_csv/1168022.csv : ODI\n",
      "all_csv/564785.csv : ODI\n",
      "all_csv/1114883.csv : T 20\n",
      "all_csv/1023647.csv : In Doubt\n",
      "all_csv/534215.csv : ODI\n",
      "all_csv/335991.csv : T 20\n",
      "all_csv/778031.csv : T 20\n",
      "all_csv/297794.csv : ODI\n",
      "all_csv/923327.csv : ODI\n",
      "all_csv/736449.csv : ODI\n",
      "all_csv/932853.csv : ODI\n",
      "all_csv/656421.csv : ODI\n",
      "all_csv/730283.csv : T 20\n",
      "all_csv/1031431.csv : T 20\n",
      "all_csv/582186.csv : T 20\n",
      "all_csv/860265.csv : Test\n",
      "all_csv/1089139.csv : ODI\n",
      "all_csv/551594.csv : T 20\n",
      "all_csv/932867.csv : ODI\n",
      "all_csv/951347.csv : T 20\n",
      "all_csv/654035.csv : T 20\n",
      "all_csv/1185191.csv : T 20\n",
      "all_csv/489212.csv : T 20\n",
      "all_csv/565809.csv : Test\n",
      "all_csv/291354.csv : Test\n",
      "all_csv/897715.csv : T 20\n",
      "all_csv/461570.csv : ODI\n",
      "all_csv/501225.csv : T 20\n",
      "all_csv/257470.csv : ODI\n",
      "all_csv/336020.csv : T 20\n",
      "all_csv/522249.csv : ODI\n",
      "all_csv/656467.csv : ODI\n",
      "all_csv/660145.csv : T 20\n",
      "all_csv/289110.csv : ODI\n",
      "all_csv/635659.csv : T 20\n",
      "all_csv/648681.csv : T 20\n",
      "all_csv/350048.csv : ODI\n",
      "all_csv/548325.csv : T 20\n",
      "all_csv/924629.csv : ODI\n",
      "all_csv/291343.csv : T 20\n",
      "all_csv/355999.csv : T 20\n",
      "all_csv/875553.csv : T 20\n",
      "all_csv/419154.csv : T 20\n",
      "all_csv/981013.csv : T 20\n",
      "all_csv/298797.csv : ODI\n",
      "all_csv/1023617.csv : T 20\n",
      "all_csv/523734.csv : ODI\n",
      "all_csv/860269.csv : ODI\n",
      "all_csv/297800.csv : T 20\n",
      "all_csv/1152551.csv : T 20\n",
      "all_csv/907389.csv : ODI\n",
      "all_csv/463150.csv : ODI\n",
      "all_csv/749573.csv : ODI\n",
      "all_csv/259384.csv : ODI\n",
      "all_csv/897751.csv : T 20\n",
      "all_csv/564782.csv : ODI\n",
      "all_csv/474477.csv : ODI\n",
      "all_csv/722343.csv : ODI\n",
      "all_csv/743967.csv : Test\n",
      "all_csv/756789.csv : T 20\n",
      "all_csv/565816.csv : ODI\n",
      "all_csv/980937.csv : T 20\n",
      "all_csv/1034815.csv : Test\n",
      "all_csv/430883.csv : Test\n",
      "all_csv/676529.csv : ODI\n",
      "all_csv/1136586.csv : T 20\n",
      "all_csv/501211.csv : T 20\n",
      "all_csv/534207.csv : In Doubt\n",
      "all_csv/291366.csv : ODI\n",
      "all_csv/1136601.csv : T 20\n",
      "all_csv/623574.csv : ODI\n",
      "all_csv/1082645.csv : T 20\n",
      "all_csv/249240.csv : ODI\n",
      "all_csv/433567.csv : ODI\n",
      "all_csv/573022.csv : In Doubt\n",
      "all_csv/426393.csv : T 20\n",
      "all_csv/527689.csv : T 20\n",
      "all_csv/914235.csv : ODI\n",
      "all_csv/660169.csv : T 20\n",
      "all_csv/1114873.csv : T 20\n",
      "all_csv/963697.csv : T 20\n",
      "all_csv/514024.csv : T 20\n",
      "all_csv/598815.csv : Test\n",
      "all_csv/598040.csv : T 20\n",
      "all_csv/562443.csv : ODI\n",
      "all_csv/1114894.csv : T 20\n",
      "all_csv/952197.csv : ODI\n",
      "all_csv/313994.csv : ODI\n",
      "all_csv/225249.csv : ODI\n",
      "all_csv/760787.csv : ODI\n",
      "all_csv/1136596.csv : T 20\n",
      "all_csv/1059716.csv : ODI\n",
      "all_csv/736501.csv : ODI\n",
      "all_csv/350045.csv : ODI\n",
      "all_csv/343732.csv : ODI\n",
      "all_csv/335994.csv : T 20\n",
      "all_csv/1082627.csv : T 20\n",
      "all_csv/647255.csv : ODI\n",
      "all_csv/656433.csv : ODI\n",
      "all_csv/573023.csv : ODI\n",
      "all_csv/798615.csv : T 20\n",
      "all_csv/267708.csv : ODI\n",
      "all_csv/247468.csv : ODI\n",
      "all_csv/892043.csv : T 20\n",
      "all_csv/1059196.csv : ODI\n",
      "all_csv/875497.csv : T 20\n",
      "all_csv/1073410.csv : ODI\n",
      "all_csv/584924.csv : T 20\n",
      "all_csv/1136593.csv : T 20\n",
      "all_csv/1074962.csv : T 20\n",
      "all_csv/531637.csv : T 20\n",
      "all_csv/247491.csv : ODI\n",
      "all_csv/754761.csv : ODI\n",
      "all_csv/548313.csv : T 20\n",
      "all_csv/345469.csv : ODI\n",
      "all_csv/979845.csv : ODI\n",
      "all_csv/258477.csv : ODI\n",
      "all_csv/682973.csv : T 20\n",
      "all_csv/1082600.csv : T 20\n",
      "all_csv/239918.csv : ODI\n",
      "all_csv/829771.csv : T 20\n",
      "all_csv/542851.csv : T 20\n",
      "all_csv/635656.csv : ODI\n",
      "all_csv/518958.csv : ODI\n",
      "all_csv/551596.csv : T 20\n",
      "all_csv/736447.csv : ODI\n",
      "all_csv/428753.csv : Test\n",
      "all_csv/291368.csv : ODI\n",
      "all_csv/546477.csv : T 20\n",
      "all_csv/578622.csv : ODI\n",
      "all_csv/1074967.csv : T 20\n",
      "all_csv/296905.csv : T 20\n",
      "all_csv/390227.csv : ODI\n",
      "all_csv/730089.csv : Test\n",
      "all_csv/361047.csv : ODI\n",
      "all_csv/800465.csv : Test\n",
      "all_csv/523732.csv : ODI\n",
      "all_csv/683013.csv : T 20\n",
      "all_csv/1083445.csv : Test\n",
      "all_csv/456671.csv : Test\n",
      "all_csv/907399.csv : T 20\n",
      "all_csv/589310.csv : ODI\n",
      "all_csv/426417.csv : T 20\n",
      "all_csv/1136581.csv : T 20\n",
      "all_csv/860263.csv : Test\n",
      "all_csv/426420.csv : ODI\n",
      "all_csv/386530.csv : ODI\n",
      "all_csv/645643.csv : ODI\n",
      "all_csv/951399.csv : T 20\n",
      "all_csv/598066.csv : T 20\n",
      "all_csv/439143.csv : ODI\n",
      "all_csv/571147.csv : ODI\n",
      "all_csv/501208.csv : T 20\n",
      "all_csv/657645.csv : ODI\n",
      "all_csv/997993.csv : ODI\n",
      "all_csv/734027.csv : T 20\n",
      "all_csv/300429.csv : Test\n",
      "all_csv/913625.csv : ODI\n",
      "all_csv/623577.csv : Test\n",
      "all_csv/501202.csv : T 20\n",
      "all_csv/291359.csv : ODI\n",
      "all_csv/1004255.csv : ODI\n",
      "all_csv/412699.csv : T 20\n",
      "all_csv/1023621.csv : T 20\n",
      "all_csv/521220.csv : ODI\n",
      "all_csv/756793.csv : T 20\n",
      "all_csv/676533.csv : ODI\n",
      "all_csv/656475.csv : ODI\n",
      "all_csv/361051.csv : Test\n",
      "all_csv/514035.csv : ODI\n",
      "all_csv/660827.csv : In Doubt\n",
      "all_csv/954741.csv : T 20\n",
      "all_csv/660097.csv : T 20\n",
      "all_csv/657633.csv : T 20\n",
      "all_csv/562446.csv : Test\n",
      "all_csv/1019981.csv : T 20\n",
      "all_csv/1050217.csv : T 20\n",
      "all_csv/406200.csv : Test\n",
      "all_csv/247481.csv : ODI\n",
      "all_csv/656403.csv : ODI\n",
      "all_csv/1136585.csv : T 20\n",
      "all_csv/291345.csv : ODI\n",
      "all_csv/571248.csv : T 20\n",
      "all_csv/406195.csv : ODI\n",
      "all_csv/571254.csv : T 20\n",
      "all_csv/296912.csv : Test\n",
      "all_csv/745159.csv : ODI\n",
      "all_csv/527016.csv : ODI\n",
      "all_csv/660221.csv : T 20\n",
      "all_csv/1073413.csv : ODI\n",
      "all_csv/351682.csv : Test\n",
      "all_csv/1114861.csv : T 20\n",
      "all_csv/1136573.csv : T 20\n",
      "all_csv/1020029.csv : T 20\n",
      "all_csv/392237.csv : T 20\n",
      "all_csv/566934.csv : Test\n",
      "all_csv/749557.csv : ODI\n",
      "all_csv/416239.csv : ODI\n",
      "all_csv/935819.csv : ODI\n",
      "all_csv/247495.csv : ODI\n",
      "all_csv/567354.csv : T 20\n",
      "all_csv/598022.csv : T 20\n",
      "all_csv/734009.csv : T 20\n",
      "all_csv/1144509.csv : ODI\n",
      "all_csv/875543.csv : T 20\n",
      "all_csv/1020037.csv : ODI\n",
      "all_csv/412695.csv : T 20\n",
      "all_csv/1022359.csv : ODI\n",
      "all_csv/756795.csv : T 20\n",
      "all_csv/335998.csv : T 20\n",
      "all_csv/829781.csv : T 20\n",
      "all_csv/1040499.csv : ODI\n",
      "all_csv/895807.csv : ODI\n",
      "all_csv/423783.csv : ODI\n",
      "all_csv/430882.csv : Test\n"
     ]
    },
    {
     "name": "stdout",
     "output_type": "stream",
     "text": [
      "all_csv/598008.csv : T 20\n",
      "all_csv/749571.csv : ODI\n",
      "all_csv/828245.csv : ODI\n",
      "all_csv/980931.csv : T 20\n",
      "all_csv/743977.csv : ODI\n",
      "all_csv/664303.csv : ODI\n",
      "all_csv/542853.csv : ODI\n",
      "all_csv/1041523.csv : ODI\n",
      "all_csv/249235.csv : ODI\n",
      "all_csv/569244.csv : Test\n",
      "all_csv/1022593.csv : Test\n",
      "all_csv/501267.csv : T 20\n",
      "all_csv/582193.csv : Test\n",
      "all_csv/249751.csv : ODI\n",
      "all_csv/377314.csv : ODI\n",
      "all_csv/1089140.csv : In Doubt\n",
      "all_csv/736437.csv : ODI\n",
      "all_csv/636161.csv : ODI\n",
      "all_csv/434262.csv : ODI\n",
      "all_csv/514038.csv : ODI\n",
      "all_csv/966743.csv : T 20\n",
      "all_csv/647259.csv : ODI\n",
      "all_csv/238195.csv : T 20\n",
      "all_csv/685731.csv : ODI\n",
      "all_csv/829715.csv : T 20\n",
      "all_csv/648651.csv : ODI\n",
      "all_csv/1085967.csv : ODI\n",
      "all_csv/247485.csv : T 20\n",
      "all_csv/875485.csv : T 20\n",
      "all_csv/598034.csv : T 20\n",
      "all_csv/571238.csv : T 20\n",
      "all_csv/571251.csv : T 20\n",
      "all_csv/760793.csv : ODI\n",
      "all_csv/1083449.csv : T 20\n",
      "all_csv/980923.csv : T 20\n",
      "all_csv/336000.csv : T 20\n",
      "all_csv/226375.csv : ODI\n",
      "all_csv/473924.csv : T 20\n",
      "all_csv/566921.csv : Test\n",
      "all_csv/829759.csv : T 20\n",
      "all_csv/524924.csv : T 20\n",
      "all_csv/1049633.csv : T 20\n",
      "all_csv/1136570.csv : T 20\n",
      "all_csv/727919.csv : ODI\n",
      "all_csv/743973.csv : ODI\n",
      "all_csv/812645.csv : ODI\n",
      "all_csv/501240.csv : T 20\n",
      "all_csv/829741.csv : In Doubt\n",
      "all_csv/895789.csv : T 20\n",
      "all_csv/919607.csv : ODI\n",
      "all_csv/897701.csv : T 20\n",
      "all_csv/1082607.csv : T 20\n",
      "all_csv/356004.csv : T 20\n",
      "all_csv/426392.csv : T 20\n",
      "all_csv/895813.csv : ODI\n",
      "all_csv/932855.csv : ODI\n",
      "all_csv/895815.csv : ODI\n",
      "all_csv/464991.csv : ODI\n",
      "all_csv/754815.csv : ODI\n",
      "all_csv/211048.csv : T 20\n",
      "all_csv/1098208.csv : ODI\n",
      "all_csv/1136595.csv : T 20\n",
      "all_csv/730277.csv : Test\n",
      "all_csv/913445.csv : ODI\n",
      "all_csv/951327.csv : T 20\n",
      "all_csv/729283.csv : T 20\n",
      "all_csv/518960.csv : ODI\n",
      "all_csv/300427.csv : ODI\n",
      "all_csv/426722.csv : ODI\n",
      "all_csv/698983.csv : T 20\n",
      "all_csv/258473.csv : ODI\n",
      "all_csv/598007.csv : T 20\n",
      "all_csv/1152560.csv : T 20\n",
      "all_csv/571236.csv : T 20\n",
      "all_csv/293481.csv : ODI\n",
      "all_csv/571249.csv : T 20\n",
      "all_csv/1085947.csv : ODI\n",
      "all_csv/810833.csv : ODI\n",
      "all_csv/973777.csv : T 20\n",
      "all_csv/522250.csv : ODI\n",
      "all_csv/489218.csv : Test\n",
      "all_csv/682917.csv : T 20\n",
      "all_csv/463146.csv : Test\n",
      "all_csv/1178402.csv : T 20\n",
      "all_csv/800463.csv : Test\n",
      "all_csv/522248.csv : ODI\n",
      "all_csv/489224.csv : ODI\n",
      "all_csv/587469.csv : Test\n",
      "all_csv/1175371.csv : T 20\n",
      "all_csv/562439.csv : ODI\n",
      "all_csv/660127.csv : T 20\n",
      "all_csv/282688.csv : ODI\n",
      "all_csv/667895.csv : ODI\n",
      "all_csv/452149.csv : ODI\n",
      "all_csv/1144496.csv : ODI\n",
      "all_csv/416240.csv : ODI\n",
      "all_csv/1089144.csv : ODI\n",
      "all_csv/387564.csv : T 20\n",
      "all_csv/778041.csv : T 20\n",
      "all_csv/643667.csv : ODI\n",
      "all_csv/979835.csv : ODI\n",
      "all_csv/352667.csv : ODI\n",
      "all_csv/802327.csv : T 20\n",
      "all_csv/366711.csv : ODI\n",
      "all_csv/1007655.csv : T 20\n",
      "all_csv/593724.csv : ODI\n",
      "all_csv/419142.csv : T 20\n",
      "all_csv/1114884.csv : T 20\n",
      "all_csv/884351.csv : T 20\n",
      "all_csv/325801.csv : ODI\n",
      "all_csv/351689.csv : ODI\n",
      "all_csv/392617.csv : ODI\n",
      "all_csv/1136607.csv : T 20\n",
      "all_csv/439141.csv : ODI\n",
      "all_csv/656415.csv : ODI\n",
      "all_csv/1062502.csv : ODI\n",
      "all_csv/1175356.csv : T 20\n",
      "all_csv/594907.csv : ODI\n",
      "all_csv/297801.csv : ODI\n",
      "all_csv/1082594.csv : T 20\n",
      "all_csv/464526.csv : Test\n",
      "all_csv/548336.csv : T 20\n",
      "all_csv/523804.csv : ODI\n",
      "all_csv/627009.csv : T 20\n",
      "all_csv/426428.csv : ODI\n",
      "all_csv/654067.csv : T 20\n",
      "all_csv/582192.csv : Test\n",
      "all_csv/1073401.csv : ODI\n",
      "all_csv/392220.csv : T 20\n",
      "all_csv/516204.csv : T 20\n",
      "all_csv/756761.csv : T 20\n",
      "all_csv/766931.csv : Test\n",
      "all_csv/1190767.csv : T 20\n",
      "all_csv/467078.csv : In Doubt\n",
      "all_csv/296909.csv : Test\n",
      "all_csv/936163.csv : ODI\n",
      "all_csv/1085964.csv : ODI\n",
      "all_csv/722329.csv : Test\n",
      "all_csv/798379.csv : T 20\n",
      "all_csv/249756.csv : ODI\n",
      "all_csv/440946.csv : T 20\n",
      "all_csv/829743.csv : T 20\n",
      "all_csv/534227.csv : Test\n",
      "all_csv/1152513.csv : T 20\n",
      "all_csv/287861.csv : T 20\n",
      "all_csv/1152531.csv : T 20\n",
      "all_csv/296900.csv : Test\n",
      "all_csv/247498.csv : ODI\n",
      "all_csv/249211.csv : ODI\n",
      "all_csv/734015.csv : T 20\n",
      "all_csv/897739.csv : T 20\n",
      "all_csv/578614.csv : ODI\n",
      "all_csv/935823.csv : ODI\n",
      "all_csv/742625.csv : ODI\n",
      "all_csv/467884.csv : ODI\n",
      "all_csv/1023645.csv : T 20\n",
      "all_csv/598033.csv : T 20\n"
     ]
    },
    {
     "name": "stderr",
     "output_type": "stream",
     "text": [
      "/home/tprolifer/anaconda3/lib/python3.7/site-packages/pandas/core/indexing.py:1494: FutureWarning: \n",
      "Passing list-likes to .loc or [] with any missing label will raise\n",
      "KeyError in the future, you can use .reindex() as an alternative.\n",
      "\n",
      "See the documentation here:\n",
      "https://pandas.pydata.org/pandas-docs/stable/indexing.html#deprecate-loc-reindex-listlike\n",
      "  return self._getitem_tuple(key)\n"
     ]
    },
    {
     "name": "stdout",
     "output_type": "stream",
     "text": [
      "all_csv/727927.csv : Test\n",
      "all_csv/474469.csv : ODI\n",
      "all_csv/501223.csv : T 20\n",
      "all_csv/749783.csv : ODI\n",
      "all_csv/660141.csv : T 20\n",
      "all_csv/1073424.csv : ODI\n",
      "all_csv/800473.csv : ODI\n",
      "all_csv/683007.csv : T 20\n",
      "all_csv/247471.csv : ODI\n",
      "all_csv/1098207.csv : ODI\n",
      "all_csv/251488.csv : T 20\n",
      "all_csv/392212.csv : T 20\n",
      "all_csv/682945.csv : T 20\n",
      "all_csv/913659.csv : ODI\n",
      "all_csv/548377.csv : T 20\n",
      "all_csv/258472.csv : ODI\n",
      "all_csv/635655.csv : ODI\n",
      "all_csv/798377.csv : T 20\n",
      "all_csv/446956.csv : T 20\n",
      "all_csv/237222.csv : In Doubt\n",
      "all_csv/593726.csv : T 20\n",
      "all_csv/501259.csv : T 20\n",
      "all_csv/930579.csv : T 20\n",
      "all_csv/1033707.csv : ODI\n",
      "all_csv/598021.csv : T 20\n",
      "all_csv/516210.csv : ODI\n",
      "all_csv/951387.csv : T 20\n",
      "all_csv/785981.csv : ODI\n",
      "all_csv/450498.csv : ODI\n",
      "all_csv/1114860.csv : T 20\n",
      "all_csv/533302.csv : T 20\n",
      "all_csv/392207.csv : T 20\n",
      "all_csv/1136617.csv : T 20\n",
      "all_csv/785977.csv : ODI\n",
      "all_csv/249741.csv : ODI\n",
      "all_csv/530429.csv : ODI\n",
      "all_csv/1073421.csv : ODI\n",
      "all_csv/256607.csv : ODI\n",
      "all_csv/392194.csv : T 20\n",
      "all_csv/997967.csv : ODI\n",
      "all_csv/875535.csv : T 20\n",
      "all_csv/433575.csv : ODI\n",
      "all_csv/828251.csv : T 20\n",
      "all_csv/392228.csv : T 20\n",
      "all_csv/684679.csv : T 20\n",
      "all_csv/419148.csv : T 20\n",
      "all_csv/1136591.csv : T 20\n",
      "all_csv/535999.csv : Test\n",
      "all_csv/455233.csv : ODI\n",
      "all_csv/1030215.csv : Test\n",
      "all_csv/548314.csv : T 20\n",
      "all_csv/467089.csv : ODI\n",
      "all_csv/298796.csv : ODI\n",
      "all_csv/756763.csv : T 20\n",
      "all_csv/808871.csv : T 20\n",
      "all_csv/1185182.csv : T 20\n",
      "all_csv/571148.csv : T 20\n",
      "all_csv/729311.csv : T 20\n",
      "all_csv/538073.csv : Test\n",
      "all_csv/1082629.csv : T 20\n",
      "all_csv/336035.csv : T 20\n",
      "all_csv/336028.csv : T 20\n",
      "all_csv/467080.csv : In Doubt\n",
      "all_csv/543885.csv : T 20\n",
      "all_csv/785959.csv : ODI\n",
      "all_csv/1062574.csv : Test\n",
      "all_csv/1144519.csv : ODI\n",
      "all_csv/258476.csv : ODI\n",
      "all_csv/434261.csv : ODI\n",
      "all_csv/313992.csv : ODI\n",
      "all_csv/1082634.csv : T 20\n",
      "all_csv/419115.csv : T 20\n",
      "all_csv/1192224.csv : T 20\n",
      "all_csv/1023591.csv : T 20\n",
      "all_csv/1041525.csv : ODI\n",
      "all_csv/461567.csv : ODI\n",
      "all_csv/903593.csv : ODI\n",
      "all_csv/702139.csv : ODI\n",
      "all_csv/543883.csv : T 20\n",
      "all_csv/1089147.csv : ODI\n",
      "all_csv/587470.csv : Test\n",
      "all_csv/247486.csv : ODI\n",
      "all_csv/1029003.csv : ODI\n",
      "all_csv/829819.csv : T 20\n",
      "all_csv/1144499.csv : ODI\n",
      "all_csv/1136577.csv : T 20\n",
      "all_csv/685727.csv : T 20\n",
      "all_csv/300436.csv : T 20\n",
      "all_csv/1082608.csv : T 20\n",
      "all_csv/456662.csv : ODI\n",
      "all_csv/603239.csv : ODI\n",
      "all_csv/931394.csv : ODI\n",
      "all_csv/756797.csv : T 20\n",
      "all_csv/238194.csv : ODI\n",
      "all_csv/749773.csv : ODI\n",
      "all_csv/419144.csv : T 20\n",
      "all_csv/351686.csv : ODI\n",
      "all_csv/892509.csv : Test\n",
      "all_csv/754741.csv : Test\n",
      "all_csv/474472.csv : Test\n",
      "all_csv/1089419.csv : ODI\n",
      "all_csv/1023587.csv : T 20\n",
      "all_csv/770121.csv : ODI\n",
      "all_csv/829717.csv : T 20\n",
      "all_csv/474475.csv : Test\n",
      "all_csv/924633.csv : ODI\n",
      "all_csv/518969.csv : ODI\n",
      "all_csv/247483.csv : ODI\n",
      "all_csv/829815.csv : T 20\n",
      "all_csv/419121.csv : In Doubt\n",
      "all_csv/875481.csv : T 20\n",
      "all_csv/829809.csv : T 20\n",
      "all_csv/1033367.csv : ODI\n",
      "all_csv/335351.csv : ODI\n",
      "all_csv/258463.csv : T 20\n",
      "all_csv/1044209.csv : ODI\n",
      "all_csv/935821.csv : ODI\n",
      "all_csv/729299.csv : T 20\n",
      "all_csv/657651.csv : Test\n",
      "all_csv/531982.csv : T 20\n",
      "all_csv/778037.csv : T 20\n",
      "all_csv/913623.csv : ODI\n",
      "all_csv/514030.csv : Test\n",
      "all_csv/520599.csv : T 20\n",
      "all_csv/1019979.csv : T 20\n",
      "all_csv/940409.csv : T 20\n",
      "all_csv/897699.csv : T 20\n",
      "all_csv/249743.csv : ODI\n",
      "all_csv/360800.csv : ODI\n",
      "all_csv/875545.csv : T 20\n",
      "all_csv/1020031.csv : ODI\n",
      "all_csv/1082612.csv : T 20\n",
      "all_csv/597925.csv : ODI\n",
      "all_csv/682909.csv : T 20\n",
      "all_csv/244510.csv : ODI\n",
      "all_csv/350043.csv : ODI\n",
      "all_csv/659557.csv : Test\n",
      "all_csv/660825.csv : In Doubt\n",
      "all_csv/249238.csv : ODI\n",
      "all_csv/464992.csv : ODI\n",
      "all_csv/1089138.csv : ODI\n",
      "all_csv/592397.csv : Test\n",
      "all_csv/403375.csv : T 20\n",
      "all_csv/1000883.csv : Test\n",
      "all_csv/778021.csv : T 20\n",
      "all_csv/433560.csv : ODI\n",
      "all_csv/467084.csv : ODI\n",
      "all_csv/1089150.csv : In Doubt\n",
      "all_csv/803795.csv : ODI\n",
      "all_csv/980907.csv : T 20\n",
      "all_csv/1062506.csv : ODI\n",
      "all_csv/660235.csv : T 20\n",
      "all_csv/423793.csv : ODI\n",
      "all_csv/981011.csv : T 20\n",
      "all_csv/536933.csv : ODI\n",
      "all_csv/287869.csv : T 20\n",
      "all_csv/306987.csv : T 20\n",
      "all_csv/350347.csv : T 20\n",
      "all_csv/1144506.csv : ODI\n",
      "all_csv/654079.csv : T 20\n",
      "all_csv/860279.csv : T 20\n",
      "all_csv/829789.csv : T 20\n",
      "all_csv/1041761.csv : Test\n",
      "all_csv/661681.csv : Test\n",
      "all_csv/750673.csv : ODI\n",
      "all_csv/636538.csv : T 20\n",
      "all_csv/1178415.csv : T 20\n",
      "all_csv/966757.csv : T 20\n",
      "all_csv/259390.csv : In Doubt\n",
      "all_csv/829761.csv : T 20\n",
      "all_csv/919617.csv : ODI\n",
      "all_csv/576407.csv : ODI\n",
      "all_csv/668963.csv : ODI\n",
      "all_csv/249378.csv : ODI\n",
      "all_csv/576414.csv : ODI\n",
      "all_csv/296907.csv : ODI\n",
      "all_csv/924639.csv : T 20\n",
      "all_csv/573016.csv : ODI\n",
      "all_csv/325572.csv : In Doubt\n",
      "all_csv/829807.csv : T 20\n",
      "all_csv/1089143.csv : ODI\n",
      "all_csv/951363.csv : T 20\n",
      "all_csv/524935.csv : T 20\n",
      "all_csv/1136597.csv : T 20\n",
      "all_csv/525816.csv : T 20\n",
      "all_csv/1022355.csv : ODI\n",
      "all_csv/754797.csv : T 20\n",
      "all_csv/419145.csv : T 20\n",
      "all_csv/1073405.csv : ODI\n",
      "all_csv/446966.csv : ODI\n",
      "all_csv/463152.csv : ODI\n",
      "all_csv/656429.csv : ODI\n",
      "all_csv/919609.csv : ODI\n",
      "all_csv/406198.csv : T 20\n",
      "all_csv/743965.csv : Test\n",
      "all_csv/1178393.csv : T 20\n",
      "all_csv/1073412.csv : ODI\n",
      "all_csv/501269.csv : T 20\n",
      "all_csv/569242.csv : ODI\n",
      "all_csv/817205.csv : T 20\n",
      "all_csv/654075.csv : T 20\n",
      "all_csv/951409.csv : T 20\n",
      "all_csv/1127284.csv : Test\n",
      "all_csv/1082602.csv : T 20\n",
      "all_csv/829723.csv : T 20\n",
      "all_csv/1082605.csv : T 20\n",
      "all_csv/336015.csv : T 20\n",
      "all_csv/722667.csv : ODI\n",
      "all_csv/1136605.csv : T 20\n",
      "all_csv/433593.csv : ODI\n",
      "all_csv/426404.csv : ODI\n",
      "all_csv/1114896.csv : T 20\n",
      "all_csv/412702.csv : T 20\n",
      "all_csv/335347.csv : ODI\n",
      "all_csv/1144524.csv : ODI\n",
      "all_csv/1050615.csv : T 20\n",
      "all_csv/336002.csv : T 20\n",
      "all_csv/892517.csv : Test\n",
      "all_csv/1022353.csv : ODI\n",
      "all_csv/736505.csv : ODI\n",
      "all_csv/812791.csv : ODI\n",
      "all_csv/648677.csv : Test\n",
      "all_csv/800469.csv : ODI\n",
      "all_csv/881739.csv : T 20\n",
      "all_csv/297805.csv : ODI\n",
      "all_csv/533291.csv : T 20\n",
      "all_csv/656451.csv : ODI\n",
      "all_csv/386535.csv : T 20\n",
      "all_csv/915777.csv : ODI\n",
      "all_csv/1019973.csv : ODI\n",
      "all_csv/602476.csv : ODI\n",
      "all_csv/287871.csv : T 20\n",
      "all_csv/736525.csv : ODI\n",
      "all_csv/749775.csv : In Doubt\n",
      "all_csv/433606.csv : ODI\n",
      "all_csv/1043989.csv : T 20\n",
      "all_csv/913617.csv : Test\n",
      "all_csv/757515.csv : T 20\n",
      "all_csv/238170.csv : ODI\n",
      "all_csv/439151.csv : ODI\n",
      "all_csv/661693.csv : ODI\n",
      "all_csv/649097.csv : ODI\n",
      "all_csv/573015.csv : ODI\n",
      "all_csv/1023589.csv : T 20\n",
      "all_csv/1186493.csv : T 20\n",
      "all_csv/335990.csv : T 20\n",
      "all_csv/335995.csv : T 20\n",
      "all_csv/501199.csv : T 20\n",
      "all_csv/336006.csv : T 20\n",
      "all_csv/412717.csv : T 20\n",
      "all_csv/356016.csv : T 20\n",
      "all_csv/1058152.csv : T 20\n",
      "all_csv/452154.csv : T 20\n",
      "all_csv/576416.csv : ODI\n",
      "all_csv/433583.csv : ODI\n",
      "all_csv/501233.csv : T 20\n",
      "all_csv/474470.csv : ODI\n",
      "all_csv/1136567.csv : T 20\n",
      "all_csv/829805.csv : T 20\n",
      "all_csv/598035.csv : T 20\n",
      "all_csv/660135.csv : T 20\n",
      "all_csv/756745.csv : T 20\n",
      "all_csv/433600.csv : ODI\n",
      "all_csv/706767.csv : ODI\n",
      "all_csv/419128.csv : T 20\n",
      "all_csv/412685.csv : T 20\n",
      "all_csv/1152516.csv : T 20\n",
      "all_csv/410340.csv : ODI\n",
      "all_csv/386531.csv : ODI\n",
      "all_csv/520592.csv : ODI\n",
      "all_csv/548358.csv : T 20\n",
      "all_csv/332912.csv : Test\n",
      "all_csv/597999.csv : T 20\n",
      "all_csv/419106.csv : T 20\n",
      "all_csv/514029.csv : Test\n",
      "all_csv/995451.csv : Test\n",
      "all_csv/426423.csv : Test\n",
      "all_csv/1082628.csv : T 20\n",
      "all_csv/392192.csv : T 20\n",
      "all_csv/548331.csv : T 20\n",
      "all_csv/1050607.csv : ODI\n",
      "all_csv/351685.csv : ODI\n",
      "all_csv/380713.csv : Test\n",
      "all_csv/736435.csv : Test\n",
      "all_csv/527679.csv : ODI\n",
      "all_csv/291218.csv : ODI\n",
      "all_csv/343760.csv : ODI\n",
      "all_csv/567353.csv : T 20\n",
      "all_csv/980983.csv : T 20\n",
      "all_csv/548348.csv : T 20\n",
      "all_csv/911037.csv : In Doubt\n",
      "all_csv/930585.csv : T 20\n",
      "all_csv/533274.csv : T 20\n",
      "all_csv/1062507.csv : ODI\n",
      "all_csv/800461.csv : Test\n",
      "all_csv/1144486.csv : ODI\n",
      "all_csv/698985.csv : T 20\n",
      "all_csv/352662.csv : T 20\n",
      "all_csv/578619.csv : ODI\n",
      "all_csv/951321.csv : T 20\n",
      "all_csv/729301.csv : T 20\n",
      "all_csv/1185156.csv : T 20\n",
      "all_csv/598001.csv : T 20\n",
      "all_csv/875523.csv : T 20\n",
      "all_csv/524933.csv : T 20\n",
      "all_csv/995453.csv : Test\n",
      "all_csv/296685.csv : ODI\n",
      "all_csv/1022357.csv : ODI\n",
      "all_csv/1041615.csv : T 20\n",
      "all_csv/1152514.csv : T 20\n",
      "all_csv/520594.csv : ODI\n",
      "all_csv/667893.csv : In Doubt\n",
      "all_csv/659547.csv : T 20\n",
      "all_csv/729285.csv : T 20\n",
      "all_csv/571259.csv : T 20\n",
      "all_csv/534216.csv : ODI\n"
     ]
    },
    {
     "name": "stdout",
     "output_type": "stream",
     "text": [
      "all_csv/754751.csv : ODI\n",
      "all_csv/474474.csv : Test\n",
      "all_csv/524919.csv : T 20\n",
      "all_csv/296904.csv : ODI\n",
      "all_csv/1152536.csv : T 20\n",
      "all_csv/1022369.csv : ODI\n",
      "all_csv/571260.csv : T 20\n",
      "all_csv/654073.csv : T 20\n",
      "all_csv/746097.csv : ODI\n",
      "all_csv/1114857.csv : T 20\n",
      "all_csv/299010.csv : ODI\n",
      "all_csv/406205.csv : ODI\n",
      "all_csv/1152545.csv : T 20\n",
      "all_csv/412716.csv : T 20\n",
      "all_csv/1004261.csv : ODI\n",
      "all_csv/1136584.csv : T 20\n",
      "all_csv/300430.csv : Test\n",
      "all_csv/602473.csv : Test\n",
      "all_csv/291220.csv : ODI\n",
      "all_csv/668953.csv : ODI\n",
      "all_csv/1104480.csv : ODI\n",
      "all_csv/676531.csv : ODI\n",
      "all_csv/335356.csv : ODI\n",
      "all_csv/881761.csv : T 20\n",
      "all_csv/1152568.csv : T 20\n",
      "all_csv/660201.csv : T 20\n",
      "all_csv/656463.csv : ODI\n",
      "all_csv/1082615.csv : T 20\n",
      "all_csv/1079247.csv : ODI\n",
      "all_csv/1136589.csv : T 20\n",
      "all_csv/598047.csv : T 20\n",
      "all_csv/1178399.csv : T 20\n",
      "all_csv/1144483.csv : ODI\n",
      "all_csv/662387.csv : T 20\n",
      "all_csv/336010.csv : T 20\n",
      "all_csv/433576.csv : In Doubt\n",
      "all_csv/1068740.csv : ODI\n",
      "all_csv/296918.csv : T 20\n",
      "all_csv/548357.csv : T 20\n",
      "all_csv/423784.csv : ODI\n",
      "all_csv/931390.csv : ODI\n",
      "all_csv/343763.csv : ODI\n",
      "all_csv/997995.csv : ODI\n",
      "all_csv/392203.csv : T 20\n",
      "all_csv/426430.csv : ODI\n",
      "all_csv/829705.csv : T 20\n",
      "all_csv/434257.csv : Test\n",
      "all_csv/356017.csv : T 20\n",
      "all_csv/247461.csv : ODI\n",
      "all_csv/412697.csv : T 20\n",
      "all_csv/247472.csv : ODI\n",
      "all_csv/1000853.csv : Test\n",
      "all_csv/682947.csv : T 20\n",
      "all_csv/1085962.csv : ODI\n",
      "all_csv/567357.csv : Test\n",
      "all_csv/729295.csv : T 20\n",
      "all_csv/392226.csv : T 20\n",
      "all_csv/236963.csv : ODI\n",
      "all_csv/388994.csv : In Doubt\n",
      "all_csv/518965.csv : ODI\n",
      "all_csv/980955.csv : T 20\n",
      "all_csv/951385.csv : T 20\n",
      "all_csv/540170.csv : ODI\n",
      "all_csv/897749.csv : T 20\n",
      "all_csv/300441.csv : ODI\n",
      "all_csv/258474.csv : ODI\n",
      "all_csv/533297.csv : T 20\n",
      "all_csv/426432.csv : ODI\n",
      "all_csv/980929.csv : T 20\n",
      "all_csv/1136599.csv : T 20\n",
      "all_csv/656437.csv : ODI\n",
      "all_csv/951323.csv : T 20\n",
      "all_csv/829765.csv : T 20\n",
      "all_csv/390204.csv : ODI\n",
      "all_csv/858485.csv : ODI\n",
      "all_csv/892511.csv : Test\n",
      "all_csv/654057.csv : T 20\n",
      "all_csv/897705.csv : T 20\n",
      "all_csv/698995.csv : T 20\n",
      "all_csv/450107.csv : ODI\n",
      "all_csv/951397.csv : T 20\n",
      "Something Went Wrong!!!\n",
      "all_csv/1062498.csv : ODI\n",
      "all_csv/423787.csv : T 20\n",
      "all_csv/757511.csv : T 20\n",
      "all_csv/660109.csv : T 20\n",
      "all_csv/533281.csv : T 20\n",
      "all_csv/351680.csv : Test\n",
      "all_csv/916647.csv : ODI\n",
      "all_csv/1144515.csv : ODI\n",
      "all_csv/403370.csv : ODI\n",
      "all_csv/447539.csv : T 20\n",
      "all_csv/433582.csv : ODI\n",
      "all_csv/1082639.csv : T 20\n",
      "all_csv/980985.csv : T 20\n",
      "all_csv/643677.csv : ODI\n",
      "all_csv/881725.csv : T 20\n",
      "all_csv/296916.csv : ODI\n",
      "all_csv/548321.csv : T 20\n",
      "all_csv/785991.csv : In Doubt\n",
      "all_csv/433566.csv : ODI\n",
      "all_csv/434258.csv : ODI\n",
      "all_csv/811119.csv : T 20\n",
      "all_csv/598067.csv : T 20\n",
      "all_csv/474473.csv : Test\n",
      "all_csv/412681.csv : T 20\n",
      "all_csv/598814.csv : Test\n",
      "all_csv/433569.csv : ODI\n",
      "all_csv/439147.csv : ODI\n",
      "all_csv/249214.csv : ODI\n",
      "all_csv/433577.csv : In Doubt\n",
      "all_csv/749539.csv : ODI\n",
      "all_csv/733999.csv : T 20\n",
      "all_csv/1082614.csv : T 20\n",
      "all_csv/951391.csv : T 20\n",
      "all_csv/1152522.csv : T 20\n",
      "all_csv/237571.csv : ODI\n",
      "all_csv/419126.csv : T 20\n",
      "all_csv/464723.csv : ODI\n",
      "all_csv/416238.csv : ODI\n",
      "all_csv/682933.csv : T 20\n",
      "all_csv/654063.csv : T 20\n",
      "all_csv/636165.csv : T 20\n",
      "all_csv/881759.csv : T 20\n",
      "all_csv/980971.csv : T 20\n",
      "all_csv/313993.csv : ODI\n",
      "all_csv/247475.csv : ODI\n",
      "all_csv/357962.csv : ODI\n",
      "all_csv/236809.csv : ODI\n",
      "all_csv/829797.csv : T 20\n",
      "all_csv/754805.csv : T 20\n",
      "all_csv/461569.csv : ODI\n",
      "all_csv/410337.csv : ODI\n",
      "all_csv/1136592.csv : T 20\n",
      "all_csv/392198.csv : T 20\n",
      "all_csv/325576.csv : T 20\n",
      "all_csv/951311.csv : T 20\n",
      "all_csv/527012.csv : T 20\n",
      "all_csv/829737.csv : T 20\n",
      "all_csv/1178408.csv : T 20\n",
      "all_csv/1073419.csv : ODI\n",
      "all_csv/473921.csv : Test\n",
      "all_csv/1027319.csv : ODI\n",
      "all_csv/548372.csv : T 20\n",
      "all_csv/1144492.csv : In Doubt\n",
      "all_csv/1175357.csv : T 20\n",
      "all_csv/474467.csv : ODI\n",
      "all_csv/1152537.csv : T 20\n",
      "all_csv/1051299.csv : ODI\n",
      "all_csv/455234.csv : ODI\n",
      "all_csv/1058157.csv : T 20\n",
      "all_csv/516209.csv : ODI\n",
      "all_csv/1062503.csv : ODI\n",
      "all_csv/287876.csv : T 20\n",
      "all_csv/930575.csv : T 20\n",
      "all_csv/1034813.csv : Test\n",
      "all_csv/1104482.csv : ODI\n",
      "all_csv/1089525.csv : ODI\n",
      "all_csv/640931.csv : T 20\n",
      "all_csv/351693.csv : T 20\n",
      "all_csv/660177.csv : T 20\n",
      "all_csv/548320.csv : T 20\n",
      "all_csv/501207.csv : T 20\n",
      "all_csv/291360.csv : ODI\n",
      "all_csv/980939.csv : T 20\n",
      "all_csv/667719.csv : Test\n",
      "all_csv/1152547.csv : T 20\n",
      "all_csv/936159.csv : ODI\n",
      "all_csv/745153.csv : Test\n",
      "all_csv/746095.csv : ODI\n",
      "all_csv/1000887.csv : ODI\n",
      "all_csv/894289.csv : ODI\n",
      "all_csv/936141.csv : ODI\n",
      "all_csv/576403.csv : ODI\n",
      "all_csv/387566.csv : ODI\n",
      "all_csv/298809.csv : ODI\n",
      "all_csv/540174.csv : T 20\n",
      "all_csv/416236.csv : ODI\n",
      "all_csv/897727.csv : T 20\n",
      "all_csv/829787.csv : T 20\n",
      "all_csv/647251.csv : ODI\n",
      "all_csv/690351.csv : T 20\n",
      "all_csv/1083448.csv : ODI\n",
      "all_csv/1152532.csv : T 20\n",
      "all_csv/256612.csv : ODI\n",
      "all_csv/966749.csv : T 20\n",
      "all_csv/350047.csv : ODI\n",
      "all_csv/433598.csv : ODI\n",
      "all_csv/1004253.csv : ODI\n",
      "all_csv/756747.csv : T 20\n",
      "all_csv/597924.csv : ODI\n",
      "all_csv/531635.csv : T 20\n",
      "all_csv/951351.csv : T 20\n",
      "all_csv/1000895.csv : ODI\n",
      "all_csv/1085963.csv : ODI\n",
      "all_csv/375462.csv : ODI\n",
      "all_csv/1046685.csv : T 20\n",
      "all_csv/1089780.csv : ODI\n",
      "all_csv/1136590.csv : T 20\n",
      "all_csv/1178405.csv : T 20\n",
      "all_csv/446965.csv : ODI\n",
      "all_csv/667901.csv : Test\n",
      "all_csv/664299.csv : ODI\n",
      "all_csv/812801.csv : ODI\n",
      "all_csv/1000881.csv : Test\n",
      "all_csv/300488.csv : ODI\n",
      "all_csv/656453.csv : ODI\n",
      "all_csv/966759.csv : T 20\n",
      "all_csv/415284.csv : ODI\n",
      "all_csv/1079249.csv : ODI\n",
      "all_csv/875513.csv : T 20\n",
      "all_csv/565845.csv : T 20\n",
      "all_csv/598029.csv : T 20\n",
      "all_csv/548364.csv : T 20\n",
      "all_csv/800471.csv : ODI\n",
      "all_csv/656435.csv : ODI\n",
      "all_csv/913629.csv : ODI\n",
      "all_csv/757513.csv : T 20\n",
      "all_csv/656427.csv : ODI\n",
      "all_csv/501270.csv : T 20\n",
      "all_csv/474476.csv : T 20\n",
      "all_csv/601613.csv : ODI\n",
      "all_csv/247497.csv : ODI\n",
      "all_csv/565811.csv : T 20\n",
      "all_csv/533307.csv : T 20\n",
      "all_csv/560922.csv : T 20\n",
      "all_csv/291369.csv : ODI\n",
      "all_csv/979839.csv : ODI\n",
      "all_csv/1152548.csv : T 20\n",
      "all_csv/501209.csv : T 20\n",
      "all_csv/722679.csv : ODI\n",
      "all_csv/885959.csv : ODI\n",
      "all_csv/392231.csv : T 20\n",
      "all_csv/571234.csv : T 20\n",
      "all_csv/415274.csv : ODI\n",
      "all_csv/640929.csv : T 20\n",
      "all_csv/446963.csv : ODI\n",
      "all_csv/238173.csv : ODI\n",
      "all_csv/598813.csv : Test\n",
      "all_csv/756765.csv : T 20\n",
      "all_csv/798369.csv : ODI\n",
      "all_csv/565806.csv : Test\n",
      "all_csv/548376.csv : T 20\n",
      "all_csv/548374.csv : T 20\n",
      "all_csv/293077.csv : ODI\n",
      "all_csv/239917.csv : ODI\n",
      "all_csv/548342.csv : T 20\n",
      "all_csv/1152554.csv : T 20\n",
      "all_csv/598027.csv : T 20\n",
      "all_csv/682905.csv : T 20\n",
      "all_csv/573026.csv : ODI\n",
      "all_csv/518959.csv : ODI\n",
      "all_csv/640959.csv : T 20\n",
      "all_csv/350049.csv : ODI\n",
      "all_csv/521226.csv : Test\n",
      "all_csv/936157.csv : T 20\n",
      "all_csv/897759.csv : T 20\n",
      "all_csv/1062512.csv : ODI\n",
      "all_csv/576410.csv : ODI\n",
      "all_csv/951379.csv : T 20\n",
      "all_csv/412680.csv : T 20\n",
      "all_csv/456668.csv : ODI\n",
      "all_csv/392210.csv : T 20\n",
      "all_csv/355989.csv : T 20\n",
      "all_csv/727929.csv : Test\n",
      "all_csv/439495.csv : T 20\n",
      "all_csv/623576.csv : Test\n",
      "all_csv/1019975.csv : ODI\n",
      "all_csv/256665.csv : T 20\n",
      "all_csv/380712.csv : Test\n",
      "all_csv/736445.csv : ODI\n",
      "all_csv/534233.csv : T 20\n",
      "all_csv/981017.csv : T 20\n",
      "all_csv/423794.csv : ODI\n",
      "all_csv/350473.csv : Test\n",
      "all_csv/1034821.csv : ODI\n",
      "all_csv/247482.csv : ODI\n",
      "all_csv/1001351.csv : T 20\n",
      "all_csv/1089526.csv : ODI\n",
      "all_csv/426415.csv : Test\n",
      "all_csv/463147.csv : Test\n",
      "all_csv/733997.csv : T 20\n",
      "all_csv/1185193.csv : T 20\n",
      "all_csv/1082609.csv : T 20\n",
      "all_csv/749797.csv : ODI\n",
      "all_csv/426724.csv : T 20\n",
      "all_csv/734049.csv : T 20\n",
      "all_csv/533288.csv : T 20\n",
      "all_csv/548366.csv : T 20\n",
      "all_csv/422626.csv : ODI\n",
      "all_csv/247488.csv : ODI\n",
      "all_csv/501264.csv : T 20\n",
      "all_csv/736453.csv : ODI\n",
      "all_csv/722387.csv : Test\n",
      "all_csv/598056.csv : T 20\n",
      "all_csv/654085.csv : T 20\n",
      "all_csv/464527.csv : Test\n",
      "all_csv/907381.csv : T 20\n",
      "all_csv/518970.csv : ODI\n",
      "all_csv/336027.csv : T 20\n",
      "all_csv/567356.csv : Test\n",
      "all_csv/601612.csv : ODI\n",
      "all_csv/914211.csv : ODI\n",
      "all_csv/560921.csv : T 20\n",
      "all_csv/667715.csv : Test\n",
      "all_csv/474478.csv : T 20\n",
      "all_csv/225250.csv : ODI\n",
      "all_csv/1114863.csv : T 20\n",
      "all_csv/296903.csv : T 20\n",
      "all_csv/415283.csv : ODI\n",
      "all_csv/247477.csv : ODI\n",
      "all_csv/531986.csv : Test\n",
      "all_csv/872483.csv : ODI\n",
      "all_csv/573018.csv : ODI\n",
      "all_csv/565810.csv : T 20\n",
      "all_csv/377313.csv : ODI\n",
      "all_csv/946547.csv : ODI\n",
      "all_csv/980925.csv : T 20\n"
     ]
    },
    {
     "name": "stdout",
     "output_type": "stream",
     "text": [
      "all_csv/589308.csv : ODI\n",
      "all_csv/439146.csv : T 20\n",
      "all_csv/297803.csv : ODI\n",
      "all_csv/656471.csv : ODI\n",
      "all_csv/325581.csv : ODI\n",
      "all_csv/565820.csv : T 20\n",
      "all_csv/951413.csv : T 20\n",
      "all_csv/628086.csv : ODI\n",
      "Something Went Wrong!!!\n",
      "all_csv/727917.csv : T 20\n",
      "all_csv/527680.csv : ODI\n",
      "all_csv/800481.csv : T 20\n",
      "all_csv/1144517.csv : ODI\n",
      "all_csv/966747.csv : T 20\n",
      "all_csv/548379.csv : T 20\n",
      "all_csv/817211.csv : ODI\n",
      "all_csv/895811.csv : ODI\n",
      "all_csv/656483.csv : ODI\n",
      "all_csv/594909.csv : ODI\n",
      "all_csv/226381.csv : ODI\n",
      "all_csv/668959.csv : T 20\n",
      "all_csv/566922.csv : Test\n",
      "all_csv/386533.csv : ODI\n",
      "all_csv/997965.csv : ODI\n",
      "all_csv/1007653.csv : ODI\n",
      "all_csv/1020045.csv : Test\n",
      "all_csv/980911.csv : T 20\n",
      "all_csv/300437.csv : ODI\n",
      "all_csv/656477.csv : In Doubt\n",
      "all_csv/856119.csv : T 20\n",
      "all_csv/654077.csv : T 20\n",
      "all_csv/516214.csv : Test\n",
      "all_csv/374060.csv : ODI\n",
      "all_csv/1114859.csv : T 20\n",
      "all_csv/1034817.csv : Test\n",
      "all_csv/915779.csv : ODI\n",
      "all_csv/317581.csv : ODI\n",
      "all_csv/1068731.csv : ODI\n",
      "all_csv/579743.csv : ODI\n",
      "all_csv/516213.csv : Test\n",
      "all_csv/282689.csv : ODI\n",
      "all_csv/730281.csv : Test\n",
      "all_csv/829751.csv : T 20\n",
      "all_csv/433580.csv : ODI\n",
      "all_csv/1185190.csv : T 20\n",
      "all_csv/640935.csv : T 20\n",
      "all_csv/1062500.csv : ODI\n",
      "all_csv/350478.csv : ODI\n",
      "all_csv/1026851.csv : ODI\n",
      "all_csv/660139.csv : T 20\n",
      "all_csv/524938.csv : T 20\n",
      "all_csv/1114872.csv : T 20\n",
      "all_csv/249236.csv : ODI\n",
      "all_csv/298802.csv : Test\n",
      "all_csv/287855.csv : T 20\n",
      "all_csv/439507.csv : T 20\n",
      "all_csv/1152525.csv : T 20\n",
      "all_csv/336023.csv : T 20\n",
      "all_csv/745155.csv : Test\n",
      "all_csv/754755.csv : ODI\n",
      "all_csv/571250.csv : T 20\n",
      "all_csv/980947.csv : T 20\n",
      "all_csv/567371.csv : ODI\n",
      "all_csv/829823.csv : T 20\n",
      "all_csv/627007.csv : ODI\n",
      "all_csv/1136578.csv : T 20\n",
      "all_csv/1072208.csv : T 20\n",
      "all_csv/319144.csv : ODI\n",
      "all_csv/660123.csv : T 20\n",
      "all_csv/412701.csv : T 20\n",
      "all_csv/428751.csv : Test\n",
      "all_csv/963699.csv : T 20\n",
      "all_csv/667641.csv : ODI\n",
      "all_csv/385751.csv : ODI\n",
      "all_csv/501213.csv : T 20\n",
      "all_csv/351695.csv : T 20\n",
      "all_csv/980941.csv : T 20\n",
      "all_csv/343736.csv : ODI\n",
      "all_csv/249740.csv : In Doubt\n",
      "all_csv/754809.csv : ODI\n",
      "all_csv/1074960.csv : T 20\n",
      "all_csv/1178409.csv : T 20\n",
      "all_csv/351690.csv : ODI\n",
      "all_csv/527681.csv : ODI\n",
      "all_csv/1178396.csv : T 20\n",
      "all_csv/848841.csv : T 20\n",
      "all_csv/540173.csv : T 20\n",
      "all_csv/648673.csv : Test\n",
      "all_csv/567370.csv : ODI\n",
      "all_csv/1178412.csv : T 20\n",
      "all_csv/897713.csv : T 20\n",
      "all_csv/419127.csv : T 20\n",
      "all_csv/798371.csv : ODI\n",
      "all_csv/682967.csv : T 20\n",
      "all_csv/521219.csv : ODI\n",
      "all_csv/979821.csv : ODI\n",
      "all_csv/729289.csv : T 20\n",
      "all_csv/913641.csv : Test\n",
      "all_csv/829707.csv : T 20\n",
      "all_csv/682943.csv : T 20\n",
      "all_csv/587473.csv : ODI\n",
      "all_csv/756799.csv : T 20\n",
      "all_csv/250670.csv : ODI\n",
      "all_csv/1065348.csv : T 20\n",
      "all_csv/640955.csv : T 20\n",
      "all_csv/736511.csv : ODI\n",
      "all_csv/533299.csv : T 20\n",
      "all_csv/1178420.csv : T 20\n",
      "all_csv/1082613.csv : T 20\n",
      "all_csv/335983.csv : T 20\n",
      "all_csv/576418.csv : In Doubt\n",
      "all_csv/473927.csv : ODI\n",
      "all_csv/1001353.csv : T 20\n",
      "all_csv/914215.csv : ODI\n",
      "all_csv/351681.csv : Test\n",
      "all_csv/386534.csv : ODI\n",
      "all_csv/812785.csv : ODI\n",
      "all_csv/426391.csv : ODI\n",
      "all_csv/527017.csv : Test\n",
      "all_csv/287865.csv : T 20\n",
      "all_csv/562437.csv : T 20\n",
      "all_csv/452147.csv : ODI\n",
      "all_csv/571149.csv : In Doubt\n",
      "all_csv/392224.csv : T 20\n",
      "all_csv/403369.csv : Test\n",
      "all_csv/1144488.csv : ODI\n",
      "all_csv/1062573.csv : Test\n",
      "all_csv/860277.csv : ODI\n",
      "all_csv/548341.csv : T 20\n",
      "all_csv/1136582.csv : T 20\n",
      "all_csv/1144526.csv : ODI\n",
      "all_csv/656407.csv : ODI\n",
      "all_csv/428750.csv : Test\n",
      "all_csv/455236.csv : ODI\n",
      "all_csv/514027.csv : ODI\n",
      "all_csv/1001349.csv : T 20\n",
      "all_csv/667717.csv : Test\n",
      "all_csv/533309.csv : T 20\n",
      "all_csv/760785.csv : Test\n",
      "all_csv/603246.csv : T 20\n",
      "all_csv/656459.csv : ODI\n",
      "all_csv/1024041.csv : Test\n",
      "all_csv/756743.csv : T 20\n",
      "all_csv/683009.csv : T 20\n",
      "all_csv/722687.csv : ODI\n",
      "all_csv/433584.csv : ODI\n",
      "all_csv/1144518.csv : ODI\n",
      "all_csv/483126.csv : ODI\n",
      "all_csv/385750.csv : ODI\n",
      "all_csv/754813.csv : ODI\n",
      "all_csv/749795.csv : ODI\n",
      "all_csv/226382.csv : ODI\n",
      "all_csv/426387.csv : ODI\n",
      "all_csv/433589.csv : ODI\n",
      "all_csv/1144497.csv : T 20\n",
      "all_csv/1030217.csv : Test\n",
      "all_csv/885971.csv : T 20\n",
      "all_csv/521225.csv : Test\n",
      "all_csv/297793.csv : ODI\n",
      "all_csv/1050227.csv : ODI\n",
      "all_csv/810425.csv : Test\n",
      "all_csv/1136603.csv : T 20\n",
      "all_csv/598055.csv : T 20\n",
      "all_csv/489215.csv : ODI\n",
      "all_csv/913661.csv : ODI\n",
      "all_csv/573009.csv : Test\n",
      "all_csv/433586.csv : ODI\n",
      "all_csv/406191.csv : Test\n",
      "all_csv/464532.csv : Test\n",
      "all_csv/259389.csv : In Doubt\n",
      "all_csv/345971.csv : Test\n",
      "all_csv/800467.csv : Test\n",
      "all_csv/419130.csv : T 20\n",
      "all_csv/598028.csv : T 20\n",
      "all_csv/548311.csv : T 20\n",
      "all_csv/980999.csv : T 20\n",
      "all_csv/571947.csv : ODI\n",
      "all_csv/566945.csv : ODI\n",
      "all_csv/560923.csv : ODI\n",
      "all_csv/829757.csv : T 20\n",
      "all_csv/406194.csv : ODI\n",
      "all_csv/249752.csv : ODI\n",
      "all_csv/980919.csv : T 20\n",
      "all_csv/602474.csv : ODI\n",
      "all_csv/727923.csv : ODI\n",
      "all_csv/259793.csv : ODI\n",
      "all_csv/546414.csv : T 20\n",
      "all_csv/467093.csv : ODI\n",
      "all_csv/378751.csv : Test\n",
      "all_csv/355995.csv : T 20\n",
      "all_csv/734013.csv : T 20\n",
      "all_csv/598068.csv : T 20\n",
      "all_csv/1152534.csv : T 20\n",
      "all_csv/1144516.csv : ODI\n",
      "all_csv/430508.csv : ODI\n",
      "all_csv/1050223.csv : ODI\n",
      "all_csv/538070.csv : ODI\n",
      "all_csv/916645.csv : ODI\n",
      "all_csv/548327.csv : T 20\n",
      "all_csv/419129.csv : T 20\n",
      "all_csv/501212.csv : T 20\n",
      "all_csv/548316.csv : T 20\n",
      "all_csv/501263.csv : T 20\n",
      "all_csv/829799.csv : T 20\n",
      "all_csv/426405.csv : ODI\n",
      "all_csv/343734.csv : ODI\n",
      "all_csv/238178.csv : ODI\n",
      "all_csv/980995.csv : T 20\n",
      "all_csv/319142.csv : T 20\n",
      "all_csv/1114888.csv : T 20\n",
      "all_csv/520603.csv : Test\n",
      "all_csv/860267.csv : Test\n",
      "all_csv/913633.csv : T 20\n",
      "all_csv/858489.csv : ODI\n",
      "all_csv/1073411.csv : ODI\n",
      "all_csv/812781.csv : ODI\n",
      "all_csv/355991.csv : T 20\n",
      "all_csv/598050.csv : T 20\n",
      "all_csv/456991.csv : T 20\n",
      "all_csv/966373.csv : T 20\n",
      "all_csv/489213.csv : In Doubt\n",
      "all_csv/951333.csv : T 20\n",
      "all_csv/452148.csv : In Doubt\n",
      "all_csv/461572.csv : Test\n",
      "all_csv/742619.csv : ODI\n",
      "all_csv/1136594.csv : T 20\n",
      "all_csv/533303.csv : T 20\n",
      "all_csv/428749.csv : Test\n",
      "all_csv/501206.csv : T 20\n",
      "all_csv/635657.csv : ODI\n",
      "all_csv/551593.csv : T 20\n",
      "all_csv/750675.csv : ODI\n",
      "all_csv/895791.csv : T 20\n",
      "all_csv/251494.csv : ODI\n",
      "all_csv/881735.csv : T 20\n",
      "all_csv/1144530.csv : Test\n",
      "all_csv/1175372.csv : T 20\n",
      "all_csv/571150.csv : T 20\n",
      "all_csv/730087.csv : ODI\n",
      "all_csv/525817.csv : T 20\n",
      "all_csv/336025.csv : T 20\n",
      "all_csv/951365.csv : T 20\n",
      "all_csv/654069.csv : In Doubt\n",
      "all_csv/660231.csv : T 20\n",
      "all_csv/336039.csv : T 20\n",
      "all_csv/980905.csv : T 20\n",
      "all_csv/1058155.csv : T 20\n",
      "all_csv/1068730.csv : Test\n",
      "all_csv/567358.csv : ODI\n",
      "all_csv/489226.csv : Test\n",
      "all_csv/1019985.csv : Test\n",
      "all_csv/548330.csv : T 20\n",
      "all_csv/473920.csv : T 20\n",
      "all_csv/1031427.csv : ODI\n",
      "all_csv/647247.csv : T 20\n",
      "all_csv/657647.csv : Test\n",
      "all_csv/236595.csv : ODI\n",
      "all_csv/1030219.csv : ODI\n",
      "all_csv/657639.csv : ODI\n",
      "all_csv/291371.csv : ODI\n",
      "all_csv/729287.csv : T 20\n",
      "all_csv/754811.csv : ODI\n",
      "all_csv/565815.csv : ODI\n",
      "all_csv/829779.csv : T 20\n",
      "all_csv/661679.csv : Test\n",
      "all_csv/1020039.csv : ODI\n",
      "all_csv/1062505.csv : ODI\n",
      "all_csv/403381.csv : ODI\n",
      "all_csv/256610.csv : ODI\n",
      "all_csv/566935.csv : Test\n",
      "all_csv/1152553.csv : T 20\n",
      "all_csv/403386.csv : T 20\n",
      "all_csv/676527.csv : Test\n",
      "all_csv/524915.csv : T 20\n",
      "all_csv/777997.csv : T 20\n",
      "all_csv/300486.csv : ODI\n",
      "all_csv/385749.csv : ODI\n",
      "all_csv/743969.csv : Test\n",
      "all_csv/325580.csv : ODI\n",
      "all_csv/682911.csv : T 20\n",
      "all_csv/696747.csv : ODI\n",
      "all_csv/501232.csv : T 20\n",
      "all_csv/1144495.csv : ODI\n",
      "all_csv/523805.csv : ODI\n",
      "all_csv/1062514.csv : ODI\n",
      "all_csv/1031429.csv : ODI\n",
      "all_csv/548380.csv : T 20\n",
      "all_csv/1089141.csv : ODI\n",
      "all_csv/419156.csv : T 20\n",
      "all_csv/434263.csv : ODI\n",
      "all_csv/419161.csv : T 20\n",
      "all_csv/1074970.csv : T 20\n",
      "all_csv/456664.csv : ODI\n",
      "all_csv/760889.csv : In Doubt\n",
      "all_csv/548339.csv : T 20\n",
      "all_csv/958421.csv : T 20\n",
      "all_csv/980987.csv : T 20\n",
      "all_csv/1049631.csv : T 20\n",
      "all_csv/543884.csv : T 20\n",
      "all_csv/924627.csv : ODI\n",
      "all_csv/392204.csv : T 20\n",
      "all_csv/426384.csv : ODI\n",
      "all_csv/415275.csv : ODI\n",
      "all_csv/450379.csv : ODI\n",
      "all_csv/423779.csv : Test\n",
      "all_csv/579754.csv : In Doubt\n",
      "all_csv/548332.csv : T 20\n",
      "all_csv/412686.csv : T 20\n",
      "all_csv/951417.csv : T 20\n",
      "all_csv/829709.csv : T 20\n",
      "all_csv/514039.csv : ODI\n",
      "all_csv/682999.csv : T 20\n",
      "all_csv/1030227.csv : ODI\n",
      "all_csv/578615.csv : ODI\n",
      "all_csv/1031437.csv : Test\n",
      "all_csv/335992.csv : T 20\n",
      "all_csv/501222.csv : T 20\n"
     ]
    },
    {
     "name": "stdout",
     "output_type": "stream",
     "text": [
      "all_csv/1144523.csv : ODI\n",
      "all_csv/571252.csv : T 20\n",
      "all_csv/419123.csv : T 20\n",
      "all_csv/756773.csv : T 20\n",
      "all_csv/660185.csv : T 20\n",
      "all_csv/1175370.csv : T 20\n",
      "all_csv/566925.csv : ODI\n",
      "all_csv/1114880.csv : T 20\n",
      "all_csv/474468.csv : ODI\n",
      "all_csv/501247.csv : T 20\n",
      "all_csv/936131.csv : ODI\n",
      "all_csv/897745.csv : T 20\n",
      "all_csv/247479.csv : ODI\n",
      "all_csv/1178401.csv : T 20\n",
      "all_csv/1114874.csv : T 20\n",
      "all_csv/335348.csv : ODI\n",
      "all_csv/1062576.csv : Test\n",
      "all_csv/287856.csv : T 20\n",
      "all_csv/345973.csv : Test\n",
      "all_csv/423785.csv : ODI\n",
      "all_csv/533294.csv : T 20\n",
      "all_csv/660173.csv : T 20\n",
      "all_csv/392184.csv : T 20\n",
      "all_csv/1152528.csv : T 20\n",
      "all_csv/980935.csv : T 20\n",
      "all_csv/406202.csv : ODI\n",
      "all_csv/336018.csv : T 20\n",
      "all_csv/914223.csv : T 20\n",
      "all_csv/924637.csv : T 20\n",
      "all_csv/426421.csv : ODI\n",
      "all_csv/1168016.csv : ODI\n",
      "all_csv/355994.csv : T 20\n",
      "all_csv/897719.csv : T 20\n",
      "all_csv/1023627.csv : T 20\n",
      "all_csv/593728.csv : T 20\n",
      "all_csv/1074964.csv : T 20\n",
      "all_csv/656443.csv : ODI\n",
      "all_csv/530431.csv : ODI\n",
      "all_csv/501257.csv : T 20\n",
      "all_csv/1000855.csv : Test\n",
      "all_csv/662383.csv : T 20\n",
      "all_csv/848847.csv : ODI\n",
      "all_csv/446960.csv : T 20\n",
      "all_csv/1152521.csv : T 20\n",
      "all_csv/392217.csv : T 20\n",
      "all_csv/1144512.csv : ODI\n",
      "all_csv/534210.csv : ODI\n",
      "all_csv/524926.csv : T 20\n",
      "all_csv/667729.csv : ODI\n",
      "all_csv/377316.csv : T 20\n",
      "all_csv/829727.csv : T 20\n",
      "all_csv/564781.csv : ODI\n",
      "all_csv/966737.csv : T 20\n",
      "all_csv/733993.csv : T 20\n",
      "all_csv/954735.csv : T 20\n",
      "all_csv/296908.csv : ODI\n",
      "all_csv/1051301.csv : ODI\n",
      "all_csv/734031.csv : T 20\n",
      "all_csv/355988.csv : T 20\n",
      "all_csv/800479.csv : T 20\n",
      "all_csv/958419.csv : T 20\n",
      "all_csv/433604.csv : ODI\n",
      "all_csv/875529.csv : T 20\n",
      "all_csv/907395.csv : T 20\n",
      "all_csv/951371.csv : T 20\n",
      "all_csv/913447.csv : ODI\n",
      "all_csv/913647.csv : Test\n",
      "all_csv/598046.csv : T 20\n",
      "all_csv/734007.csv : T 20\n",
      "all_csv/419151.csv : T 20\n",
      "all_csv/915775.csv : Test\n",
      "all_csv/980993.csv : T 20\n",
      "all_csv/868731.csv : ODI\n",
      "all_csv/247499.csv : ODI\n",
      "all_csv/954737.csv : T 20\n",
      "all_csv/913655.csv : ODI\n",
      "all_csv/666041.csv : ODI\n",
      "all_csv/361759.csv : Test\n",
      "all_csv/1030225.csv : ODI\n",
      "all_csv/1073429.csv : ODI\n",
      "all_csv/1178406.csv : T 20\n",
      "all_csv/571239.csv : T 20\n",
      "all_csv/249754.csv : ODI\n",
      "all_csv/450501.csv : ODI\n",
      "all_csv/756801.csv : T 20\n",
      "all_csv/1003273.csv : ODI\n",
      "all_csv/598059.csv : T 20\n",
      "all_csv/1152562.csv : T 20\n",
      "all_csv/548353.csv : T 20\n",
      "all_csv/287857.csv : T 20\n",
      "all_csv/238175.csv : ODI\n",
      "all_csv/1043955.csv : ODI\n",
      "all_csv/501227.csv : T 20\n",
      "all_csv/1136574.csv : T 20\n",
      "all_csv/351684.csv : ODI\n",
      "all_csv/722673.csv : ODI\n",
      "all_csv/881729.csv : T 20\n",
      "all_csv/548378.csv : T 20\n",
      "all_csv/698987.csv : T 20\n",
      "all_csv/730289.csv : ODI\n",
      "all_csv/275789.csv : ODI\n",
      "all_csv/914203.csv : Test\n",
      "all_csv/566948.csv : T 20\n",
      "all_csv/1082625.csv : In Doubt\n",
      "all_csv/661685.csv : ODI\n",
      "all_csv/661697.csv : T 20\n",
      "all_csv/593725.csv : ODI\n",
      "all_csv/582189.csv : ODI\n",
      "all_csv/426388.csv : ODI\n",
      "all_csv/913455.csv : ODI\n",
      "all_csv/433572.csv : ODI\n",
      "all_csv/356000.csv : T 20\n",
      "all_csv/336037.csv : T 20\n",
      "all_csv/249237.csv : ODI\n",
      "all_csv/598065.csv : T 20\n",
      "all_csv/1168518.csv : ODI\n",
      "all_csv/1089203.csv : T 20\n",
      "all_csv/1136604.csv : T 20\n",
      "all_csv/778027.csv : T 20\n",
      "all_csv/1040495.csv : ODI\n",
      "all_csv/1152519.csv : T 20\n",
      "all_csv/1049617.csv : T 20\n",
      "all_csv/1080630.csv : ODI\n",
      "all_csv/392618.csv : ODI\n",
      "all_csv/733991.csv : T 20\n",
      "all_csv/913663.csv : T 20\n",
      "all_csv/514033.csv : Test\n",
      "all_csv/756757.csv : T 20\n",
      "all_csv/598013.csv : T 20\n",
      "all_csv/903597.csv : ODI\n",
      "all_csv/542854.csv : ODI\n",
      "all_csv/239919.csv : ODI\n",
      "all_csv/531628.csv : Test\n",
      "all_csv/734023.csv : T 20\n",
      "all_csv/356007.csv : T 20\n",
      "all_csv/474481.csv : ODI\n",
      "all_csv/406197.csv : T 20\n",
      "all_csv/514025.csv : ODI\n",
      "all_csv/548310.csv : T 20\n",
      "all_csv/524942.csv : T 20\n",
      "all_csv/430887.csv : ODI\n",
      "all_csv/710301.csv : ODI\n",
      "all_csv/406196.csv : ODI\n",
      "all_csv/533298.csv : T 20\n",
      "all_csv/419135.csv : T 20\n",
      "all_csv/951389.csv : T 20\n",
      "all_csv/870891.csv : ODI\n",
      "all_csv/392211.csv : T 20\n",
      "all_csv/1001371.csv : ODI\n",
      "all_csv/257770.csv : ODI\n",
      "all_csv/812803.csv : ODI\n",
      "all_csv/1152555.csv : T 20\n",
      "all_csv/247506.csv : ODI\n",
      "all_csv/426389.csv : ODI\n",
      "all_csv/300487.csv : ODI\n",
      "all_csv/785963.csv : ODI\n",
      "all_csv/733987.csv : T 20\n",
      "all_csv/1175362.csv : T 20\n",
      "all_csv/1152540.csv : T 20\n",
      "all_csv/415286.csv : ODI\n",
      "all_csv/441828.csv : ODI\n",
      "all_csv/297799.csv : In Doubt\n",
      "all_csv/378759.csv : ODI\n",
      "all_csv/567369.csv : ODI\n",
      "all_csv/576408.csv : In Doubt\n",
      "all_csv/660203.csv : T 20\n",
      "all_csv/587474.csv : ODI\n",
      "all_csv/598071.csv : T 20\n",
      "all_csv/355992.csv : T 20\n",
      "all_csv/1089779.csv : ODI\n",
      "all_csv/897729.csv : T 20\n",
      "all_csv/251496.csv : ODI\n",
      "all_csv/875537.csv : T 20\n",
      "all_csv/441827.csv : ODI\n",
      "all_csv/524945.csv : T 20\n",
      "all_csv/433565.csv : ODI\n",
      "all_csv/356010.csv : T 20\n",
      "all_csv/501234.csv : T 20\n",
      "all_csv/1152567.csv : T 20\n",
      "all_csv/980965.csv : T 20\n",
      "all_csv/336024.csv : T 20\n",
      "all_csv/336001.csv : T 20\n",
      "all_csv/430884.csv : T 20\n",
      "all_csv/730295.csv : Test\n",
      "all_csv/530426.csv : Test\n",
      "all_csv/392225.csv : T 20\n",
      "all_csv/635654.csv : ODI\n",
      "all_csv/352665.csv : ODI\n",
      "all_csv/516205.csv : T 20\n",
      "all_csv/343764.csv : T 20\n",
      "all_csv/325804.csv : ODI\n",
      "all_csv/1044203.csv : In Doubt\n",
      "all_csv/412703.csv : T 20\n",
      "all_csv/897743.csv : T 20\n",
      "all_csv/569245.csv : Test\n",
      "all_csv/660149.csv : T 20\n",
      "all_csv/548351.csv : T 20\n",
      "all_csv/267715.csv : ODI\n",
      "all_csv/1030223.csv : ODI\n",
      "all_csv/936147.csv : Test\n",
      "all_csv/1136579.csv : T 20\n",
      "all_csv/455235.csv : ODI\n",
      "all_csv/1089142.csv : ODI\n",
      "all_csv/345672.csv : Test\n",
      "all_csv/682921.csv : T 20\n",
      "all_csv/345974.csv : Test\n",
      "all_csv/533312.csv : T 20\n",
      "all_csv/903599.csv : ODI\n",
      "all_csv/531983.csv : ODI\n",
      "all_csv/951357.csv : T 20\n",
      "all_csv/897711.csv : T 20\n",
      "all_csv/336014.csv : T 20\n",
      "all_csv/660159.csv : T 20\n",
      "all_csv/325569.csv : ODI\n",
      "all_csv/1023609.csv : T 20\n",
      "all_csv/594915.csv : ODI\n",
      "all_csv/518962.csv : ODI\n",
      "all_csv/571262.csv : T 20\n",
      "all_csv/548356.csv : T 20\n",
      "all_csv/1073403.csv : ODI\n",
      "all_csv/1074968.csv : T 20\n",
      "all_csv/534231.csv : ODI\n",
      "all_csv/336036.csv : T 20\n",
      "all_csv/951381.csv : T 20\n",
      "all_csv/361660.csv : T 20\n",
      "all_csv/287878.csv : T 20\n",
      "all_csv/860281.csv : T 20\n",
      "all_csv/456665.csv : ODI\n",
      "all_csv/754787.csv : ODI\n",
      "all_csv/754721.csv : T 20\n",
      "all_csv/534230.csv : ODI\n",
      "all_csv/1022371.csv : ODI\n",
      "all_csv/913649.csv : ODI\n",
      "all_csv/567363.csv : Test\n",
      "all_csv/251491.csv : ODI\n",
      "all_csv/810423.csv : Test\n",
      "all_csv/566936.csv : Test\n",
      "all_csv/587471.csv : ODI\n",
      "all_csv/463148.csv : Test\n",
      "all_csv/966755.csv : T 20\n",
      "all_csv/598063.csv : T 20\n",
      "all_csv/1144489.csv : ODI\n",
      "all_csv/430889.csv : ODI\n",
      "all_csv/1185184.csv : T 20\n",
      "all_csv/1020013.csv : ODI\n",
      "all_csv/1077949.csv : ODI\n",
      "all_csv/593727.csv : T 20\n",
      "all_csv/1073409.csv : ODI\n",
      "all_csv/426402.csv : Test\n",
      "all_csv/571243.csv : T 20\n",
      "all_csv/817207.csv : ODI\n",
      "all_csv/226386.csv : ODI\n",
      "all_csv/565844.csv : T 20\n",
      "all_csv/798375.csv : Test\n",
      "all_csv/392620.csv : ODI\n",
      "all_csv/1050221.csv : T 20\n",
      "all_csv/548334.csv : T 20\n",
      "all_csv/730091.csv : Test\n",
      "all_csv/810829.csv : ODI\n",
      "all_csv/914237.csv : Test\n",
      "all_csv/249745.csv : ODI\n",
      "all_csv/958415.csv : T 20\n",
      "all_csv/343761.csv : ODI\n",
      "all_csv/501220.csv : T 20\n",
      "all_csv/247496.csv : In Doubt\n",
      "all_csv/913435.csv : ODI\n",
      "all_csv/573008.csv : Test\n",
      "all_csv/597927.csv : ODI\n",
      "all_csv/430888.csv : ODI\n",
      "all_csv/433559.csv : In Doubt\n",
      "all_csv/894291.csv : ODI\n",
      "all_csv/750671.csv : ODI\n",
      "all_csv/401074.csv : ODI\n",
      "all_csv/1181766.csv : T 20\n",
      "all_csv/336204.csv : ODI\n",
      "all_csv/516212.csv : Test\n",
      "all_csv/936137.csv : ODI\n",
      "all_csv/474463.csv : Test\n",
      "all_csv/415273.csv : ODI\n",
      "all_csv/1175369.csv : T 20\n",
      "all_csv/1082641.csv : T 20\n",
      "all_csv/1073417.csv : In Doubt\n",
      "all_csv/249232.csv : ODI\n",
      "all_csv/1178428.csv : T 20\n",
      "all_csv/729281.csv : T 20\n",
      "all_csv/501250.csv : T 20\n",
      "all_csv/1074966.csv : T 20\n",
      "all_csv/345471.csv : ODI\n",
      "all_csv/1114871.csv : T 20\n",
      "all_csv/1004283.csv : T 20\n",
      "all_csv/812789.csv : ODI\n",
      "all_csv/654047.csv : T 20\n",
      "all_csv/897709.csv : T 20\n",
      "all_csv/598043.csv : T 20\n",
      "all_csv/1014847.csv : ODI\n",
      "all_csv/895809.csv : ODI\n",
      "all_csv/419114.csv : T 20\n",
      "all_csv/756759.csv : T 20\n",
      "all_csv/667713.csv : Test\n",
      "all_csv/1082626.csv : T 20\n",
      "all_csv/527688.csv : T 20\n",
      "all_csv/1114897.csv : T 20\n",
      "all_csv/524921.csv : T 20\n",
      "all_csv/734041.csv : T 20\n",
      "all_csv/829767.csv : T 20\n",
      "all_csv/587475.csv : ODI\n",
      "all_csv/520597.csv : T 20\n",
      "all_csv/913431.csv : ODI\n",
      "all_csv/356008.csv : T 20\n",
      "all_csv/636159.csv : ODI\n",
      "all_csv/654043.csv : T 20\n",
      "all_csv/461571.csv : Test\n",
      "all_csv/446962.csv : ODI\n",
      "all_csv/1085969.csv : ODI\n",
      "all_csv/756781.csv : T 20\n",
      "all_csv/446961.csv : T 20\n",
      "all_csv/501203.csv : T 20\n"
     ]
    },
    {
     "name": "stdout",
     "output_type": "stream",
     "text": [
      "all_csv/654065.csv : T 20\n",
      "all_csv/518966.csv : ODI\n",
      "all_csv/516206.csv : ODI\n",
      "all_csv/660115.csv : T 20\n",
      "all_csv/932851.csv : ODI\n",
      "all_csv/902635.csv : Test\n",
      "all_csv/1168517.csv : ODI\n",
      "all_csv/1089533.csv : ODI\n",
      "all_csv/1152559.csv : T 20\n",
      "all_csv/1085958.csv : ODI\n",
      "all_csv/1029825.csv : Test\n",
      "all_csv/533306.csv : T 20\n",
      "all_csv/291217.csv : ODI\n",
      "all_csv/798373.csv : ODI\n",
      "all_csv/524930.csv : T 20\n",
      "all_csv/542850.csv : T 20\n",
      "all_csv/1178427.csv : T 20\n",
      "all_csv/533273.csv : T 20\n",
      "all_csv/239913.csv : ODI\n",
      "all_csv/630951.csv : T 20\n",
      "all_csv/817215.csv : In Doubt\n",
      "all_csv/952191.csv : ODI\n",
      "all_csv/492547.csv : T 20\n",
      "all_csv/683011.csv : T 20\n",
      "all_csv/533279.csv : T 20\n",
      "all_csv/592273.csv : T 20\n",
      "all_csv/682941.csv : T 20\n",
      "all_csv/648665.csv : Test\n",
      "all_csv/336038.csv : T 20\n",
      "all_csv/667653.csv : Test\n",
      "all_csv/571265.csv : T 20\n",
      "all_csv/683001.csv : T 20\n",
      "all_csv/635658.csv : T 20\n",
      "all_csv/548335.csv : T 20\n",
      "all_csv/419122.csv : T 20\n",
      "all_csv/660165.csv : T 20\n",
      "all_csv/422630.csv : ODI\n",
      "all_csv/930573.csv : T 20\n",
      "all_csv/1059715.csv : ODI\n",
      "all_csv/1074963.csv : T 20\n",
      "all_csv/756777.csv : T 20\n",
      "all_csv/951345.csv : T 20\n",
      "all_csv/579755.csv : ODI\n",
      "all_csv/1181767.csv : T 20\n",
      "all_csv/569241.csv : ODI\n",
      "all_csv/966751.csv : T 20\n",
      "all_csv/979837.csv : In Doubt\n",
      "all_csv/648683.csv : T 20\n",
      "all_csv/1098211.csv : T 20\n",
      "all_csv/682993.csv : T 20\n",
      "all_csv/433573.csv : ODI\n",
      "all_csv/225245.csv : ODI\n",
      "all_csv/582191.csv : In Doubt\n",
      "all_csv/473919.csv : T 20\n",
      "all_csv/1136614.csv : T 20\n",
      "all_csv/798621.csv : T 20\n",
      "all_csv/439510.csv : T 20\n",
      "all_csv/530430.csv : ODI\n",
      "all_csv/571240.csv : T 20\n",
      "all_csv/1114886.csv : T 20\n",
      "all_csv/914217.csv : T 20\n",
      "all_csv/419110.csv : T 20\n",
      "all_csv/419164.csv : T 20\n",
      "all_csv/1089520.csv : In Doubt\n",
      "all_csv/907393.csv : ODI\n",
      "all_csv/587472.csv : ODI\n",
      "all_csv/667887.csv : T 20\n",
      "all_csv/464990.csv : ODI\n",
      "all_csv/1085961.csv : ODI\n",
      "all_csv/562444.csv : Test\n",
      "all_csv/1073402.csv : In Doubt\n",
      "all_csv/640951.csv : T 20\n",
      "all_csv/501238.csv : T 20\n",
      "all_csv/439154.csv : Test\n",
      "all_csv/685735.csv : ODI\n",
      "all_csv/690347.csv : Test\n",
      "all_csv/317578.csv : ODI\n",
      "all_csv/378753.csv : ODI\n",
      "all_csv/1074958.csv : T 20\n",
      "all_csv/913643.csv : Test\n",
      "all_csv/535800.csv : ODI\n",
      "all_csv/535796.csv : ODI\n",
      "all_csv/897707.csv : T 20\n",
      "all_csv/573672.csv : T 20\n",
      "all_csv/1178430.csv : T 20\n",
      "all_csv/548347.csv : T 20\n",
      "all_csv/722391.csv : ODI\n",
      "all_csv/598044.csv : T 20\n",
      "all_csv/811135.csv : T 20\n",
      "all_csv/952189.csv : ODI\n",
      "all_csv/1175367.csv : T 20\n",
      "all_csv/501242.csv : T 20\n",
      "all_csv/628095.csv : ODI\n",
      "all_csv/667731.csv : T 20\n",
      "all_csv/452146.csv : ODI\n",
      "all_csv/660195.csv : T 20\n",
      "all_csv/667649.csv : ODI\n",
      "all_csv/656493.csv : ODI\n",
      "all_csv/951361.csv : T 20\n",
      "all_csv/754039.csv : T 20\n",
      "all_csv/951377.csv : T 20\n",
      "all_csv/892519.csv : In Doubt\n",
      "all_csv/386496.csv : Test\n",
      "all_csv/623572.csv : T 20\n",
      "all_csv/351691.csv : ODI\n",
      "all_csv/1152529.csv : T 20\n",
      "all_csv/299008.csv : ODI\n",
      "all_csv/455232.csv : ODI\n",
      "all_csv/566924.csv : ODI\n",
      "all_csv/1050219.csv : T 20\n",
      "all_csv/729293.csv : T 20\n",
      "all_csv/778023.csv : T 20\n",
      "all_csv/667725.csv : ODI\n",
      "all_csv/410338.csv : ODI\n",
      "all_csv/870731.csv : ODI\n",
      "all_csv/690357.csv : ODI\n",
      "all_csv/287875.csv : T 20\n",
      "all_csv/647261.csv : ODI\n",
      "all_csv/501219.csv : T 20\n",
      "all_csv/1033369.csv : ODI\n",
      "all_csv/746093.csv : ODI\n",
      "all_csv/660113.csv : T 20\n",
      "all_csv/401075.csv : ODI\n",
      "all_csv/1026847.csv : ODI\n",
      "all_csv/319112.csv : T 20\n",
      "all_csv/538072.csv : Test\n",
      "all_csv/501249.csv : T 20\n",
      "all_csv/951359.csv : T 20\n",
      "all_csv/1144501.csv : ODI\n",
      "all_csv/323950.csv : ODI\n",
      "all_csv/785983.csv : ODI\n",
      "all_csv/225253.csv : In Doubt\n",
      "all_csv/426721.csv : ODI\n",
      "all_csv/829729.csv : T 20\n",
      "all_csv/710295.csv : ODI\n",
      "all_csv/980915.csv : T 20\n",
      "all_csv/734025.csv : T 20\n",
      "all_csv/913627.csv : ODI\n",
      "all_csv/730293.csv : T 20\n",
      "all_csv/533292.csv : In Doubt\n",
      "all_csv/736517.csv : ODI\n",
      "all_csv/682997.csv : T 20\n",
      "all_csv/1136609.csv : T 20\n",
      "all_csv/777999.csv : T 20\n",
      "all_csv/931392.csv : ODI\n",
      "all_csv/1136572.csv : T 20\n",
      "all_csv/366627.csv : ODI\n",
      "all_csv/486526.csv : ODI\n",
      "all_csv/335997.csv : T 20\n",
      "all_csv/415279.csv : ODI\n",
      "all_csv/811111.csv : T 20\n",
      "all_csv/533282.csv : T 20\n",
      "all_csv/1023599.csv : T 20\n",
      "all_csv/548361.csv : T 20\n",
      "all_csv/636166.csv : T 20\n",
      "all_csv/1022375.csv : ODI\n",
      "all_csv/756749.csv : T 20\n",
      "all_csv/412692.csv : T 20\n",
      "all_csv/754739.csv : Test\n",
      "all_csv/936129.csv : Test\n",
      "all_csv/350050.csv : T 20\n",
      "all_csv/966713.csv : T 20\n",
      "all_csv/812795.csv : ODI\n",
      "all_csv/868727.csv : ODI\n",
      "all_csv/548324.csv : T 20\n",
      "all_csv/403385.csv : T 20\n",
      "all_csv/881745.csv : In Doubt\n",
      "all_csv/722389.csv : ODI\n",
      "all_csv/319146.csv : ODI\n",
      "all_csv/1073422.csv : ODI\n",
      "all_csv/1152542.csv : T 20\n",
      "all_csv/419109.csv : T 20\n",
      "all_csv/520601.csv : ODI\n",
      "all_csv/356015.csv : T 20\n",
      "all_csv/412696.csv : T 20\n",
      "all_csv/1031435.csv : T 20\n",
      "all_csv/1175358.csv : T 20\n",
      "all_csv/524939.csv : T 20\n",
      "all_csv/742621.csv : ODI\n",
      "all_csv/754789.csv : ODI\n",
      "all_csv/897741.csv : T 20\n",
      "all_csv/734029.csv : T 20\n",
      "all_csv/392215.csv : T 20\n",
      "all_csv/598812.csv : Test\n",
      "all_csv/296915.csv : In Doubt\n",
      "all_csv/1073428.csv : ODI\n",
      "all_csv/287862.csv : T 20\n",
      "all_csv/1114870.csv : T 20\n",
      "all_csv/350348.csv : In Doubt\n",
      "all_csv/1024043.csv : Test\n",
      "all_csv/729279.csv : T 20\n",
      "all_csv/660183.csv : T 20\n",
      "all_csv/564784.csv : ODI\n",
      "all_csv/1185181.csv : T 20\n",
      "all_csv/464720.csv : ODI\n",
      "all_csv/749789.csv : ODI\n",
      "all_csv/594912.csv : ODI\n",
      "all_csv/1085966.csv : ODI\n",
      "all_csv/914205.csv : Test\n",
      "all_csv/403379.csv : Test\n",
      "all_csv/734037.csv : T 20\n",
      "all_csv/249234.csv : ODI\n",
      "all_csv/571247.csv : T 20\n",
      "all_csv/654087.csv : T 20\n",
      "all_csv/521218.csv : ODI\n",
      "all_csv/524916.csv : T 20\n",
      "all_csv/452150.csv : ODI\n",
      "all_csv/1062504.csv : ODI\n",
      "all_csv/1082624.csv : T 20\n",
      "all_csv/654037.csv : T 20\n",
      "all_csv/560929.csv : Test\n",
      "all_csv/628090.csv : ODI\n",
      "all_csv/1034819.csv : ODI\n",
      "all_csv/569238.csv : T 20\n",
      "all_csv/1144508.csv : ODI\n",
      "all_csv/247493.csv : ODI\n",
      "all_csv/1082642.csv : T 20\n",
      "all_csv/392230.csv : T 20\n",
      "all_csv/754743.csv : Test\n",
      "all_csv/516207.csv : ODI\n",
      "all_csv/875521.csv : T 20\n",
      "all_csv/1022373.csv : ODI\n",
      "all_csv/412678.csv : T 20\n",
      "all_csv/980977.csv : T 20\n",
      "all_csv/597923.csv : ODI\n",
      "all_csv/1022599.csv : In Doubt\n",
      "all_csv/1136616.csv : T 20\n",
      "all_csv/915785.csv : T 20\n",
      "all_csv/981005.csv : T 20\n",
      "all_csv/226392.csv : ODI\n",
      "all_csv/1152515.csv : T 20\n",
      "all_csv/412690.csv : T 20\n",
      "all_csv/808863.csv : ODI\n",
      "all_csv/518963.csv : ODI\n",
      "all_csv/659549.csv : ODI\n",
      "all_csv/860275.csv : ODI\n",
      "all_csv/654093.csv : T 20\n",
      "all_csv/419131.csv : T 20\n",
      "all_csv/757509.csv : ODI\n",
      "all_csv/936149.csv : Test\n",
      "all_csv/351688.csv : ODI\n",
      "all_csv/297797.csv : ODI\n",
      "all_csv/522247.csv : ODI\n",
      "all_csv/1074959.csv : T 20\n",
      "all_csv/654053.csv : T 20\n",
      "all_csv/598049.csv : T 20\n",
      "all_csv/565808.csv : Test\n",
      "all_csv/627008.csv : T 20\n",
      "all_csv/518957.csv : ODI\n",
      "all_csv/682927.csv : T 20\n",
      "all_csv/936165.csv : ODI\n",
      "all_csv/1029827.csv : Test\n",
      "all_csv/238199.csv : ODI\n",
      "all_csv/696731.csv : ODI\n",
      "all_csv/433571.csv : ODI\n",
      "all_csv/536929.csv : ODI\n",
      "all_csv/390680.csv : Test\n",
      "all_csv/736451.csv : ODI\n",
      "all_csv/1114889.csv : T 20\n",
      "all_csv/433581.csv : ODI\n",
      "all_csv/754801.csv : T 20\n",
      "all_csv/668511.csv : ODI\n",
      "all_csv/300435.csv : T 20\n",
      "all_csv/533300.csv : T 20\n",
      "all_csv/473918.csv : T 20\n",
      "all_csv/682907.csv : T 20\n",
      "all_csv/419134.csv : T 20\n",
      "all_csv/306989.csv : T 20\n",
      "all_csv/660163.csv : T 20\n",
      "all_csv/770123.csv : ODI\n",
      "all_csv/660179.csv : T 20\n",
      "all_csv/756041.csv : ODI\n",
      "all_csv/548315.csv : T 20\n",
      "all_csv/566923.csv : ODI\n",
      "all_csv/335349.csv : ODI\n",
      "all_csv/792295.csv : ODI\n",
      "all_csv/895817.csv : T 20\n",
      "all_csv/951373.csv : T 20\n",
      "all_csv/1152557.csv : T 20\n",
      "all_csv/682963.csv : T 20\n",
      "all_csv/817213.csv : Test\n",
      "all_csv/967081.csv : T 20\n",
      "all_csv/946553.csv : T 20\n",
      "all_csv/501204.csv : T 20\n",
      "all_csv/654091.csv : T 20\n",
      "all_csv/870887.csv : ODI\n",
      "all_csv/548307.csv : T 20\n",
      "all_csv/565812.csv : ODI\n",
      "all_csv/1178400.csv : T 20\n",
      "all_csv/343729.csv : Test\n",
      "all_csv/746087.csv : ODI\n",
      "all_csv/980901.csv : T 20\n",
      "all_csv/592268.csv : T 20\n",
      "all_csv/1073406.csv : In Doubt\n",
      "all_csv/247494.csv : ODI\n",
      "all_csv/489220.csv : T 20\n",
      "all_csv/524941.csv : T 20\n",
      "all_csv/419149.csv : T 20\n",
      "all_csv/875471.csv : T 20\n",
      "all_csv/356012.csv : T 20\n",
      "all_csv/848843.csv : ODI\n",
      "all_csv/593985.csv : ODI\n",
      "all_csv/406203.csv : ODI\n",
      "all_csv/875551.csv : T 20\n",
      "all_csv/548365.csv : T 20\n",
      "all_csv/729309.csv : T 20\n",
      "all_csv/433574.csv : ODI\n",
      "all_csv/660133.csv : T 20\n",
      "all_csv/953347.csv : T 20\n",
      "all_csv/548318.csv : T 20\n",
      "all_csv/226376.csv : ODI\n",
      "all_csv/1136580.csv : T 20\n",
      "all_csv/1114864.csv : T 20\n",
      "all_csv/226385.csv : ODI\n",
      "all_csv/1085960.csv : ODI\n",
      "all_csv/562442.csv : ODI\n"
     ]
    },
    {
     "name": "stdout",
     "output_type": "stream",
     "text": [
      "all_csv/1082597.csv : T 20\n",
      "all_csv/1136598.csv : T 20\n",
      "all_csv/734019.csv : T 20\n",
      "all_csv/249744.csv : ODI\n",
      "all_csv/730291.csv : ODI\n",
      "all_csv/710299.csv : ODI\n",
      "all_csv/657637.csv : ODI\n",
      "all_csv/654055.csv : T 20\n",
      "all_csv/247487.csv : ODI\n",
      "all_csv/501224.csv : T 20\n",
      "all_csv/593988.csv : Test\n",
      "all_csv/598038.csv : T 20\n",
      "all_csv/722333.csv : Test\n",
      "all_csv/733977.csv : T 20\n",
      "all_csv/238214.csv : ODI\n",
      "all_csv/523733.csv : ODI\n",
      "all_csv/668961.csv : ODI\n",
      "all_csv/829725.csv : T 20\n",
      "all_csv/667897.csv : ODI\n",
      "all_csv/952199.csv : ODI\n",
      "all_csv/778005.csv : T 20\n",
      "all_csv/258475.csv : ODI\n",
      "all_csv/656491.csv : ODI\n",
      "all_csv/573020.csv : T 20\n",
      "all_csv/1059539.csv : T 20\n",
      "all_csv/1089490.csv : In Doubt\n",
      "all_csv/419107.csv : T 20\n",
      "all_csv/1085959.csv : ODI\n",
      "all_csv/756737.csv : T 20\n",
      "all_csv/817209.csv : ODI\n",
      "all_csv/980981.csv : T 20\n",
      "all_csv/419132.csv : T 20\n",
      "all_csv/953345.csv : T 20\n",
      "all_csv/1136610.csv : T 20\n",
      "all_csv/870729.csv : Test\n",
      "all_csv/392197.csv : T 20\n",
      "all_csv/518954.csv : T 20\n",
      "all_csv/733989.csv : T 20\n",
      "all_csv/870735.csv : ODI\n",
      "all_csv/441829.csv : ODI\n",
      "all_csv/540178.csv : Test\n",
      "all_csv/1077955.csv : Test\n",
      "all_csv/456663.csv : ODI\n",
      "all_csv/392218.csv : T 20\n",
      "all_csv/598018.csv : T 20\n",
      "all_csv/1114879.csv : T 20\n",
      "all_csv/736519.csv : ODI\n",
      "all_csv/291352.csv : Test\n",
      "all_csv/946555.csv : T 20\n",
      "all_csv/593989.csv : Test\n",
      "all_csv/682937.csv : T 20\n",
      "all_csv/503363.csv : ODI\n",
      "all_csv/1089776.csv : T 20\n",
      "all_csv/546443.csv : T 20\n",
      "all_csv/1185186.csv : T 20\n",
      "all_csv/247463.csv : ODI\n",
      "all_csv/660189.csv : T 20\n",
      "all_csv/1059714.csv : ODI\n",
      "all_csv/1168024.csv : ODI\n",
      "all_csv/914239.csv : Test\n",
      "all_csv/736499.csv : ODI\n",
      "all_csv/682915.csv : T 20\n",
      "all_csv/335352.csv : ODI\n",
      "all_csv/295785.csv : In Doubt\n",
      "all_csv/412693.csv : T 20\n",
      "all_csv/1062509.csv : ODI\n",
      "all_csv/660103.csv : T 20\n",
      "all_csv/875479.csv : T 20\n",
      "all_csv/548322.csv : T 20\n",
      "all_csv/936153.csv : T 20\n",
      "all_csv/598051.csv : T 20\n",
      "all_csv/1089148.csv : ODI\n",
      "all_csv/736455.csv : ODI\n",
      "all_csv/501245.csv : T 20\n",
      "all_csv/668513.csv : ODI\n",
      "all_csv/1114898.csv : T 20\n",
      "all_csv/380716.csv : ODI\n",
      "all_csv/1040485.csv : T 20\n",
      "all_csv/746091.csv : ODI\n",
      "all_csv/403373.csv : In Doubt\n",
      "all_csv/1089145.csv : ODI\n",
      "all_csv/593723.csv : ODI\n",
      "all_csv/980967.csv : T 20\n",
      "all_csv/584772.csv : T 20\n",
      "all_csv/1082598.csv : T 20\n",
      "all_csv/682959.csv : T 20\n",
      "all_csv/433585.csv : ODI\n",
      "all_csv/593986.csv : T 20\n",
      "all_csv/829713.csv : T 20\n",
      "all_csv/1178403.csv : T 20\n",
      "all_csv/951331.csv : T 20\n",
      "all_csv/754731.csv : ODI\n",
      "all_csv/530425.csv : Test\n",
      "all_csv/1085949.csv : ODI\n",
      "all_csv/995455.csv : Test\n",
      "all_csv/1082630.csv : T 20\n",
      "all_csv/682919.csv : T 20\n",
      "all_csv/249746.csv : ODI\n",
      "all_csv/1136618.csv : T 20\n",
      "all_csv/354456.csv : T 20\n",
      "all_csv/729305.csv : T 20\n",
      "all_csv/336022.csv : T 20\n",
      "all_csv/287874.csv : T 20\n",
      "all_csv/1136571.csv : T 20\n",
      "all_csv/336021.csv : T 20\n",
      "all_csv/521222.csv : ODI\n",
      "all_csv/811137.csv : T 20\n",
      "all_csv/298808.csv : ODI\n",
      "all_csv/257771.csv : ODI\n",
      "all_csv/913429.csv : ODI\n",
      "all_csv/649101.csv : T 20\n",
      "all_csv/1030213.csv : Test\n",
      "all_csv/729297.csv : T 20\n",
      "all_csv/419152.csv : T 20\n",
      "all_csv/654095.csv : T 20\n",
      "all_csv/548375.csv : T 20\n",
      "all_csv/566932.csv : Test\n",
      "all_csv/1023601.csv : T 20\n",
      "all_csv/297804.csv : ODI\n",
      "all_csv/567368.csv : ODI\n",
      "all_csv/1188785.csv : T 20\n",
      "all_csv/951355.csv : T 20\n",
      "all_csv/1023613.csv : T 20\n",
      "all_csv/1152541.csv : T 20\n",
      "all_csv/239908.csv : ODI\n",
      "all_csv/858493.csv : Test\n",
      "all_csv/995465.csv : ODI\n",
      "all_csv/682991.csv : T 20\n",
      "all_csv/589309.csv : ODI\n",
      "all_csv/980991.csv : T 20\n",
      "all_csv/657643.csv : ODI\n",
      "all_csv/656489.csv : ODI\n",
      "all_csv/564786.csv : T 20\n",
      "all_csv/375456.csv : ODI\n",
      "all_csv/461565.csv : T 20\n",
      "all_csv/1175360.csv : T 20\n",
      "all_csv/355993.csv : T 20\n",
      "all_csv/1082633.csv : T 20\n",
      "all_csv/1089531.csv : ODI\n",
      "all_csv/645637.csv : ODI\n",
      "all_csv/623573.csv : ODI\n",
      "all_csv/668965.csv : ODI\n",
      "all_csv/754719.csv : T 20\n",
      "all_csv/412698.csv : T 20\n",
      "all_csv/542852.csv : ODI\n",
      "all_csv/749545.csv : ODI\n",
      "all_csv/297795.csv : ODI\n",
      "all_csv/598031.csv : T 20\n",
      "all_csv/1089146.csv : ODI\n",
      "all_csv/296914.csv : ODI\n",
      "all_csv/556252.csv : T 20\n",
      "all_csv/897757.csv : T 20\n",
      "all_csv/298806.csv : ODI\n",
      "all_csv/1041617.csv : T 20\n",
      "all_csv/902643.csv : ODI\n",
      "all_csv/1085496.csv : T 20\n",
      "all_csv/693435.csv : T 20\n",
      "all_csv/419108.csv : T 20\n",
      "all_csv/907391.csv : ODI\n",
      "all_csv/966741.csv : T 20\n",
      "all_csv/902653.csv : In Doubt\n",
      "all_csv/237574.csv : ODI\n",
      "all_csv/1175365.csv : In Doubt\n",
      "all_csv/907375.csv : ODI\n",
      "all_csv/1082604.csv : T 20\n",
      "all_csv/951403.csv : T 20\n",
      "all_csv/1089472.csv : ODI\n",
      "all_csv/446958.csv : ODI\n",
      "all_csv/534229.csv : ODI\n",
      "all_csv/1022349.csv : ODI\n",
      "all_csv/380715.csv : ODI\n",
      "all_csv/401076.csv : T 20\n",
      "all_csv/548346.csv : T 20\n",
      "all_csv/683015.csv : T 20\n",
      "all_csv/897723.csv : T 20\n",
      "all_csv/524920.csv : T 20\n",
      "all_csv/733985.csv : T 20\n",
      "all_csv/966745.csv : T 20\n",
      "all_csv/543888.csv : ODI\n",
      "all_csv/1073430.csv : ODI\n",
      "all_csv/446964.csv : ODI\n",
      "all_csv/247489.csv : ODI\n",
      "all_csv/914225.csv : T 20\n",
      "all_csv/1085971.csv : ODI\n",
      "all_csv/566927.csv : T 20\n",
      "all_csv/1144511.csv : ODI\n",
      "all_csv/746107.csv : In Doubt\n",
      "all_csv/875515.csv : T 20\n",
      "all_csv/660121.csv : T 20\n",
      "all_csv/798381.csv : T 20\n",
      "all_csv/250672.csv : ODI\n",
      "all_csv/356013.csv : T 20\n",
      "all_csv/685733.csv : ODI\n",
      "all_csv/1178425.csv : T 20\n",
      "all_csv/238213.csv : ODI\n",
      "all_csv/247462.csv : ODI\n",
      "all_csv/875473.csv : T 20\n",
      "all_csv/1114867.csv : T 20\n",
      "all_csv/1082606.csv : T 20\n",
      "all_csv/566943.csv : T 20\n",
      "all_csv/594894.csv : ODI\n",
      "all_csv/756039.csv : ODI\n",
      "all_csv/667891.csv : ODI\n",
      "all_csv/1114882.csv : T 20\n",
      "all_csv/325802.csv : ODI\n",
      "all_csv/392209.csv : T 20\n",
      "all_csv/889463.csv : T 20\n",
      "all_csv/734021.csv : T 20\n",
      "all_csv/1022365.csv : ODI\n",
      "all_csv/647249.csv : ODI\n",
      "all_csv/868723.csv : T 20\n",
      "all_csv/885967.csv : ODI\n",
      "all_csv/522245.csv : Test\n",
      "all_csv/501265.csv : T 20\n",
      "all_csv/727939.csv : ODI\n",
      "all_csv/743981.csv : ODI\n",
      "all_csv/682949.csv : T 20\n",
      "all_csv/287864.csv : T 20\n",
      "all_csv/685729.csv : T 20\n",
      "all_csv/913657.csv : ODI\n",
      "all_csv/935813.csv : ODI\n",
      "all_csv/660205.csv : T 20\n",
      "all_csv/668969.csv : T 20\n",
      "all_csv/533277.csv : T 20\n",
      "all_csv/875525.csv : T 20\n",
      "all_csv/1078660.csv : ODI\n",
      "all_csv/416237.csv : ODI\n",
      "all_csv/319132.csv : Test\n",
      "all_csv/914233.csv : ODI\n",
      "all_csv/419141.csv : T 20\n",
      "all_csv/1023635.csv : T 20\n",
      "all_csv/742623.csv : ODI\n",
      "all_csv/897731.csv : T 20\n",
      "all_csv/433590.csv : ODI\n",
      "all_csv/257772.csv : ODI\n",
      "all_csv/291364.csv : ODI\n",
      "all_csv/690359.csv : ODI\n",
      "all_csv/522246.csv : ODI\n",
      "all_csv/597929.csv : ODI\n",
      "all_csv/828249.csv : T 20\n",
      "all_csv/548367.csv : T 20\n",
      "all_csv/573025.csv : ODI\n",
      "all_csv/350346.csv : Test\n",
      "all_csv/335355.csv : ODI\n",
      "all_csv/520598.csv : T 20\n",
      "all_csv/856117.csv : T 20\n",
      "all_csv/473923.csv : ODI\n",
      "all_csv/902641.csv : ODI\n",
      "all_csv/501256.csv : T 20\n",
      "all_csv/1085957.csv : ODI\n",
      "all_csv/1178395.csv : T 20\n",
      "all_csv/323948.csv : Test\n",
      "all_csv/300442.csv : Test\n",
      "all_csv/1073416.csv : ODI\n",
      "all_csv/598070.csv : T 20\n",
      "all_csv/980913.csv : T 20\n",
      "all_csv/980921.csv : T 20\n",
      "all_csv/548326.csv : T 20\n",
      "all_csv/1019987.csv : Test\n",
      "all_csv/366625.csv : ODI\n",
      "all_csv/1050233.csv : Test\n",
      "all_csv/1085968.csv : ODI\n",
      "all_csv/756779.csv : T 20\n",
      "all_csv/778013.csv : T 20\n",
      "all_csv/501260.csv : T 20\n",
      "all_csv/534218.csv : ODI\n",
      "all_csv/440945.csv : T 20\n",
      "all_csv/392222.csv : T 20\n",
      "all_csv/428752.csv : Test\n",
      "all_csv/936143.csv : ODI\n",
      "all_csv/778033.csv : T 20\n",
      "all_csv/598037.csv : T 20\n",
      "all_csv/546442.csv : T 20\n",
      "all_csv/366623.csv : ODI\n",
      "all_csv/452151.csv : ODI\n",
      "all_csv/412683.csv : T 20\n",
      "all_csv/754729.csv : ODI\n",
      "all_csv/1089529.csv : ODI\n",
      "all_csv/1082632.csv : T 20\n",
      "all_csv/434259.csv : ODI\n",
      "all_csv/527014.csv : ODI\n",
      "all_csv/598006.csv : T 20\n",
      "all_csv/743983.csv : ODI\n",
      "all_csv/584923.csv : T 20\n",
      "all_csv/743943.csv : ODI\n",
      "all_csv/980927.csv : T 20\n",
      "all_csv/682897.csv : T 20\n",
      "all_csv/298804.csv : T 20\n",
      "all_csv/593983.csv : ODI\n",
      "all_csv/352669.csv : ODI\n",
      "all_csv/225254.csv : ODI\n",
      "all_csv/267386.csv : T 20\n",
      "all_csv/433596.csv : ODI\n",
      "all_csv/350479.csv : ODI\n",
      "all_csv/332911.csv : Test\n",
      "all_csv/661683.csv : Test\n",
      "all_csv/792291.csv : ODI\n",
      "all_csv/335354.csv : ODI\n",
      "all_csv/361050.csv : Test\n",
      "all_csv/463144.csv : ODI\n",
      "all_csv/439142.csv : ODI\n",
      "all_csv/426394.csv : Test\n",
      "all_csv/287877.csv : T 20\n",
      "all_csv/238196.csv : ODI\n",
      "all_csv/645635.csv : ODI\n",
      "all_csv/722345.csv : ODI\n",
      "all_csv/1082637.csv : T 20\n",
      "all_csv/778019.csv : T 20\n",
      "all_csv/953341.csv : ODI\n",
      "all_csv/573012.csv : Test\n",
      "all_csv/211028.csv : T 20\n",
      "all_csv/743975.csv : T 20\n",
      "all_csv/300443.csv : Test\n",
      "all_csv/524917.csv : T 20\n",
      "all_csv/226391.csv : ODI\n",
      "all_csv/829775.csv : T 20\n",
      "all_csv/966761.csv : T 20\n"
     ]
    },
    {
     "name": "stdout",
     "output_type": "stream",
     "text": [
      "all_csv/392195.csv : T 20\n",
      "all_csv/1178414.csv : T 20\n",
      "all_csv/300439.csv : ODI\n",
      "all_csv/323947.csv : Test\n",
      "all_csv/1144529.csv : ODI\n",
      "all_csv/545656.csv : ODI\n",
      "all_csv/995459.csv : ODI\n",
      "all_csv/936161.csv : ODI\n",
      "all_csv/881757.csv : T 20\n",
      "all_csv/562445.csv : Test\n",
      "all_csv/548352.csv : T 20\n",
      "all_csv/1082643.csv : T 20\n",
      "all_csv/951393.csv : T 20\n",
      "all_csv/636536.csv : T 20\n",
      "all_csv/981007.csv : T 20\n",
      "all_csv/299006.csv : ODI\n",
      "all_csv/749561.csv : ODI\n",
      "all_csv/660095.csv : T 20\n",
      "all_csv/235831.csv : ODI\n",
      "all_csv/531631.csv : ODI\n",
      "all_csv/423790.csv : Test\n",
      "all_csv/501262.csv : T 20\n",
      "all_csv/743939.csv : Test\n",
      "all_csv/598048.csv : T 20\n",
      "all_csv/355997.csv : T 20\n",
      "all_csv/249228.csv : ODI\n",
      "all_csv/1073414.csv : ODI\n",
      "all_csv/1152544.csv : T 20\n",
      "all_csv/1152512.csv : T 20\n",
      "all_csv/386494.csv : T 20\n",
      "all_csv/1034823.csv : ODI\n",
      "all_csv/531634.csv : ODI\n",
      "all_csv/530427.csv : ODI\n",
      "all_csv/742627.csv : ODI\n",
      "all_csv/1059713.csv : In Doubt\n",
      "all_csv/464529.csv : ODI\n",
      "all_csv/392200.csv : T 20\n",
      "all_csv/548329.csv : T 20\n",
      "all_csv/980933.csv : T 20\n",
      "all_csv/875477.csv : T 20\n",
      "all_csv/1022351.csv : ODI\n",
      "all_csv/422629.csv : In Doubt\n",
      "all_csv/455231.csv : ODI\n",
      "all_csv/576409.csv : In Doubt\n",
      "all_csv/1000891.csv : ODI\n",
      "all_csv/778043.csv : T 20\n",
      "all_csv/534209.csv : ODI\n",
      "all_csv/727937.csv : ODI\n",
      "all_csv/415287.csv : ODI\n",
      "all_csv/1000889.csv : ODI\n",
      "all_csv/535795.csv : ODI\n",
      "all_csv/249747.csv : ODI\n",
      "all_csv/476598.csv : ODI\n",
      "all_csv/875491.csv : T 20\n",
      "all_csv/419118.csv : T 20\n",
      "all_csv/489222.csv : ODI\n",
      "all_csv/1152527.csv : T 20\n",
      "all_csv/415285.csv : ODI\n",
      "all_csv/433587.csv : ODI\n",
      "all_csv/981015.csv : T 20\n",
      "all_csv/1085495.csv : T 20\n",
      "all_csv/946549.csv : ODI\n",
      "all_csv/238215.csv : ODI\n",
      "all_csv/1114877.csv : T 20\n",
      "all_csv/295788.csv : In Doubt\n",
      "all_csv/1044211.csv : T 20\n",
      "all_csv/350481.csv : ODI\n",
      "all_csv/1082591.csv : T 20\n",
      "all_csv/1144487.csv : ODI\n",
      "all_csv/1136613.csv : T 20\n",
      "all_csv/247501.csv : In Doubt\n",
      "all_csv/1190768.csv : T 20\n",
      "all_csv/1023603.csv : T 20\n",
      "all_csv/932863.csv : ODI\n",
      "all_csv/1031425.csv : ODI\n",
      "all_csv/1152558.csv : T 20\n",
      "all_csv/433597.csv : ODI\n",
      "all_csv/778015.csv : T 20\n",
      "all_csv/415280.csv : ODI\n",
      "all_csv/571233.csv : T 20\n",
      "all_csv/446959.csv : ODI\n",
      "all_csv/391794.csv : T 20\n",
      "all_csv/518950.csv : Test\n",
      "all_csv/951313.csv : T 20\n",
      "all_csv/963701.csv : T 20\n",
      "all_csv/486520.csv : ODI\n",
      "all_csv/936167.csv : ODI\n",
      "all_csv/267710.csv : In Doubt\n",
      "all_csv/430885.csv : T 20\n",
      "all_csv/951325.csv : T 20\n",
      "all_csv/875467.csv : T 20\n",
      "all_csv/325803.csv : ODI\n",
      "all_csv/336201.csv : ODI\n",
      "all_csv/760783.csv : Test\n",
      "all_csv/648667.csv : Test\n",
      "all_csv/332913.csv : Test\n",
      "all_csv/439144.csv : ODI\n",
      "all_csv/335357.csv : ODI\n",
      "all_csv/808865.csv : ODI\n",
      "all_csv/392201.csv : T 20\n",
      "all_csv/567367.csv : T 20\n",
      "all_csv/875533.csv : T 20\n",
      "all_csv/1175366.csv : T 20\n",
      "all_csv/914209.csv : In Doubt\n",
      "all_csv/1152538.csv : T 20\n",
      "all_csv/877507.csv : T 20\n",
      "all_csv/915773.csv : Test\n",
      "all_csv/743951.csv : ODI\n",
      "all_csv/501239.csv : T 20\n",
      "all_csv/249758.csv : ODI\n",
      "all_csv/293071.csv : ODI\n",
      "all_csv/654083.csv : T 20\n",
      "all_csv/881755.csv : T 20\n",
      "all_csv/946545.csv : ODI\n",
      "all_csv/635660.csv : T 20\n",
      "all_csv/860273.csv : ODI\n",
      "all_csv/812783.csv : ODI\n",
      "all_csv/287872.csv : T 20\n",
      "all_csv/579741.csv : ODI\n",
      "all_csv/756803.csv : T 20\n",
      "all_csv/756785.csv : T 20\n",
      "all_csv/980973.csv : T 20\n",
      "all_csv/660227.csv : T 20\n",
      "all_csv/267709.csv : ODI\n",
      "all_csv/401073.csv : ODI\n",
      "all_csv/467092.csv : ODI\n",
      "all_csv/668951.csv : Test\n",
      "all_csv/656469.csv : ODI\n",
      "all_csv/1001373.csv : ODI\n",
      "all_csv/897761.csv : T 20\n",
      "all_csv/923321.csv : T 20\n",
      "all_csv/267387.csv : ODI\n",
      "all_csv/1178411.csv : T 20\n",
      "all_csv/718465.csv : T 20\n",
      "all_csv/858487.csv : ODI\n",
      "all_csv/392233.csv : T 20\n",
      "all_csv/980909.csv : T 20\n",
      "all_csv/1152530.csv : T 20\n",
      "all_csv/668955.csv : ODI\n",
      "all_csv/486522.csv : ODI\n",
      "all_csv/1089778.csv : T 20\n",
      "all_csv/430886.csv : ODI\n",
      "all_csv/1043993.csv : T 20\n",
      "all_csv/489216.csv : ODI\n",
      "all_csv/914221.csv : T 20\n",
      "all_csv/742615.csv : Test\n",
      "all_csv/979829.csv : ODI\n",
      "all_csv/736439.csv : ODI\n",
      "all_csv/654051.csv : T 20\n",
      "all_csv/997961.csv : ODI\n",
      "all_csv/744683.csv : In Doubt\n",
      "all_csv/913631.csv : ODI\n",
      "all_csv/1175359.csv : T 20\n",
      "all_csv/249231.csv : ODI\n",
      "all_csv/1089530.csv : ODI\n",
      "all_csv/736521.csv : ODI\n",
      "all_csv/1114868.csv : T 20\n",
      "all_csv/446957.csv : ODI\n",
      "all_csv/548319.csv : T 20\n",
      "all_csv/1089149.csv : In Doubt\n",
      "all_csv/236520.csv : ODI\n",
      "all_csv/1022595.csv : Test\n",
      "all_csv/592399.csv : Test\n",
      "all_csv/571256.csv : T 20\n",
      "all_csv/287879.csv : T 20\n",
      "all_csv/560925.csv : ODI\n",
      "all_csv/660111.csv : T 20\n",
      "all_csv/895775.csv : Test\n",
      "all_csv/936139.csv : ODI\n",
      "all_csv/392229.csv : T 20\n",
      "all_csv/238200.csv : In Doubt\n",
      "all_csv/654059.csv : T 20\n",
      "all_csv/746105.csv : ODI\n",
      "all_csv/524925.csv : T 20\n",
      "all_csv/378755.csv : ODI\n",
      "all_csv/760795.csv : ODI\n",
      "all_csv/1050229.csv : Test\n",
      "all_csv/1050623.csv : In Doubt\n",
      "all_csv/531636.csv : T 20\n",
      "all_csv/501228.csv : T 20\n",
      "all_csv/352668.csv : ODI\n",
      "all_csv/894287.csv : ODI\n",
      "all_csv/463149.csv : T 20\n",
      "all_csv/296901.csv : Test\n",
      "all_csv/336029.csv : T 20\n",
      "all_csv/535998.csv : Test\n",
      "all_csv/403368.csv : Test\n",
      "all_csv/433570.csv : ODI\n",
      "all_csv/829747.csv : T 20\n",
      "all_csv/1073404.csv : ODI\n",
      "all_csv/660191.csv : T 20\n",
      "all_csv/501198.csv : T 20\n",
      "all_csv/914219.csv : T 20\n",
      "all_csv/319139.csv : Test\n",
      "all_csv/258466.csv : ODI\n",
      "all_csv/238189.csv : ODI\n",
      "all_csv/287866.csv : T 20\n",
      "all_csv/578621.csv : ODI\n",
      "all_csv/578618.csv : ODI\n",
      "all_csv/423780.csv : Test\n",
      "all_csv/640941.csv : T 20\n",
      "all_csv/287868.csv : T 20\n",
      "all_csv/419113.csv : T 20\n",
      "all_csv/743945.csv : ODI\n",
      "all_csv/383275.csv : ODI\n",
      "all_csv/916661.csv : ODI\n",
      "all_csv/668519.csv : T 20\n",
      "all_csv/829745.csv : T 20\n",
      "all_csv/560930.csv : Test\n",
      "all_csv/1114881.csv : T 20\n",
      "all_csv/951405.csv : T 20\n",
      "all_csv/627006.csv : ODI\n",
      "all_csv/660181.csv : T 20\n",
      "all_csv/1059195.csv : ODI\n",
      "all_csv/1082646.csv : T 20\n",
      "all_csv/953337.csv : ODI\n",
      "all_csv/1082621.csv : T 20\n",
      "all_csv/785979.csv : ODI\n",
      "all_csv/659555.csv : Test\n",
      "all_csv/656481.csv : ODI\n",
      "all_csv/501261.csv : T 20\n",
      "all_csv/951329.csv : T 20\n",
      "all_csv/361045.csv : ODI\n",
      "all_csv/785987.csv : ODI\n",
      "all_csv/1168522.csv : T 20\n",
      "all_csv/419147.csv : T 20\n",
      "all_csv/916663.csv : ODI\n",
      "all_csv/649103.csv : T 20\n",
      "all_csv/467091.csv : ODI\n",
      "all_csv/291221.csv : ODI\n",
      "all_csv/875503.csv : T 20\n",
      "all_csv/736441.csv : ODI\n",
      "all_csv/1104478.csv : ODI\n",
      "all_csv/742617.csv : T 20\n",
      "all_csv/660211.csv : T 20\n",
      "all_csv/598057.csv : T 20\n",
      "all_csv/226374.csv : T 20\n",
      "all_csv/548323.csv : T 20\n",
      "all_csv/1082635.csv : T 20\n",
      "all_csv/1144528.csv : ODI\n",
      "all_csv/433592.csv : ODI\n",
      "all_csv/1050231.csv : Test\n",
      "all_csv/534214.csv : T 20\n",
      "all_csv/533310.csv : T 20\n",
      "all_csv/467090.csv : ODI\n",
      "all_csv/226383.csv : ODI\n",
      "all_csv/534206.csv : Test\n",
      "all_csv/504779.csv : ODI\n",
      "all_csv/829817.csv : T 20\n",
      "all_csv/727935.csv : ODI\n",
      "all_csv/439153.csv : Test\n",
      "all_csv/628081.csv : ODI\n",
      "all_csv/439149.csv : ODI\n",
      "all_csv/350046.csv : ODI\n",
      "all_csv/913427.csv : ODI\n",
      "all_csv/1029821.csv : ODI\n",
      "all_csv/932865.csv : ODI\n",
      "all_csv/531633.csv : ODI\n",
      "all_csv/1023605.csv : T 20\n",
      "all_csv/296906.csv : ODI\n",
      "all_csv/464989.csv : In Doubt\n",
      "all_csv/336008.csv : T 20\n",
      "all_csv/1082649.csv : T 20\n",
      "all_csv/951337.csv : T 20\n",
      "all_csv/875549.csv : T 20\n",
      "all_csv/423782.csv : T 20\n",
      "all_csv/601077.csv : ODI\n",
      "all_csv/335985.csv : T 20\n",
      "all_csv/1043961.csv : ODI\n",
      "all_csv/1033365.csv : ODI\n",
      "all_csv/536930.csv : ODI\n",
      "all_csv/749543.csv : ODI\n",
      "all_csv/1082622.csv : T 20\n",
      "all_csv/534225.csv : Test\n",
      "all_csv/366709.csv : In Doubt\n",
      "all_csv/387570.csv : Test\n",
      "all_csv/598020.csv : T 20\n",
      "all_csv/931398.csv : T 20\n",
      "all_csv/578624.csv : ODI\n",
      "all_csv/578623.csv : ODI\n",
      "all_csv/501241.csv : T 20\n",
      "all_csv/913615.csv : Test\n",
      "all_csv/640949.csv : T 20\n",
      "all_csv/710291.csv : ODI\n",
      "all_csv/296902.csv : Test\n",
      "all_csv/350477.csv : ODI\n",
      "all_csv/573013.csv : Test\n",
      "all_csv/501230.csv : T 20\n",
      "all_csv/981003.csv : T 20\n",
      "all_csv/1089136.csv : ODI\n",
      "all_csv/746089.csv : ODI\n",
      "all_csv/778017.csv : T 20\n",
      "all_csv/319145.csv : ODI\n",
      "all_csv/419112.csv : T 20\n",
      "all_csv/733983.csv : T 20\n",
      "all_csv/829731.csv : T 20\n",
      "all_csv/352663.csv : Test\n",
      "all_csv/897717.csv : T 20\n",
      "all_csv/531985.csv : In Doubt\n",
      "all_csv/659545.csv : T 20\n",
      "all_csv/668949.csv : Test\n",
      "all_csv/422627.csv : ODI\n",
      "all_csv/1114885.csv : T 20\n",
      "all_csv/446968.csv : ODI\n",
      "all_csv/749777.csv : Test\n",
      "all_csv/645641.csv : ODI\n",
      "all_csv/690355.csv : ODI\n",
      "all_csv/903607.csv : Test\n",
      "all_csv/895773.csv : Test\n",
      "all_csv/533304.csv : T 20\n",
      "all_csv/951349.csv : T 20\n",
      "all_csv/812797.csv : ODI\n",
      "all_csv/1083450.csv : T 20\n",
      "all_csv/518947.csv : Test\n",
      "all_csv/501237.csv : T 20\n",
      "all_csv/935817.csv : ODI\n"
     ]
    },
    {
     "name": "stdout",
     "output_type": "stream",
     "text": [
      "all_csv/829721.csv : T 20\n",
      "all_csv/792297.csv : ODI\n",
      "all_csv/1073423.csv : ODI\n",
      "all_csv/540172.csv : ODI\n",
      "all_csv/1152518.csv : T 20\n",
      "all_csv/562440.csv : ODI\n",
      "all_csv/1152543.csv : T 20\n",
      "all_csv/660107.csv : T 20\n",
      "all_csv/1152526.csv : T 20\n",
      "all_csv/433558.csv : ODI\n",
      "all_csv/582188.csv : ODI\n",
      "all_csv/249380.csv : ODI\n",
      "all_csv/1029819.csv : ODI\n",
      "all_csv/535797.csv : ODI\n",
      "all_csv/467885.csv : ODI\n",
      "all_csv/392191.csv : T 20\n",
      "all_csv/981009.csv : T 20\n",
      "all_csv/648675.csv : Test\n",
      "all_csv/848845.csv : ODI\n",
      "all_csv/812775.csv : ODI\n",
      "all_csv/1114876.csv : T 20\n",
      "all_csv/656399.csv : ODI\n",
      "all_csv/1178426.csv : In Doubt\n",
      "all_csv/598072.csv : T 20\n",
      "all_csv/533305.csv : T 20\n",
      "all_csv/1082623.csv : T 20\n",
      "all_csv/403382.csv : ODI\n",
      "all_csv/548370.csv : T 20\n",
      "all_csv/1168020.csv : T 20\n",
      "all_csv/660125.csv : T 20\n",
      "all_csv/875469.csv : T 20\n",
      "all_csv/531630.csv : Test\n",
      "all_csv/729303.csv : T 20\n",
      "all_csv/829803.csv : T 20\n",
      "all_csv/778009.csv : T 20\n",
      "all_csv/419111.csv : T 20\n",
      "all_csv/548373.csv : T 20\n",
      "all_csv/426390.csv : ODI\n",
      "all_csv/548344.csv : T 20\n",
      "all_csv/533293.csv : T 20\n",
      "all_csv/406199.csv : Test\n",
      "all_csv/226380.csv : ODI\n",
      "all_csv/562438.csv : T 20\n",
      "all_csv/895819.csv : T 20\n",
      "all_csv/682957.csv : T 20\n",
      "all_csv/1152550.csv : T 20\n",
      "all_csv/911049.csv : ODI\n",
      "all_csv/1114856.csv : T 20\n",
      "all_csv/598060.csv : T 20\n",
      "all_csv/567364.csv : Test\n",
      "all_csv/296687.csv : ODI\n",
      "all_csv/785993.csv : ODI\n",
      "all_csv/722339.csv : ODI\n",
      "all_csv/336032.csv : T 20\n",
      "all_csv/623575.csv : ODI\n",
      "Something Went Wrong!!!\n",
      "all_csv/501200.csv : T 20\n",
      "all_csv/1079250.csv : ODI\n",
      "all_csv/489223.csv : ODI\n",
      "all_csv/1000851.csv : Test\n",
      "all_csv/406204.csv : ODI\n",
      "all_csv/540168.csv : ODI\n",
      "all_csv/416241.csv : ODI\n",
      "all_csv/1082599.csv : T 20\n",
      "all_csv/800477.csv : ODI\n",
      "all_csv/654033.csv : T 20\n",
      "all_csv/439497.csv : T 20\n",
      "all_csv/1073426.csv : ODI\n",
      "all_csv/238176.csv : ODI\n",
      "all_csv/1073425.csv : ODI\n",
      "all_csv/1077951.csv : ODI\n",
      "all_csv/603243.csv : T 20\n",
      "all_csv/746109.csv : ODI\n",
      "all_csv/667647.csv : ODI\n",
      "all_csv/1085955.csv : ODI\n",
      "all_csv/980953.csv : T 20\n",
      "all_csv/548381.csv : T 20\n",
      "all_csv/249755.csv : ODI\n",
      "all_csv/1114893.csv : T 20\n",
      "all_csv/335989.csv : T 20\n",
      "all_csv/1034809.csv : Test\n",
      "all_csv/1030221.csv : ODI\n",
      "all_csv/952193.csv : Test\n",
      "all_csv/980989.csv : T 20\n",
      "all_csv/267713.csv : ODI\n",
      "all_csv/518952.csv : Test\n",
      "all_csv/573007.csv : Test\n",
      "all_csv/640939.csv : T 20\n",
      "all_csv/979819.csv : ODI\n",
      "all_csv/501266.csv : T 20\n",
      "all_csv/895821.csv : T 20\n",
      "all_csv/239907.csv : ODI\n",
      "all_csv/548317.csv : T 20\n",
      "all_csv/1136583.csv : T 20\n",
      "all_csv/848839.csv : T 20\n",
      "all_csv/385025.csv : ODI\n",
      "all_csv/319143.csv : ODI\n",
      "all_csv/297798.csv : ODI\n",
      "all_csv/598041.csv : T 20\n",
      "all_csv/238174.csv : ODI\n",
      "all_csv/875547.csv : T 20\n",
      "all_csv/410339.csv : ODI\n",
      "all_csv/951415.csv : T 20\n",
      "all_csv/1023643.csv : T 20\n",
      "all_csv/430890.csv : In Doubt\n",
      "all_csv/792289.csv : ODI\n",
      "all_csv/412689.csv : T 20\n",
      "all_csv/1019983.csv : T 20\n",
      "all_csv/829793.csv : T 20\n",
      "all_csv/743941.csv : Test\n",
      "all_csv/729307.csv : T 20\n",
      "all_csv/749567.csv : ODI\n",
      "all_csv/895797.csv : ODI\n",
      "all_csv/452152.csv : ODI\n",
      "all_csv/567365.csv : Test\n",
      "all_csv/598039.csv : T 20\n",
      "all_csv/1046687.csv : T 20\n",
      "all_csv/520604.csv : Test\n",
      "all_csv/521217.csv : T 20\n",
      "all_csv/749785.csv : In Doubt\n",
      "all_csv/800475.csv : ODI\n",
      "all_csv/980951.csv : T 20\n",
      "all_csv/951315.csv : T 20\n",
      "all_csv/356011.csv : T 20\n",
      "all_csv/656439.csv : ODI\n",
      "all_csv/392223.csv : T 20\n",
      "all_csv/548309.csv : T 20\n",
      "all_csv/1023629.csv : T 20\n",
      "all_csv/636164.csv : T 20\n",
      "all_csv/415162.csv : ODI\n",
      "all_csv/1073427.csv : ODI\n",
      "all_csv/733973.csv : T 20\n",
      "all_csv/317579.csv : ODI\n",
      "all_csv/1178397.csv : T 20\n",
      "all_csv/1023615.csv : T 20\n",
      "all_csv/1033361.csv : In Doubt\n",
      "all_csv/656423.csv : ODI\n",
      "all_csv/710293.csv : ODI\n",
      "all_csv/1034829.csv : T 20\n",
      "all_csv/350472.csv : Test\n",
      "all_csv/501216.csv : T 20\n",
      "all_csv/1082650.csv : T 20\n",
      "all_csv/247470.csv : ODI\n",
      "all_csv/264070.csv : In Doubt\n",
      "all_csv/1073418.csv : ODI\n",
      "all_csv/419116.csv : T 20\n",
      "all_csv/336005.csv : T 20\n",
      "all_csv/722347.csv : ODI\n",
      "all_csv/524940.csv : T 20\n",
      "all_csv/226384.csv : ODI\n",
      "all_csv/1022363.csv : ODI\n",
      "all_csv/533284.csv : In Doubt\n",
      "all_csv/683005.csv : T 20\n",
      "all_csv/757507.csv : ODI\n",
      "all_csv/656447.csv : ODI\n",
      "all_csv/660171.csv : T 20\n",
      "all_csv/1136615.csv : T 20\n",
      "all_csv/293078.csv : ODI\n",
      "all_csv/501254.csv : T 20\n",
      "all_csv/534235.csv : T 20\n",
      "all_csv/914213.csv : T 20\n",
      "all_csv/534226.csv : Test\n",
      "all_csv/392182.csv : T 20\n",
      "all_csv/226377.csv : ODI\n",
      "all_csv/749541.csv : ODI\n",
      "all_csv/682953.csv : T 20\n",
      "all_csv/598003.csv : T 20\n",
      "all_csv/1033363.csv : ODI\n",
      "all_csv/534234.csv : T 20\n",
      "all_csv/551597.csv : T 20\n",
      "all_csv/412677.csv : T 20\n",
      "all_csv/754757.csv : In Doubt\n",
      "all_csv/811123.csv : T 20\n",
      "all_csv/258464.csv : T 20\n",
      "all_csv/377315.csv : ODI\n",
      "all_csv/951407.csv : T 20\n",
      "all_csv/895777.csv : Test\n",
      "all_csv/297796.csv : In Doubt\n",
      "all_csv/743947.csv : ODI\n",
      "all_csv/654045.csv : T 20\n",
      "all_csv/567355.csv : T 20\n",
      "all_csv/875507.csv : T 20\n",
      "all_csv/1082596.csv : T 20\n",
      "all_csv/1074961.csv : T 20\n",
      "all_csv/951339.csv : T 20\n",
      "all_csv/785965.csv : ODI\n",
      "all_csv/980949.csv : T 20\n",
      "all_csv/645639.csv : ODI\n",
      "all_csv/951367.csv : T 20\n",
      "all_csv/1136587.csv : T 20\n",
      "all_csv/656417.csv : ODI\n",
      "all_csv/981019.csv : T 20\n",
      "all_csv/659553.csv : ODI\n",
      "all_csv/461566.csv : ODI\n",
      "all_csv/1073408.csv : ODI\n",
      "all_csv/710309.csv : ODI\n",
      "all_csv/1020017.csv : ODI\n",
      "all_csv/1000893.csv : ODI\n",
      "all_csv/531629.csv : Test\n",
      "all_csv/913613.csv : Test\n",
      "all_csv/682965.csv : T 20\n",
      "all_csv/903587.csv : T 20\n",
      "all_csv/478279.csv : T 20\n",
      "all_csv/589306.csv : T 20\n",
      "all_csv/571241.csv : T 20\n",
      "all_csv/1175368.csv : T 20\n",
      "all_csv/249757.csv : ODI\n",
      "all_csv/756783.csv : T 20\n",
      "all_csv/654031.csv : T 20\n",
      "all_csv/656479.csv : ODI\n",
      "all_csv/518948.csv : Test\n",
      "all_csv/335996.csv : T 20\n",
      "all_csv/474471.csv : ODI\n",
      "all_csv/534219.csv : ODI\n",
      "all_csv/534205.csv : Test\n",
      "all_csv/1046679.csv : T 20\n",
      "all_csv/919603.csv : T 20\n",
      "all_csv/1043953.csv : ODI\n",
      "all_csv/962023.csv : T 20\n",
      "all_csv/306991.csv : T 20\n",
      "all_csv/345670.csv : Test\n",
      "all_csv/267389.csv : ODI\n",
      "all_csv/656485.csv : ODI\n",
      "all_csv/573017.csv : ODI\n",
      "all_csv/881737.csv : T 20\n",
      "all_csv/884349.csv : T 20\n",
      "all_csv/951305.csv : T 20\n",
      "all_csv/463143.csv : ODI\n",
      "all_csv/392199.csv : T 20\n",
      "all_csv/785985.csv : ODI\n",
      "all_csv/603244.csv : T 20\n",
      "all_csv/829739.csv : T 20\n",
      "all_csv/881741.csv : T 20\n",
      "all_csv/1022597.csv : Test\n",
      "all_csv/300440.csv : ODI\n",
      "all_csv/319140.csv : Test\n",
      "all_csv/682981.csv : T 20\n",
      "all_csv/766929.csv : Test\n",
      "all_csv/881743.csv : T 20\n",
      "all_csv/812779.csv : ODI\n",
      "all_csv/754799.csv : T 20\n",
      "all_csv/733971.csv : T 20\n",
      "all_csv/682935.csv : T 20\n",
      "all_csv/1152524.csv : T 20\n",
      "all_csv/518961.csv : ODI\n",
      "all_csv/656405.csv : ODI\n",
      "all_csv/760781.csv : Test\n",
      "all_csv/778039.csv : T 20\n",
      "all_csv/412694.csv : T 20\n",
      "all_csv/392208.csv : T 20\n",
      "all_csv/351696.csv : T 20\n",
      "all_csv/811121.csv : T 20\n",
      "all_csv/1144494.csv : ODI\n",
      "all_csv/237242.csv : T 20\n",
      "all_csv/667723.csv : In Doubt\n",
      "all_csv/516208.csv : ODI\n",
      "all_csv/1004729.csv : T 20\n",
      "all_csv/1144520.csv : ODI\n",
      "all_csv/249379.csv : ODI\n",
      "all_csv/1089522.csv : ODI\n",
      "all_csv/660093.csv : T 20\n",
      "all_csv/1062580.csv : ODI\n",
      "all_csv/1161014.csv : ODI\n",
      "all_csv/654089.csv : T 20\n",
      "all_csv/1114887.csv : T 20\n",
      "all_csv/325800.csv : ODI\n",
      "all_csv/932859.csv : ODI\n",
      "all_csv/744679.csv : ODI\n",
      "all_csv/406206.csv : ODI\n",
      "all_csv/1085951.csv : ODI\n",
      "all_csv/423391.csv : T 20\n",
      "all_csv/566942.csv : ODI\n",
      "all_csv/951383.csv : T 20\n",
      "all_csv/225271.csv : T 20\n",
      "all_csv/660131.csv : T 20\n",
      "all_csv/343730.csv : Test\n",
      "all_csv/812799.csv : In Doubt\n",
      "all_csv/415278.csv : ODI\n",
      "all_csv/293482.csv : ODI\n",
      "all_csv/734039.csv : T 20\n",
      "all_csv/503365.csv : ODI\n",
      "all_csv/345671.csv : Test\n",
      "all_csv/923323.csv : T 20\n",
      "all_csv/894293.csv : T 20\n",
      "all_csv/588498.csv : T 20\n",
      "all_csv/392188.csv : T 20\n",
      "all_csv/966739.csv : T 20\n",
      "all_csv/567360.csv : ODI\n",
      "all_csv/249207.csv : ODI\n",
      "all_csv/238169.csv : ODI\n",
      "all_csv/300428.csv : In Doubt\n",
      "all_csv/350476.csv : T 20\n",
      "all_csv/1098209.csv : ODI\n",
      "all_csv/1082620.csv : T 20\n",
      "all_csv/812777.csv : ODI\n",
      "all_csv/1073415.csv : ODI\n",
      "all_csv/386532.csv : ODI\n",
      "all_csv/730083.csv : ODI\n",
      "all_csv/913653.csv : ODI\n",
      "all_csv/589307.csv : T 20\n",
      "all_csv/356005.csv : T 20\n",
      "all_csv/1020043.csv : Test\n",
      "all_csv/351683.csv : Test\n",
      "all_csv/1175361.csv : T 20\n",
      "all_csv/932857.csv : ODI\n",
      "all_csv/756767.csv : In Doubt\n",
      "all_csv/247474.csv : ODI\n",
      "all_csv/463151.csv : ODI\n",
      "all_csv/366628.csv : Test\n",
      "all_csv/247458.csv : ODI\n",
      "all_csv/749555.csv : ODI\n",
      "all_csv/1114890.csv : T 20\n",
      "all_csv/267391.csv : ODI\n",
      "all_csv/298807.csv : ODI\n",
      "all_csv/461568.csv : ODI\n",
      "all_csv/298805.csv : ODI\n"
     ]
    },
    {
     "name": "stdout",
     "output_type": "stream",
     "text": [
      "all_csv/1082638.csv : T 20\n",
      "all_csv/966765.csv : T 20\n",
      "all_csv/419139.csv : T 20\n",
      "all_csv/319134.csv : ODI\n",
      "all_csv/249759.csv : ODI\n",
      "all_csv/335999.csv : T 20\n",
      "all_csv/946551.csv : T 20\n",
      "all_csv/966763.csv : T 20\n",
      "all_csv/656401.csv : ODI\n",
      "all_csv/598016.csv : T 20\n",
      "all_csv/734005.csv : T 20\n",
      "all_csv/584549.csv : ODI\n",
      "all_csv/350474.csv : Test\n",
      "all_csv/718467.csv : T 20\n",
      "all_csv/343759.csv : ODI\n",
      "all_csv/533285.csv : T 20\n",
      "all_csv/374059.csv : ODI\n",
      "all_csv/710311.csv : ODI\n",
      "all_csv/527013.csv : T 20\n",
      "all_csv/743979.csv : ODI\n",
      "all_csv/1082611.csv : T 20\n",
      "all_csv/573011.csv : Test\n",
      "all_csv/636160.csv : ODI\n",
      "all_csv/419146.csv : T 20\n",
      "all_csv/682979.csv : T 20\n",
      "all_csv/1062508.csv : ODI\n",
      "all_csv/531987.csv : Test\n",
      "all_csv/1085945.csv : ODI\n",
      "all_csv/749781.csv : ODI\n",
      "all_csv/649099.csv : ODI\n",
      "all_csv/875539.csv : T 20\n",
      "all_csv/1085948.csv : ODI\n",
      "all_csv/514023.csv : T 20\n",
      "all_csv/1040497.csv : ODI\n",
      "all_csv/1085946.csv : ODI\n",
      "all_csv/980969.csv : T 20\n",
      "all_csv/250668.csv : ODI\n",
      "all_csv/749553.csv : ODI\n",
      "all_csv/300444.csv : Test\n",
      "all_csv/664295.csv : T 20\n",
      "all_csv/433603.csv : ODI\n",
      "all_csv/1144503.csv : ODI\n",
      "all_csv/710307.csv : ODI\n",
      "all_csv/533272.csv : T 20\n",
      "all_csv/1175363.csv : T 20\n",
      "all_csv/1023631.csv : T 20\n",
      "all_csv/419120.csv : T 20\n",
      "all_csv/536931.csv : ODI\n",
      "all_csv/456992.csv : T 20\n",
      "all_csv/742613.csv : Test\n",
      "all_csv/1059711.csv : ODI\n",
      "all_csv/657641.csv : ODI\n",
      "all_csv/569243.csv : Test\n",
      "all_csv/868729.csv : ODI\n",
      "all_csv/433594.csv : ODI\n",
      "all_csv/576412.csv : In Doubt\n",
      "all_csv/415277.csv : ODI\n",
      "all_csv/750667.csv : ODI\n",
      "all_csv/661695.csv : T 20\n",
      "all_csv/1144491.csv : ODI\n",
      "all_csv/902645.csv : ODI\n",
      "all_csv/881751.csv : T 20\n",
      "all_csv/1023633.csv : T 20\n",
      "all_csv/247504.csv : ODI\n",
      "all_csv/884347.csv : T 20\n",
      "all_csv/952195.csv : Test\n",
      "all_csv/524944.csv : T 20\n",
      "all_csv/932861.csv : T 20\n",
      "all_csv/433591.csv : ODI\n",
      "all_csv/654081.csv : T 20\n",
      "all_csv/406189.csv : Test\n",
      "all_csv/419124.csv : T 20\n",
      "all_csv/300438.csv : ODI\n",
      "all_csv/503364.csv : ODI\n",
      "all_csv/829711.csv : T 20\n",
      "all_csv/756775.csv : T 20\n",
      "all_csv/518964.csv : ODI\n",
      "all_csv/913419.csv : ODI\n",
      "all_csv/1089183.csv : ODI\n",
      "all_csv/247492.csv : ODI\n",
      "all_csv/973773.csv : ODI\n",
      "all_csv/1023585.csv : T 20\n",
      "all_csv/548359.csv : T 20\n",
      "all_csv/1023581.csv : T 20\n",
      "all_csv/668957.csv : ODI\n",
      "all_csv/247502.csv : ODI\n",
      "all_csv/1168120.csv : Test\n",
      "all_csv/571242.csv : T 20\n",
      "all_csv/980975.csv : T 20\n",
      "all_csv/335358.csv : ODI\n",
      "all_csv/392232.csv : T 20\n",
      "all_csv/392190.csv : In Doubt\n",
      "all_csv/635653.csv : ODI\n",
      "all_csv/463145.csv : ODI\n",
      "all_csv/463141.csv : T 20\n",
      "all_csv/336003.csv : T 20\n",
      "all_csv/897753.csv : T 20\n",
      "all_csv/361656.csv : T 20\n",
      "all_csv/682971.csv : T 20\n",
      "all_csv/682913.csv : T 20\n",
      "all_csv/631138.csv : ODI\n",
      "all_csv/915781.csv : ODI\n",
      "all_csv/875505.csv : T 20\n",
      "all_csv/426418.csv : T 20\n",
      "all_csv/727921.csv : ODI\n",
      "all_csv/980943.csv : T 20\n",
      "all_csv/584547.csv : ODI\n",
      "all_csv/1178394.csv : T 20\n",
      "all_csv/225251.csv : ODI\n",
      "all_csv/439148.csv : ODI\n",
      "all_csv/592400.csv : Test\n",
      "all_csv/829791.csv : T 20\n",
      "all_csv/446967.csv : ODI\n",
      "all_csv/749569.csv : ODI\n",
      "all_csv/520600.csv : ODI\n",
      "all_csv/571258.csv : T 20\n",
      "all_csv/636537.csv : T 20\n",
      "all_csv/298795.csv : T 20\n",
      "all_csv/249749.csv : In Doubt\n",
      "all_csv/598015.csv : T 20\n",
      "all_csv/433605.csv : ODI\n",
      "all_csv/875495.csv : T 20\n",
      "all_csv/335988.csv : T 20\n",
      "all_csv/722335.csv : T 20\n",
      "all_csv/1068737.csv : ODI\n",
      "all_csv/296910.csv : Test\n",
      "all_csv/392202.csv : T 20\n",
      "all_csv/403380.csv : ODI\n",
      "all_csv/426720.csv : ODI\n",
      "all_csv/1083447.csv : ODI\n",
      "all_csv/1058153.csv : T 20\n",
      "all_csv/1098210.csv : ODI\n",
      "all_csv/598009.csv : T 20\n",
      "all_csv/803797.csv : ODI\n",
      "all_csv/392189.csv : T 20\n",
      "all_csv/527683.csv : T 20\n",
      "all_csv/645645.csv : T 20\n",
      "all_csv/660233.csv : T 20\n",
      "all_csv/858495.csv : Test\n",
      "all_csv/267712.csv : In Doubt\n",
      "all_csv/1082618.csv : T 20\n",
      "all_csv/578616.csv : ODI\n",
      "all_csv/1152563.csv : T 20\n",
      "all_csv/247469.csv : ODI\n",
      "all_csv/433601.csv : ODI\n",
      "all_csv/660209.csv : T 20\n",
      "all_csv/415282.csv : ODI\n",
      "all_csv/543882.csv : ODI\n",
      "all_csv/567359.csv : ODI\n",
      "all_csv/936127.csv : In Doubt\n",
      "all_csv/247466.csv : ODI\n",
      "all_csv/1136600.csv : T 20\n",
      "all_csv/392181.csv : T 20\n",
      "all_csv/682961.csv : T 20\n",
      "all_csv/664293.csv : T 20\n",
      "all_csv/1029823.csv : ODI\n",
      "all_csv/1144522.csv : ODI\n",
      "all_csv/1178424.csv : T 20\n",
      "all_csv/533301.csv : T 20\n",
      "all_csv/251492.csv : ODI\n",
      "all_csv/238198.csv : ODI\n",
      "all_csv/598012.csv : T 20\n",
      "all_csv/936155.csv : T 20\n",
      "all_csv/1073407.csv : ODI\n",
      "all_csv/249233.csv : ODI\n",
      "all_csv/463153.csv : ODI\n",
      "all_csv/597998.csv : T 20\n",
      "all_csv/643665.csv : ODI\n",
      "all_csv/401071.csv : Test\n",
      "all_csv/754753.csv : ODI\n",
      "all_csv/548369.csv : T 20\n",
      "all_csv/548306.csv : T 20\n",
      "all_csv/1114878.csv : T 20\n",
      "all_csv/777991.csv : T 20\n",
      "all_csv/760789.csv : ODI\n",
      "all_csv/249748.csv : ODI\n",
      "all_csv/566926.csv : T 20\n",
      "all_csv/734047.csv : T 20\n",
      "all_csv/392239.csv : T 20\n",
      "all_csv/247500.csv : ODI\n",
      "all_csv/1040489.csv : T 20\n",
      "all_csv/434260.csv : ODI\n",
      "all_csv/410341.csv : ODI\n",
      "all_csv/598026.csv : T 20\n",
      "all_csv/915783.csv : T 20\n",
      "all_csv/287870.csv : T 20\n",
      "all_csv/756751.csv : T 20\n",
      "all_csv/225247.csv : ODI\n",
      "all_csv/1023595.csv : T 20\n",
      "all_csv/319135.csv : ODI\n",
      "all_csv/1089523.csv : ODI\n",
      "all_csv/514034.csv : Test\n",
      "all_csv/1144490.csv : ODI\n",
      "all_csv/897721.csv : T 20\n",
      "all_csv/419133.csv : T 20\n",
      "all_csv/1152520.csv : T 20\n",
      "all_csv/1089420.csv : ODI\n",
      "all_csv/1023619.csv : T 20\n",
      "all_csv/352674.csv : T 20\n",
      "all_csv/452153.csv : T 20\n",
      "all_csv/734003.csv : T 20\n",
      "all_csv/249239.csv : In Doubt\n",
      "all_csv/660137.csv : T 20\n",
      "all_csv/660217.csv : T 20\n",
      "all_csv/566938.csv : T 20\n",
      "all_csv/682995.csv : T 20\n",
      "all_csv/897697.csv : T 20\n",
      "all_csv/1023593.csv : T 20\n",
      "all_csv/778029.csv : T 20\n",
      "all_csv/940413.csv : T 20\n",
      "all_csv/659551.csv : ODI\n",
      "all_csv/412684.csv : T 20\n",
      "all_csv/648653.csv : ODI\n",
      "all_csv/730297.csv : Test\n",
      "all_csv/542856.csv : ODI\n",
      "all_csv/734033.csv : T 20\n",
      "all_csv/584929.csv : T 20\n",
      "all_csv/743971.csv : Test\n",
      "all_csv/1152549.csv : T 20\n",
      "all_csv/829769.csv : T 20\n",
      "all_csv/644945.csv : ODI\n",
      "all_csv/287854.csv : T 20\n",
      "all_csv/636162.csv : ODI\n",
      "all_csv/473029.csv : ODI\n",
      "all_csv/1023639.csv : T 20\n",
      "all_csv/654099.csv : T 20\n",
      "all_csv/351687.csv : ODI\n",
      "all_csv/433579.csv : ODI\n",
      "all_csv/256608.csv : ODI\n",
      "all_csv/296911.csv : Test\n",
      "all_csv/239916.csv : ODI\n",
      "all_csv/392615.csv : T 20\n",
      "all_csv/1019995.csv : Test\n",
      "all_csv/660147.csv : T 20\n",
      "all_csv/660219.csv : T 20\n",
      "all_csv/336009.csv : T 20\n",
      "all_csv/1152535.csv : T 20\n",
      "all_csv/1136602.csv : T 20\n",
      "all_csv/660151.csv : T 20\n",
      "all_csv/406207.csv : T 20\n",
      "all_csv/885965.csv : ODI\n",
      "all_csv/392236.csv : T 20\n",
      "all_csv/749551.csv : ODI\n",
      "all_csv/518967.csv : ODI\n",
      "all_csv/734043.csv : T 20\n",
      "all_csv/361531.csv : T 20\n",
      "all_csv/392227.csv : T 20\n",
      "all_csv/951341.csv : T 20\n",
      "all_csv/860271.csv : ODI\n",
      "all_csv/1104481.csv : ODI\n",
      "all_csv/656441.csv : ODI\n",
      "all_csv/426431.csv : ODI\n",
      "all_csv/548333.csv : T 20\n",
      "all_csv/919605.csv : T 20\n",
      "all_csv/501201.csv : T 20\n",
      "all_csv/476947.csv : T 20\n",
      "all_csv/392219.csv : T 20\n",
      "all_csv/419158.csv : T 20\n",
      "all_csv/656461.csv : ODI\n",
      "all_csv/682903.csv : T 20\n",
      "all_csv/1168018.csv : ODI\n",
      "all_csv/722337.csv : T 20\n",
      "all_csv/598058.csv : T 20\n",
      "all_csv/811125.csv : T 20\n",
      "all_csv/356003.csv : T 20\n",
      "all_csv/426413.csv : Test\n",
      "all_csv/1082636.csv : T 20\n",
      "all_csv/249213.csv : ODI\n",
      "all_csv/702143.csv : T 20\n",
      "all_csv/951369.csv : T 20\n",
      "all_csv/238190.csv : ODI\n",
      "all_csv/667643.csv : ODI\n",
      "all_csv/1077947.csv : T 20\n",
      "all_csv/1136620.csv : T 20\n",
      "all_csv/392238.csv : T 20\n",
      "all_csv/259391.csv : ODI\n",
      "all_csv/530428.csv : ODI\n",
      "all_csv/569237.csv : T 20\n",
      "all_csv/423795.csv : ODI\n",
      "all_csv/287853.csv : T 20\n",
      "all_csv/419157.csv : T 20\n",
      "all_csv/981001.csv : T 20\n",
      "all_csv/578625.csv : ODI\n",
      "all_csv/936135.csv : ODI\n",
      "all_csv/1059702.csv : Test\n",
      "all_csv/754793.csv : T 20\n",
      "all_csv/352661.csv : Test\n",
      "all_csv/870733.csv : ODI\n",
      "all_csv/501229.csv : T 20\n",
      "all_csv/702141.csv : T 20\n",
      "all_csv/668517.csv : T 20\n",
      "all_csv/546462.csv : T 20\n",
      "all_csv/1114892.csv : T 20\n",
      "all_csv/514026.csv : ODI\n",
      "all_csv/594904.csv : ODI\n",
      "all_csv/1168521.csv : T 20\n",
      "all_csv/1178407.csv : T 20\n",
      "all_csv/829801.csv : T 20\n",
      "all_csv/439140.csv : ODI\n",
      "all_csv/343762.csv : ODI\n",
      "all_csv/1089524.csv : ODI\n",
      "all_csv/598010.csv : T 20\n",
      "all_csv/573019.csv : T 20\n",
      "all_csv/289108.csv : ODI\n",
      "all_csv/351692.csv : ODI\n",
      "all_csv/352664.csv : Test\n",
      "all_csv/902649.csv : T 20\n",
      "all_csv/722665.csv : In Doubt\n",
      "all_csv/501214.csv : T 20\n",
      "all_csv/524918.csv : T 20\n",
      "all_csv/434256.csv : Test\n",
      "all_csv/419163.csv : T 20\n",
      "all_csv/903609.csv : Test\n",
      "all_csv/535997.csv : Test\n",
      "all_csv/345972.csv : Test\n",
      "all_csv/623571.csv : T 20\n",
      "all_csv/682975.csv : T 20\n"
     ]
    },
    {
     "name": "stdout",
     "output_type": "stream",
     "text": [
      "all_csv/660837.csv : ODI\n",
      "all_csv/656473.csv : ODI\n",
      "all_csv/514036.csv : ODI\n",
      "all_csv/456666.csv : ODI\n",
      "all_csv/291372.csv : ODI\n",
      "all_csv/749787.csv : ODI\n",
      "all_csv/1178404.csv : T 20\n",
      "all_csv/778003.csv : T 20\n",
      "all_csv/571266.csv : T 20\n",
      "all_csv/287858.csv : T 20\n",
      "all_csv/426429.csv : ODI\n",
      "all_csv/258467.csv : ODI\n",
      "all_csv/489219.csv : Test\n",
      "all_csv/538068.csv : T 20\n",
      "all_csv/1023583.csv : T 20\n",
      "all_csv/1082648.csv : T 20\n",
      "all_csv/1040493.csv : ODI\n",
      "all_csv/1082617.csv : T 20\n",
      "all_csv/343731.csv : Test\n",
      "all_csv/1027315.csv : ODI\n",
      "all_csv/656425.csv : In Doubt\n",
      "all_csv/736503.csv : ODI\n",
      "all_csv/736063.csv : T 20\n",
      "all_csv/535794.csv : ODI\n",
      "all_csv/875459.csv : T 20\n",
      "all_csv/336019.csv : T 20\n",
      "all_csv/291362.csv : ODI\n",
      "all_csv/951419.csv : T 20\n",
      "all_csv/812787.csv : ODI\n",
      "all_csv/419160.csv : T 20\n",
      "all_csv/1062501.csv : ODI\n",
      "all_csv/1152565.csv : T 20\n",
      "all_csv/602477.csv : T 20\n",
      "all_csv/930577.csv : T 20\n",
      "all_csv/249229.csv : ODI\n",
      "all_csv/387571.csv : Test\n",
      "all_csv/1144505.csv : ODI\n",
      "all_csv/249750.csv : ODI\n",
      "all_csv/1023611.csv : T 20\n",
      "all_csv/598045.csv : T 20\n",
      "all_csv/1114862.csv : T 20\n",
      "all_csv/336034.csv : T 20\n",
      "all_csv/439505.csv : T 20\n",
      "all_csv/657635.csv : T 20\n",
      "all_csv/778001.csv : T 20\n",
      "all_csv/249230.csv : ODI\n",
      "all_csv/1004285.csv : ODI\n",
      "all_csv/1178423.csv : T 20\n",
      "all_csv/785961.csv : ODI\n",
      "all_csv/473928.csv : ODI\n",
      "all_csv/1144514.csv : ODI\n",
      "all_csv/875531.csv : T 20\n",
      "all_csv/1136612.csv : T 20\n",
      "all_csv/249753.csv : ODI\n",
      "all_csv/345470.csv : ODI\n",
      "all_csv/350345.csv : Test\n",
      "all_csv/958417.csv : T 20\n",
      "all_csv/1114869.csv : T 20\n",
      "all_csv/548368.csv : T 20\n",
      "all_csv/1178419.csv : T 20\n",
      "all_csv/361043.csv : ODI\n",
      "all_csv/251487.csv : T 20\n",
      "all_csv/578620.csv : ODI\n",
      "all_csv/565817.csv : Test\n",
      "all_csv/566944.csv : ODI\n",
      "all_csv/576405.csv : ODI\n",
      "all_csv/811127.csv : T 20\n",
      "all_csv/598061.csv : T 20\n",
      "all_csv/722341.csv : ODI\n",
      "all_csv/1078659.csv : ODI\n",
      "all_csv/995457.csv : ODI\n",
      "all_csv/518951.csv : Test\n",
      "all_csv/951335.csv : T 20\n",
      "all_csv/598000.csv : T 20\n",
      "all_csv/239911.csv : ODI\n",
      "all_csv/1034825.csv : T 20\n",
      "all_csv/754717.csv : T 20\n",
      "all_csv/538069.csv : ODI\n",
      "all_csv/603241.csv : ODI\n",
      "all_csv/829813.csv : T 20\n",
      "all_csv/361530.csv : T 20\n",
      "all_csv/533283.csv : T 20\n",
      "all_csv/1089521.csv : ODI\n",
      "all_csv/247473.csv : ODI\n",
      "all_csv/902647.csv : ODI\n",
      "all_csv/754737.csv : Test\n",
      "all_csv/682989.csv : T 20\n",
      "all_csv/548308.csv : T 20\n",
      "all_csv/756741.csv : T 20\n",
      "all_csv/419153.csv : T 20\n",
      "all_csv/426723.csv : T 20\n",
      "all_csv/533276.csv : T 20\n",
      "all_csv/1007649.csv : ODI\n",
      "all_csv/1152546.csv : T 20\n",
      "all_csv/729315.csv : In Doubt\n",
      "all_csv/1178429.csv : T 20\n",
      "all_csv/656487.csv : ODI\n",
      "all_csv/1136588.csv : T 20\n",
      "all_csv/602472.csv : Test\n",
      "all_csv/562441.csv : T 20\n",
      "all_csv/523731.csv : Test\n",
      "all_csv/966753.csv : T 20\n",
      "all_csv/323949.csv : ODI\n",
      "all_csv/419150.csv : T 20\n",
      "all_csv/335984.csv : T 20\n",
      "all_csv/733981.csv : T 20\n",
      "all_csv/524934.csv : T 20\n",
      "all_csv/406192.csv : ODI\n",
      "all_csv/1020033.csv : ODI\n",
      "all_csv/1152561.csv : T 20\n",
      "all_csv/335986.csv : T 20\n",
      "all_csv/249212.csv : ODI\n",
      "all_csv/980961.csv : T 20\n",
      "all_csv/501252.csv : T 20\n",
      "all_csv/856121.csv : T 20\n",
      "all_csv/661691.csv : ODI\n",
      "all_csv/336026.csv : T 20\n",
      "all_csv/1085954.csv : ODI\n",
      "all_csv/1063553.csv : T 20\n",
      "all_csv/419162.csv : T 20\n",
      "all_csv/576406.csv : ODI\n",
      "all_csv/1085970.csv : ODI\n",
      "all_csv/567205.csv : T 20\n",
      "all_csv/875457.csv : T 20\n",
      "all_csv/980917.csv : T 20\n",
      "all_csv/602475.csv : T 20\n",
      "all_csv/643669.csv : ODI\n",
      "all_csv/578617.csv : ODI\n",
      "all_csv/543881.csv : ODI\n",
      "all_csv/225252.csv : ODI\n",
      "all_csv/1136568.csv : T 20\n",
      "all_csv/566933.csv : Test\n",
      "all_csv/501255.csv : T 20\n",
      "all_csv/730287.csv : ODI\n",
      "all_csv/439150.csv : ODI\n",
      "all_csv/289107.csv : ODI\n",
      "all_csv/872481.csv : ODI\n",
      "all_csv/1068732.csv : ODI\n",
      "all_csv/666047.csv : T 20\n",
      "all_csv/335987.csv : T 20\n",
      "all_csv/1168017.csv : ODI\n",
      "all_csv/1152564.csv : T 20\n",
      "all_csv/660207.csv : T 20\n",
      "all_csv/467887.csv : ODI\n",
      "all_csv/335982.csv : T 20\n",
      "all_csv/744681.csv : In Doubt\n",
      "all_csv/534228.csv : T 20\n",
      "all_csv/756791.csv : T 20\n",
      "all_csv/875463.csv : T 20\n",
      "all_csv/1136566.csv : T 20\n",
      "all_csv/666039.csv : ODI\n",
      "all_csv/287860.csv : T 20\n",
      "all_csv/456669.csv : Test\n",
      "all_csv/1114895.csv : T 20\n",
      "all_csv/335993.csv : T 20\n",
      "all_csv/1189744.csv : T 20\n",
      "all_csv/980957.csv : T 20\n",
      "all_csv/426403.csv : ODI\n",
      "all_csv/649087.csv : Test\n",
      "all_csv/1082601.csv : T 20\n",
      "all_csv/1144521.csv : ODI\n",
      "all_csv/375460.csv : ODI\n",
      "all_csv/352666.csv : ODI\n",
      "all_csv/829735.csv : T 20\n",
      "all_csv/573027.csv : T 20\n",
      "all_csv/520596.csv : T 20\n",
      "all_csv/785967.csv : ODI\n",
      "all_csv/356009.csv : T 20\n",
      "all_csv/1114866.csv : T 20\n",
      "all_csv/533287.csv : T 20\n",
      "all_csv/571145.csv : ODI\n",
      "all_csv/501221.csv : T 20\n",
      "all_csv/419119.csv : T 20\n",
      "all_csv/571237.csv : T 20\n",
      "all_csv/1004251.csv : Test\n",
      "all_csv/734045.csv : T 20\n",
      "all_csv/433588.csv : ODI\n",
      "all_csv/567372.csv : ODI\n",
      "all_csv/666043.csv : ODI\n",
      "all_csv/654071.csv : T 20\n",
      "all_csv/883343.csv : T 20\n",
      "all_csv/743953.csv : T 20\n",
      "all_csv/660223.csv : T 20\n",
      "all_csv/501258.csv : T 20\n",
      "all_csv/524928.csv : T 20\n",
      "all_csv/902651.csv : T 20\n",
      "all_csv/524927.csv : T 20\n",
      "all_csv/1022347.csv : ODI\n",
      "all_csv/636533.csv : ODI\n",
      "all_csv/433602.csv : ODI\n",
      "all_csv/756037.csv : ODI\n",
      "all_csv/953335.csv : ODI\n",
      "all_csv/225246.csv : ODI\n",
      "all_csv/693437.csv : T 20\n",
      "all_csv/392216.csv : T 20\n",
      "all_csv/875461.csv : T 20\n",
      "all_csv/249739.csv : ODI\n",
      "all_csv/914227.csv : ODI\n",
      "all_csv/897763.csv : T 20\n",
      "all_csv/1136569.csv : T 20\n",
      "all_csv/319136.csv : ODI\n",
      "all_csv/733979.csv : T 20\n",
      "all_csv/566937.csv : T 20\n",
      "all_csv/576411.csv : ODI\n",
      "all_csv/535798.csv : ODI\n",
      "all_csv/375457.csv : ODI\n",
      "all_csv/1144502.csv : ODI\n",
      "all_csv/299009.csv : ODI\n",
      "all_csv/356001.csv : T 20\n",
      "all_csv/1078661.csv : ODI\n",
      "all_csv/501251.csv : T 20\n",
      "all_csv/546470.csv : T 20\n",
      "all_csv/932849.csv : ODI\n",
      "all_csv/467886.csv : ODI\n",
      "all_csv/433561.csv : ODI\n",
      "all_csv/366708.csv : T 20\n",
      "all_csv/667651.csv : Test\n",
      "all_csv/660105.csv : T 20\n",
      "all_csv/722677.csv : ODI\n",
      "all_csv/1144525.csv : ODI\n",
      "all_csv/297802.csv : ODI\n",
      "all_csv/538071.csv : ODI\n",
      "all_csv/951375.csv : T 20\n",
      "all_csv/1178398.csv : T 20\n",
      "all_csv/247464.csv : ODI\n",
      "all_csv/1051297.csv : ODI\n",
      "all_csv/742611.csv : Test\n",
      "all_csv/548354.csv : T 20\n",
      "all_csv/433564.csv : ODI\n",
      "all_csv/464533.csv : Test\n",
      "all_csv/423786.csv : Test\n",
      "all_csv/527015.csv : ODI\n",
      "all_csv/501243.csv : T 20\n",
      "all_csv/1023597.csv : T 20\n",
      "all_csv/225171.csv : In Doubt\n",
      "all_csv/1144510.csv : ODI\n",
      "all_csv/264069.csv : ODI\n",
      "all_csv/980997.csv : T 20\n",
      "all_csv/573024.csv : ODI\n",
      "all_csv/696759.csv : ODI\n",
      "all_csv/644941.csv : T 20\n",
      "all_csv/766933.csv : Test\n",
      "all_csv/392235.csv : T 20\n",
      "all_csv/951411.csv : T 20\n",
      "all_csv/644943.csv : ODI\n",
      "all_csv/464987.csv : Test\n",
      "all_csv/734011.csv : T 20\n",
      "all_csv/467095.csv : ODI\n",
      "all_csv/1050625.csv : ODI\n",
      "all_csv/474479.csv : ODI\n",
      "all_csv/756735.csv : T 20\n",
      "all_csv/238197.csv : ODI\n",
      "all_csv/1178413.csv : T 20\n",
      "all_csv/656413.csv : ODI\n",
      "all_csv/736443.csv : ODI\n",
      "all_csv/598053.csv : T 20\n",
      "all_csv/953105.csv : T 20\n",
      "all_csv/403372.csv : ODI\n",
      "all_csv/251495.csv : ODI\n",
      "all_csv/524923.csv : T 20\n",
      "all_csv/237568.csv : ODI\n",
      "all_csv/593722.csv : Test\n",
      "all_csv/565814.csv : ODI\n",
      "all_csv/255961.csv : ODI\n",
      "all_csv/907385.csv : T 20\n",
      "all_csv/883345.csv : T 20\n",
      "all_csv/412691.csv : T 20\n",
      "all_csv/734035.csv : T 20\n",
      "all_csv/829821.csv : T 20\n",
      "all_csv/1181764.csv : T 20\n",
      "all_csv/293072.csv : ODI\n",
      "all_csv/749793.csv : ODI\n",
      "all_csv/403383.csv : ODI\n",
      "all_csv/828247.csv : T 20\n",
      "all_csv/654097.csv : T 20\n",
      "all_csv/597926.csv : ODI\n",
      "all_csv/1082631.csv : T 20\n",
      "all_csv/656431.csv : ODI\n",
      "all_csv/682901.csv : T 20\n",
      "all_csv/1050225.csv : ODI\n",
      "all_csv/392214.csv : T 20\n",
      "all_csv/476600.csv : ODI\n",
      "all_csv/683003.csv : T 20\n",
      "all_csv/540169.csv : ODI\n",
      "all_csv/1114891.csv : T 20\n",
      "all_csv/548328.csv : T 20\n",
      "all_csv/439499.csv : T 20\n",
      "all_csv/682985.csv : T 20\n",
      "all_csv/1144527.csv : ODI\n",
      "all_csv/476596.csv : ODI\n",
      "all_csv/798619.csv : T 20\n",
      "all_csv/995469.csv : T 20\n",
      "all_csv/555892.csv : ODI\n",
      "all_csv/598073.csv : T 20\n",
      "all_csv/566940.csv : ODI\n",
      "all_csv/434264.csv : ODI\n",
      "all_csv/441825.csv : Test\n",
      "all_csv/565818.csv : Test\n",
      "all_csv/1007659.csv : T 20\n",
      "all_csv/648655.csv : ODI\n",
      "all_csv/546418.csv : T 20\n",
      "all_csv/1082616.csv : T 20\n",
      "all_csv/403371.csv : ODI\n",
      "all_csv/936133.csv : ODI\n",
      "all_csv/903603.csv : Test\n",
      "all_csv/518953.csv : Test\n",
      "all_csv/571146.csv : ODI\n",
      "all_csv/439511.csv : T 20\n",
      "all_csv/296917.csv : ODI\n",
      "all_csv/1085953.csv : ODI\n",
      "all_csv/594914.csv : ODI\n",
      "all_csv/388993.csv : Test\n",
      "all_csv/995461.csv : ODI\n",
      "all_csv/1085956.csv : In Doubt\n",
      "all_csv/345468.csv : ODI\n",
      "all_csv/489214.csv : ODI\n",
      "all_csv/345669.csv : Test\n",
      "all_csv/913645.csv : Test\n"
     ]
    },
    {
     "name": "stdout",
     "output_type": "stream",
     "text": [
      "all_csv/247457.csv : ODI\n",
      "all_csv/1082647.csv : T 20\n",
      "all_csv/387572.csv : Test\n",
      "all_csv/760791.csv : ODI\n",
      "all_csv/356014.csv : T 20\n",
      "all_csv/903605.csv : In Doubt\n",
      "all_csv/1178410.csv : T 20\n",
      "all_csv/1178421.csv : T 20\n",
      "all_csv/667645.csv : ODI\n",
      "all_csv/392205.csv : T 20\n",
      "all_csv/433563.csv : ODI\n",
      "all_csv/736507.csv : ODI\n",
      "all_csv/734017.csv : T 20\n",
      "all_csv/419140.csv : T 20\n",
      "all_csv/426416.csv : Test\n",
      "all_csv/473926.csv : ODI\n",
      "all_csv/656495.csv : ODI\n",
      "all_csv/392221.csv : T 20\n",
      "all_csv/1082640.csv : T 20\n",
      "all_csv/264068.csv : ODI\n",
      "all_csv/520591.csv : Test\n",
      "all_csv/403378.csv : Test\n",
      "all_csv/1181768.csv : T 20\n",
      "all_csv/710297.csv : ODI\n",
      "all_csv/582190.csv : ODI\n",
      "all_csv/829753.csv : T 20\n",
      "all_csv/474466.csv : T 20\n",
      "all_csv/682955.csv : T 20\n",
      "all_csv/734001.csv : T 20\n",
      "all_csv/463142.csv : T 20\n",
      "all_csv/919615.csv : ODI\n",
      "all_csv/540177.csv : Test\n",
      "all_csv/756769.csv : T 20\n",
      "all_csv/291370.csv : ODI\n",
      "all_csv/1043991.csv : T 20\n",
      "all_csv/953343.csv : ODI\n",
      "all_csv/356002.csv : T 20\n",
      "all_csv/569240.csv : ODI\n",
      "all_csv/1152511.csv : T 20\n",
      "all_csv/829749.csv : T 20\n",
      "all_csv/962017.csv : ODI\n",
      "all_csv/226378.csv : ODI\n",
      "all_csv/533290.csv : T 20\n",
      "all_csv/885969.csv : T 20\n",
      "all_csv/733975.csv : T 20\n",
      "all_csv/1082592.csv : T 20\n",
      "all_csv/654061.csv : T 20\n",
      "all_csv/951309.csv : T 20\n",
      "all_csv/730285.csv : T 20\n",
      "all_csv/366624.csv : ODI\n",
      "all_csv/979827.csv : ODI\n",
      "all_csv/757505.csv : ODI\n",
      "all_csv/238177.csv : ODI\n",
      "all_csv/598004.csv : In Doubt\n",
      "all_csv/548355.csv : T 20\n",
      "all_csv/1114858.csv : T 20\n",
      "all_csv/501268.csv : T 20\n",
      "all_csv/980959.csv : T 20\n",
      "all_csv/406190.csv : Test\n",
      "all_csv/423778.csv : Test\n",
      "all_csv/573014.csv : ODI\n",
      "all_csv/750663.csv : ODI\n",
      "all_csv/656455.csv : ODI\n",
      "all_csv/951343.csv : T 20\n",
      "all_csv/754723.csv : ODI\n",
      "all_csv/489217.csv : ODI\n",
      "all_csv/247465.csv : ODI\n",
      "all_csv/1079246.csv : ODI\n",
      "all_csv/287867.csv : T 20\n",
      "Something Went Wrong!!!\n",
      "all_csv/291361.csv : ODI\n",
      "all_csv/1136575.csv : T 20\n",
      "all_csv/756755.csv : T 20\n",
      "all_csv/598030.csv : T 20\n",
      "all_csv/518955.csv : T 20\n",
      "all_csv/1026849.csv : ODI\n",
      "all_csv/456670.csv : Test\n",
      "all_csv/1074969.csv : T 20\n",
      "all_csv/531632.csv : ODI\n",
      "all_csv/660155.csv : T 20\n",
      "all_csv/571232.csv : T 20\n",
      "all_csv/244511.csv : ODI\n",
      "all_csv/1062511.csv : ODI\n",
      "all_csv/858491.csv : T 20\n",
      "all_csv/966735.csv : T 20\n",
      "all_csv/247507.csv : ODI\n",
      "all_csv/1004277.csv : Test\n",
      "all_csv/489221.csv : ODI\n",
      "all_csv/350475.csv : T 20\n",
      "all_csv/829763.csv : T 20\n",
      "all_csv/722331.csv : In Doubt\n",
      "all_csv/913451.csv : ODI\n",
      "all_csv/640947.csv : T 20\n",
      "all_csv/548343.csv : T 20\n",
      "all_csv/1089202.csv : T 20\n",
      "all_csv/366626.csv : In Doubt\n",
      "all_csv/598019.csv : T 20\n",
      "all_csv/247478.csv : ODI\n",
      "all_csv/1144504.csv : ODI\n",
      "all_csv/628093.csv : ODI\n",
      "all_csv/1019977.csv : ODI\n",
      "all_csv/423792.csv : ODI\n",
      "all_csv/534208.csv : T 20\n",
      "all_csv/1136576.csv : T 20\n",
      "all_csv/1079248.csv : ODI\n",
      "all_csv/579751.csv : ODI\n",
      "all_csv/1083446.csv : ODI\n",
      "all_csv/1004269.csv : ODI\n",
      "all_csv/1029001.csv : ODI\n",
      "all_csv/756787.csv : T 20\n",
      "all_csv/355996.csv : T 20\n",
      "all_csv/660225.csv : T 20\n",
      "all_csv/875501.csv : T 20\n",
      "all_csv/238193.csv : ODI\n",
      "all_csv/345970.csv : Test\n",
      "all_csv/524943.csv : T 20\n",
      "all_csv/1022367.csv : ODI\n",
      "all_csv/406193.csv : ODI\n",
      "all_csv/350044.csv : ODI\n",
      "all_csv/660153.csv : T 20\n",
      "all_csv/1062575.csv : Test\n",
      "all_csv/455237.csv : ODI\n",
      "all_csv/1185192.csv : T 20\n",
      "all_csv/426414.csv : Test\n",
      "all_csv/392616.csv : ODI\n",
      "all_csv/598042.csv : T 20\n",
      "all_csv/534232.csv : ODI\n",
      "all_csv/256614.csv : ODI\n",
      "all_csv/1192223.csv : T 20\n",
      "all_csv/530424.csv : Test\n",
      "all_csv/667899.csv : Test\n",
      "all_csv/536932.csv : ODI\n",
      "all_csv/419159.csv : T 20\n",
      "all_csv/1136606.csv : T 20\n",
      "all_csv/566946.csv : ODI\n",
      "all_csv/1077954.csv : Test\n",
      "all_csv/913421.csv : ODI\n",
      "all_csv/433578.csv : ODI\n",
      "all_csv/548362.csv : T 20\n",
      "all_csv/533296.csv : T 20\n",
      "all_csv/817203.csv : T 20\n",
      "all_csv/829795.csv : T 20\n",
      "all_csv/1034827.csv : T 20\n",
      "all_csv/743949.csv : ODI\n",
      "all_csv/1050627.csv : ODI\n",
      "all_csv/433568.csv : ODI\n",
      "all_csv/668515.csv : T 20\n",
      "all_csv/535799.csv : ODI\n",
      "all_csv/401072.csv : Test\n",
      "all_csv/881723.csv : T 20\n",
      "all_csv/336202.csv : ODI\n",
      "all_csv/1185188.csv : T 20\n",
      "all_csv/343733.csv : ODI\n",
      "all_csv/336033.csv : T 20\n",
      "all_csv/636163.csv : ODI\n",
      "all_csv/430509.csv : ODI\n",
      "all_csv/1077953.csv : Test\n",
      "all_csv/383283.csv : ODI\n",
      "all_csv/514037.csv : ODI\n",
      "all_csv/1072206.csv : T 20\n",
      "all_csv/811117.csv : T 20\n",
      "all_csv/426422.csv : ODI\n",
      "all_csv/951307.csv : T 20\n",
      "all_csv/250669.csv : ODI\n",
      "all_csv/592266.csv : ODI\n",
      "all_csv/1152523.csv : T 20\n",
      "all_csv/392183.csv : T 20\n",
      "all_csv/875465.csv : T 20\n",
      "all_csv/598025.csv : T 20\n",
      "all_csv/829783.csv : T 20\n",
      "all_csv/560927.csv : ODI\n",
      "all_csv/1082644.csv : T 20\n",
      "all_csv/682951.csv : T 20\n",
      "all_csv/298803.csv : Test\n",
      "all_csv/743963.csv : Test\n",
      "all_csv/1033371.csv : ODI\n",
      "all_csv/1178417.csv : T 20\n",
      "all_csv/660143.csv : T 20\n",
      "all_csv/474465.csv : Test\n",
      "all_csv/419125.csv : T 20\n",
      "all_csv/1050611.csv : ODI\n",
      "all_csv/667711.csv : Test\n",
      "all_csv/423788.csv : In Doubt\n",
      "all_csv/1089528.csv : ODI\n",
      "all_csv/335353.csv : ODI\n",
      "all_csv/439152.csv : Test\n",
      "all_csv/660099.csv : T 20\n",
      "all_csv/423791.csv : ODI\n",
      "all_csv/1114875.csv : T 20\n",
      "all_csv/518956.csv : ODI\n",
      "all_csv/1059710.csv : ODI\n",
      "all_csv/361046.csv : In Doubt\n",
      "all_csv/654041.csv : T 20\n",
      "all_csv/1098206.csv : In Doubt\n",
      "all_csv/419165.csv : T 20\n",
      "all_csv/366707.csv : In Doubt\n",
      "all_csv/778011.csv : T 20\n",
      "all_csv/1168023.csv : ODI\n",
      "all_csv/264071.csv : ODI\n",
      "all_csv/1152569.csv : T 20\n",
      "all_csv/319147.csv : ODI\n",
      "all_csv/1003271.csv : ODI\n",
      "all_csv/598017.csv : In Doubt\n",
      "all_csv/1152517.csv : T 20\n",
      "all_csv/1083444.csv : Test\n",
      "all_csv/412688.csv : T 20\n",
      "all_csv/533308.csv : T 20\n",
      "all_csv/533289.csv : T 20\n",
      "all_csv/1178418.csv : T 20\n",
      "all_csv/914231.csv : ODI\n",
      "all_csv/501248.csv : T 20\n",
      "all_csv/598024.csv : T 20\n",
      "all_csv/501205.csv : T 20\n",
      "all_csv/903601.csv : ODI\n",
      "all_csv/730085.csv : ODI\n",
      "all_csv/540176.csv : Test\n",
      "all_csv/594897.csv : ODI\n",
      "all_csv/733995.csv : T 20\n",
      "all_csv/571235.csv : T 20\n",
      "all_csv/473925.csv : ODI\n",
      "all_csv/249241.csv : ODI\n",
      "all_csv/903589.csv : T 20\n",
      "all_csv/336011.csv : T 20\n",
      "all_csv/551595.csv : T 20\n",
      "all_csv/1082603.csv : T 20\n",
      "all_csv/464531.csv : Test\n",
      "all_csv/533286.csv : T 20\n",
      "all_csv/913621.csv : ODI\n",
      "all_csv/419155.csv : T 20\n",
      "all_csv/403367.csv : Test\n",
      "all_csv/514032.csv : Test\n",
      "all_csv/546473.csv : T 20\n",
      "all_csv/567071.csv : T 20\n",
      "all_csv/489227.csv : Test\n",
      "all_csv/897747.csv : T 20\n",
      "all_csv/392619.csv : ODI\n",
      "all_csv/1184258.csv : T 20\n",
      "all_csv/222678.csv : T 20\n",
      "all_csv/1104479.csv : ODI\n",
      "all_csv/1168519.csv : ODI\n",
      "all_csv/1020041.csv : Test\n",
      "all_csv/1085972.csv : ODI\n",
      "all_csv/533275.csv : T 20\n",
      "all_csv/811129.csv : T 20\n",
      "all_csv/598069.csv : T 20\n",
      "all_csv/291367.csv : ODI\n",
      "all_csv/530432.csv : T 20\n",
      "all_csv/682929.csv : T 20\n",
      "all_csv/366629.csv : Test\n",
      "all_csv/656409.csv : ODI\n",
      "all_csv/426401.csv : Test\n",
      "all_csv/239912.csv : ODI\n",
      "all_csv/548350.csv : T 20\n",
      "all_csv/258471.csv : ODI\n",
      "all_csv/1014845.csv : ODI\n",
      "all_csv/875511.csv : T 20\n",
      "all_csv/419143.csv : T 20\n",
      "all_csv/225248.csv : ODI\n",
      "all_csv/750665.csv : ODI\n",
      "all_csv/594891.csv : ODI\n",
      "all_csv/951319.csv : T 20\n",
      "all_csv/412682.csv : T 20\n",
      "all_csv/785975.csv : ODI\n",
      "all_csv/571245.csv : T 20\n",
      "all_csv/649091.csv : ODI\n",
      "all_csv/1023649.csv : T 20\n",
      "all_csv/980903.csv : T 20\n",
      "all_csv/588499.csv : T 20\n",
      "all_csv/546410.csv : T 20\n",
      "all_csv/657649.csv : Test\n",
      "all_csv/299007.csv : ODI\n",
      "all_csv/576402.csv : ODI\n",
      "all_csv/412687.csv : T 20\n",
      "all_csv/749563.csv : ODI\n",
      "all_csv/564783.csv : ODI\n",
      "all_csv/593987.csv : T 20\n",
      "all_csv/812623.csv : ODI\n",
      "all_csv/770127.csv : ODI\n",
      "all_csv/995463.csv : ODI\n",
      "all_csv/1085965.csv : ODI\n",
      "all_csv/1068739.csv : ODI\n",
      "all_csv/645647.csv : T 20\n",
      "all_csv/875517.csv : T 20\n",
      "all_csv/930569.csv : ODI\n",
      "all_csv/1089137.csv : ODI\n",
      "all_csv/628096.csv : ODI\n",
      "all_csv/392186.csv : T 20\n",
      "all_csv/647253.csv : ODI\n",
      "all_csv/936151.csv : Test\n",
      "all_csv/419117.csv : T 20\n",
      "all_csv/291347.csv : ODI\n",
      "all_csv/560926.csv : ODI\n",
      "all_csv/249742.csv : ODI\n",
      "all_csv/656445.csv : ODI\n",
      "all_csv/868725.csv : T 20\n",
      "all_csv/426424.csv : Test\n",
      "all_csv/258465.csv : ODI\n",
      "all_csv/598054.csv : T 20\n",
      "all_csv/598002.csv : T 20\n",
      "all_csv/1040487.csv : T 20\n",
      "all_csv/1001375.csv : ODI\n",
      "all_csv/754725.csv : ODI\n",
      "all_csv/1046681.csv : T 20\n",
      "all_csv/690353.csv : T 20\n",
      "all_csv/501271.csv : T 20\n",
      "all_csv/903595.csv : ODI\n",
      "all_csv/476599.csv : ODI\n",
      "all_csv/1082610.csv : T 20\n",
      "all_csv/682925.csv : T 20\n",
      "all_csv/524922.csv : T 20\n",
      "all_csv/422628.csv : ODI\n",
      "all_csv/1023641.csv : T 20\n",
      "all_csv/1152539.csv : T 20\n",
      "all_csv/335346.csv : ODI\n",
      "all_csv/501244.csv : T 20\n",
      "all_csv/520605.csv : Test\n",
      "all_csv/682939.csv : T 20\n"
     ]
    },
    {
     "name": "stdout",
     "output_type": "stream",
     "text": [
      "all_csv/225263.csv : T 20\n",
      "all_csv/540171.csv : ODI\n",
      "all_csv/247467.csv : ODI\n",
      "all_csv/587476.csv : T 20\n",
      "all_csv/902637.csv : Test\n",
      "all_csv/531984.csv : ODI\n",
      "all_csv/1178416.csv : T 20\n",
      "all_csv/953103.csv : T 20\n",
      "all_csv/1144484.csv : In Doubt\n",
      "all_csv/598052.csv : T 20\n",
      "all_csv/1144513.csv : ODI\n",
      "all_csv/1059712.csv : ODI\n",
      "all_csv/1152566.csv : T 20\n",
      "all_csv/238179.csv : ODI\n",
      "all_csv/501226.csv : T 20\n",
      "all_csv/643675.csv : ODI\n",
      "all_csv/897735.csv : T 20\n",
      "all_csv/951401.csv : T 20\n",
      "all_csv/1082593.csv : T 20\n",
      "all_csv/257769.csv : ODI\n",
      "all_csv/1007651.csv : ODI\n",
      "all_csv/756739.csv : T 20\n",
      "all_csv/628083.csv : ODI\n",
      "all_csv/777995.csv : T 20\n",
      "all_csv/293483.csv : ODI\n",
      "all_csv/875499.csv : T 20\n",
      "all_csv/441826.csv : Test\n",
      "all_csv/415276.csv : ODI\n",
      "all_csv/592398.csv : Test\n",
      "all_csv/255954.csv : T 20\n",
      "all_csv/415281.csv : In Doubt\n",
      "all_csv/592401.csv : Test\n",
      "all_csv/501210.csv : T 20\n",
      "all_csv/636535.csv : ODI\n",
      "all_csv/649095.csv : ODI\n",
      "all_csv/598023.csv : T 20\n",
      "all_csv/392234.csv : T 20\n",
      "all_csv/756753.csv : T 20\n",
      "all_csv/754795.csv : T 20\n",
      "all_csv/565813.csv : ODI\n",
      "all_csv/403374.csv : ODI\n",
      "all_csv/361044.csv : ODI\n",
      "all_csv/287863.csv : T 20\n",
      "all_csv/785969.csv : ODI\n",
      "all_csv/1082595.csv : T 20\n",
      "all_csv/325579.csv : ODI\n",
      "all_csv/1185187.csv : T 20\n",
      "all_csv/745163.csv : ODI\n",
      "all_csv/249227.csv : T 20\n",
      "all_csv/1144507.csv : ODI\n",
      "all_csv/660157.csv : T 20\n",
      "all_csv/319141.csv : Test\n",
      "all_csv/808869.csv : T 20\n",
      "all_csv/1022361.csv : ODI\n",
      "all_csv/392213.csv : T 20\n",
      "all_csv/335350.csv : ODI\n",
      "all_csv/533313.csv : T 20\n",
      "all_csv/598005.csv : T 20\n",
      "all_csv/323951.csv : ODI\n",
      "all_csv/897725.csv : T 20\n",
      "all_csv/293076.csv : ODI\n",
      "all_csv/501236.csv : T 20\n",
      "all_csv/667727.csv : ODI\n",
      "all_csv/336007.csv : T 20\n",
      "all_csv/660199.csv : T 20\n",
      "all_csv/919613.csv : ODI\n",
      "all_csv/792293.csv : ODI\n",
      "all_csv/366622.csv : T 20\n",
      "all_csv/336031.csv : T 20\n",
      "all_csv/350480.csv : ODI\n",
      "all_csv/1074957.csv : T 20\n",
      "all_csv/387573.csv : Test\n",
      "all_csv/523736.csv : T 20\n",
      "all_csv/473922.csv : Test\n",
      "all_csv/656411.csv : ODI\n",
      "all_csv/548345.csv : T 20\n",
      "all_csv/829733.csv : T 20\n",
      "all_csv/729317.csv : T 20\n",
      "all_csv/250671.csv : ODI\n",
      "all_csv/1077950.csv : ODI\n",
      "all_csv/548371.csv : T 20\n",
      "all_csv/548363.csv : T 20\n",
      "all_csv/1020035.csv : ODI\n",
      "all_csv/423387.csv : ODI\n",
      "all_csv/247505.csv : ODI\n",
      "all_csv/319133.csv : Test\n",
      "all_csv/474480.csv : ODI\n",
      "all_csv/696733.csv : ODI\n",
      "all_csv/743985.csv : ODI\n",
      "all_csv/584928.csv : T 20\n",
      "all_csv/785989.csv : ODI\n",
      "all_csv/875509.csv : T 20\n",
      "all_csv/1114865.csv : T 20\n",
      "all_csv/387563.csv : T 20\n",
      "all_csv/1023625.csv : T 20\n",
      "all_csv/914207.csv : ODI\n",
      "all_csv/1027317.csv : ODI\n",
      "all_csv/287873.csv : T 20\n",
      "all_csv/656449.csv : ODI\n",
      "all_csv/995467.csv : T 20\n",
      "all_csv/521221.csv : ODI\n",
      "all_csv/1023607.csv : T 20\n",
      "all_csv/501215.csv : T 20\n",
      "all_csv/584546.csv : ODI\n",
      "all_csv/656465.csv : ODI\n",
      "all_csv/533311.csv : T 20\n",
      "all_csv/1144485.csv : ODI\n",
      "all_csv/467883.csv : ODI\n",
      "all_csv/592269.csv : T 20\n",
      "all_csv/875475.csv : T 20\n",
      "all_csv/749791.csv : ODI\n",
      "all_csv/1178422.csv : T 20\n",
      "all_csv/1034811.csv : Test\n",
      "all_csv/1189743.csv : T 20\n",
      "all_csv/433595.csv : ODI\n",
      "all_csv/1077948.csv : T 20\n",
      "all_csv/682931.csv : T 20\n",
      "all_csv/640943.csv : T 20\n",
      "all_csv/729291.csv : T 20\n",
      "all_csv/300426.csv : ODI\n",
      "all_csv/548360.csv : T 20\n",
      "all_csv/1062510.csv : ODI\n",
      "all_csv/569239.csv : T 20\n",
      "all_csv/594901.csv : ODI\n",
      "all_csv/657631.csv : T 20\n",
      "all_csv/649093.csv : ODI\n",
      "all_csv/636534.csv : ODI\n",
      "all_csv/423789.csv : Test\n",
      "all_csv/1074965.csv : T 20\n",
      "all_csv/598032.csv : T 20\n",
      "all_csv/351694.csv : T 20\n",
      "all_csv/256615.csv : ODI\n",
      "all_csv/501246.csv : T 20\n",
      "all_csv/603240.csv : ODI\n",
      "all_csv/660197.csv : T 20\n",
      "all_csv/829777.csv : T 20\n",
      "all_csv/598014.csv : T 20\n",
      "all_csv/660215.csv : T 20\n",
      "all_csv/548337.csv : T 20\n",
      "all_csv/247503.csv : ODI\n",
      "all_csv/829773.csv : T 20\n",
      "all_csv/750669.csv : ODI\n",
      "all_csv/730279.csv : Test\n",
      "all_csv/980979.csv : T 20\n",
      "all_csv/1168025.csv : Test\n",
      "all_csv/690349.csv : Test\n",
      "all_csv/1136608.csv : T 20\n",
      "all_csv/749779.csv : Test\n",
      "all_csv/579753.csv : ODI\n",
      "all_csv/390253.csv : ODI\n",
      "all_csv/729313.csv : T 20\n",
      "all_csv/914265.csv : ODI\n",
      "all_csv/419136.csv : T 20\n",
      "all_csv/501218.csv : T 20\n",
      "all_csv/1152552.csv : T 20\n",
      "all_csv/291356.csv : T 20\n",
      "all_csv/336004.csv : T 20\n",
      "all_csv/1089777.csv : T 20\n",
      "all_csv/520602.csv : ODI\n",
      "all_csv/892513.csv : Test\n",
      "all_csv/754749.csv : ODI\n",
      "all_csv/336016.csv : T 20\n",
      "all_csv/1175364.csv : T 20\n",
      "all_csv/1050609.csv : ODI\n",
      "all_csv/1023623.csv : T 20\n",
      "all_csv/829719.csv : T 20\n",
      "all_csv/1019993.csv : Test\n",
      "all_csv/392185.csv : T 20\n",
      "all_csv/1185185.csv : T 20\n",
      "all_csv/951395.csv : T 20\n",
      "all_csv/533280.csv : T 20\n",
      "all_csv/501253.csv : T 20\n",
      "all_csv/433599.csv : ODI\n",
      "all_csv/489228.csv : Test\n",
      "all_csv/473315.csv : In Doubt\n",
      "all_csv/1023637.csv : T 20\n",
      "all_csv/592272.csv : T 20\n",
      "all_csv/486523.csv : ODI\n",
      "all_csv/1040491.csv : ODI\n",
      "all_csv/251489.csv : ODI\n",
      "all_csv/1031433.csv : T 20\n",
      "all_csv/911047.csv : Test\n",
      "all_csv/676525.csv : Test\n",
      "all_csv/236358.csv : ODI\n",
      "all_csv/520593.csv : ODI\n",
      "all_csv/829785.csv : T 20\n",
      "all_csv/247476.csv : ODI\n",
      "all_csv/520595.csv : T 20\n",
      "all_csv/1007657.csv : T 20\n",
      "all_csv/387567.csv : ODI\n",
      "all_csv/571264.csv : T 20\n",
      "all_csv/238188.csv : ODI\n",
      "all_csv/592276.csv : T 20\n",
      "all_csv/501235.csv : T 20\n"
     ]
    }
   ],
   "source": [
    "for infile in glob.glob(os.path.join(\"all_csv/\", '*.csv')):\n",
    "    try:\n",
    "        textFile = open(infile, \"r\")\n",
    "        df1 = textFile.read()\n",
    "\n",
    "        # To remove info lines from the datafile\n",
    "        for i in range(len(df1)):\n",
    "            if(df1[i] == 'b' and df1[i-1] == '\\n'):\n",
    "                break\n",
    "        st1 = \"\"\n",
    "        df3 = pd.DataFrame()\n",
    "        for j in range(i, len(df1)):\n",
    "            if(df1[j] == '\\n'):\n",
    "                df3 = df3.append([st1.split(\",\")])\n",
    "                st1 = \"\"\n",
    "            else:\n",
    "                st1 = st1 + df1[j]\n",
    "\n",
    "        # To check no. of innings in a match        \n",
    "        check_inning = len(np.unique(df3[1]))\n",
    "\n",
    "        # To check no. of overs by a bowler\n",
    "        bowls = Counter(df3[6])\n",
    "        nos = len(bowls)\n",
    "        overs = []\n",
    "        for k in range(nos):\n",
    "            overs.append(round(list(bowls.items())[k][1]/6))\n",
    "        max_over = max(overs)\n",
    "\n",
    "        # To segregate into different types of matches\n",
    "        if(df3.count()[0] <= 280 and check_inning <= 2 and max_over <= x5):\n",
    "            print(infile + \" : T 20\")\n",
    "            copy(infile, \"t20/\")\n",
    "        elif(df3.count()[0] >=280 and df3.count()[0] <= 650 and check_inning <= 2 and max_over > 4 and max_over <= 11):\n",
    "            print(infile + \" : ODI\")\n",
    "            copy(infile, \"odi/\")\n",
    "        elif(df3.count()[0] >=600 and check_inning > 2 and max_over >= 10):\n",
    "            print(infile + \" : Test\")\n",
    "            copy(infile, \"test/\")\n",
    "        else:\n",
    "            print(infile + \" : In Doubt\")\n",
    "            copy(infile, \"doubt/\")\n",
    "    except:\n",
    "        print(\"Something Went Wrong!!!\")"
   ]
  },
  {
   "cell_type": "code",
   "execution_count": 2,
   "metadata": {},
   "outputs": [
    {
     "name": "stdout",
     "output_type": "stream",
     "text": [
      "\u001b[0;30;48modi/710305.csv : Successfully Written.\n",
      "\u001b[0;30;48modi/667889.csv : Successfully Written.\n",
      "\u001b[0;30;48modi/1073420.csv : Successfully Written.\n",
      "\u001b[0;30;48modi/749547.csv : Successfully Written.\n",
      "\u001b[0;30;48modi/463154.csv : Successfully Written.\n",
      "\u001b[0;30;48modi/298798.csv : Successfully Written.\n",
      "\u001b[0;30;48modi/247484.csv : Successfully Written.\n",
      "\u001b[0;30;48modi/746101.csv : Successfully Written.\n",
      "\u001b[0;30;48modi/366341.csv : Successfully Written.\n",
      "\u001b[0;30;48modi/1085952.csv : Successfully Written.\n",
      "\u001b[0;30;48modi/754759.csv : Successfully Written.\n",
      "\u001b[0;30;48modi/736515.csv : Successfully Written.\n",
      "\u001b[0;30;48modi/749771.csv : Successfully Written.\n",
      "\u001b[0;30;48modi/953339.csv : Successfully Written.\n"
     ]
    },
    {
     "name": "stderr",
     "output_type": "stream",
     "text": [
      "/home/tprolifer/anaconda3/lib/python3.7/site-packages/pandas/core/indexing.py:1494: FutureWarning: \n",
      "Passing list-likes to .loc or [] with any missing label will raise\n",
      "KeyError in the future, you can use .reindex() as an alternative.\n",
      "\n",
      "See the documentation here:\n",
      "https://pandas.pydata.org/pandas-docs/stable/indexing.html#deprecate-loc-reindex-listlike\n",
      "  return self._getitem_tuple(key)\n"
     ]
    },
    {
     "name": "stdout",
     "output_type": "stream",
     "text": [
      "\u001b[0;30;48modi/560924.csv : Successfully Written.\n"
     ]
    },
    {
     "name": "stderr",
     "output_type": "stream",
     "text": [
      "/home/tprolifer/anaconda3/lib/python3.7/site-packages/pandas/core/indexing.py:1494: FutureWarning: \n",
      "Passing list-likes to .loc or [] with any missing label will raise\n",
      "KeyError in the future, you can use .reindex() as an alternative.\n",
      "\n",
      "See the documentation here:\n",
      "https://pandas.pydata.org/pandas-docs/stable/indexing.html#deprecate-loc-reindex-listlike\n",
      "  return self._getitem_tuple(key)\n"
     ]
    },
    {
     "name": "stdout",
     "output_type": "stream",
     "text": [
      "\u001b[0;30;48modi/489225.csv : Successfully Written.\n",
      "\u001b[0;30;48modi/930567.csv : Successfully Written.\n"
     ]
    },
    {
     "name": "stderr",
     "output_type": "stream",
     "text": [
      "/home/tprolifer/anaconda3/lib/python3.7/site-packages/pandas/core/indexing.py:1494: FutureWarning: \n",
      "Passing list-likes to .loc or [] with any missing label will raise\n",
      "KeyError in the future, you can use .reindex() as an alternative.\n",
      "\n",
      "See the documentation here:\n",
      "https://pandas.pydata.org/pandas-docs/stable/indexing.html#deprecate-loc-reindex-listlike\n",
      "  return self._getitem_tuple(key)\n"
     ]
    },
    {
     "name": "stdout",
     "output_type": "stream",
     "text": [
      "\u001b[0;30;48modi/597928.csv : Successfully Written.\n",
      "\u001b[0;30;48modi/793201.csv : Successfully Written.\n"
     ]
    },
    {
     "name": "stderr",
     "output_type": "stream",
     "text": [
      "/home/tprolifer/anaconda3/lib/python3.7/site-packages/pandas/core/indexing.py:1494: FutureWarning: \n",
      "Passing list-likes to .loc or [] with any missing label will raise\n",
      "KeyError in the future, you can use .reindex() as an alternative.\n",
      "\n",
      "See the documentation here:\n",
      "https://pandas.pydata.org/pandas-docs/stable/indexing.html#deprecate-loc-reindex-listlike\n",
      "  return self._getitem_tuple(key)\n"
     ]
    },
    {
     "name": "stdout",
     "output_type": "stream",
     "text": [
      "\u001b[0;30;48modi/628092.csv : Successfully Written.\n",
      "\u001b[0;30;48modi/710303.csv : Successfully Written.\n"
     ]
    },
    {
     "name": "stderr",
     "output_type": "stream",
     "text": [
      "/home/tprolifer/anaconda3/lib/python3.7/site-packages/pandas/core/indexing.py:1494: FutureWarning: \n",
      "Passing list-likes to .loc or [] with any missing label will raise\n",
      "KeyError in the future, you can use .reindex() as an alternative.\n",
      "\n",
      "See the documentation here:\n",
      "https://pandas.pydata.org/pandas-docs/stable/indexing.html#deprecate-loc-reindex-listlike\n",
      "  return self._getitem_tuple(key)\n"
     ]
    },
    {
     "name": "stdout",
     "output_type": "stream",
     "text": [
      "\u001b[0;30;48modi/433562.csv : Successfully Written.\n",
      "\u001b[0;30;48modi/247490.csv : Successfully Written.\n",
      "\u001b[0;30;48modi/754727.csv : Successfully Written.\n",
      "\u001b[0;30;48modi/387568.csv : Successfully Written.\n",
      "\u001b[0;30;48modi/656457.csv : Successfully Written.\n"
     ]
    },
    {
     "name": "stderr",
     "output_type": "stream",
     "text": [
      "/home/tprolifer/anaconda3/lib/python3.7/site-packages/pandas/core/indexing.py:1494: FutureWarning: \n",
      "Passing list-likes to .loc or [] with any missing label will raise\n",
      "KeyError in the future, you can use .reindex() as an alternative.\n",
      "\n",
      "See the documentation here:\n",
      "https://pandas.pydata.org/pandas-docs/stable/indexing.html#deprecate-loc-reindex-listlike\n",
      "  return self._getitem_tuple(key)\n"
     ]
    },
    {
     "name": "stdout",
     "output_type": "stream",
     "text": [
      "\u001b[0;30;48modi/745161.csv : Successfully Written.\n"
     ]
    },
    {
     "name": "stderr",
     "output_type": "stream",
     "text": [
      "/home/tprolifer/anaconda3/lib/python3.7/site-packages/pandas/core/indexing.py:1494: FutureWarning: \n",
      "Passing list-likes to .loc or [] with any missing label will raise\n",
      "KeyError in the future, you can use .reindex() as an alternative.\n",
      "\n",
      "See the documentation here:\n",
      "https://pandas.pydata.org/pandas-docs/stable/indexing.html#deprecate-loc-reindex-listlike\n",
      "  return self._getitem_tuple(key)\n"
     ]
    },
    {
     "name": "stdout",
     "output_type": "stream",
     "text": [
      "\u001b[0;30;48modi/518968.csv : Successfully Written.\n",
      "\u001b[0;30;48modi/1080631.csv : Successfully Written.\n",
      "\u001b[0;30;48modi/291365.csv : Successfully Written.\n",
      "\u001b[0;30;48modi/566947.csv : Successfully Written.\n",
      "\u001b[0;30;48modi/919611.csv : Successfully Written.\n",
      "\u001b[0;30;48modi/1168022.csv : Successfully Written.\n",
      "\u001b[0;30;48modi/564785.csv : Successfully Written.\n",
      "\u001b[0;30;48modi/534215.csv : Successfully Written.\n",
      "\u001b[0;30;48modi/297794.csv : Successfully Written.\n",
      "\u001b[0;30;48modi/923327.csv : Successfully Written.\n",
      "\u001b[0;30;48modi/736449.csv : Successfully Written.\n",
      "\u001b[0;30;48modi/932853.csv : Successfully Written.\n",
      "\u001b[0;30;48modi/656421.csv : Successfully Written.\n",
      "\u001b[0;30;48modi/1089139.csv : Successfully Written.\n"
     ]
    },
    {
     "name": "stderr",
     "output_type": "stream",
     "text": [
      "/home/tprolifer/anaconda3/lib/python3.7/site-packages/pandas/core/indexing.py:1494: FutureWarning: \n",
      "Passing list-likes to .loc or [] with any missing label will raise\n",
      "KeyError in the future, you can use .reindex() as an alternative.\n",
      "\n",
      "See the documentation here:\n",
      "https://pandas.pydata.org/pandas-docs/stable/indexing.html#deprecate-loc-reindex-listlike\n",
      "  return self._getitem_tuple(key)\n"
     ]
    },
    {
     "name": "stdout",
     "output_type": "stream",
     "text": [
      "\u001b[0;30;48modi/932867.csv : Successfully Written.\n",
      "\u001b[0;30;48modi/461570.csv : Successfully Written.\n",
      "\u001b[0;30;48modi/257470.csv : Successfully Written.\n",
      "\u001b[0;30;48modi/522249.csv : Successfully Written.\n",
      "\u001b[0;30;48modi/656467.csv : Successfully Written.\n"
     ]
    },
    {
     "name": "stderr",
     "output_type": "stream",
     "text": [
      "/home/tprolifer/anaconda3/lib/python3.7/site-packages/pandas/core/indexing.py:1494: FutureWarning: \n",
      "Passing list-likes to .loc or [] with any missing label will raise\n",
      "KeyError in the future, you can use .reindex() as an alternative.\n",
      "\n",
      "See the documentation here:\n",
      "https://pandas.pydata.org/pandas-docs/stable/indexing.html#deprecate-loc-reindex-listlike\n",
      "  return self._getitem_tuple(key)\n"
     ]
    },
    {
     "name": "stdout",
     "output_type": "stream",
     "text": [
      "\u001b[0;30;48modi/289110.csv : Successfully Written.\n",
      "\u001b[0;30;48modi/350048.csv : Successfully Written.\n",
      "\u001b[0;30;48modi/924629.csv : Successfully Written.\n",
      "\u001b[0;30;48modi/298797.csv : Successfully Written.\n",
      "\u001b[0;30;48modi/523734.csv : Successfully Written.\n",
      "\u001b[0;30;48modi/860269.csv : Successfully Written.\n"
     ]
    },
    {
     "name": "stderr",
     "output_type": "stream",
     "text": [
      "/home/tprolifer/anaconda3/lib/python3.7/site-packages/pandas/core/indexing.py:1494: FutureWarning: \n",
      "Passing list-likes to .loc or [] with any missing label will raise\n",
      "KeyError in the future, you can use .reindex() as an alternative.\n",
      "\n",
      "See the documentation here:\n",
      "https://pandas.pydata.org/pandas-docs/stable/indexing.html#deprecate-loc-reindex-listlike\n",
      "  return self._getitem_tuple(key)\n"
     ]
    },
    {
     "name": "stdout",
     "output_type": "stream",
     "text": [
      "\u001b[1;31;47modi/907389.csv : Something Went Wrong!!!  \n",
      "\n",
      "\u001b[0;30;48modi/463150.csv : Successfully Written.\n",
      "\u001b[0;30;48modi/749573.csv : Successfully Written.\n",
      "\u001b[0;30;48modi/259384.csv : Successfully Written.\n"
     ]
    },
    {
     "name": "stderr",
     "output_type": "stream",
     "text": [
      "/home/tprolifer/anaconda3/lib/python3.7/site-packages/pandas/core/indexing.py:1494: FutureWarning: \n",
      "Passing list-likes to .loc or [] with any missing label will raise\n",
      "KeyError in the future, you can use .reindex() as an alternative.\n",
      "\n",
      "See the documentation here:\n",
      "https://pandas.pydata.org/pandas-docs/stable/indexing.html#deprecate-loc-reindex-listlike\n",
      "  return self._getitem_tuple(key)\n"
     ]
    },
    {
     "name": "stdout",
     "output_type": "stream",
     "text": [
      "\u001b[0;30;48modi/564782.csv : Successfully Written.\n",
      "\u001b[0;30;48modi/474477.csv : Successfully Written.\n",
      "\u001b[0;30;48modi/722343.csv : Successfully Written.\n",
      "\u001b[0;30;48modi/565816.csv : Successfully Written.\n",
      "\u001b[0;30;48modi/676529.csv : Successfully Written.\n",
      "\u001b[0;30;48modi/291366.csv : Successfully Written.\n",
      "\u001b[0;30;48modi/623574.csv : Successfully Written.\n",
      "\u001b[0;30;48modi/249240.csv : Successfully Written.\n",
      "\u001b[0;30;48modi/433567.csv : Successfully Written.\n",
      "\u001b[0;30;48modi/914235.csv : Successfully Written.\n",
      "\u001b[0;30;48modi/562443.csv : Successfully Written.\n"
     ]
    },
    {
     "name": "stderr",
     "output_type": "stream",
     "text": [
      "/home/tprolifer/anaconda3/lib/python3.7/site-packages/pandas/core/indexing.py:1494: FutureWarning: \n",
      "Passing list-likes to .loc or [] with any missing label will raise\n",
      "KeyError in the future, you can use .reindex() as an alternative.\n",
      "\n",
      "See the documentation here:\n",
      "https://pandas.pydata.org/pandas-docs/stable/indexing.html#deprecate-loc-reindex-listlike\n",
      "  return self._getitem_tuple(key)\n"
     ]
    },
    {
     "name": "stdout",
     "output_type": "stream",
     "text": [
      "\u001b[0;30;48modi/952197.csv : Successfully Written.\n",
      "\u001b[0;30;48modi/313994.csv : Successfully Written.\n",
      "\u001b[0;30;48modi/225249.csv : Successfully Written.\n",
      "\u001b[0;30;48modi/760787.csv : Successfully Written.\n",
      "\u001b[0;30;48modi/1059716.csv : Successfully Written.\n",
      "\u001b[0;30;48modi/736501.csv : Successfully Written.\n",
      "\u001b[0;30;48modi/350045.csv : Successfully Written.\n",
      "\u001b[0;30;48modi/343732.csv : Successfully Written.\n",
      "\u001b[0;30;48modi/647255.csv : Successfully Written.\n",
      "\u001b[0;30;48modi/656433.csv : Successfully Written.\n",
      "\u001b[0;30;48modi/573023.csv : Successfully Written.\n"
     ]
    },
    {
     "name": "stderr",
     "output_type": "stream",
     "text": [
      "/home/tprolifer/anaconda3/lib/python3.7/site-packages/pandas/core/indexing.py:1494: FutureWarning: \n",
      "Passing list-likes to .loc or [] with any missing label will raise\n",
      "KeyError in the future, you can use .reindex() as an alternative.\n",
      "\n",
      "See the documentation here:\n",
      "https://pandas.pydata.org/pandas-docs/stable/indexing.html#deprecate-loc-reindex-listlike\n",
      "  return self._getitem_tuple(key)\n"
     ]
    },
    {
     "name": "stdout",
     "output_type": "stream",
     "text": [
      "\u001b[0;30;48modi/267708.csv : Successfully Written.\n"
     ]
    },
    {
     "name": "stderr",
     "output_type": "stream",
     "text": [
      "/home/tprolifer/anaconda3/lib/python3.7/site-packages/pandas/core/indexing.py:1494: FutureWarning: \n",
      "Passing list-likes to .loc or [] with any missing label will raise\n",
      "KeyError in the future, you can use .reindex() as an alternative.\n",
      "\n",
      "See the documentation here:\n",
      "https://pandas.pydata.org/pandas-docs/stable/indexing.html#deprecate-loc-reindex-listlike\n",
      "  return self._getitem_tuple(key)\n"
     ]
    },
    {
     "name": "stdout",
     "output_type": "stream",
     "text": [
      "\u001b[0;30;48modi/247468.csv : Successfully Written.\n"
     ]
    },
    {
     "name": "stderr",
     "output_type": "stream",
     "text": [
      "/home/tprolifer/anaconda3/lib/python3.7/site-packages/pandas/core/indexing.py:1494: FutureWarning: \n",
      "Passing list-likes to .loc or [] with any missing label will raise\n",
      "KeyError in the future, you can use .reindex() as an alternative.\n",
      "\n",
      "See the documentation here:\n",
      "https://pandas.pydata.org/pandas-docs/stable/indexing.html#deprecate-loc-reindex-listlike\n",
      "  return self._getitem_tuple(key)\n"
     ]
    },
    {
     "name": "stdout",
     "output_type": "stream",
     "text": [
      "\u001b[0;30;48modi/1059196.csv : Successfully Written.\n",
      "\u001b[0;30;48modi/1073410.csv : Successfully Written.\n"
     ]
    },
    {
     "name": "stderr",
     "output_type": "stream",
     "text": [
      "/home/tprolifer/anaconda3/lib/python3.7/site-packages/pandas/core/indexing.py:1494: FutureWarning: \n",
      "Passing list-likes to .loc or [] with any missing label will raise\n",
      "KeyError in the future, you can use .reindex() as an alternative.\n",
      "\n",
      "See the documentation here:\n",
      "https://pandas.pydata.org/pandas-docs/stable/indexing.html#deprecate-loc-reindex-listlike\n",
      "  return self._getitem_tuple(key)\n"
     ]
    },
    {
     "name": "stdout",
     "output_type": "stream",
     "text": [
      "\u001b[0;30;48modi/247491.csv : Successfully Written.\n",
      "\u001b[0;30;48modi/754761.csv : Successfully Written.\n",
      "\u001b[0;30;48modi/345469.csv : Successfully Written.\n",
      "\u001b[0;30;48modi/979845.csv : Successfully Written.\n",
      "\u001b[0;30;48modi/258477.csv : Successfully Written.\n"
     ]
    },
    {
     "name": "stderr",
     "output_type": "stream",
     "text": [
      "/home/tprolifer/anaconda3/lib/python3.7/site-packages/pandas/core/indexing.py:1494: FutureWarning: \n",
      "Passing list-likes to .loc or [] with any missing label will raise\n",
      "KeyError in the future, you can use .reindex() as an alternative.\n",
      "\n",
      "See the documentation here:\n",
      "https://pandas.pydata.org/pandas-docs/stable/indexing.html#deprecate-loc-reindex-listlike\n",
      "  return self._getitem_tuple(key)\n"
     ]
    },
    {
     "name": "stdout",
     "output_type": "stream",
     "text": [
      "\u001b[0;30;48modi/239918.csv : Successfully Written.\n",
      "\u001b[0;30;48modi/635656.csv : Successfully Written.\n",
      "\u001b[0;30;48modi/518958.csv : Successfully Written.\n",
      "\u001b[0;30;48modi/736447.csv : Successfully Written.\n",
      "\u001b[0;30;48modi/291368.csv : Successfully Written.\n",
      "\u001b[0;30;48modi/578622.csv : Successfully Written.\n",
      "\u001b[0;30;48modi/390227.csv : Successfully Written.\n",
      "\u001b[0;30;48modi/361047.csv : Successfully Written.\n",
      "\u001b[0;30;48modi/523732.csv : Successfully Written.\n",
      "\u001b[0;30;48modi/589310.csv : Successfully Written.\n",
      "\u001b[0;30;48modi/426420.csv : Successfully Written.\n",
      "\u001b[0;30;48modi/386530.csv : Successfully Written.\n"
     ]
    },
    {
     "name": "stderr",
     "output_type": "stream",
     "text": [
      "/home/tprolifer/anaconda3/lib/python3.7/site-packages/pandas/core/indexing.py:1494: FutureWarning: \n",
      "Passing list-likes to .loc or [] with any missing label will raise\n",
      "KeyError in the future, you can use .reindex() as an alternative.\n",
      "\n",
      "See the documentation here:\n",
      "https://pandas.pydata.org/pandas-docs/stable/indexing.html#deprecate-loc-reindex-listlike\n",
      "  return self._getitem_tuple(key)\n"
     ]
    },
    {
     "name": "stdout",
     "output_type": "stream",
     "text": [
      "\u001b[0;30;48modi/645643.csv : Successfully Written.\n"
     ]
    },
    {
     "name": "stderr",
     "output_type": "stream",
     "text": [
      "/home/tprolifer/anaconda3/lib/python3.7/site-packages/pandas/core/indexing.py:1494: FutureWarning: \n",
      "Passing list-likes to .loc or [] with any missing label will raise\n",
      "KeyError in the future, you can use .reindex() as an alternative.\n",
      "\n",
      "See the documentation here:\n",
      "https://pandas.pydata.org/pandas-docs/stable/indexing.html#deprecate-loc-reindex-listlike\n",
      "  return self._getitem_tuple(key)\n"
     ]
    },
    {
     "name": "stdout",
     "output_type": "stream",
     "text": [
      "\u001b[0;30;48modi/439143.csv : Successfully Written.\n",
      "\u001b[0;30;48modi/571147.csv : Successfully Written.\n",
      "\u001b[0;30;48modi/657645.csv : Successfully Written.\n"
     ]
    },
    {
     "name": "stderr",
     "output_type": "stream",
     "text": [
      "/home/tprolifer/anaconda3/lib/python3.7/site-packages/pandas/core/indexing.py:1494: FutureWarning: \n",
      "Passing list-likes to .loc or [] with any missing label will raise\n",
      "KeyError in the future, you can use .reindex() as an alternative.\n",
      "\n",
      "See the documentation here:\n",
      "https://pandas.pydata.org/pandas-docs/stable/indexing.html#deprecate-loc-reindex-listlike\n",
      "  return self._getitem_tuple(key)\n"
     ]
    },
    {
     "name": "stdout",
     "output_type": "stream",
     "text": [
      "\u001b[0;30;48modi/997993.csv : Successfully Written.\n",
      "\u001b[0;30;48modi/913625.csv : Successfully Written.\n"
     ]
    },
    {
     "name": "stderr",
     "output_type": "stream",
     "text": [
      "/home/tprolifer/anaconda3/lib/python3.7/site-packages/pandas/core/indexing.py:1494: FutureWarning: \n",
      "Passing list-likes to .loc or [] with any missing label will raise\n",
      "KeyError in the future, you can use .reindex() as an alternative.\n",
      "\n",
      "See the documentation here:\n",
      "https://pandas.pydata.org/pandas-docs/stable/indexing.html#deprecate-loc-reindex-listlike\n",
      "  return self._getitem_tuple(key)\n"
     ]
    },
    {
     "name": "stdout",
     "output_type": "stream",
     "text": [
      "\u001b[0;30;48modi/291359.csv : Successfully Written.\n"
     ]
    },
    {
     "name": "stderr",
     "output_type": "stream",
     "text": [
      "/home/tprolifer/anaconda3/lib/python3.7/site-packages/pandas/core/indexing.py:1494: FutureWarning: \n",
      "Passing list-likes to .loc or [] with any missing label will raise\n",
      "KeyError in the future, you can use .reindex() as an alternative.\n",
      "\n",
      "See the documentation here:\n",
      "https://pandas.pydata.org/pandas-docs/stable/indexing.html#deprecate-loc-reindex-listlike\n",
      "  return self._getitem_tuple(key)\n"
     ]
    },
    {
     "name": "stdout",
     "output_type": "stream",
     "text": [
      "\u001b[0;30;48modi/1004255.csv : Successfully Written.\n"
     ]
    },
    {
     "name": "stderr",
     "output_type": "stream",
     "text": [
      "/home/tprolifer/anaconda3/lib/python3.7/site-packages/pandas/core/indexing.py:1494: FutureWarning: \n",
      "Passing list-likes to .loc or [] with any missing label will raise\n",
      "KeyError in the future, you can use .reindex() as an alternative.\n",
      "\n",
      "See the documentation here:\n",
      "https://pandas.pydata.org/pandas-docs/stable/indexing.html#deprecate-loc-reindex-listlike\n",
      "  return self._getitem_tuple(key)\n"
     ]
    },
    {
     "name": "stdout",
     "output_type": "stream",
     "text": [
      "\u001b[0;30;48modi/521220.csv : Successfully Written.\n",
      "\u001b[0;30;48modi/676533.csv : Successfully Written.\n",
      "\u001b[0;30;48modi/656475.csv : Successfully Written.\n",
      "\u001b[0;30;48modi/514035.csv : Successfully Written.\n"
     ]
    },
    {
     "name": "stderr",
     "output_type": "stream",
     "text": [
      "/home/tprolifer/anaconda3/lib/python3.7/site-packages/pandas/core/indexing.py:1494: FutureWarning: \n",
      "Passing list-likes to .loc or [] with any missing label will raise\n",
      "KeyError in the future, you can use .reindex() as an alternative.\n",
      "\n",
      "See the documentation here:\n",
      "https://pandas.pydata.org/pandas-docs/stable/indexing.html#deprecate-loc-reindex-listlike\n",
      "  return self._getitem_tuple(key)\n"
     ]
    },
    {
     "name": "stdout",
     "output_type": "stream",
     "text": [
      "\u001b[0;30;48modi/247481.csv : Successfully Written.\n",
      "\u001b[0;30;48modi/656403.csv : Successfully Written.\n",
      "\u001b[0;30;48modi/291345.csv : Successfully Written.\n"
     ]
    },
    {
     "name": "stderr",
     "output_type": "stream",
     "text": [
      "/home/tprolifer/anaconda3/lib/python3.7/site-packages/pandas/core/indexing.py:1494: FutureWarning: \n",
      "Passing list-likes to .loc or [] with any missing label will raise\n",
      "KeyError in the future, you can use .reindex() as an alternative.\n",
      "\n",
      "See the documentation here:\n",
      "https://pandas.pydata.org/pandas-docs/stable/indexing.html#deprecate-loc-reindex-listlike\n",
      "  return self._getitem_tuple(key)\n"
     ]
    },
    {
     "name": "stdout",
     "output_type": "stream",
     "text": [
      "\u001b[0;30;48modi/406195.csv : Successfully Written.\n"
     ]
    },
    {
     "name": "stderr",
     "output_type": "stream",
     "text": [
      "/home/tprolifer/anaconda3/lib/python3.7/site-packages/pandas/core/indexing.py:1494: FutureWarning: \n",
      "Passing list-likes to .loc or [] with any missing label will raise\n",
      "KeyError in the future, you can use .reindex() as an alternative.\n",
      "\n",
      "See the documentation here:\n",
      "https://pandas.pydata.org/pandas-docs/stable/indexing.html#deprecate-loc-reindex-listlike\n",
      "  return self._getitem_tuple(key)\n"
     ]
    },
    {
     "name": "stdout",
     "output_type": "stream",
     "text": [
      "\u001b[0;30;48modi/745159.csv : Successfully Written.\n",
      "\u001b[0;30;48modi/527016.csv : Successfully Written.\n",
      "\u001b[0;30;48modi/1073413.csv : Successfully Written.\n",
      "\u001b[0;30;48modi/749557.csv : Successfully Written.\n"
     ]
    },
    {
     "name": "stderr",
     "output_type": "stream",
     "text": [
      "/home/tprolifer/anaconda3/lib/python3.7/site-packages/pandas/core/indexing.py:1494: FutureWarning: \n",
      "Passing list-likes to .loc or [] with any missing label will raise\n",
      "KeyError in the future, you can use .reindex() as an alternative.\n",
      "\n",
      "See the documentation here:\n",
      "https://pandas.pydata.org/pandas-docs/stable/indexing.html#deprecate-loc-reindex-listlike\n",
      "  return self._getitem_tuple(key)\n"
     ]
    },
    {
     "name": "stdout",
     "output_type": "stream",
     "text": [
      "\u001b[0;30;48modi/416239.csv : Successfully Written.\n",
      "\u001b[0;30;48modi/935819.csv : Successfully Written.\n"
     ]
    },
    {
     "name": "stderr",
     "output_type": "stream",
     "text": [
      "/home/tprolifer/anaconda3/lib/python3.7/site-packages/pandas/core/indexing.py:1494: FutureWarning: \n",
      "Passing list-likes to .loc or [] with any missing label will raise\n",
      "KeyError in the future, you can use .reindex() as an alternative.\n",
      "\n",
      "See the documentation here:\n",
      "https://pandas.pydata.org/pandas-docs/stable/indexing.html#deprecate-loc-reindex-listlike\n",
      "  return self._getitem_tuple(key)\n"
     ]
    },
    {
     "name": "stdout",
     "output_type": "stream",
     "text": [
      "\u001b[0;30;48modi/247495.csv : Successfully Written.\n",
      "\u001b[0;30;48modi/1144509.csv : Successfully Written.\n",
      "\u001b[0;30;48modi/1020037.csv : Successfully Written.\n",
      "\u001b[0;30;48modi/1022359.csv : Successfully Written.\n",
      "\u001b[0;30;48modi/1040499.csv : Successfully Written.\n",
      "\u001b[0;30;48modi/895807.csv : Successfully Written.\n",
      "\u001b[0;30;48modi/423783.csv : Successfully Written.\n",
      "\u001b[0;30;48modi/749571.csv : Successfully Written.\n"
     ]
    },
    {
     "name": "stderr",
     "output_type": "stream",
     "text": [
      "/home/tprolifer/anaconda3/lib/python3.7/site-packages/pandas/core/indexing.py:1494: FutureWarning: \n",
      "Passing list-likes to .loc or [] with any missing label will raise\n",
      "KeyError in the future, you can use .reindex() as an alternative.\n",
      "\n",
      "See the documentation here:\n",
      "https://pandas.pydata.org/pandas-docs/stable/indexing.html#deprecate-loc-reindex-listlike\n",
      "  return self._getitem_tuple(key)\n"
     ]
    },
    {
     "name": "stdout",
     "output_type": "stream",
     "text": [
      "\u001b[0;30;48modi/828245.csv : Successfully Written.\n",
      "\u001b[0;30;48modi/743977.csv : Successfully Written.\n",
      "\u001b[0;30;48modi/664303.csv : Successfully Written.\n",
      "\u001b[0;30;48modi/542853.csv : Successfully Written.\n",
      "\u001b[0;30;48modi/1041523.csv : Successfully Written.\n",
      "\u001b[0;30;48modi/249235.csv : Successfully Written.\n"
     ]
    },
    {
     "name": "stderr",
     "output_type": "stream",
     "text": [
      "/home/tprolifer/anaconda3/lib/python3.7/site-packages/pandas/core/indexing.py:1494: FutureWarning: \n",
      "Passing list-likes to .loc or [] with any missing label will raise\n",
      "KeyError in the future, you can use .reindex() as an alternative.\n",
      "\n",
      "See the documentation here:\n",
      "https://pandas.pydata.org/pandas-docs/stable/indexing.html#deprecate-loc-reindex-listlike\n",
      "  return self._getitem_tuple(key)\n"
     ]
    },
    {
     "name": "stdout",
     "output_type": "stream",
     "text": [
      "\u001b[0;30;48modi/249751.csv : Successfully Written.\n"
     ]
    },
    {
     "name": "stderr",
     "output_type": "stream",
     "text": [
      "/home/tprolifer/anaconda3/lib/python3.7/site-packages/pandas/core/indexing.py:1494: FutureWarning: \n",
      "Passing list-likes to .loc or [] with any missing label will raise\n",
      "KeyError in the future, you can use .reindex() as an alternative.\n",
      "\n",
      "See the documentation here:\n",
      "https://pandas.pydata.org/pandas-docs/stable/indexing.html#deprecate-loc-reindex-listlike\n",
      "  return self._getitem_tuple(key)\n"
     ]
    },
    {
     "name": "stdout",
     "output_type": "stream",
     "text": [
      "\u001b[0;30;48modi/377314.csv : Successfully Written.\n",
      "\u001b[0;30;48modi/736437.csv : Successfully Written.\n",
      "\u001b[0;30;48modi/636161.csv : Successfully Written.\n",
      "\u001b[0;30;48modi/434262.csv : Successfully Written.\n",
      "\u001b[0;30;48modi/514038.csv : Successfully Written.\n"
     ]
    },
    {
     "name": "stderr",
     "output_type": "stream",
     "text": [
      "/home/tprolifer/anaconda3/lib/python3.7/site-packages/pandas/core/indexing.py:1494: FutureWarning: \n",
      "Passing list-likes to .loc or [] with any missing label will raise\n",
      "KeyError in the future, you can use .reindex() as an alternative.\n",
      "\n",
      "See the documentation here:\n",
      "https://pandas.pydata.org/pandas-docs/stable/indexing.html#deprecate-loc-reindex-listlike\n",
      "  return self._getitem_tuple(key)\n"
     ]
    },
    {
     "name": "stdout",
     "output_type": "stream",
     "text": [
      "\u001b[0;30;48modi/647259.csv : Successfully Written.\n",
      "\u001b[0;30;48modi/685731.csv : Successfully Written.\n",
      "\u001b[0;30;48modi/648651.csv : Successfully Written.\n",
      "\u001b[0;30;48modi/1085967.csv : Successfully Written.\n",
      "\u001b[0;30;48modi/760793.csv : Successfully Written.\n"
     ]
    },
    {
     "name": "stderr",
     "output_type": "stream",
     "text": [
      "/home/tprolifer/anaconda3/lib/python3.7/site-packages/pandas/core/indexing.py:1494: FutureWarning: \n",
      "Passing list-likes to .loc or [] with any missing label will raise\n",
      "KeyError in the future, you can use .reindex() as an alternative.\n",
      "\n",
      "See the documentation here:\n",
      "https://pandas.pydata.org/pandas-docs/stable/indexing.html#deprecate-loc-reindex-listlike\n",
      "  return self._getitem_tuple(key)\n"
     ]
    },
    {
     "name": "stdout",
     "output_type": "stream",
     "text": [
      "\u001b[0;30;48modi/226375.csv : Successfully Written.\n",
      "\u001b[0;30;48modi/727919.csv : Successfully Written.\n"
     ]
    },
    {
     "name": "stderr",
     "output_type": "stream",
     "text": [
      "/home/tprolifer/anaconda3/lib/python3.7/site-packages/pandas/core/indexing.py:1494: FutureWarning: \n",
      "Passing list-likes to .loc or [] with any missing label will raise\n",
      "KeyError in the future, you can use .reindex() as an alternative.\n",
      "\n",
      "See the documentation here:\n",
      "https://pandas.pydata.org/pandas-docs/stable/indexing.html#deprecate-loc-reindex-listlike\n",
      "  return self._getitem_tuple(key)\n"
     ]
    },
    {
     "name": "stdout",
     "output_type": "stream",
     "text": [
      "\u001b[0;30;48modi/743973.csv : Successfully Written.\n",
      "\u001b[0;30;48modi/812645.csv : Successfully Written.\n",
      "\u001b[0;30;48modi/919607.csv : Successfully Written.\n",
      "\u001b[0;30;48modi/895813.csv : Successfully Written.\n"
     ]
    },
    {
     "name": "stderr",
     "output_type": "stream",
     "text": [
      "/home/tprolifer/anaconda3/lib/python3.7/site-packages/pandas/core/indexing.py:1494: FutureWarning: \n",
      "Passing list-likes to .loc or [] with any missing label will raise\n",
      "KeyError in the future, you can use .reindex() as an alternative.\n",
      "\n",
      "See the documentation here:\n",
      "https://pandas.pydata.org/pandas-docs/stable/indexing.html#deprecate-loc-reindex-listlike\n",
      "  return self._getitem_tuple(key)\n"
     ]
    },
    {
     "name": "stdout",
     "output_type": "stream",
     "text": [
      "\u001b[0;30;48modi/932855.csv : Successfully Written.\n",
      "\u001b[0;30;48modi/895815.csv : Successfully Written.\n",
      "\u001b[0;30;48modi/464991.csv : Successfully Written.\n",
      "\u001b[0;30;48modi/754815.csv : Successfully Written.\n"
     ]
    },
    {
     "name": "stderr",
     "output_type": "stream",
     "text": [
      "/home/tprolifer/anaconda3/lib/python3.7/site-packages/pandas/core/indexing.py:1494: FutureWarning: \n",
      "Passing list-likes to .loc or [] with any missing label will raise\n",
      "KeyError in the future, you can use .reindex() as an alternative.\n",
      "\n",
      "See the documentation here:\n",
      "https://pandas.pydata.org/pandas-docs/stable/indexing.html#deprecate-loc-reindex-listlike\n",
      "  return self._getitem_tuple(key)\n"
     ]
    },
    {
     "name": "stdout",
     "output_type": "stream",
     "text": [
      "\u001b[0;30;48modi/1098208.csv : Successfully Written.\n",
      "\u001b[0;30;48modi/913445.csv : Successfully Written.\n",
      "\u001b[0;30;48modi/518960.csv : Successfully Written.\n",
      "\u001b[0;30;48modi/300427.csv : Successfully Written.\n",
      "\u001b[0;30;48modi/426722.csv : Successfully Written.\n",
      "\u001b[0;30;48modi/258473.csv : Successfully Written.\n",
      "\u001b[0;30;48modi/293481.csv : Successfully Written.\n",
      "\u001b[0;30;48modi/1085947.csv : Successfully Written.\n",
      "\u001b[0;30;48modi/810833.csv : Successfully Written.\n",
      "\u001b[0;30;48modi/522250.csv : Successfully Written.\n",
      "\u001b[0;30;48modi/522248.csv : Successfully Written.\n"
     ]
    },
    {
     "name": "stderr",
     "output_type": "stream",
     "text": [
      "/home/tprolifer/anaconda3/lib/python3.7/site-packages/pandas/core/indexing.py:1494: FutureWarning: \n",
      "Passing list-likes to .loc or [] with any missing label will raise\n",
      "KeyError in the future, you can use .reindex() as an alternative.\n",
      "\n",
      "See the documentation here:\n",
      "https://pandas.pydata.org/pandas-docs/stable/indexing.html#deprecate-loc-reindex-listlike\n",
      "  return self._getitem_tuple(key)\n"
     ]
    },
    {
     "name": "stdout",
     "output_type": "stream",
     "text": [
      "\u001b[0;30;48modi/489224.csv : Successfully Written.\n",
      "\u001b[0;30;48modi/562439.csv : Successfully Written.\n",
      "\u001b[0;30;48modi/282688.csv : Successfully Written.\n",
      "\u001b[0;30;48modi/667895.csv : Successfully Written.\n",
      "\u001b[0;30;48modi/452149.csv : Successfully Written.\n",
      "\u001b[0;30;48modi/1144496.csv : Successfully Written.\n"
     ]
    },
    {
     "name": "stderr",
     "output_type": "stream",
     "text": [
      "/home/tprolifer/anaconda3/lib/python3.7/site-packages/pandas/core/indexing.py:1494: FutureWarning: \n",
      "Passing list-likes to .loc or [] with any missing label will raise\n",
      "KeyError in the future, you can use .reindex() as an alternative.\n",
      "\n",
      "See the documentation here:\n",
      "https://pandas.pydata.org/pandas-docs/stable/indexing.html#deprecate-loc-reindex-listlike\n",
      "  return self._getitem_tuple(key)\n"
     ]
    },
    {
     "name": "stdout",
     "output_type": "stream",
     "text": [
      "\u001b[0;30;48modi/416240.csv : Successfully Written.\n",
      "\u001b[0;30;48modi/1089144.csv : Successfully Written.\n",
      "\u001b[0;30;48modi/643667.csv : Successfully Written.\n",
      "\u001b[0;30;48modi/979835.csv : Successfully Written.\n"
     ]
    },
    {
     "name": "stderr",
     "output_type": "stream",
     "text": [
      "/home/tprolifer/anaconda3/lib/python3.7/site-packages/pandas/core/indexing.py:1494: FutureWarning: \n",
      "Passing list-likes to .loc or [] with any missing label will raise\n",
      "KeyError in the future, you can use .reindex() as an alternative.\n",
      "\n",
      "See the documentation here:\n",
      "https://pandas.pydata.org/pandas-docs/stable/indexing.html#deprecate-loc-reindex-listlike\n",
      "  return self._getitem_tuple(key)\n"
     ]
    },
    {
     "name": "stdout",
     "output_type": "stream",
     "text": [
      "\u001b[0;30;48modi/352667.csv : Successfully Written.\n",
      "\u001b[0;30;48modi/366711.csv : Successfully Written.\n",
      "\u001b[0;30;48modi/593724.csv : Successfully Written.\n"
     ]
    },
    {
     "name": "stderr",
     "output_type": "stream",
     "text": [
      "/home/tprolifer/anaconda3/lib/python3.7/site-packages/pandas/core/indexing.py:1494: FutureWarning: \n",
      "Passing list-likes to .loc or [] with any missing label will raise\n",
      "KeyError in the future, you can use .reindex() as an alternative.\n",
      "\n",
      "See the documentation here:\n",
      "https://pandas.pydata.org/pandas-docs/stable/indexing.html#deprecate-loc-reindex-listlike\n",
      "  return self._getitem_tuple(key)\n"
     ]
    },
    {
     "name": "stdout",
     "output_type": "stream",
     "text": [
      "\u001b[0;30;48modi/325801.csv : Successfully Written.\n",
      "\u001b[0;30;48modi/351689.csv : Successfully Written.\n",
      "\u001b[0;30;48modi/392617.csv : Successfully Written.\n",
      "\u001b[0;30;48modi/439141.csv : Successfully Written.\n",
      "\u001b[0;30;48modi/656415.csv : Successfully Written.\n"
     ]
    },
    {
     "name": "stderr",
     "output_type": "stream",
     "text": [
      "/home/tprolifer/anaconda3/lib/python3.7/site-packages/pandas/core/indexing.py:1494: FutureWarning: \n",
      "Passing list-likes to .loc or [] with any missing label will raise\n",
      "KeyError in the future, you can use .reindex() as an alternative.\n",
      "\n",
      "See the documentation here:\n",
      "https://pandas.pydata.org/pandas-docs/stable/indexing.html#deprecate-loc-reindex-listlike\n",
      "  return self._getitem_tuple(key)\n"
     ]
    },
    {
     "name": "stdout",
     "output_type": "stream",
     "text": [
      "\u001b[0;30;48modi/1062502.csv : Successfully Written.\n",
      "\u001b[0;30;48modi/594907.csv : Successfully Written.\n",
      "\u001b[0;30;48modi/297801.csv : Successfully Written.\n"
     ]
    },
    {
     "name": "stderr",
     "output_type": "stream",
     "text": [
      "/home/tprolifer/anaconda3/lib/python3.7/site-packages/pandas/core/indexing.py:1494: FutureWarning: \n",
      "Passing list-likes to .loc or [] with any missing label will raise\n",
      "KeyError in the future, you can use .reindex() as an alternative.\n",
      "\n",
      "See the documentation here:\n",
      "https://pandas.pydata.org/pandas-docs/stable/indexing.html#deprecate-loc-reindex-listlike\n",
      "  return self._getitem_tuple(key)\n"
     ]
    },
    {
     "name": "stdout",
     "output_type": "stream",
     "text": [
      "\u001b[0;30;48modi/523804.csv : Successfully Written.\n",
      "\u001b[0;30;48modi/426428.csv : Successfully Written.\n",
      "\u001b[0;30;48modi/1073401.csv : Successfully Written.\n",
      "\u001b[0;30;48modi/936163.csv : Successfully Written.\n",
      "\u001b[0;30;48modi/1085964.csv : Successfully Written.\n"
     ]
    },
    {
     "name": "stderr",
     "output_type": "stream",
     "text": [
      "/home/tprolifer/anaconda3/lib/python3.7/site-packages/pandas/core/indexing.py:1494: FutureWarning: \n",
      "Passing list-likes to .loc or [] with any missing label will raise\n",
      "KeyError in the future, you can use .reindex() as an alternative.\n",
      "\n",
      "See the documentation here:\n",
      "https://pandas.pydata.org/pandas-docs/stable/indexing.html#deprecate-loc-reindex-listlike\n",
      "  return self._getitem_tuple(key)\n"
     ]
    },
    {
     "name": "stdout",
     "output_type": "stream",
     "text": [
      "\u001b[0;30;48modi/249756.csv : Successfully Written.\n"
     ]
    },
    {
     "name": "stderr",
     "output_type": "stream",
     "text": [
      "/home/tprolifer/anaconda3/lib/python3.7/site-packages/pandas/core/indexing.py:1494: FutureWarning: \n",
      "Passing list-likes to .loc or [] with any missing label will raise\n",
      "KeyError in the future, you can use .reindex() as an alternative.\n",
      "\n",
      "See the documentation here:\n",
      "https://pandas.pydata.org/pandas-docs/stable/indexing.html#deprecate-loc-reindex-listlike\n",
      "  return self._getitem_tuple(key)\n"
     ]
    },
    {
     "name": "stdout",
     "output_type": "stream",
     "text": [
      "\u001b[0;30;48modi/247498.csv : Successfully Written.\n",
      "\u001b[0;30;48modi/249211.csv : Successfully Written.\n",
      "\u001b[0;30;48modi/578614.csv : Successfully Written.\n",
      "\u001b[0;30;48modi/935823.csv : Successfully Written.\n",
      "\u001b[0;30;48modi/742625.csv : Successfully Written.\n",
      "\u001b[0;30;48modi/467884.csv : Successfully Written.\n",
      "\u001b[0;30;48modi/474469.csv : Successfully Written.\n",
      "\u001b[0;30;48modi/749783.csv : Successfully Written.\n",
      "\u001b[0;30;48modi/1073424.csv : Successfully Written.\n",
      "\u001b[0;30;48modi/800473.csv : Successfully Written.\n"
     ]
    },
    {
     "name": "stderr",
     "output_type": "stream",
     "text": [
      "/home/tprolifer/anaconda3/lib/python3.7/site-packages/pandas/core/indexing.py:1494: FutureWarning: \n",
      "Passing list-likes to .loc or [] with any missing label will raise\n",
      "KeyError in the future, you can use .reindex() as an alternative.\n",
      "\n",
      "See the documentation here:\n",
      "https://pandas.pydata.org/pandas-docs/stable/indexing.html#deprecate-loc-reindex-listlike\n",
      "  return self._getitem_tuple(key)\n"
     ]
    },
    {
     "name": "stdout",
     "output_type": "stream",
     "text": [
      "\u001b[0;30;48modi/247471.csv : Successfully Written.\n"
     ]
    },
    {
     "name": "stderr",
     "output_type": "stream",
     "text": [
      "/home/tprolifer/anaconda3/lib/python3.7/site-packages/pandas/core/indexing.py:1494: FutureWarning: \n",
      "Passing list-likes to .loc or [] with any missing label will raise\n",
      "KeyError in the future, you can use .reindex() as an alternative.\n",
      "\n",
      "See the documentation here:\n",
      "https://pandas.pydata.org/pandas-docs/stable/indexing.html#deprecate-loc-reindex-listlike\n",
      "  return self._getitem_tuple(key)\n"
     ]
    },
    {
     "name": "stdout",
     "output_type": "stream",
     "text": [
      "\u001b[0;30;48modi/1098207.csv : Successfully Written.\n",
      "\u001b[0;30;48modi/913659.csv : Successfully Written.\n",
      "\u001b[0;30;48modi/258472.csv : Successfully Written.\n",
      "\u001b[0;30;48modi/635655.csv : Successfully Written.\n",
      "\u001b[0;30;48modi/1033707.csv : Successfully Written.\n",
      "\u001b[0;30;48modi/516210.csv : Successfully Written.\n",
      "\u001b[0;30;48modi/785981.csv : Successfully Written.\n",
      "\u001b[0;30;48modi/450498.csv : Successfully Written.\n",
      "\u001b[0;30;48modi/785977.csv : Successfully Written.\n"
     ]
    },
    {
     "name": "stderr",
     "output_type": "stream",
     "text": [
      "/home/tprolifer/anaconda3/lib/python3.7/site-packages/pandas/core/indexing.py:1494: FutureWarning: \n",
      "Passing list-likes to .loc or [] with any missing label will raise\n",
      "KeyError in the future, you can use .reindex() as an alternative.\n",
      "\n",
      "See the documentation here:\n",
      "https://pandas.pydata.org/pandas-docs/stable/indexing.html#deprecate-loc-reindex-listlike\n",
      "  return self._getitem_tuple(key)\n"
     ]
    },
    {
     "name": "stdout",
     "output_type": "stream",
     "text": [
      "\u001b[0;30;48modi/249741.csv : Successfully Written.\n",
      "\u001b[0;30;48modi/530429.csv : Successfully Written.\n",
      "\u001b[0;30;48modi/1073421.csv : Successfully Written.\n",
      "\u001b[0;30;48modi/256607.csv : Successfully Written.\n"
     ]
    },
    {
     "name": "stderr",
     "output_type": "stream",
     "text": [
      "/home/tprolifer/anaconda3/lib/python3.7/site-packages/pandas/core/indexing.py:1494: FutureWarning: \n",
      "Passing list-likes to .loc or [] with any missing label will raise\n",
      "KeyError in the future, you can use .reindex() as an alternative.\n",
      "\n",
      "See the documentation here:\n",
      "https://pandas.pydata.org/pandas-docs/stable/indexing.html#deprecate-loc-reindex-listlike\n",
      "  return self._getitem_tuple(key)\n"
     ]
    },
    {
     "name": "stdout",
     "output_type": "stream",
     "text": [
      "\u001b[0;30;48modi/997967.csv : Successfully Written.\n"
     ]
    },
    {
     "name": "stderr",
     "output_type": "stream",
     "text": [
      "/home/tprolifer/anaconda3/lib/python3.7/site-packages/pandas/core/indexing.py:1494: FutureWarning: \n",
      "Passing list-likes to .loc or [] with any missing label will raise\n",
      "KeyError in the future, you can use .reindex() as an alternative.\n",
      "\n",
      "See the documentation here:\n",
      "https://pandas.pydata.org/pandas-docs/stable/indexing.html#deprecate-loc-reindex-listlike\n",
      "  return self._getitem_tuple(key)\n"
     ]
    },
    {
     "name": "stdout",
     "output_type": "stream",
     "text": [
      "\u001b[0;30;48modi/433575.csv : Successfully Written.\n",
      "\u001b[0;30;48modi/455233.csv : Successfully Written.\n",
      "\u001b[0;30;48modi/467089.csv : Successfully Written.\n",
      "\u001b[0;30;48modi/298796.csv : Successfully Written.\n",
      "\u001b[0;30;48modi/785959.csv : Successfully Written.\n",
      "\u001b[0;30;48modi/1144519.csv : Successfully Written.\n",
      "\u001b[0;30;48modi/258476.csv : Successfully Written.\n",
      "\u001b[0;30;48modi/434261.csv : Successfully Written.\n",
      "\u001b[0;30;48modi/313992.csv : Successfully Written.\n",
      "\u001b[0;30;48modi/1041525.csv : Successfully Written.\n",
      "\u001b[0;30;48modi/461567.csv : Successfully Written.\n",
      "\u001b[0;30;48modi/903593.csv : Successfully Written.\n"
     ]
    },
    {
     "name": "stderr",
     "output_type": "stream",
     "text": [
      "/home/tprolifer/anaconda3/lib/python3.7/site-packages/pandas/core/indexing.py:1494: FutureWarning: \n",
      "Passing list-likes to .loc or [] with any missing label will raise\n",
      "KeyError in the future, you can use .reindex() as an alternative.\n",
      "\n",
      "See the documentation here:\n",
      "https://pandas.pydata.org/pandas-docs/stable/indexing.html#deprecate-loc-reindex-listlike\n",
      "  return self._getitem_tuple(key)\n"
     ]
    },
    {
     "name": "stdout",
     "output_type": "stream",
     "text": [
      "\u001b[0;30;48modi/702139.csv : Successfully Written.\n",
      "\u001b[0;30;48modi/1089147.csv : Successfully Written.\n",
      "\u001b[0;30;48modi/247486.csv : Successfully Written.\n",
      "\u001b[0;30;48modi/1029003.csv : Successfully Written.\n",
      "\u001b[0;30;48modi/1144499.csv : Successfully Written.\n",
      "\u001b[0;30;48modi/456662.csv : Successfully Written.\n",
      "\u001b[0;30;48modi/603239.csv : Successfully Written.\n",
      "\u001b[0;30;48modi/931394.csv : Successfully Written.\n",
      "\u001b[0;30;48modi/238194.csv : Successfully Written.\n",
      "\u001b[0;30;48modi/749773.csv : Successfully Written.\n",
      "\u001b[0;30;48modi/351686.csv : Successfully Written.\n"
     ]
    },
    {
     "name": "stderr",
     "output_type": "stream",
     "text": [
      "/home/tprolifer/anaconda3/lib/python3.7/site-packages/pandas/core/indexing.py:1494: FutureWarning: \n",
      "Passing list-likes to .loc or [] with any missing label will raise\n",
      "KeyError in the future, you can use .reindex() as an alternative.\n",
      "\n",
      "See the documentation here:\n",
      "https://pandas.pydata.org/pandas-docs/stable/indexing.html#deprecate-loc-reindex-listlike\n",
      "  return self._getitem_tuple(key)\n"
     ]
    },
    {
     "name": "stdout",
     "output_type": "stream",
     "text": [
      "\u001b[0;30;48modi/1089419.csv : Successfully Written.\n",
      "\u001b[0;30;48modi/770121.csv : Successfully Written.\n",
      "\u001b[0;30;48modi/924633.csv : Successfully Written.\n",
      "\u001b[0;30;48modi/518969.csv : Successfully Written.\n"
     ]
    },
    {
     "name": "stderr",
     "output_type": "stream",
     "text": [
      "/home/tprolifer/anaconda3/lib/python3.7/site-packages/pandas/core/indexing.py:1494: FutureWarning: \n",
      "Passing list-likes to .loc or [] with any missing label will raise\n",
      "KeyError in the future, you can use .reindex() as an alternative.\n",
      "\n",
      "See the documentation here:\n",
      "https://pandas.pydata.org/pandas-docs/stable/indexing.html#deprecate-loc-reindex-listlike\n",
      "  return self._getitem_tuple(key)\n"
     ]
    },
    {
     "name": "stdout",
     "output_type": "stream",
     "text": [
      "\u001b[0;30;48modi/247483.csv : Successfully Written.\n",
      "\u001b[0;30;48modi/1033367.csv : Successfully Written.\n",
      "\u001b[0;30;48modi/335351.csv : Successfully Written.\n"
     ]
    },
    {
     "name": "stderr",
     "output_type": "stream",
     "text": [
      "/home/tprolifer/anaconda3/lib/python3.7/site-packages/pandas/core/indexing.py:1494: FutureWarning: \n",
      "Passing list-likes to .loc or [] with any missing label will raise\n",
      "KeyError in the future, you can use .reindex() as an alternative.\n",
      "\n",
      "See the documentation here:\n",
      "https://pandas.pydata.org/pandas-docs/stable/indexing.html#deprecate-loc-reindex-listlike\n",
      "  return self._getitem_tuple(key)\n"
     ]
    },
    {
     "name": "stdout",
     "output_type": "stream",
     "text": [
      "\u001b[0;30;48modi/1044209.csv : Successfully Written.\n",
      "\u001b[0;30;48modi/935821.csv : Successfully Written.\n",
      "\u001b[0;30;48modi/913623.csv : Successfully Written.\n",
      "\u001b[0;30;48modi/249743.csv : Successfully Written.\n",
      "\u001b[0;30;48modi/360800.csv : Successfully Written.\n",
      "\u001b[0;30;48modi/1020031.csv : Successfully Written.\n"
     ]
    },
    {
     "name": "stderr",
     "output_type": "stream",
     "text": [
      "/home/tprolifer/anaconda3/lib/python3.7/site-packages/pandas/core/indexing.py:1494: FutureWarning: \n",
      "Passing list-likes to .loc or [] with any missing label will raise\n",
      "KeyError in the future, you can use .reindex() as an alternative.\n",
      "\n",
      "See the documentation here:\n",
      "https://pandas.pydata.org/pandas-docs/stable/indexing.html#deprecate-loc-reindex-listlike\n",
      "  return self._getitem_tuple(key)\n"
     ]
    },
    {
     "name": "stdout",
     "output_type": "stream",
     "text": [
      "\u001b[0;30;48modi/597925.csv : Successfully Written.\n",
      "\u001b[0;30;48modi/244510.csv : Successfully Written.\n",
      "\u001b[0;30;48modi/350043.csv : Successfully Written.\n",
      "\u001b[0;30;48modi/249238.csv : Successfully Written.\n",
      "\u001b[0;30;48modi/464992.csv : Successfully Written.\n",
      "\u001b[0;30;48modi/1089138.csv : Successfully Written.\n"
     ]
    },
    {
     "name": "stderr",
     "output_type": "stream",
     "text": [
      "/home/tprolifer/anaconda3/lib/python3.7/site-packages/pandas/core/indexing.py:1494: FutureWarning: \n",
      "Passing list-likes to .loc or [] with any missing label will raise\n",
      "KeyError in the future, you can use .reindex() as an alternative.\n",
      "\n",
      "See the documentation here:\n",
      "https://pandas.pydata.org/pandas-docs/stable/indexing.html#deprecate-loc-reindex-listlike\n",
      "  return self._getitem_tuple(key)\n"
     ]
    },
    {
     "name": "stdout",
     "output_type": "stream",
     "text": [
      "\u001b[0;30;48modi/433560.csv : Successfully Written.\n",
      "\u001b[0;30;48modi/467084.csv : Successfully Written.\n",
      "\u001b[0;30;48modi/803795.csv : Successfully Written.\n"
     ]
    },
    {
     "name": "stderr",
     "output_type": "stream",
     "text": [
      "/home/tprolifer/anaconda3/lib/python3.7/site-packages/pandas/core/indexing.py:1494: FutureWarning: \n",
      "Passing list-likes to .loc or [] with any missing label will raise\n",
      "KeyError in the future, you can use .reindex() as an alternative.\n",
      "\n",
      "See the documentation here:\n",
      "https://pandas.pydata.org/pandas-docs/stable/indexing.html#deprecate-loc-reindex-listlike\n",
      "  return self._getitem_tuple(key)\n"
     ]
    },
    {
     "name": "stdout",
     "output_type": "stream",
     "text": [
      "\u001b[0;30;48modi/1062506.csv : Successfully Written.\n",
      "\u001b[0;30;48modi/423793.csv : Successfully Written.\n"
     ]
    },
    {
     "name": "stderr",
     "output_type": "stream",
     "text": [
      "/home/tprolifer/anaconda3/lib/python3.7/site-packages/pandas/core/indexing.py:1494: FutureWarning: \n",
      "Passing list-likes to .loc or [] with any missing label will raise\n",
      "KeyError in the future, you can use .reindex() as an alternative.\n",
      "\n",
      "See the documentation here:\n",
      "https://pandas.pydata.org/pandas-docs/stable/indexing.html#deprecate-loc-reindex-listlike\n",
      "  return self._getitem_tuple(key)\n"
     ]
    },
    {
     "name": "stdout",
     "output_type": "stream",
     "text": [
      "\u001b[0;30;48modi/536933.csv : Successfully Written.\n",
      "\u001b[0;30;48modi/1144506.csv : Successfully Written.\n",
      "\u001b[0;30;48modi/750673.csv : Successfully Written.\n",
      "\u001b[0;30;48modi/919617.csv : Successfully Written.\n",
      "\u001b[0;30;48modi/576407.csv : Successfully Written.\n"
     ]
    },
    {
     "name": "stderr",
     "output_type": "stream",
     "text": [
      "/home/tprolifer/anaconda3/lib/python3.7/site-packages/pandas/core/indexing.py:1494: FutureWarning: \n",
      "Passing list-likes to .loc or [] with any missing label will raise\n",
      "KeyError in the future, you can use .reindex() as an alternative.\n",
      "\n",
      "See the documentation here:\n",
      "https://pandas.pydata.org/pandas-docs/stable/indexing.html#deprecate-loc-reindex-listlike\n",
      "  return self._getitem_tuple(key)\n"
     ]
    },
    {
     "name": "stdout",
     "output_type": "stream",
     "text": [
      "\u001b[0;30;48modi/668963.csv : Successfully Written.\n",
      "\u001b[0;30;48modi/249378.csv : Successfully Written.\n",
      "\u001b[0;30;48modi/576414.csv : Successfully Written.\n",
      "\u001b[0;30;48modi/296907.csv : Successfully Written.\n"
     ]
    },
    {
     "name": "stderr",
     "output_type": "stream",
     "text": [
      "/home/tprolifer/anaconda3/lib/python3.7/site-packages/pandas/core/indexing.py:1494: FutureWarning: \n",
      "Passing list-likes to .loc or [] with any missing label will raise\n",
      "KeyError in the future, you can use .reindex() as an alternative.\n",
      "\n",
      "See the documentation here:\n",
      "https://pandas.pydata.org/pandas-docs/stable/indexing.html#deprecate-loc-reindex-listlike\n",
      "  return self._getitem_tuple(key)\n"
     ]
    },
    {
     "name": "stdout",
     "output_type": "stream",
     "text": [
      "\u001b[0;30;48modi/573016.csv : Successfully Written.\n",
      "\u001b[0;30;48modi/1089143.csv : Successfully Written.\n",
      "\u001b[0;30;48modi/1022355.csv : Successfully Written.\n",
      "\u001b[0;30;48modi/1073405.csv : Successfully Written.\n"
     ]
    },
    {
     "name": "stderr",
     "output_type": "stream",
     "text": [
      "/home/tprolifer/anaconda3/lib/python3.7/site-packages/pandas/core/indexing.py:1494: FutureWarning: \n",
      "Passing list-likes to .loc or [] with any missing label will raise\n",
      "KeyError in the future, you can use .reindex() as an alternative.\n",
      "\n",
      "See the documentation here:\n",
      "https://pandas.pydata.org/pandas-docs/stable/indexing.html#deprecate-loc-reindex-listlike\n",
      "  return self._getitem_tuple(key)\n"
     ]
    },
    {
     "name": "stdout",
     "output_type": "stream",
     "text": [
      "\u001b[0;30;48modi/446966.csv : Successfully Written.\n",
      "\u001b[0;30;48modi/463152.csv : Successfully Written.\n"
     ]
    },
    {
     "name": "stderr",
     "output_type": "stream",
     "text": [
      "/home/tprolifer/anaconda3/lib/python3.7/site-packages/pandas/core/indexing.py:1494: FutureWarning: \n",
      "Passing list-likes to .loc or [] with any missing label will raise\n",
      "KeyError in the future, you can use .reindex() as an alternative.\n",
      "\n",
      "See the documentation here:\n",
      "https://pandas.pydata.org/pandas-docs/stable/indexing.html#deprecate-loc-reindex-listlike\n",
      "  return self._getitem_tuple(key)\n"
     ]
    },
    {
     "name": "stdout",
     "output_type": "stream",
     "text": [
      "\u001b[0;30;48modi/656429.csv : Successfully Written.\n",
      "\u001b[0;30;48modi/919609.csv : Successfully Written.\n",
      "\u001b[0;30;48modi/1073412.csv : Successfully Written.\n",
      "\u001b[0;30;48modi/569242.csv : Successfully Written.\n",
      "\u001b[0;30;48modi/722667.csv : Successfully Written.\n"
     ]
    },
    {
     "name": "stderr",
     "output_type": "stream",
     "text": [
      "/home/tprolifer/anaconda3/lib/python3.7/site-packages/pandas/core/indexing.py:1494: FutureWarning: \n",
      "Passing list-likes to .loc or [] with any missing label will raise\n",
      "KeyError in the future, you can use .reindex() as an alternative.\n",
      "\n",
      "See the documentation here:\n",
      "https://pandas.pydata.org/pandas-docs/stable/indexing.html#deprecate-loc-reindex-listlike\n",
      "  return self._getitem_tuple(key)\n"
     ]
    },
    {
     "name": "stdout",
     "output_type": "stream",
     "text": [
      "\u001b[0;30;48modi/433593.csv : Successfully Written.\n",
      "\u001b[0;30;48modi/426404.csv : Successfully Written.\n",
      "\u001b[0;30;48modi/335347.csv : Successfully Written.\n",
      "\u001b[0;30;48modi/1144524.csv : Successfully Written.\n",
      "\u001b[0;30;48modi/1022353.csv : Successfully Written.\n",
      "\u001b[0;30;48modi/736505.csv : Successfully Written.\n",
      "\u001b[0;30;48modi/812791.csv : Successfully Written.\n",
      "\u001b[0;30;48modi/800469.csv : Successfully Written.\n",
      "\u001b[0;30;48modi/297805.csv : Successfully Written.\n",
      "\u001b[0;30;48modi/656451.csv : Successfully Written.\n",
      "\u001b[0;30;48modi/915777.csv : Successfully Written.\n",
      "\u001b[0;30;48modi/1019973.csv : Successfully Written.\n",
      "\u001b[0;30;48modi/602476.csv : Successfully Written.\n",
      "\u001b[0;30;48modi/736525.csv : Successfully Written.\n",
      "\u001b[0;30;48modi/433606.csv : Successfully Written.\n",
      "\u001b[0;30;48modi/238170.csv : Successfully Written.\n"
     ]
    },
    {
     "name": "stderr",
     "output_type": "stream",
     "text": [
      "/home/tprolifer/anaconda3/lib/python3.7/site-packages/pandas/core/indexing.py:1494: FutureWarning: \n",
      "Passing list-likes to .loc or [] with any missing label will raise\n",
      "KeyError in the future, you can use .reindex() as an alternative.\n",
      "\n",
      "See the documentation here:\n",
      "https://pandas.pydata.org/pandas-docs/stable/indexing.html#deprecate-loc-reindex-listlike\n",
      "  return self._getitem_tuple(key)\n"
     ]
    },
    {
     "name": "stdout",
     "output_type": "stream",
     "text": [
      "\u001b[0;30;48modi/439151.csv : Successfully Written.\n",
      "\u001b[0;30;48modi/661693.csv : Successfully Written.\n",
      "\u001b[0;30;48modi/649097.csv : Successfully Written.\n",
      "\u001b[0;30;48modi/573015.csv : Successfully Written.\n",
      "\u001b[0;30;48modi/576416.csv : Successfully Written.\n",
      "\u001b[0;30;48modi/433583.csv : Successfully Written.\n",
      "\u001b[0;30;48modi/474470.csv : Successfully Written.\n",
      "\u001b[0;30;48modi/433600.csv : Successfully Written.\n",
      "\u001b[0;30;48modi/706767.csv : Successfully Written.\n",
      "\u001b[0;30;48modi/410340.csv : Successfully Written.\n",
      "\u001b[0;30;48modi/386531.csv : Successfully Written.\n",
      "\u001b[0;30;48modi/520592.csv : Successfully Written.\n",
      "\u001b[0;30;48modi/1050607.csv : Successfully Written.\n",
      "\u001b[0;30;48modi/351685.csv : Successfully Written.\n",
      "\u001b[0;30;48modi/527679.csv : Successfully Written.\n",
      "\u001b[0;30;48modi/291218.csv : Successfully Written.\n",
      "\u001b[0;30;48modi/343760.csv : Successfully Written.\n"
     ]
    },
    {
     "name": "stderr",
     "output_type": "stream",
     "text": [
      "/home/tprolifer/anaconda3/lib/python3.7/site-packages/pandas/core/indexing.py:1494: FutureWarning: \n",
      "Passing list-likes to .loc or [] with any missing label will raise\n",
      "KeyError in the future, you can use .reindex() as an alternative.\n",
      "\n",
      "See the documentation here:\n",
      "https://pandas.pydata.org/pandas-docs/stable/indexing.html#deprecate-loc-reindex-listlike\n",
      "  return self._getitem_tuple(key)\n"
     ]
    },
    {
     "name": "stdout",
     "output_type": "stream",
     "text": [
      "\u001b[0;30;48modi/1062507.csv : Successfully Written.\n",
      "\u001b[0;30;48modi/1144486.csv : Successfully Written.\n",
      "\u001b[0;30;48modi/578619.csv : Successfully Written.\n",
      "\u001b[0;30;48modi/296685.csv : Successfully Written.\n",
      "\u001b[0;30;48modi/1022357.csv : Successfully Written.\n",
      "\u001b[0;30;48modi/520594.csv : Successfully Written.\n",
      "\u001b[0;30;48modi/534216.csv : Successfully Written.\n",
      "\u001b[0;30;48modi/754751.csv : Successfully Written.\n",
      "\u001b[0;30;48modi/296904.csv : Successfully Written.\n",
      "\u001b[0;30;48modi/1022369.csv : Successfully Written.\n",
      "\u001b[0;30;48modi/746097.csv : Successfully Written.\n",
      "\u001b[0;30;48modi/299010.csv : Successfully Written.\n",
      "\u001b[0;30;48modi/406205.csv : Successfully Written.\n"
     ]
    },
    {
     "name": "stderr",
     "output_type": "stream",
     "text": [
      "/home/tprolifer/anaconda3/lib/python3.7/site-packages/pandas/core/indexing.py:1494: FutureWarning: \n",
      "Passing list-likes to .loc or [] with any missing label will raise\n",
      "KeyError in the future, you can use .reindex() as an alternative.\n",
      "\n",
      "See the documentation here:\n",
      "https://pandas.pydata.org/pandas-docs/stable/indexing.html#deprecate-loc-reindex-listlike\n",
      "  return self._getitem_tuple(key)\n"
     ]
    },
    {
     "name": "stdout",
     "output_type": "stream",
     "text": [
      "\u001b[0;30;48modi/1004261.csv : Successfully Written.\n",
      "\u001b[0;30;48modi/291220.csv : Successfully Written.\n",
      "\u001b[0;30;48modi/668953.csv : Successfully Written.\n"
     ]
    },
    {
     "name": "stderr",
     "output_type": "stream",
     "text": [
      "/home/tprolifer/anaconda3/lib/python3.7/site-packages/pandas/core/indexing.py:1494: FutureWarning: \n",
      "Passing list-likes to .loc or [] with any missing label will raise\n",
      "KeyError in the future, you can use .reindex() as an alternative.\n",
      "\n",
      "See the documentation here:\n",
      "https://pandas.pydata.org/pandas-docs/stable/indexing.html#deprecate-loc-reindex-listlike\n",
      "  return self._getitem_tuple(key)\n"
     ]
    },
    {
     "name": "stdout",
     "output_type": "stream",
     "text": [
      "\u001b[0;30;48modi/1104480.csv : Successfully Written.\n",
      "\u001b[0;30;48modi/676531.csv : Successfully Written.\n",
      "\u001b[0;30;48modi/335356.csv : Successfully Written.\n",
      "\u001b[0;30;48modi/656463.csv : Successfully Written.\n",
      "\u001b[0;30;48modi/1079247.csv : Successfully Written.\n",
      "\u001b[0;30;48modi/1144483.csv : Successfully Written.\n"
     ]
    },
    {
     "name": "stderr",
     "output_type": "stream",
     "text": [
      "/home/tprolifer/anaconda3/lib/python3.7/site-packages/pandas/core/indexing.py:1494: FutureWarning: \n",
      "Passing list-likes to .loc or [] with any missing label will raise\n",
      "KeyError in the future, you can use .reindex() as an alternative.\n",
      "\n",
      "See the documentation here:\n",
      "https://pandas.pydata.org/pandas-docs/stable/indexing.html#deprecate-loc-reindex-listlike\n",
      "  return self._getitem_tuple(key)\n"
     ]
    },
    {
     "name": "stdout",
     "output_type": "stream",
     "text": [
      "\u001b[0;30;48modi/1068740.csv : Successfully Written.\n",
      "\u001b[0;30;48modi/423784.csv : Successfully Written.\n",
      "\u001b[0;30;48modi/931390.csv : Successfully Written.\n",
      "\u001b[0;30;48modi/343763.csv : Successfully Written.\n"
     ]
    },
    {
     "name": "stderr",
     "output_type": "stream",
     "text": [
      "/home/tprolifer/anaconda3/lib/python3.7/site-packages/pandas/core/indexing.py:1494: FutureWarning: \n",
      "Passing list-likes to .loc or [] with any missing label will raise\n",
      "KeyError in the future, you can use .reindex() as an alternative.\n",
      "\n",
      "See the documentation here:\n",
      "https://pandas.pydata.org/pandas-docs/stable/indexing.html#deprecate-loc-reindex-listlike\n",
      "  return self._getitem_tuple(key)\n"
     ]
    },
    {
     "name": "stdout",
     "output_type": "stream",
     "text": [
      "\u001b[0;30;48modi/997995.csv : Successfully Written.\n",
      "\u001b[0;30;48modi/426430.csv : Successfully Written.\n"
     ]
    },
    {
     "name": "stderr",
     "output_type": "stream",
     "text": [
      "/home/tprolifer/anaconda3/lib/python3.7/site-packages/pandas/core/indexing.py:1494: FutureWarning: \n",
      "Passing list-likes to .loc or [] with any missing label will raise\n",
      "KeyError in the future, you can use .reindex() as an alternative.\n",
      "\n",
      "See the documentation here:\n",
      "https://pandas.pydata.org/pandas-docs/stable/indexing.html#deprecate-loc-reindex-listlike\n",
      "  return self._getitem_tuple(key)\n"
     ]
    },
    {
     "name": "stdout",
     "output_type": "stream",
     "text": [
      "\u001b[0;30;48modi/247461.csv : Successfully Written.\n"
     ]
    },
    {
     "name": "stderr",
     "output_type": "stream",
     "text": [
      "/home/tprolifer/anaconda3/lib/python3.7/site-packages/pandas/core/indexing.py:1494: FutureWarning: \n",
      "Passing list-likes to .loc or [] with any missing label will raise\n",
      "KeyError in the future, you can use .reindex() as an alternative.\n",
      "\n",
      "See the documentation here:\n",
      "https://pandas.pydata.org/pandas-docs/stable/indexing.html#deprecate-loc-reindex-listlike\n",
      "  return self._getitem_tuple(key)\n"
     ]
    },
    {
     "name": "stdout",
     "output_type": "stream",
     "text": [
      "\u001b[0;30;48modi/247472.csv : Successfully Written.\n",
      "\u001b[0;30;48modi/1085962.csv : Successfully Written.\n"
     ]
    },
    {
     "name": "stderr",
     "output_type": "stream",
     "text": [
      "/home/tprolifer/anaconda3/lib/python3.7/site-packages/pandas/core/indexing.py:1494: FutureWarning: \n",
      "Passing list-likes to .loc or [] with any missing label will raise\n",
      "KeyError in the future, you can use .reindex() as an alternative.\n",
      "\n",
      "See the documentation here:\n",
      "https://pandas.pydata.org/pandas-docs/stable/indexing.html#deprecate-loc-reindex-listlike\n",
      "  return self._getitem_tuple(key)\n"
     ]
    },
    {
     "name": "stdout",
     "output_type": "stream",
     "text": [
      "\u001b[0;30;48modi/236963.csv : Successfully Written.\n",
      "\u001b[0;30;48modi/518965.csv : Successfully Written.\n"
     ]
    },
    {
     "name": "stderr",
     "output_type": "stream",
     "text": [
      "/home/tprolifer/anaconda3/lib/python3.7/site-packages/pandas/core/indexing.py:1494: FutureWarning: \n",
      "Passing list-likes to .loc or [] with any missing label will raise\n",
      "KeyError in the future, you can use .reindex() as an alternative.\n",
      "\n",
      "See the documentation here:\n",
      "https://pandas.pydata.org/pandas-docs/stable/indexing.html#deprecate-loc-reindex-listlike\n",
      "  return self._getitem_tuple(key)\n"
     ]
    },
    {
     "name": "stdout",
     "output_type": "stream",
     "text": [
      "\u001b[0;30;48modi/540170.csv : Successfully Written.\n",
      "\u001b[0;30;48modi/300441.csv : Successfully Written.\n",
      "\u001b[0;30;48modi/258474.csv : Successfully Written.\n",
      "\u001b[0;30;48modi/426432.csv : Successfully Written.\n",
      "\u001b[0;30;48modi/656437.csv : Successfully Written.\n",
      "\u001b[0;30;48modi/390204.csv : Successfully Written.\n",
      "\u001b[0;30;48modi/858485.csv : Successfully Written.\n"
     ]
    },
    {
     "name": "stderr",
     "output_type": "stream",
     "text": [
      "/home/tprolifer/anaconda3/lib/python3.7/site-packages/pandas/core/indexing.py:1494: FutureWarning: \n",
      "Passing list-likes to .loc or [] with any missing label will raise\n",
      "KeyError in the future, you can use .reindex() as an alternative.\n",
      "\n",
      "See the documentation here:\n",
      "https://pandas.pydata.org/pandas-docs/stable/indexing.html#deprecate-loc-reindex-listlike\n",
      "  return self._getitem_tuple(key)\n"
     ]
    },
    {
     "name": "stdout",
     "output_type": "stream",
     "text": [
      "\u001b[0;30;48modi/450107.csv : Successfully Written.\n"
     ]
    },
    {
     "name": "stderr",
     "output_type": "stream",
     "text": [
      "/home/tprolifer/anaconda3/lib/python3.7/site-packages/pandas/core/indexing.py:1494: FutureWarning: \n",
      "Passing list-likes to .loc or [] with any missing label will raise\n",
      "KeyError in the future, you can use .reindex() as an alternative.\n",
      "\n",
      "See the documentation here:\n",
      "https://pandas.pydata.org/pandas-docs/stable/indexing.html#deprecate-loc-reindex-listlike\n",
      "  return self._getitem_tuple(key)\n"
     ]
    },
    {
     "name": "stdout",
     "output_type": "stream",
     "text": [
      "\u001b[0;30;48modi/1062498.csv : Successfully Written.\n"
     ]
    },
    {
     "name": "stderr",
     "output_type": "stream",
     "text": [
      "/home/tprolifer/anaconda3/lib/python3.7/site-packages/pandas/core/indexing.py:1494: FutureWarning: \n",
      "Passing list-likes to .loc or [] with any missing label will raise\n",
      "KeyError in the future, you can use .reindex() as an alternative.\n",
      "\n",
      "See the documentation here:\n",
      "https://pandas.pydata.org/pandas-docs/stable/indexing.html#deprecate-loc-reindex-listlike\n",
      "  return self._getitem_tuple(key)\n"
     ]
    },
    {
     "name": "stdout",
     "output_type": "stream",
     "text": [
      "\u001b[0;30;48modi/916647.csv : Successfully Written.\n",
      "\u001b[0;30;48modi/1144515.csv : Successfully Written.\n",
      "\u001b[0;30;48modi/403370.csv : Successfully Written.\n",
      "\u001b[0;30;48modi/433582.csv : Successfully Written.\n",
      "\u001b[0;30;48modi/643677.csv : Successfully Written.\n",
      "\u001b[0;30;48modi/296916.csv : Successfully Written.\n",
      "\u001b[0;30;48modi/433566.csv : Successfully Written.\n",
      "\u001b[0;30;48modi/434258.csv : Successfully Written.\n",
      "\u001b[0;30;48modi/433569.csv : Successfully Written.\n"
     ]
    },
    {
     "name": "stderr",
     "output_type": "stream",
     "text": [
      "/home/tprolifer/anaconda3/lib/python3.7/site-packages/pandas/core/indexing.py:1494: FutureWarning: \n",
      "Passing list-likes to .loc or [] with any missing label will raise\n",
      "KeyError in the future, you can use .reindex() as an alternative.\n",
      "\n",
      "See the documentation here:\n",
      "https://pandas.pydata.org/pandas-docs/stable/indexing.html#deprecate-loc-reindex-listlike\n",
      "  return self._getitem_tuple(key)\n"
     ]
    },
    {
     "name": "stdout",
     "output_type": "stream",
     "text": [
      "\u001b[0;30;48modi/439147.csv : Successfully Written.\n",
      "\u001b[0;30;48modi/249214.csv : Successfully Written.\n",
      "\u001b[0;30;48modi/749539.csv : Successfully Written.\n",
      "\u001b[0;30;48modi/237571.csv : Successfully Written.\n",
      "\u001b[0;30;48modi/464723.csv : Successfully Written.\n",
      "\u001b[0;30;48modi/416238.csv : Successfully Written.\n",
      "\u001b[0;30;48modi/313993.csv : Successfully Written.\n"
     ]
    },
    {
     "name": "stderr",
     "output_type": "stream",
     "text": [
      "/home/tprolifer/anaconda3/lib/python3.7/site-packages/pandas/core/indexing.py:1494: FutureWarning: \n",
      "Passing list-likes to .loc or [] with any missing label will raise\n",
      "KeyError in the future, you can use .reindex() as an alternative.\n",
      "\n",
      "See the documentation here:\n",
      "https://pandas.pydata.org/pandas-docs/stable/indexing.html#deprecate-loc-reindex-listlike\n",
      "  return self._getitem_tuple(key)\n"
     ]
    },
    {
     "name": "stdout",
     "output_type": "stream",
     "text": [
      "\u001b[0;30;48modi/247475.csv : Successfully Written.\n",
      "\u001b[0;30;48modi/357962.csv : Successfully Written.\n",
      "\u001b[0;30;48modi/236809.csv : Successfully Written.\n",
      "\u001b[0;30;48modi/461569.csv : Successfully Written.\n",
      "\u001b[0;30;48modi/410337.csv : Successfully Written.\n",
      "\u001b[0;30;48modi/1073419.csv : Successfully Written.\n"
     ]
    },
    {
     "name": "stderr",
     "output_type": "stream",
     "text": [
      "/home/tprolifer/anaconda3/lib/python3.7/site-packages/pandas/core/indexing.py:1494: FutureWarning: \n",
      "Passing list-likes to .loc or [] with any missing label will raise\n",
      "KeyError in the future, you can use .reindex() as an alternative.\n",
      "\n",
      "See the documentation here:\n",
      "https://pandas.pydata.org/pandas-docs/stable/indexing.html#deprecate-loc-reindex-listlike\n",
      "  return self._getitem_tuple(key)\n"
     ]
    },
    {
     "name": "stdout",
     "output_type": "stream",
     "text": [
      "\u001b[0;30;48modi/1027319.csv : Successfully Written.\n",
      "\u001b[0;30;48modi/474467.csv : Successfully Written.\n",
      "\u001b[0;30;48modi/1051299.csv : Successfully Written.\n",
      "\u001b[0;30;48modi/455234.csv : Successfully Written.\n",
      "\u001b[0;30;48modi/516209.csv : Successfully Written.\n"
     ]
    },
    {
     "name": "stderr",
     "output_type": "stream",
     "text": [
      "/home/tprolifer/anaconda3/lib/python3.7/site-packages/pandas/core/indexing.py:1494: FutureWarning: \n",
      "Passing list-likes to .loc or [] with any missing label will raise\n",
      "KeyError in the future, you can use .reindex() as an alternative.\n",
      "\n",
      "See the documentation here:\n",
      "https://pandas.pydata.org/pandas-docs/stable/indexing.html#deprecate-loc-reindex-listlike\n",
      "  return self._getitem_tuple(key)\n"
     ]
    },
    {
     "name": "stdout",
     "output_type": "stream",
     "text": [
      "\u001b[0;30;48modi/1062503.csv : Successfully Written.\n"
     ]
    },
    {
     "name": "stderr",
     "output_type": "stream",
     "text": [
      "/home/tprolifer/anaconda3/lib/python3.7/site-packages/pandas/core/indexing.py:1494: FutureWarning: \n",
      "Passing list-likes to .loc or [] with any missing label will raise\n",
      "KeyError in the future, you can use .reindex() as an alternative.\n",
      "\n",
      "See the documentation here:\n",
      "https://pandas.pydata.org/pandas-docs/stable/indexing.html#deprecate-loc-reindex-listlike\n",
      "  return self._getitem_tuple(key)\n"
     ]
    },
    {
     "name": "stdout",
     "output_type": "stream",
     "text": [
      "\u001b[0;30;48modi/1104482.csv : Successfully Written.\n",
      "\u001b[0;30;48modi/1089525.csv : Successfully Written.\n"
     ]
    },
    {
     "name": "stderr",
     "output_type": "stream",
     "text": [
      "/home/tprolifer/anaconda3/lib/python3.7/site-packages/pandas/core/indexing.py:1494: FutureWarning: \n",
      "Passing list-likes to .loc or [] with any missing label will raise\n",
      "KeyError in the future, you can use .reindex() as an alternative.\n",
      "\n",
      "See the documentation here:\n",
      "https://pandas.pydata.org/pandas-docs/stable/indexing.html#deprecate-loc-reindex-listlike\n",
      "  return self._getitem_tuple(key)\n"
     ]
    },
    {
     "name": "stdout",
     "output_type": "stream",
     "text": [
      "\u001b[0;30;48modi/291360.csv : Successfully Written.\n",
      "\u001b[0;30;48modi/936159.csv : Successfully Written.\n",
      "\u001b[0;30;48modi/746095.csv : Successfully Written.\n"
     ]
    },
    {
     "name": "stderr",
     "output_type": "stream",
     "text": [
      "/home/tprolifer/anaconda3/lib/python3.7/site-packages/pandas/core/indexing.py:1494: FutureWarning: \n",
      "Passing list-likes to .loc or [] with any missing label will raise\n",
      "KeyError in the future, you can use .reindex() as an alternative.\n",
      "\n",
      "See the documentation here:\n",
      "https://pandas.pydata.org/pandas-docs/stable/indexing.html#deprecate-loc-reindex-listlike\n",
      "  return self._getitem_tuple(key)\n"
     ]
    },
    {
     "name": "stdout",
     "output_type": "stream",
     "text": [
      "\u001b[0;30;48modi/1000887.csv : Successfully Written.\n",
      "\u001b[0;30;48modi/894289.csv : Successfully Written.\n",
      "\u001b[0;30;48modi/936141.csv : Successfully Written.\n",
      "\u001b[0;30;48modi/576403.csv : Successfully Written.\n",
      "\u001b[0;30;48modi/387566.csv : Successfully Written.\n",
      "\u001b[0;30;48modi/298809.csv : Successfully Written.\n",
      "\u001b[0;30;48modi/416236.csv : Successfully Written.\n",
      "\u001b[0;30;48modi/647251.csv : Successfully Written.\n",
      "\u001b[0;30;48modi/1083448.csv : Successfully Written.\n",
      "\u001b[0;30;48modi/256612.csv : Successfully Written.\n",
      "\u001b[0;30;48modi/350047.csv : Successfully Written.\n",
      "\u001b[0;30;48modi/433598.csv : Successfully Written.\n"
     ]
    },
    {
     "name": "stderr",
     "output_type": "stream",
     "text": [
      "/home/tprolifer/anaconda3/lib/python3.7/site-packages/pandas/core/indexing.py:1494: FutureWarning: \n",
      "Passing list-likes to .loc or [] with any missing label will raise\n",
      "KeyError in the future, you can use .reindex() as an alternative.\n",
      "\n",
      "See the documentation here:\n",
      "https://pandas.pydata.org/pandas-docs/stable/indexing.html#deprecate-loc-reindex-listlike\n",
      "  return self._getitem_tuple(key)\n"
     ]
    },
    {
     "name": "stdout",
     "output_type": "stream",
     "text": [
      "\u001b[0;30;48modi/1004253.csv : Successfully Written.\n"
     ]
    },
    {
     "name": "stderr",
     "output_type": "stream",
     "text": [
      "/home/tprolifer/anaconda3/lib/python3.7/site-packages/pandas/core/indexing.py:1494: FutureWarning: \n",
      "Passing list-likes to .loc or [] with any missing label will raise\n",
      "KeyError in the future, you can use .reindex() as an alternative.\n",
      "\n",
      "See the documentation here:\n",
      "https://pandas.pydata.org/pandas-docs/stable/indexing.html#deprecate-loc-reindex-listlike\n",
      "  return self._getitem_tuple(key)\n"
     ]
    },
    {
     "name": "stdout",
     "output_type": "stream",
     "text": [
      "\u001b[0;30;48modi/597924.csv : Successfully Written.\n",
      "\u001b[0;30;48modi/1000895.csv : Successfully Written.\n",
      "\u001b[0;30;48modi/1085963.csv : Successfully Written.\n",
      "\u001b[0;30;48modi/375462.csv : Successfully Written.\n"
     ]
    },
    {
     "name": "stderr",
     "output_type": "stream",
     "text": [
      "/home/tprolifer/anaconda3/lib/python3.7/site-packages/pandas/core/indexing.py:1494: FutureWarning: \n",
      "Passing list-likes to .loc or [] with any missing label will raise\n",
      "KeyError in the future, you can use .reindex() as an alternative.\n",
      "\n",
      "See the documentation here:\n",
      "https://pandas.pydata.org/pandas-docs/stable/indexing.html#deprecate-loc-reindex-listlike\n",
      "  return self._getitem_tuple(key)\n"
     ]
    },
    {
     "name": "stdout",
     "output_type": "stream",
     "text": [
      "\u001b[0;30;48modi/1089780.csv : Successfully Written.\n",
      "\u001b[0;30;48modi/446965.csv : Successfully Written.\n",
      "\u001b[0;30;48modi/664299.csv : Successfully Written.\n",
      "\u001b[0;30;48modi/812801.csv : Successfully Written.\n",
      "\u001b[0;30;48modi/300488.csv : Successfully Written.\n",
      "\u001b[0;30;48modi/656453.csv : Successfully Written.\n",
      "\u001b[0;30;48modi/415284.csv : Successfully Written.\n",
      "\u001b[0;30;48modi/1079249.csv : Successfully Written.\n",
      "\u001b[0;30;48modi/800471.csv : Successfully Written.\n",
      "\u001b[0;30;48modi/656435.csv : Successfully Written.\n",
      "\u001b[0;30;48modi/913629.csv : Successfully Written.\n",
      "\u001b[0;30;48modi/656427.csv : Successfully Written.\n",
      "\u001b[0;30;48modi/601613.csv : Successfully Written.\n"
     ]
    },
    {
     "name": "stderr",
     "output_type": "stream",
     "text": [
      "/home/tprolifer/anaconda3/lib/python3.7/site-packages/pandas/core/indexing.py:1494: FutureWarning: \n",
      "Passing list-likes to .loc or [] with any missing label will raise\n",
      "KeyError in the future, you can use .reindex() as an alternative.\n",
      "\n",
      "See the documentation here:\n",
      "https://pandas.pydata.org/pandas-docs/stable/indexing.html#deprecate-loc-reindex-listlike\n",
      "  return self._getitem_tuple(key)\n"
     ]
    },
    {
     "name": "stdout",
     "output_type": "stream",
     "text": [
      "\u001b[0;30;48modi/247497.csv : Successfully Written.\n",
      "\u001b[0;30;48modi/291369.csv : Successfully Written.\n",
      "\u001b[0;30;48modi/979839.csv : Successfully Written.\n",
      "\u001b[0;30;48modi/722679.csv : Successfully Written.\n",
      "\u001b[0;30;48modi/885959.csv : Successfully Written.\n",
      "\u001b[0;30;48modi/415274.csv : Successfully Written.\n",
      "\u001b[0;30;48modi/446963.csv : Successfully Written.\n",
      "\u001b[0;30;48modi/238173.csv : Successfully Written.\n"
     ]
    },
    {
     "name": "stderr",
     "output_type": "stream",
     "text": [
      "/home/tprolifer/anaconda3/lib/python3.7/site-packages/pandas/core/indexing.py:1494: FutureWarning: \n",
      "Passing list-likes to .loc or [] with any missing label will raise\n",
      "KeyError in the future, you can use .reindex() as an alternative.\n",
      "\n",
      "See the documentation here:\n",
      "https://pandas.pydata.org/pandas-docs/stable/indexing.html#deprecate-loc-reindex-listlike\n",
      "  return self._getitem_tuple(key)\n"
     ]
    },
    {
     "name": "stdout",
     "output_type": "stream",
     "text": [
      "\u001b[0;30;48modi/798369.csv : Successfully Written.\n"
     ]
    },
    {
     "name": "stderr",
     "output_type": "stream",
     "text": [
      "/home/tprolifer/anaconda3/lib/python3.7/site-packages/pandas/core/indexing.py:1494: FutureWarning: \n",
      "Passing list-likes to .loc or [] with any missing label will raise\n",
      "KeyError in the future, you can use .reindex() as an alternative.\n",
      "\n",
      "See the documentation here:\n",
      "https://pandas.pydata.org/pandas-docs/stable/indexing.html#deprecate-loc-reindex-listlike\n",
      "  return self._getitem_tuple(key)\n"
     ]
    },
    {
     "name": "stdout",
     "output_type": "stream",
     "text": [
      "\u001b[0;30;48modi/293077.csv : Successfully Written.\n"
     ]
    },
    {
     "name": "stderr",
     "output_type": "stream",
     "text": [
      "/home/tprolifer/anaconda3/lib/python3.7/site-packages/pandas/core/indexing.py:1494: FutureWarning: \n",
      "Passing list-likes to .loc or [] with any missing label will raise\n",
      "KeyError in the future, you can use .reindex() as an alternative.\n",
      "\n",
      "See the documentation here:\n",
      "https://pandas.pydata.org/pandas-docs/stable/indexing.html#deprecate-loc-reindex-listlike\n",
      "  return self._getitem_tuple(key)\n"
     ]
    },
    {
     "name": "stdout",
     "output_type": "stream",
     "text": [
      "\u001b[0;30;48modi/239917.csv : Successfully Written.\n",
      "\u001b[0;30;48modi/573026.csv : Successfully Written.\n",
      "\u001b[0;30;48modi/518959.csv : Successfully Written.\n",
      "\u001b[0;30;48modi/350049.csv : Successfully Written.\n"
     ]
    },
    {
     "name": "stderr",
     "output_type": "stream",
     "text": [
      "/home/tprolifer/anaconda3/lib/python3.7/site-packages/pandas/core/indexing.py:1494: FutureWarning: \n",
      "Passing list-likes to .loc or [] with any missing label will raise\n",
      "KeyError in the future, you can use .reindex() as an alternative.\n",
      "\n",
      "See the documentation here:\n",
      "https://pandas.pydata.org/pandas-docs/stable/indexing.html#deprecate-loc-reindex-listlike\n",
      "  return self._getitem_tuple(key)\n"
     ]
    },
    {
     "name": "stdout",
     "output_type": "stream",
     "text": [
      "\u001b[0;30;48modi/1062512.csv : Successfully Written.\n",
      "\u001b[0;30;48modi/576410.csv : Successfully Written.\n",
      "\u001b[0;30;48modi/456668.csv : Successfully Written.\n",
      "\u001b[0;30;48modi/1019975.csv : Successfully Written.\n",
      "\u001b[0;30;48modi/736445.csv : Successfully Written.\n",
      "\u001b[0;30;48modi/423794.csv : Successfully Written.\n",
      "\u001b[0;30;48modi/1034821.csv : Successfully Written.\n",
      "\u001b[0;30;48modi/247482.csv : Successfully Written.\n",
      "\u001b[0;30;48modi/1089526.csv : Successfully Written.\n",
      "\u001b[0;30;48modi/749797.csv : Successfully Written.\n",
      "\u001b[0;30;48modi/422626.csv : Successfully Written.\n",
      "\u001b[0;30;48modi/247488.csv : Successfully Written.\n",
      "\u001b[0;30;48modi/736453.csv : Successfully Written.\n",
      "\u001b[0;30;48modi/518970.csv : Successfully Written.\n",
      "\u001b[0;30;48modi/601612.csv : Successfully Written.\n",
      "\u001b[0;30;48modi/914211.csv : Successfully Written.\n",
      "\u001b[0;30;48modi/225250.csv : Successfully Written.\n",
      "\u001b[0;30;48modi/415283.csv : Successfully Written.\n"
     ]
    },
    {
     "name": "stderr",
     "output_type": "stream",
     "text": [
      "/home/tprolifer/anaconda3/lib/python3.7/site-packages/pandas/core/indexing.py:1494: FutureWarning: \n",
      "Passing list-likes to .loc or [] with any missing label will raise\n",
      "KeyError in the future, you can use .reindex() as an alternative.\n",
      "\n",
      "See the documentation here:\n",
      "https://pandas.pydata.org/pandas-docs/stable/indexing.html#deprecate-loc-reindex-listlike\n",
      "  return self._getitem_tuple(key)\n"
     ]
    },
    {
     "name": "stdout",
     "output_type": "stream",
     "text": [
      "\u001b[0;30;48modi/247477.csv : Successfully Written.\n",
      "\u001b[0;30;48modi/872483.csv : Successfully Written.\n",
      "\u001b[0;30;48modi/573018.csv : Successfully Written.\n"
     ]
    },
    {
     "name": "stderr",
     "output_type": "stream",
     "text": [
      "/home/tprolifer/anaconda3/lib/python3.7/site-packages/pandas/core/indexing.py:1494: FutureWarning: \n",
      "Passing list-likes to .loc or [] with any missing label will raise\n",
      "KeyError in the future, you can use .reindex() as an alternative.\n",
      "\n",
      "See the documentation here:\n",
      "https://pandas.pydata.org/pandas-docs/stable/indexing.html#deprecate-loc-reindex-listlike\n",
      "  return self._getitem_tuple(key)\n"
     ]
    },
    {
     "name": "stdout",
     "output_type": "stream",
     "text": [
      "\u001b[0;30;48modi/377313.csv : Successfully Written.\n"
     ]
    },
    {
     "name": "stderr",
     "output_type": "stream",
     "text": [
      "/home/tprolifer/anaconda3/lib/python3.7/site-packages/pandas/core/indexing.py:1494: FutureWarning: \n",
      "Passing list-likes to .loc or [] with any missing label will raise\n",
      "KeyError in the future, you can use .reindex() as an alternative.\n",
      "\n",
      "See the documentation here:\n",
      "https://pandas.pydata.org/pandas-docs/stable/indexing.html#deprecate-loc-reindex-listlike\n",
      "  return self._getitem_tuple(key)\n"
     ]
    },
    {
     "name": "stdout",
     "output_type": "stream",
     "text": [
      "\u001b[0;30;48modi/946547.csv : Successfully Written.\n"
     ]
    },
    {
     "name": "stderr",
     "output_type": "stream",
     "text": [
      "/home/tprolifer/anaconda3/lib/python3.7/site-packages/pandas/core/indexing.py:1494: FutureWarning: \n",
      "Passing list-likes to .loc or [] with any missing label will raise\n",
      "KeyError in the future, you can use .reindex() as an alternative.\n",
      "\n",
      "See the documentation here:\n",
      "https://pandas.pydata.org/pandas-docs/stable/indexing.html#deprecate-loc-reindex-listlike\n",
      "  return self._getitem_tuple(key)\n"
     ]
    },
    {
     "name": "stdout",
     "output_type": "stream",
     "text": [
      "\u001b[0;30;48modi/589308.csv : Successfully Written.\n",
      "\u001b[0;30;48modi/297803.csv : Successfully Written.\n",
      "\u001b[0;30;48modi/656471.csv : Successfully Written.\n",
      "\u001b[0;30;48modi/325581.csv : Successfully Written.\n"
     ]
    },
    {
     "name": "stderr",
     "output_type": "stream",
     "text": [
      "/home/tprolifer/anaconda3/lib/python3.7/site-packages/pandas/core/indexing.py:1494: FutureWarning: \n",
      "Passing list-likes to .loc or [] with any missing label will raise\n",
      "KeyError in the future, you can use .reindex() as an alternative.\n",
      "\n",
      "See the documentation here:\n",
      "https://pandas.pydata.org/pandas-docs/stable/indexing.html#deprecate-loc-reindex-listlike\n",
      "  return self._getitem_tuple(key)\n"
     ]
    },
    {
     "name": "stdout",
     "output_type": "stream",
     "text": [
      "\u001b[0;30;48modi/628086.csv : Successfully Written.\n",
      "\u001b[0;30;48modi/527680.csv : Successfully Written.\n",
      "\u001b[0;30;48modi/1144517.csv : Successfully Written.\n",
      "\u001b[0;30;48modi/817211.csv : Successfully Written.\n",
      "\u001b[0;30;48modi/895811.csv : Successfully Written.\n",
      "\u001b[0;30;48modi/656483.csv : Successfully Written.\n",
      "\u001b[0;30;48modi/594909.csv : Successfully Written.\n",
      "\u001b[0;30;48modi/226381.csv : Successfully Written.\n",
      "\u001b[0;30;48modi/386533.csv : Successfully Written.\n"
     ]
    },
    {
     "name": "stderr",
     "output_type": "stream",
     "text": [
      "/home/tprolifer/anaconda3/lib/python3.7/site-packages/pandas/core/indexing.py:1494: FutureWarning: \n",
      "Passing list-likes to .loc or [] with any missing label will raise\n",
      "KeyError in the future, you can use .reindex() as an alternative.\n",
      "\n",
      "See the documentation here:\n",
      "https://pandas.pydata.org/pandas-docs/stable/indexing.html#deprecate-loc-reindex-listlike\n",
      "  return self._getitem_tuple(key)\n"
     ]
    },
    {
     "name": "stdout",
     "output_type": "stream",
     "text": [
      "\u001b[0;30;48modi/997965.csv : Successfully Written.\n",
      "\u001b[0;30;48modi/1007653.csv : Successfully Written.\n",
      "\u001b[0;30;48modi/300437.csv : Successfully Written.\n",
      "\u001b[0;30;48modi/374060.csv : Successfully Written.\n",
      "\u001b[0;30;48modi/915779.csv : Successfully Written.\n",
      "\u001b[0;30;48modi/317581.csv : Successfully Written.\n"
     ]
    },
    {
     "name": "stderr",
     "output_type": "stream",
     "text": [
      "/home/tprolifer/anaconda3/lib/python3.7/site-packages/pandas/core/indexing.py:1494: FutureWarning: \n",
      "Passing list-likes to .loc or [] with any missing label will raise\n",
      "KeyError in the future, you can use .reindex() as an alternative.\n",
      "\n",
      "See the documentation here:\n",
      "https://pandas.pydata.org/pandas-docs/stable/indexing.html#deprecate-loc-reindex-listlike\n",
      "  return self._getitem_tuple(key)\n"
     ]
    },
    {
     "name": "stdout",
     "output_type": "stream",
     "text": [
      "\u001b[0;30;48modi/1068731.csv : Successfully Written.\n",
      "\u001b[0;30;48modi/579743.csv : Successfully Written.\n",
      "\u001b[0;30;48modi/282689.csv : Successfully Written.\n",
      "\u001b[0;30;48modi/433580.csv : Successfully Written.\n"
     ]
    },
    {
     "name": "stderr",
     "output_type": "stream",
     "text": [
      "/home/tprolifer/anaconda3/lib/python3.7/site-packages/pandas/core/indexing.py:1494: FutureWarning: \n",
      "Passing list-likes to .loc or [] with any missing label will raise\n",
      "KeyError in the future, you can use .reindex() as an alternative.\n",
      "\n",
      "See the documentation here:\n",
      "https://pandas.pydata.org/pandas-docs/stable/indexing.html#deprecate-loc-reindex-listlike\n",
      "  return self._getitem_tuple(key)\n"
     ]
    },
    {
     "name": "stdout",
     "output_type": "stream",
     "text": [
      "\u001b[0;30;48modi/1062500.csv : Successfully Written.\n",
      "\u001b[0;30;48modi/350478.csv : Successfully Written.\n"
     ]
    },
    {
     "name": "stderr",
     "output_type": "stream",
     "text": [
      "/home/tprolifer/anaconda3/lib/python3.7/site-packages/pandas/core/indexing.py:1494: FutureWarning: \n",
      "Passing list-likes to .loc or [] with any missing label will raise\n",
      "KeyError in the future, you can use .reindex() as an alternative.\n",
      "\n",
      "See the documentation here:\n",
      "https://pandas.pydata.org/pandas-docs/stable/indexing.html#deprecate-loc-reindex-listlike\n",
      "  return self._getitem_tuple(key)\n"
     ]
    },
    {
     "name": "stdout",
     "output_type": "stream",
     "text": [
      "\u001b[0;30;48modi/1026851.csv : Successfully Written.\n",
      "\u001b[0;30;48modi/249236.csv : Successfully Written.\n",
      "\u001b[0;30;48modi/754755.csv : Successfully Written.\n",
      "\u001b[0;30;48modi/567371.csv : Successfully Written.\n",
      "\u001b[0;30;48modi/627007.csv : Successfully Written.\n"
     ]
    },
    {
     "name": "stderr",
     "output_type": "stream",
     "text": [
      "/home/tprolifer/anaconda3/lib/python3.7/site-packages/pandas/core/indexing.py:1494: FutureWarning: \n",
      "Passing list-likes to .loc or [] with any missing label will raise\n",
      "KeyError in the future, you can use .reindex() as an alternative.\n",
      "\n",
      "See the documentation here:\n",
      "https://pandas.pydata.org/pandas-docs/stable/indexing.html#deprecate-loc-reindex-listlike\n",
      "  return self._getitem_tuple(key)\n"
     ]
    },
    {
     "name": "stdout",
     "output_type": "stream",
     "text": [
      "\u001b[0;30;48modi/319144.csv : Successfully Written.\n",
      "\u001b[0;30;48modi/667641.csv : Successfully Written.\n",
      "\u001b[0;30;48modi/385751.csv : Successfully Written.\n",
      "\u001b[0;30;48modi/343736.csv : Successfully Written.\n"
     ]
    },
    {
     "name": "stderr",
     "output_type": "stream",
     "text": [
      "/home/tprolifer/anaconda3/lib/python3.7/site-packages/pandas/core/indexing.py:1494: FutureWarning: \n",
      "Passing list-likes to .loc or [] with any missing label will raise\n",
      "KeyError in the future, you can use .reindex() as an alternative.\n",
      "\n",
      "See the documentation here:\n",
      "https://pandas.pydata.org/pandas-docs/stable/indexing.html#deprecate-loc-reindex-listlike\n",
      "  return self._getitem_tuple(key)\n"
     ]
    },
    {
     "name": "stdout",
     "output_type": "stream",
     "text": [
      "\u001b[0;30;48modi/754809.csv : Successfully Written.\n",
      "\u001b[0;30;48modi/351690.csv : Successfully Written.\n",
      "\u001b[0;30;48modi/527681.csv : Successfully Written.\n",
      "\u001b[0;30;48modi/567370.csv : Successfully Written.\n"
     ]
    },
    {
     "name": "stderr",
     "output_type": "stream",
     "text": [
      "/home/tprolifer/anaconda3/lib/python3.7/site-packages/pandas/core/indexing.py:1494: FutureWarning: \n",
      "Passing list-likes to .loc or [] with any missing label will raise\n",
      "KeyError in the future, you can use .reindex() as an alternative.\n",
      "\n",
      "See the documentation here:\n",
      "https://pandas.pydata.org/pandas-docs/stable/indexing.html#deprecate-loc-reindex-listlike\n",
      "  return self._getitem_tuple(key)\n"
     ]
    },
    {
     "name": "stdout",
     "output_type": "stream",
     "text": [
      "\u001b[0;30;48modi/798371.csv : Successfully Written.\n",
      "\u001b[0;30;48modi/521219.csv : Successfully Written.\n",
      "\u001b[0;30;48modi/979821.csv : Successfully Written.\n",
      "\u001b[0;30;48modi/587473.csv : Successfully Written.\n",
      "\u001b[0;30;48modi/250670.csv : Successfully Written.\n",
      "\u001b[0;30;48modi/736511.csv : Successfully Written.\n",
      "\u001b[0;30;48modi/473927.csv : Successfully Written.\n",
      "\u001b[0;30;48modi/914215.csv : Successfully Written.\n",
      "\u001b[0;30;48modi/386534.csv : Successfully Written.\n",
      "\u001b[0;30;48modi/812785.csv : Successfully Written.\n",
      "\u001b[0;30;48modi/426391.csv : Successfully Written.\n",
      "\u001b[0;30;48modi/452147.csv : Successfully Written.\n",
      "\u001b[0;30;48modi/1144488.csv : Successfully Written.\n"
     ]
    },
    {
     "name": "stderr",
     "output_type": "stream",
     "text": [
      "/home/tprolifer/anaconda3/lib/python3.7/site-packages/pandas/core/indexing.py:1494: FutureWarning: \n",
      "Passing list-likes to .loc or [] with any missing label will raise\n",
      "KeyError in the future, you can use .reindex() as an alternative.\n",
      "\n",
      "See the documentation here:\n",
      "https://pandas.pydata.org/pandas-docs/stable/indexing.html#deprecate-loc-reindex-listlike\n",
      "  return self._getitem_tuple(key)\n"
     ]
    },
    {
     "name": "stdout",
     "output_type": "stream",
     "text": [
      "\u001b[0;30;48modi/860277.csv : Successfully Written.\n",
      "\u001b[0;30;48modi/1144526.csv : Successfully Written.\n",
      "\u001b[0;30;48modi/656407.csv : Successfully Written.\n",
      "\u001b[0;30;48modi/455236.csv : Successfully Written.\n",
      "\u001b[0;30;48modi/514027.csv : Successfully Written.\n",
      "\u001b[0;30;48modi/656459.csv : Successfully Written.\n",
      "\u001b[0;30;48modi/722687.csv : Successfully Written.\n"
     ]
    },
    {
     "name": "stderr",
     "output_type": "stream",
     "text": [
      "/home/tprolifer/anaconda3/lib/python3.7/site-packages/pandas/core/indexing.py:1494: FutureWarning: \n",
      "Passing list-likes to .loc or [] with any missing label will raise\n",
      "KeyError in the future, you can use .reindex() as an alternative.\n",
      "\n",
      "See the documentation here:\n",
      "https://pandas.pydata.org/pandas-docs/stable/indexing.html#deprecate-loc-reindex-listlike\n",
      "  return self._getitem_tuple(key)\n"
     ]
    },
    {
     "name": "stdout",
     "output_type": "stream",
     "text": [
      "\u001b[0;30;48modi/433584.csv : Successfully Written.\n",
      "\u001b[0;30;48modi/1144518.csv : Successfully Written.\n",
      "\u001b[0;30;48modi/483126.csv : Successfully Written.\n",
      "\u001b[0;30;48modi/385750.csv : Successfully Written.\n"
     ]
    },
    {
     "name": "stderr",
     "output_type": "stream",
     "text": [
      "/home/tprolifer/anaconda3/lib/python3.7/site-packages/pandas/core/indexing.py:1494: FutureWarning: \n",
      "Passing list-likes to .loc or [] with any missing label will raise\n",
      "KeyError in the future, you can use .reindex() as an alternative.\n",
      "\n",
      "See the documentation here:\n",
      "https://pandas.pydata.org/pandas-docs/stable/indexing.html#deprecate-loc-reindex-listlike\n",
      "  return self._getitem_tuple(key)\n"
     ]
    },
    {
     "name": "stdout",
     "output_type": "stream",
     "text": [
      "\u001b[0;30;48modi/754813.csv : Successfully Written.\n",
      "\u001b[0;30;48modi/749795.csv : Successfully Written.\n",
      "\u001b[0;30;48modi/226382.csv : Successfully Written.\n",
      "\u001b[0;30;48modi/426387.csv : Successfully Written.\n",
      "\u001b[0;30;48modi/433589.csv : Successfully Written.\n",
      "\u001b[0;30;48modi/297793.csv : Successfully Written.\n",
      "\u001b[0;30;48modi/1050227.csv : Successfully Written.\n"
     ]
    },
    {
     "name": "stderr",
     "output_type": "stream",
     "text": [
      "/home/tprolifer/anaconda3/lib/python3.7/site-packages/pandas/core/indexing.py:1494: FutureWarning: \n",
      "Passing list-likes to .loc or [] with any missing label will raise\n",
      "KeyError in the future, you can use .reindex() as an alternative.\n",
      "\n",
      "See the documentation here:\n",
      "https://pandas.pydata.org/pandas-docs/stable/indexing.html#deprecate-loc-reindex-listlike\n",
      "  return self._getitem_tuple(key)\n"
     ]
    },
    {
     "name": "stdout",
     "output_type": "stream",
     "text": [
      "\u001b[0;30;48modi/489215.csv : Successfully Written.\n",
      "\u001b[0;30;48modi/913661.csv : Successfully Written.\n"
     ]
    },
    {
     "name": "stderr",
     "output_type": "stream",
     "text": [
      "/home/tprolifer/anaconda3/lib/python3.7/site-packages/pandas/core/indexing.py:1494: FutureWarning: \n",
      "Passing list-likes to .loc or [] with any missing label will raise\n",
      "KeyError in the future, you can use .reindex() as an alternative.\n",
      "\n",
      "See the documentation here:\n",
      "https://pandas.pydata.org/pandas-docs/stable/indexing.html#deprecate-loc-reindex-listlike\n",
      "  return self._getitem_tuple(key)\n"
     ]
    },
    {
     "name": "stdout",
     "output_type": "stream",
     "text": [
      "\u001b[0;30;48modi/433586.csv : Successfully Written.\n",
      "\u001b[0;30;48modi/571947.csv : Successfully Written.\n",
      "\u001b[0;30;48modi/566945.csv : Successfully Written.\n"
     ]
    },
    {
     "name": "stderr",
     "output_type": "stream",
     "text": [
      "/home/tprolifer/anaconda3/lib/python3.7/site-packages/pandas/core/indexing.py:1494: FutureWarning: \n",
      "Passing list-likes to .loc or [] with any missing label will raise\n",
      "KeyError in the future, you can use .reindex() as an alternative.\n",
      "\n",
      "See the documentation here:\n",
      "https://pandas.pydata.org/pandas-docs/stable/indexing.html#deprecate-loc-reindex-listlike\n",
      "  return self._getitem_tuple(key)\n"
     ]
    },
    {
     "name": "stdout",
     "output_type": "stream",
     "text": [
      "\u001b[0;30;48modi/560923.csv : Successfully Written.\n",
      "\u001b[0;30;48modi/406194.csv : Successfully Written.\n"
     ]
    },
    {
     "name": "stderr",
     "output_type": "stream",
     "text": [
      "/home/tprolifer/anaconda3/lib/python3.7/site-packages/pandas/core/indexing.py:1494: FutureWarning: \n",
      "Passing list-likes to .loc or [] with any missing label will raise\n",
      "KeyError in the future, you can use .reindex() as an alternative.\n",
      "\n",
      "See the documentation here:\n",
      "https://pandas.pydata.org/pandas-docs/stable/indexing.html#deprecate-loc-reindex-listlike\n",
      "  return self._getitem_tuple(key)\n"
     ]
    },
    {
     "name": "stdout",
     "output_type": "stream",
     "text": [
      "\u001b[0;30;48modi/249752.csv : Successfully Written.\n"
     ]
    },
    {
     "name": "stderr",
     "output_type": "stream",
     "text": [
      "/home/tprolifer/anaconda3/lib/python3.7/site-packages/pandas/core/indexing.py:1494: FutureWarning: \n",
      "Passing list-likes to .loc or [] with any missing label will raise\n",
      "KeyError in the future, you can use .reindex() as an alternative.\n",
      "\n",
      "See the documentation here:\n",
      "https://pandas.pydata.org/pandas-docs/stable/indexing.html#deprecate-loc-reindex-listlike\n",
      "  return self._getitem_tuple(key)\n"
     ]
    },
    {
     "name": "stdout",
     "output_type": "stream",
     "text": [
      "\u001b[0;30;48modi/602474.csv : Successfully Written.\n",
      "\u001b[0;30;48modi/727923.csv : Successfully Written.\n",
      "\u001b[0;30;48modi/259793.csv : Successfully Written.\n",
      "\u001b[0;30;48modi/467093.csv : Successfully Written.\n",
      "\u001b[0;30;48modi/1144516.csv : Successfully Written.\n",
      "\u001b[0;30;48modi/430508.csv : Successfully Written.\n",
      "\u001b[0;30;48modi/1050223.csv : Successfully Written.\n",
      "\u001b[0;30;48modi/538070.csv : Successfully Written.\n"
     ]
    },
    {
     "name": "stderr",
     "output_type": "stream",
     "text": [
      "/home/tprolifer/anaconda3/lib/python3.7/site-packages/pandas/core/indexing.py:1494: FutureWarning: \n",
      "Passing list-likes to .loc or [] with any missing label will raise\n",
      "KeyError in the future, you can use .reindex() as an alternative.\n",
      "\n",
      "See the documentation here:\n",
      "https://pandas.pydata.org/pandas-docs/stable/indexing.html#deprecate-loc-reindex-listlike\n",
      "  return self._getitem_tuple(key)\n"
     ]
    },
    {
     "name": "stdout",
     "output_type": "stream",
     "text": [
      "\u001b[0;30;48modi/916645.csv : Successfully Written.\n",
      "\u001b[0;30;48modi/426405.csv : Successfully Written.\n",
      "\u001b[0;30;48modi/343734.csv : Successfully Written.\n",
      "\u001b[0;30;48modi/238178.csv : Successfully Written.\n",
      "\u001b[0;30;48modi/858489.csv : Successfully Written.\n",
      "\u001b[0;30;48modi/1073411.csv : Successfully Written.\n",
      "\u001b[0;30;48modi/812781.csv : Successfully Written.\n",
      "\u001b[0;30;48modi/742619.csv : Successfully Written.\n",
      "\u001b[0;30;48modi/635657.csv : Successfully Written.\n",
      "\u001b[0;30;48modi/750675.csv : Successfully Written.\n",
      "\u001b[0;30;48modi/251494.csv : Successfully Written.\n"
     ]
    },
    {
     "name": "stderr",
     "output_type": "stream",
     "text": [
      "/home/tprolifer/anaconda3/lib/python3.7/site-packages/pandas/core/indexing.py:1494: FutureWarning: \n",
      "Passing list-likes to .loc or [] with any missing label will raise\n",
      "KeyError in the future, you can use .reindex() as an alternative.\n",
      "\n",
      "See the documentation here:\n",
      "https://pandas.pydata.org/pandas-docs/stable/indexing.html#deprecate-loc-reindex-listlike\n",
      "  return self._getitem_tuple(key)\n"
     ]
    },
    {
     "name": "stdout",
     "output_type": "stream",
     "text": [
      "\u001b[0;30;48modi/730087.csv : Successfully Written.\n",
      "\u001b[0;30;48modi/567358.csv : Successfully Written.\n",
      "\u001b[0;30;48modi/1031427.csv : Successfully Written.\n",
      "\u001b[0;30;48modi/236595.csv : Successfully Written.\n",
      "\u001b[0;30;48modi/1030219.csv : Successfully Written.\n",
      "\u001b[0;30;48modi/657639.csv : Successfully Written.\n",
      "\u001b[0;30;48modi/291371.csv : Successfully Written.\n"
     ]
    },
    {
     "name": "stderr",
     "output_type": "stream",
     "text": [
      "/home/tprolifer/anaconda3/lib/python3.7/site-packages/pandas/core/indexing.py:1494: FutureWarning: \n",
      "Passing list-likes to .loc or [] with any missing label will raise\n",
      "KeyError in the future, you can use .reindex() as an alternative.\n",
      "\n",
      "See the documentation here:\n",
      "https://pandas.pydata.org/pandas-docs/stable/indexing.html#deprecate-loc-reindex-listlike\n",
      "  return self._getitem_tuple(key)\n"
     ]
    },
    {
     "name": "stdout",
     "output_type": "stream",
     "text": [
      "\u001b[0;30;48modi/754811.csv : Successfully Written.\n"
     ]
    },
    {
     "name": "stderr",
     "output_type": "stream",
     "text": [
      "/home/tprolifer/anaconda3/lib/python3.7/site-packages/pandas/core/indexing.py:1494: FutureWarning: \n",
      "Passing list-likes to .loc or [] with any missing label will raise\n",
      "KeyError in the future, you can use .reindex() as an alternative.\n",
      "\n",
      "See the documentation here:\n",
      "https://pandas.pydata.org/pandas-docs/stable/indexing.html#deprecate-loc-reindex-listlike\n",
      "  return self._getitem_tuple(key)\n"
     ]
    },
    {
     "name": "stdout",
     "output_type": "stream",
     "text": [
      "\u001b[0;30;48modi/565815.csv : Successfully Written.\n",
      "\u001b[0;30;48modi/1020039.csv : Successfully Written.\n"
     ]
    },
    {
     "name": "stderr",
     "output_type": "stream",
     "text": [
      "/home/tprolifer/anaconda3/lib/python3.7/site-packages/pandas/core/indexing.py:1494: FutureWarning: \n",
      "Passing list-likes to .loc or [] with any missing label will raise\n",
      "KeyError in the future, you can use .reindex() as an alternative.\n",
      "\n",
      "See the documentation here:\n",
      "https://pandas.pydata.org/pandas-docs/stable/indexing.html#deprecate-loc-reindex-listlike\n",
      "  return self._getitem_tuple(key)\n"
     ]
    },
    {
     "name": "stdout",
     "output_type": "stream",
     "text": [
      "\u001b[0;30;48modi/1062505.csv : Successfully Written.\n",
      "\u001b[0;30;48modi/403381.csv : Successfully Written.\n",
      "\u001b[0;30;48modi/256610.csv : Successfully Written.\n",
      "\u001b[0;30;48modi/300486.csv : Successfully Written.\n",
      "\u001b[0;30;48modi/385749.csv : Successfully Written.\n",
      "\u001b[0;30;48modi/325580.csv : Successfully Written.\n",
      "\u001b[0;30;48modi/696747.csv : Successfully Written.\n",
      "\u001b[0;30;48modi/1144495.csv : Successfully Written.\n"
     ]
    },
    {
     "name": "stderr",
     "output_type": "stream",
     "text": [
      "/home/tprolifer/anaconda3/lib/python3.7/site-packages/pandas/core/indexing.py:1494: FutureWarning: \n",
      "Passing list-likes to .loc or [] with any missing label will raise\n",
      "KeyError in the future, you can use .reindex() as an alternative.\n",
      "\n",
      "See the documentation here:\n",
      "https://pandas.pydata.org/pandas-docs/stable/indexing.html#deprecate-loc-reindex-listlike\n",
      "  return self._getitem_tuple(key)\n"
     ]
    },
    {
     "name": "stdout",
     "output_type": "stream",
     "text": [
      "\u001b[0;30;48modi/523805.csv : Successfully Written.\n"
     ]
    },
    {
     "name": "stderr",
     "output_type": "stream",
     "text": [
      "/home/tprolifer/anaconda3/lib/python3.7/site-packages/pandas/core/indexing.py:1494: FutureWarning: \n",
      "Passing list-likes to .loc or [] with any missing label will raise\n",
      "KeyError in the future, you can use .reindex() as an alternative.\n",
      "\n",
      "See the documentation here:\n",
      "https://pandas.pydata.org/pandas-docs/stable/indexing.html#deprecate-loc-reindex-listlike\n",
      "  return self._getitem_tuple(key)\n"
     ]
    },
    {
     "name": "stdout",
     "output_type": "stream",
     "text": [
      "\u001b[0;30;48modi/1062514.csv : Successfully Written.\n",
      "\u001b[0;30;48modi/1031429.csv : Successfully Written.\n",
      "\u001b[0;30;48modi/1089141.csv : Successfully Written.\n",
      "\u001b[0;30;48modi/434263.csv : Successfully Written.\n",
      "\u001b[0;30;48modi/456664.csv : Successfully Written.\n",
      "\u001b[0;30;48modi/924627.csv : Successfully Written.\n",
      "\u001b[0;30;48modi/426384.csv : Successfully Written.\n",
      "\u001b[0;30;48modi/415275.csv : Successfully Written.\n",
      "\u001b[0;30;48modi/450379.csv : Successfully Written.\n",
      "\u001b[0;30;48modi/514039.csv : Successfully Written.\n",
      "\u001b[0;30;48modi/1030227.csv : Successfully Written.\n",
      "\u001b[0;30;48modi/578615.csv : Successfully Written.\n",
      "\u001b[0;30;48modi/1144523.csv : Successfully Written.\n",
      "\u001b[0;30;48modi/566925.csv : Successfully Written.\n",
      "\u001b[0;30;48modi/474468.csv : Successfully Written.\n",
      "\u001b[0;30;48modi/936131.csv : Successfully Written.\n"
     ]
    },
    {
     "name": "stderr",
     "output_type": "stream",
     "text": [
      "/home/tprolifer/anaconda3/lib/python3.7/site-packages/pandas/core/indexing.py:1494: FutureWarning: \n",
      "Passing list-likes to .loc or [] with any missing label will raise\n",
      "KeyError in the future, you can use .reindex() as an alternative.\n",
      "\n",
      "See the documentation here:\n",
      "https://pandas.pydata.org/pandas-docs/stable/indexing.html#deprecate-loc-reindex-listlike\n",
      "  return self._getitem_tuple(key)\n"
     ]
    },
    {
     "name": "stdout",
     "output_type": "stream",
     "text": [
      "\u001b[0;30;48modi/247479.csv : Successfully Written.\n",
      "\u001b[0;30;48modi/335348.csv : Successfully Written.\n",
      "\u001b[0;30;48modi/423785.csv : Successfully Written.\n"
     ]
    },
    {
     "name": "stderr",
     "output_type": "stream",
     "text": [
      "/home/tprolifer/anaconda3/lib/python3.7/site-packages/pandas/core/indexing.py:1494: FutureWarning: \n",
      "Passing list-likes to .loc or [] with any missing label will raise\n",
      "KeyError in the future, you can use .reindex() as an alternative.\n",
      "\n",
      "See the documentation here:\n",
      "https://pandas.pydata.org/pandas-docs/stable/indexing.html#deprecate-loc-reindex-listlike\n",
      "  return self._getitem_tuple(key)\n"
     ]
    },
    {
     "name": "stdout",
     "output_type": "stream",
     "text": [
      "\u001b[0;30;48modi/406202.csv : Successfully Written.\n",
      "\u001b[0;30;48modi/426421.csv : Successfully Written.\n",
      "\u001b[0;30;48modi/1168016.csv : Successfully Written.\n"
     ]
    },
    {
     "name": "stderr",
     "output_type": "stream",
     "text": [
      "/home/tprolifer/anaconda3/lib/python3.7/site-packages/pandas/core/indexing.py:1494: FutureWarning: \n",
      "Passing list-likes to .loc or [] with any missing label will raise\n",
      "KeyError in the future, you can use .reindex() as an alternative.\n",
      "\n",
      "See the documentation here:\n",
      "https://pandas.pydata.org/pandas-docs/stable/indexing.html#deprecate-loc-reindex-listlike\n",
      "  return self._getitem_tuple(key)\n"
     ]
    },
    {
     "name": "stdout",
     "output_type": "stream",
     "text": [
      "\u001b[0;30;48modi/656443.csv : Successfully Written.\n",
      "\u001b[0;30;48modi/530431.csv : Successfully Written.\n",
      "\u001b[0;30;48modi/848847.csv : Successfully Written.\n",
      "\u001b[0;30;48modi/1144512.csv : Successfully Written.\n",
      "\u001b[0;30;48modi/534210.csv : Successfully Written.\n",
      "\u001b[0;30;48modi/667729.csv : Successfully Written.\n"
     ]
    },
    {
     "name": "stderr",
     "output_type": "stream",
     "text": [
      "/home/tprolifer/anaconda3/lib/python3.7/site-packages/pandas/core/indexing.py:1494: FutureWarning: \n",
      "Passing list-likes to .loc or [] with any missing label will raise\n",
      "KeyError in the future, you can use .reindex() as an alternative.\n",
      "\n",
      "See the documentation here:\n",
      "https://pandas.pydata.org/pandas-docs/stable/indexing.html#deprecate-loc-reindex-listlike\n",
      "  return self._getitem_tuple(key)\n"
     ]
    },
    {
     "name": "stdout",
     "output_type": "stream",
     "text": [
      "\u001b[0;30;48modi/564781.csv : Successfully Written.\n",
      "\u001b[0;30;48modi/296908.csv : Successfully Written.\n",
      "\u001b[0;30;48modi/1051301.csv : Successfully Written.\n",
      "\u001b[0;30;48modi/433604.csv : Successfully Written.\n",
      "\u001b[0;30;48modi/913447.csv : Successfully Written.\n",
      "\u001b[0;30;48modi/868731.csv : Successfully Written.\n"
     ]
    },
    {
     "name": "stderr",
     "output_type": "stream",
     "text": [
      "/home/tprolifer/anaconda3/lib/python3.7/site-packages/pandas/core/indexing.py:1494: FutureWarning: \n",
      "Passing list-likes to .loc or [] with any missing label will raise\n",
      "KeyError in the future, you can use .reindex() as an alternative.\n",
      "\n",
      "See the documentation here:\n",
      "https://pandas.pydata.org/pandas-docs/stable/indexing.html#deprecate-loc-reindex-listlike\n",
      "  return self._getitem_tuple(key)\n"
     ]
    },
    {
     "name": "stdout",
     "output_type": "stream",
     "text": [
      "\u001b[0;30;48modi/247499.csv : Successfully Written.\n",
      "\u001b[0;30;48modi/913655.csv : Successfully Written.\n",
      "\u001b[0;30;48modi/666041.csv : Successfully Written.\n",
      "\u001b[0;30;48modi/1030225.csv : Successfully Written.\n",
      "\u001b[0;30;48modi/1073429.csv : Successfully Written.\n"
     ]
    },
    {
     "name": "stderr",
     "output_type": "stream",
     "text": [
      "/home/tprolifer/anaconda3/lib/python3.7/site-packages/pandas/core/indexing.py:1494: FutureWarning: \n",
      "Passing list-likes to .loc or [] with any missing label will raise\n",
      "KeyError in the future, you can use .reindex() as an alternative.\n",
      "\n",
      "See the documentation here:\n",
      "https://pandas.pydata.org/pandas-docs/stable/indexing.html#deprecate-loc-reindex-listlike\n",
      "  return self._getitem_tuple(key)\n"
     ]
    },
    {
     "name": "stdout",
     "output_type": "stream",
     "text": [
      "\u001b[0;30;48modi/249754.csv : Successfully Written.\n",
      "\u001b[0;30;48modi/450501.csv : Successfully Written.\n"
     ]
    },
    {
     "name": "stderr",
     "output_type": "stream",
     "text": [
      "/home/tprolifer/anaconda3/lib/python3.7/site-packages/pandas/core/indexing.py:1494: FutureWarning: \n",
      "Passing list-likes to .loc or [] with any missing label will raise\n",
      "KeyError in the future, you can use .reindex() as an alternative.\n",
      "\n",
      "See the documentation here:\n",
      "https://pandas.pydata.org/pandas-docs/stable/indexing.html#deprecate-loc-reindex-listlike\n",
      "  return self._getitem_tuple(key)\n"
     ]
    },
    {
     "name": "stdout",
     "output_type": "stream",
     "text": [
      "\u001b[0;30;48modi/1003273.csv : Successfully Written.\n",
      "\u001b[0;30;48modi/238175.csv : Successfully Written.\n"
     ]
    },
    {
     "name": "stderr",
     "output_type": "stream",
     "text": [
      "/home/tprolifer/anaconda3/lib/python3.7/site-packages/pandas/core/indexing.py:1494: FutureWarning: \n",
      "Passing list-likes to .loc or [] with any missing label will raise\n",
      "KeyError in the future, you can use .reindex() as an alternative.\n",
      "\n",
      "See the documentation here:\n",
      "https://pandas.pydata.org/pandas-docs/stable/indexing.html#deprecate-loc-reindex-listlike\n",
      "  return self._getitem_tuple(key)\n"
     ]
    },
    {
     "name": "stdout",
     "output_type": "stream",
     "text": [
      "\u001b[0;30;48modi/1043955.csv : Successfully Written.\n",
      "\u001b[0;30;48modi/351684.csv : Successfully Written.\n",
      "\u001b[0;30;48modi/722673.csv : Successfully Written.\n"
     ]
    },
    {
     "name": "stderr",
     "output_type": "stream",
     "text": [
      "/home/tprolifer/anaconda3/lib/python3.7/site-packages/pandas/core/indexing.py:1494: FutureWarning: \n",
      "Passing list-likes to .loc or [] with any missing label will raise\n",
      "KeyError in the future, you can use .reindex() as an alternative.\n",
      "\n",
      "See the documentation here:\n",
      "https://pandas.pydata.org/pandas-docs/stable/indexing.html#deprecate-loc-reindex-listlike\n",
      "  return self._getitem_tuple(key)\n"
     ]
    },
    {
     "name": "stdout",
     "output_type": "stream",
     "text": [
      "\u001b[0;30;48modi/730289.csv : Successfully Written.\n",
      "\u001b[0;30;48modi/275789.csv : Successfully Written.\n",
      "\u001b[0;30;48modi/661685.csv : Successfully Written.\n",
      "\u001b[0;30;48modi/593725.csv : Successfully Written.\n",
      "\u001b[0;30;48modi/582189.csv : Successfully Written.\n",
      "\u001b[0;30;48modi/426388.csv : Successfully Written.\n",
      "\u001b[0;30;48modi/913455.csv : Successfully Written.\n",
      "\u001b[0;30;48modi/433572.csv : Successfully Written.\n",
      "\u001b[0;30;48modi/249237.csv : Successfully Written.\n"
     ]
    },
    {
     "name": "stderr",
     "output_type": "stream",
     "text": [
      "/home/tprolifer/anaconda3/lib/python3.7/site-packages/pandas/core/indexing.py:1494: FutureWarning: \n",
      "Passing list-likes to .loc or [] with any missing label will raise\n",
      "KeyError in the future, you can use .reindex() as an alternative.\n",
      "\n",
      "See the documentation here:\n",
      "https://pandas.pydata.org/pandas-docs/stable/indexing.html#deprecate-loc-reindex-listlike\n",
      "  return self._getitem_tuple(key)\n"
     ]
    },
    {
     "name": "stdout",
     "output_type": "stream",
     "text": [
      "\u001b[0;30;48modi/1168518.csv : Successfully Written.\n",
      "\u001b[0;30;48modi/1040495.csv : Successfully Written.\n",
      "\u001b[0;30;48modi/1080630.csv : Successfully Written.\n",
      "\u001b[0;30;48modi/392618.csv : Successfully Written.\n",
      "\u001b[0;30;48modi/903597.csv : Successfully Written.\n",
      "\u001b[0;30;48modi/542854.csv : Successfully Written.\n"
     ]
    },
    {
     "name": "stderr",
     "output_type": "stream",
     "text": [
      "/home/tprolifer/anaconda3/lib/python3.7/site-packages/pandas/core/indexing.py:1494: FutureWarning: \n",
      "Passing list-likes to .loc or [] with any missing label will raise\n",
      "KeyError in the future, you can use .reindex() as an alternative.\n",
      "\n",
      "See the documentation here:\n",
      "https://pandas.pydata.org/pandas-docs/stable/indexing.html#deprecate-loc-reindex-listlike\n",
      "  return self._getitem_tuple(key)\n"
     ]
    },
    {
     "name": "stdout",
     "output_type": "stream",
     "text": [
      "\u001b[0;30;48modi/239919.csv : Successfully Written.\n",
      "\u001b[0;30;48modi/474481.csv : Successfully Written.\n",
      "\u001b[0;30;48modi/514025.csv : Successfully Written.\n"
     ]
    },
    {
     "name": "stderr",
     "output_type": "stream",
     "text": [
      "/home/tprolifer/anaconda3/lib/python3.7/site-packages/pandas/core/indexing.py:1494: FutureWarning: \n",
      "Passing list-likes to .loc or [] with any missing label will raise\n",
      "KeyError in the future, you can use .reindex() as an alternative.\n",
      "\n",
      "See the documentation here:\n",
      "https://pandas.pydata.org/pandas-docs/stable/indexing.html#deprecate-loc-reindex-listlike\n",
      "  return self._getitem_tuple(key)\n"
     ]
    },
    {
     "name": "stdout",
     "output_type": "stream",
     "text": [
      "\u001b[0;30;48modi/430887.csv : Successfully Written.\n",
      "\u001b[0;30;48modi/710301.csv : Successfully Written.\n",
      "\u001b[0;30;48modi/406196.csv : Successfully Written.\n"
     ]
    },
    {
     "name": "stderr",
     "output_type": "stream",
     "text": [
      "/home/tprolifer/anaconda3/lib/python3.7/site-packages/pandas/core/indexing.py:1494: FutureWarning: \n",
      "Passing list-likes to .loc or [] with any missing label will raise\n",
      "KeyError in the future, you can use .reindex() as an alternative.\n",
      "\n",
      "See the documentation here:\n",
      "https://pandas.pydata.org/pandas-docs/stable/indexing.html#deprecate-loc-reindex-listlike\n",
      "  return self._getitem_tuple(key)\n"
     ]
    },
    {
     "name": "stdout",
     "output_type": "stream",
     "text": [
      "\u001b[0;30;48modi/870891.csv : Successfully Written.\n",
      "\u001b[0;30;48modi/1001371.csv : Successfully Written.\n",
      "\u001b[0;30;48modi/257770.csv : Successfully Written.\n",
      "\u001b[0;30;48modi/812803.csv : Successfully Written.\n"
     ]
    },
    {
     "name": "stderr",
     "output_type": "stream",
     "text": [
      "/home/tprolifer/anaconda3/lib/python3.7/site-packages/pandas/core/indexing.py:1494: FutureWarning: \n",
      "Passing list-likes to .loc or [] with any missing label will raise\n",
      "KeyError in the future, you can use .reindex() as an alternative.\n",
      "\n",
      "See the documentation here:\n",
      "https://pandas.pydata.org/pandas-docs/stable/indexing.html#deprecate-loc-reindex-listlike\n",
      "  return self._getitem_tuple(key)\n"
     ]
    },
    {
     "name": "stdout",
     "output_type": "stream",
     "text": [
      "\u001b[0;30;48modi/247506.csv : Successfully Written.\n",
      "\u001b[0;30;48modi/426389.csv : Successfully Written.\n",
      "\u001b[0;30;48modi/300487.csv : Successfully Written.\n",
      "\u001b[0;30;48modi/785963.csv : Successfully Written.\n",
      "\u001b[0;30;48modi/415286.csv : Successfully Written.\n",
      "\u001b[0;30;48modi/441828.csv : Successfully Written.\n",
      "\u001b[0;30;48modi/378759.csv : Successfully Written.\n",
      "\u001b[0;30;48modi/567369.csv : Successfully Written.\n",
      "\u001b[0;30;48modi/587474.csv : Successfully Written.\n"
     ]
    },
    {
     "name": "stderr",
     "output_type": "stream",
     "text": [
      "/home/tprolifer/anaconda3/lib/python3.7/site-packages/pandas/core/indexing.py:1494: FutureWarning: \n",
      "Passing list-likes to .loc or [] with any missing label will raise\n",
      "KeyError in the future, you can use .reindex() as an alternative.\n",
      "\n",
      "See the documentation here:\n",
      "https://pandas.pydata.org/pandas-docs/stable/indexing.html#deprecate-loc-reindex-listlike\n",
      "  return self._getitem_tuple(key)\n"
     ]
    },
    {
     "name": "stdout",
     "output_type": "stream",
     "text": [
      "\u001b[0;30;48modi/1089779.csv : Successfully Written.\n",
      "\u001b[0;30;48modi/251496.csv : Successfully Written.\n",
      "\u001b[0;30;48modi/441827.csv : Successfully Written.\n"
     ]
    },
    {
     "name": "stderr",
     "output_type": "stream",
     "text": [
      "/home/tprolifer/anaconda3/lib/python3.7/site-packages/pandas/core/indexing.py:1494: FutureWarning: \n",
      "Passing list-likes to .loc or [] with any missing label will raise\n",
      "KeyError in the future, you can use .reindex() as an alternative.\n",
      "\n",
      "See the documentation here:\n",
      "https://pandas.pydata.org/pandas-docs/stable/indexing.html#deprecate-loc-reindex-listlike\n",
      "  return self._getitem_tuple(key)\n"
     ]
    },
    {
     "name": "stdout",
     "output_type": "stream",
     "text": [
      "\u001b[0;30;48modi/433565.csv : Successfully Written.\n",
      "\u001b[0;30;48modi/635654.csv : Successfully Written.\n",
      "\u001b[0;30;48modi/352665.csv : Successfully Written.\n",
      "\u001b[0;30;48modi/325804.csv : Successfully Written.\n"
     ]
    },
    {
     "name": "stderr",
     "output_type": "stream",
     "text": [
      "/home/tprolifer/anaconda3/lib/python3.7/site-packages/pandas/core/indexing.py:1494: FutureWarning: \n",
      "Passing list-likes to .loc or [] with any missing label will raise\n",
      "KeyError in the future, you can use .reindex() as an alternative.\n",
      "\n",
      "See the documentation here:\n",
      "https://pandas.pydata.org/pandas-docs/stable/indexing.html#deprecate-loc-reindex-listlike\n",
      "  return self._getitem_tuple(key)\n"
     ]
    },
    {
     "name": "stdout",
     "output_type": "stream",
     "text": [
      "\u001b[0;30;48modi/267715.csv : Successfully Written.\n"
     ]
    },
    {
     "name": "stderr",
     "output_type": "stream",
     "text": [
      "/home/tprolifer/anaconda3/lib/python3.7/site-packages/pandas/core/indexing.py:1494: FutureWarning: \n",
      "Passing list-likes to .loc or [] with any missing label will raise\n",
      "KeyError in the future, you can use .reindex() as an alternative.\n",
      "\n",
      "See the documentation here:\n",
      "https://pandas.pydata.org/pandas-docs/stable/indexing.html#deprecate-loc-reindex-listlike\n",
      "  return self._getitem_tuple(key)\n"
     ]
    },
    {
     "name": "stdout",
     "output_type": "stream",
     "text": [
      "\u001b[0;30;48modi/1030223.csv : Successfully Written.\n",
      "\u001b[0;30;48modi/455235.csv : Successfully Written.\n",
      "\u001b[0;30;48modi/1089142.csv : Successfully Written.\n"
     ]
    },
    {
     "name": "stderr",
     "output_type": "stream",
     "text": [
      "/home/tprolifer/anaconda3/lib/python3.7/site-packages/pandas/core/indexing.py:1494: FutureWarning: \n",
      "Passing list-likes to .loc or [] with any missing label will raise\n",
      "KeyError in the future, you can use .reindex() as an alternative.\n",
      "\n",
      "See the documentation here:\n",
      "https://pandas.pydata.org/pandas-docs/stable/indexing.html#deprecate-loc-reindex-listlike\n",
      "  return self._getitem_tuple(key)\n"
     ]
    },
    {
     "name": "stdout",
     "output_type": "stream",
     "text": [
      "\u001b[0;30;48modi/903599.csv : Successfully Written.\n",
      "\u001b[0;30;48modi/531983.csv : Successfully Written.\n",
      "\u001b[0;30;48modi/325569.csv : Successfully Written.\n",
      "\u001b[0;30;48modi/594915.csv : Successfully Written.\n"
     ]
    },
    {
     "name": "stderr",
     "output_type": "stream",
     "text": [
      "/home/tprolifer/anaconda3/lib/python3.7/site-packages/pandas/core/indexing.py:1494: FutureWarning: \n",
      "Passing list-likes to .loc or [] with any missing label will raise\n",
      "KeyError in the future, you can use .reindex() as an alternative.\n",
      "\n",
      "See the documentation here:\n",
      "https://pandas.pydata.org/pandas-docs/stable/indexing.html#deprecate-loc-reindex-listlike\n",
      "  return self._getitem_tuple(key)\n"
     ]
    },
    {
     "name": "stdout",
     "output_type": "stream",
     "text": [
      "\u001b[0;30;48modi/518962.csv : Successfully Written.\n",
      "\u001b[0;30;48modi/1073403.csv : Successfully Written.\n",
      "\u001b[0;30;48modi/534231.csv : Successfully Written.\n",
      "\u001b[0;30;48modi/456665.csv : Successfully Written.\n"
     ]
    },
    {
     "name": "stderr",
     "output_type": "stream",
     "text": [
      "/home/tprolifer/anaconda3/lib/python3.7/site-packages/pandas/core/indexing.py:1494: FutureWarning: \n",
      "Passing list-likes to .loc or [] with any missing label will raise\n",
      "KeyError in the future, you can use .reindex() as an alternative.\n",
      "\n",
      "See the documentation here:\n",
      "https://pandas.pydata.org/pandas-docs/stable/indexing.html#deprecate-loc-reindex-listlike\n",
      "  return self._getitem_tuple(key)\n"
     ]
    },
    {
     "name": "stdout",
     "output_type": "stream",
     "text": [
      "\u001b[0;30;48modi/754787.csv : Successfully Written.\n",
      "\u001b[0;30;48modi/534230.csv : Successfully Written.\n",
      "\u001b[0;30;48modi/1022371.csv : Successfully Written.\n"
     ]
    },
    {
     "name": "stderr",
     "output_type": "stream",
     "text": [
      "/home/tprolifer/anaconda3/lib/python3.7/site-packages/pandas/core/indexing.py:1494: FutureWarning: \n",
      "Passing list-likes to .loc or [] with any missing label will raise\n",
      "KeyError in the future, you can use .reindex() as an alternative.\n",
      "\n",
      "See the documentation here:\n",
      "https://pandas.pydata.org/pandas-docs/stable/indexing.html#deprecate-loc-reindex-listlike\n",
      "  return self._getitem_tuple(key)\n"
     ]
    },
    {
     "name": "stdout",
     "output_type": "stream",
     "text": [
      "\u001b[0;30;48modi/913649.csv : Successfully Written.\n",
      "\u001b[0;30;48modi/251491.csv : Successfully Written.\n",
      "\u001b[0;30;48modi/587471.csv : Successfully Written.\n",
      "\u001b[0;30;48modi/1144489.csv : Successfully Written.\n",
      "\u001b[0;30;48modi/430889.csv : Successfully Written.\n",
      "\u001b[0;30;48modi/1020013.csv : Successfully Written.\n",
      "\u001b[0;30;48modi/1077949.csv : Successfully Written.\n",
      "\u001b[0;30;48modi/1073409.csv : Successfully Written.\n",
      "\u001b[0;30;48modi/817207.csv : Successfully Written.\n",
      "\u001b[0;30;48modi/226386.csv : Successfully Written.\n",
      "\u001b[0;30;48modi/392620.csv : Successfully Written.\n",
      "\u001b[0;30;48modi/810829.csv : Successfully Written.\n",
      "\u001b[0;30;48modi/249745.csv : Successfully Written.\n",
      "\u001b[0;30;48modi/343761.csv : Successfully Written.\n",
      "\u001b[0;30;48modi/913435.csv : Successfully Written.\n"
     ]
    },
    {
     "name": "stderr",
     "output_type": "stream",
     "text": [
      "/home/tprolifer/anaconda3/lib/python3.7/site-packages/pandas/core/indexing.py:1494: FutureWarning: \n",
      "Passing list-likes to .loc or [] with any missing label will raise\n",
      "KeyError in the future, you can use .reindex() as an alternative.\n",
      "\n",
      "See the documentation here:\n",
      "https://pandas.pydata.org/pandas-docs/stable/indexing.html#deprecate-loc-reindex-listlike\n",
      "  return self._getitem_tuple(key)\n"
     ]
    },
    {
     "name": "stdout",
     "output_type": "stream",
     "text": [
      "\u001b[0;30;48modi/597927.csv : Successfully Written.\n",
      "\u001b[0;30;48modi/430888.csv : Successfully Written.\n",
      "\u001b[0;30;48modi/894291.csv : Successfully Written.\n",
      "\u001b[0;30;48modi/750671.csv : Successfully Written.\n"
     ]
    },
    {
     "name": "stderr",
     "output_type": "stream",
     "text": [
      "/home/tprolifer/anaconda3/lib/python3.7/site-packages/pandas/core/indexing.py:1494: FutureWarning: \n",
      "Passing list-likes to .loc or [] with any missing label will raise\n",
      "KeyError in the future, you can use .reindex() as an alternative.\n",
      "\n",
      "See the documentation here:\n",
      "https://pandas.pydata.org/pandas-docs/stable/indexing.html#deprecate-loc-reindex-listlike\n",
      "  return self._getitem_tuple(key)\n"
     ]
    },
    {
     "name": "stdout",
     "output_type": "stream",
     "text": [
      "\u001b[0;30;48modi/401074.csv : Successfully Written.\n",
      "\u001b[0;30;48modi/336204.csv : Successfully Written.\n",
      "\u001b[0;30;48modi/936137.csv : Successfully Written.\n",
      "\u001b[0;30;48modi/415273.csv : Successfully Written.\n",
      "\u001b[0;30;48modi/249232.csv : Successfully Written.\n",
      "\u001b[0;30;48modi/345471.csv : Successfully Written.\n",
      "\u001b[0;30;48modi/812789.csv : Successfully Written.\n"
     ]
    },
    {
     "name": "stderr",
     "output_type": "stream",
     "text": [
      "/home/tprolifer/anaconda3/lib/python3.7/site-packages/pandas/core/indexing.py:1494: FutureWarning: \n",
      "Passing list-likes to .loc or [] with any missing label will raise\n",
      "KeyError in the future, you can use .reindex() as an alternative.\n",
      "\n",
      "See the documentation here:\n",
      "https://pandas.pydata.org/pandas-docs/stable/indexing.html#deprecate-loc-reindex-listlike\n",
      "  return self._getitem_tuple(key)\n"
     ]
    },
    {
     "name": "stdout",
     "output_type": "stream",
     "text": [
      "\u001b[0;30;48modi/1014847.csv : Successfully Written.\n"
     ]
    },
    {
     "name": "stderr",
     "output_type": "stream",
     "text": [
      "/home/tprolifer/anaconda3/lib/python3.7/site-packages/pandas/core/indexing.py:1494: FutureWarning: \n",
      "Passing list-likes to .loc or [] with any missing label will raise\n",
      "KeyError in the future, you can use .reindex() as an alternative.\n",
      "\n",
      "See the documentation here:\n",
      "https://pandas.pydata.org/pandas-docs/stable/indexing.html#deprecate-loc-reindex-listlike\n",
      "  return self._getitem_tuple(key)\n"
     ]
    },
    {
     "name": "stdout",
     "output_type": "stream",
     "text": [
      "\u001b[0;30;48modi/895809.csv : Successfully Written.\n",
      "\u001b[0;30;48modi/587475.csv : Successfully Written.\n",
      "\u001b[0;30;48modi/913431.csv : Successfully Written.\n",
      "\u001b[0;30;48modi/636159.csv : Successfully Written.\n",
      "\u001b[0;30;48modi/446962.csv : Successfully Written.\n",
      "\u001b[0;30;48modi/1085969.csv : Successfully Written.\n",
      "\u001b[0;30;48modi/518966.csv : Successfully Written.\n",
      "\u001b[0;30;48modi/516206.csv : Successfully Written.\n",
      "\u001b[0;30;48modi/932851.csv : Successfully Written.\n"
     ]
    },
    {
     "name": "stderr",
     "output_type": "stream",
     "text": [
      "/home/tprolifer/anaconda3/lib/python3.7/site-packages/pandas/core/indexing.py:1494: FutureWarning: \n",
      "Passing list-likes to .loc or [] with any missing label will raise\n",
      "KeyError in the future, you can use .reindex() as an alternative.\n",
      "\n",
      "See the documentation here:\n",
      "https://pandas.pydata.org/pandas-docs/stable/indexing.html#deprecate-loc-reindex-listlike\n",
      "  return self._getitem_tuple(key)\n"
     ]
    },
    {
     "name": "stdout",
     "output_type": "stream",
     "text": [
      "\u001b[0;30;48modi/1168517.csv : Successfully Written.\n",
      "\u001b[0;30;48modi/1089533.csv : Successfully Written.\n",
      "\u001b[0;30;48modi/1085958.csv : Successfully Written.\n",
      "\u001b[0;30;48modi/291217.csv : Successfully Written.\n"
     ]
    },
    {
     "name": "stderr",
     "output_type": "stream",
     "text": [
      "/home/tprolifer/anaconda3/lib/python3.7/site-packages/pandas/core/indexing.py:1494: FutureWarning: \n",
      "Passing list-likes to .loc or [] with any missing label will raise\n",
      "KeyError in the future, you can use .reindex() as an alternative.\n",
      "\n",
      "See the documentation here:\n",
      "https://pandas.pydata.org/pandas-docs/stable/indexing.html#deprecate-loc-reindex-listlike\n",
      "  return self._getitem_tuple(key)\n"
     ]
    },
    {
     "name": "stdout",
     "output_type": "stream",
     "text": [
      "\u001b[0;30;48modi/798373.csv : Successfully Written.\n"
     ]
    },
    {
     "name": "stderr",
     "output_type": "stream",
     "text": [
      "/home/tprolifer/anaconda3/lib/python3.7/site-packages/pandas/core/indexing.py:1494: FutureWarning: \n",
      "Passing list-likes to .loc or [] with any missing label will raise\n",
      "KeyError in the future, you can use .reindex() as an alternative.\n",
      "\n",
      "See the documentation here:\n",
      "https://pandas.pydata.org/pandas-docs/stable/indexing.html#deprecate-loc-reindex-listlike\n",
      "  return self._getitem_tuple(key)\n"
     ]
    },
    {
     "name": "stdout",
     "output_type": "stream",
     "text": [
      "\u001b[0;30;48modi/239913.csv : Successfully Written.\n"
     ]
    },
    {
     "name": "stderr",
     "output_type": "stream",
     "text": [
      "/home/tprolifer/anaconda3/lib/python3.7/site-packages/pandas/core/indexing.py:1494: FutureWarning: \n",
      "Passing list-likes to .loc or [] with any missing label will raise\n",
      "KeyError in the future, you can use .reindex() as an alternative.\n",
      "\n",
      "See the documentation here:\n",
      "https://pandas.pydata.org/pandas-docs/stable/indexing.html#deprecate-loc-reindex-listlike\n",
      "  return self._getitem_tuple(key)\n"
     ]
    },
    {
     "name": "stdout",
     "output_type": "stream",
     "text": [
      "\u001b[0;30;48modi/952191.csv : Successfully Written.\n",
      "\u001b[0;30;48modi/422630.csv : Successfully Written.\n",
      "\u001b[0;30;48modi/1059715.csv : Successfully Written.\n",
      "\u001b[0;30;48modi/579755.csv : Successfully Written.\n",
      "\u001b[0;30;48modi/569241.csv : Successfully Written.\n"
     ]
    },
    {
     "name": "stderr",
     "output_type": "stream",
     "text": [
      "/home/tprolifer/anaconda3/lib/python3.7/site-packages/pandas/core/indexing.py:1494: FutureWarning: \n",
      "Passing list-likes to .loc or [] with any missing label will raise\n",
      "KeyError in the future, you can use .reindex() as an alternative.\n",
      "\n",
      "See the documentation here:\n",
      "https://pandas.pydata.org/pandas-docs/stable/indexing.html#deprecate-loc-reindex-listlike\n",
      "  return self._getitem_tuple(key)\n"
     ]
    },
    {
     "name": "stdout",
     "output_type": "stream",
     "text": [
      "\u001b[0;30;48modi/433573.csv : Successfully Written.\n",
      "\u001b[0;30;48modi/225245.csv : Successfully Written.\n",
      "\u001b[0;30;48modi/530430.csv : Successfully Written.\n"
     ]
    },
    {
     "name": "stderr",
     "output_type": "stream",
     "text": [
      "/home/tprolifer/anaconda3/lib/python3.7/site-packages/pandas/core/indexing.py:1494: FutureWarning: \n",
      "Passing list-likes to .loc or [] with any missing label will raise\n",
      "KeyError in the future, you can use .reindex() as an alternative.\n",
      "\n",
      "See the documentation here:\n",
      "https://pandas.pydata.org/pandas-docs/stable/indexing.html#deprecate-loc-reindex-listlike\n",
      "  return self._getitem_tuple(key)\n"
     ]
    },
    {
     "name": "stdout",
     "output_type": "stream",
     "text": [
      "\u001b[0;30;48modi/907393.csv : Successfully Written.\n",
      "\u001b[0;30;48modi/587472.csv : Successfully Written.\n",
      "\u001b[0;30;48modi/464990.csv : Successfully Written.\n",
      "\u001b[0;30;48modi/1085961.csv : Successfully Written.\n",
      "\u001b[0;30;48modi/685735.csv : Successfully Written.\n",
      "\u001b[0;30;48modi/317578.csv : Successfully Written.\n",
      "\u001b[0;30;48modi/378753.csv : Successfully Written.\n",
      "\u001b[0;30;48modi/535800.csv : Successfully Written.\n",
      "\u001b[0;30;48modi/535796.csv : Successfully Written.\n"
     ]
    },
    {
     "name": "stderr",
     "output_type": "stream",
     "text": [
      "/home/tprolifer/anaconda3/lib/python3.7/site-packages/pandas/core/indexing.py:1494: FutureWarning: \n",
      "Passing list-likes to .loc or [] with any missing label will raise\n",
      "KeyError in the future, you can use .reindex() as an alternative.\n",
      "\n",
      "See the documentation here:\n",
      "https://pandas.pydata.org/pandas-docs/stable/indexing.html#deprecate-loc-reindex-listlike\n",
      "  return self._getitem_tuple(key)\n"
     ]
    },
    {
     "name": "stdout",
     "output_type": "stream",
     "text": [
      "\u001b[0;30;48modi/722391.csv : Successfully Written.\n"
     ]
    },
    {
     "name": "stderr",
     "output_type": "stream",
     "text": [
      "/home/tprolifer/anaconda3/lib/python3.7/site-packages/pandas/core/indexing.py:1494: FutureWarning: \n",
      "Passing list-likes to .loc or [] with any missing label will raise\n",
      "KeyError in the future, you can use .reindex() as an alternative.\n",
      "\n",
      "See the documentation here:\n",
      "https://pandas.pydata.org/pandas-docs/stable/indexing.html#deprecate-loc-reindex-listlike\n",
      "  return self._getitem_tuple(key)\n"
     ]
    },
    {
     "name": "stdout",
     "output_type": "stream",
     "text": [
      "\u001b[0;30;48modi/952189.csv : Successfully Written.\n",
      "\u001b[0;30;48modi/628095.csv : Successfully Written.\n",
      "\u001b[0;30;48modi/452146.csv : Successfully Written.\n",
      "\u001b[0;30;48modi/667649.csv : Successfully Written.\n",
      "\u001b[0;30;48modi/656493.csv : Successfully Written.\n",
      "\u001b[0;30;48modi/351691.csv : Successfully Written.\n",
      "\u001b[0;30;48modi/299008.csv : Successfully Written.\n",
      "\u001b[0;30;48modi/455232.csv : Successfully Written.\n",
      "\u001b[0;30;48modi/566924.csv : Successfully Written.\n",
      "\u001b[0;30;48modi/667725.csv : Successfully Written.\n",
      "\u001b[0;30;48modi/410338.csv : Successfully Written.\n",
      "\u001b[0;30;48modi/870731.csv : Successfully Written.\n",
      "\u001b[0;30;48modi/690357.csv : Successfully Written.\n",
      "\u001b[0;30;48modi/647261.csv : Successfully Written.\n",
      "\u001b[0;30;48modi/1033369.csv : Successfully Written.\n",
      "\u001b[0;30;48modi/746093.csv : Successfully Written.\n"
     ]
    },
    {
     "name": "stderr",
     "output_type": "stream",
     "text": [
      "/home/tprolifer/anaconda3/lib/python3.7/site-packages/pandas/core/indexing.py:1494: FutureWarning: \n",
      "Passing list-likes to .loc or [] with any missing label will raise\n",
      "KeyError in the future, you can use .reindex() as an alternative.\n",
      "\n",
      "See the documentation here:\n",
      "https://pandas.pydata.org/pandas-docs/stable/indexing.html#deprecate-loc-reindex-listlike\n",
      "  return self._getitem_tuple(key)\n"
     ]
    },
    {
     "name": "stdout",
     "output_type": "stream",
     "text": [
      "\u001b[0;30;48modi/401075.csv : Successfully Written.\n"
     ]
    },
    {
     "name": "stderr",
     "output_type": "stream",
     "text": [
      "/home/tprolifer/anaconda3/lib/python3.7/site-packages/pandas/core/indexing.py:1494: FutureWarning: \n",
      "Passing list-likes to .loc or [] with any missing label will raise\n",
      "KeyError in the future, you can use .reindex() as an alternative.\n",
      "\n",
      "See the documentation here:\n",
      "https://pandas.pydata.org/pandas-docs/stable/indexing.html#deprecate-loc-reindex-listlike\n",
      "  return self._getitem_tuple(key)\n"
     ]
    },
    {
     "name": "stdout",
     "output_type": "stream",
     "text": [
      "\u001b[0;30;48modi/1026847.csv : Successfully Written.\n",
      "\u001b[0;30;48modi/1144501.csv : Successfully Written.\n",
      "\u001b[0;30;48modi/323950.csv : Successfully Written.\n",
      "\u001b[0;30;48modi/785983.csv : Successfully Written.\n",
      "\u001b[0;30;48modi/426721.csv : Successfully Written.\n",
      "\u001b[0;30;48modi/710295.csv : Successfully Written.\n",
      "\u001b[0;30;48modi/913627.csv : Successfully Written.\n",
      "\u001b[0;30;48modi/736517.csv : Successfully Written.\n",
      "\u001b[0;30;48modi/931392.csv : Successfully Written.\n",
      "\u001b[0;30;48modi/366627.csv : Successfully Written.\n",
      "\u001b[0;30;48modi/486526.csv : Successfully Written.\n",
      "\u001b[0;30;48modi/415279.csv : Successfully Written.\n",
      "\u001b[0;30;48modi/1022375.csv : Successfully Written.\n",
      "\u001b[0;30;48modi/812795.csv : Successfully Written.\n",
      "\u001b[0;30;48modi/868727.csv : Successfully Written.\n"
     ]
    },
    {
     "name": "stderr",
     "output_type": "stream",
     "text": [
      "/home/tprolifer/anaconda3/lib/python3.7/site-packages/pandas/core/indexing.py:1494: FutureWarning: \n",
      "Passing list-likes to .loc or [] with any missing label will raise\n",
      "KeyError in the future, you can use .reindex() as an alternative.\n",
      "\n",
      "See the documentation here:\n",
      "https://pandas.pydata.org/pandas-docs/stable/indexing.html#deprecate-loc-reindex-listlike\n",
      "  return self._getitem_tuple(key)\n"
     ]
    },
    {
     "name": "stdout",
     "output_type": "stream",
     "text": [
      "\u001b[0;30;48modi/722389.csv : Successfully Written.\n"
     ]
    },
    {
     "name": "stderr",
     "output_type": "stream",
     "text": [
      "/home/tprolifer/anaconda3/lib/python3.7/site-packages/pandas/core/indexing.py:1494: FutureWarning: \n",
      "Passing list-likes to .loc or [] with any missing label will raise\n",
      "KeyError in the future, you can use .reindex() as an alternative.\n",
      "\n",
      "See the documentation here:\n",
      "https://pandas.pydata.org/pandas-docs/stable/indexing.html#deprecate-loc-reindex-listlike\n",
      "  return self._getitem_tuple(key)\n"
     ]
    },
    {
     "name": "stdout",
     "output_type": "stream",
     "text": [
      "\u001b[0;30;48modi/319146.csv : Successfully Written.\n",
      "\u001b[0;30;48modi/1073422.csv : Successfully Written.\n",
      "\u001b[0;30;48modi/520601.csv : Successfully Written.\n",
      "\u001b[0;30;48modi/742621.csv : Successfully Written.\n"
     ]
    },
    {
     "name": "stderr",
     "output_type": "stream",
     "text": [
      "/home/tprolifer/anaconda3/lib/python3.7/site-packages/pandas/core/indexing.py:1494: FutureWarning: \n",
      "Passing list-likes to .loc or [] with any missing label will raise\n",
      "KeyError in the future, you can use .reindex() as an alternative.\n",
      "\n",
      "See the documentation here:\n",
      "https://pandas.pydata.org/pandas-docs/stable/indexing.html#deprecate-loc-reindex-listlike\n",
      "  return self._getitem_tuple(key)\n"
     ]
    },
    {
     "name": "stdout",
     "output_type": "stream",
     "text": [
      "\u001b[0;30;48modi/754789.csv : Successfully Written.\n",
      "\u001b[0;30;48modi/1073428.csv : Successfully Written.\n",
      "\u001b[0;30;48modi/564784.csv : Successfully Written.\n",
      "\u001b[0;30;48modi/464720.csv : Successfully Written.\n",
      "\u001b[0;30;48modi/749789.csv : Successfully Written.\n",
      "\u001b[0;30;48modi/594912.csv : Successfully Written.\n",
      "\u001b[0;30;48modi/1085966.csv : Successfully Written.\n",
      "\u001b[0;30;48modi/249234.csv : Successfully Written.\n"
     ]
    },
    {
     "name": "stderr",
     "output_type": "stream",
     "text": [
      "/home/tprolifer/anaconda3/lib/python3.7/site-packages/pandas/core/indexing.py:1494: FutureWarning: \n",
      "Passing list-likes to .loc or [] with any missing label will raise\n",
      "KeyError in the future, you can use .reindex() as an alternative.\n",
      "\n",
      "See the documentation here:\n",
      "https://pandas.pydata.org/pandas-docs/stable/indexing.html#deprecate-loc-reindex-listlike\n",
      "  return self._getitem_tuple(key)\n"
     ]
    },
    {
     "name": "stdout",
     "output_type": "stream",
     "text": [
      "\u001b[0;30;48modi/521218.csv : Successfully Written.\n",
      "\u001b[0;30;48modi/452150.csv : Successfully Written.\n"
     ]
    },
    {
     "name": "stderr",
     "output_type": "stream",
     "text": [
      "/home/tprolifer/anaconda3/lib/python3.7/site-packages/pandas/core/indexing.py:1494: FutureWarning: \n",
      "Passing list-likes to .loc or [] with any missing label will raise\n",
      "KeyError in the future, you can use .reindex() as an alternative.\n",
      "\n",
      "See the documentation here:\n",
      "https://pandas.pydata.org/pandas-docs/stable/indexing.html#deprecate-loc-reindex-listlike\n",
      "  return self._getitem_tuple(key)\n"
     ]
    },
    {
     "name": "stdout",
     "output_type": "stream",
     "text": [
      "\u001b[0;30;48modi/1062504.csv : Successfully Written.\n",
      "\u001b[0;30;48modi/628090.csv : Successfully Written.\n",
      "\u001b[0;30;48modi/1034819.csv : Successfully Written.\n",
      "\u001b[0;30;48modi/1144508.csv : Successfully Written.\n"
     ]
    },
    {
     "name": "stderr",
     "output_type": "stream",
     "text": [
      "/home/tprolifer/anaconda3/lib/python3.7/site-packages/pandas/core/indexing.py:1494: FutureWarning: \n",
      "Passing list-likes to .loc or [] with any missing label will raise\n",
      "KeyError in the future, you can use .reindex() as an alternative.\n",
      "\n",
      "See the documentation here:\n",
      "https://pandas.pydata.org/pandas-docs/stable/indexing.html#deprecate-loc-reindex-listlike\n",
      "  return self._getitem_tuple(key)\n"
     ]
    },
    {
     "name": "stdout",
     "output_type": "stream",
     "text": [
      "\u001b[0;30;48modi/247493.csv : Successfully Written.\n"
     ]
    },
    {
     "name": "stderr",
     "output_type": "stream",
     "text": [
      "/home/tprolifer/anaconda3/lib/python3.7/site-packages/pandas/core/indexing.py:1494: FutureWarning: \n",
      "Passing list-likes to .loc or [] with any missing label will raise\n",
      "KeyError in the future, you can use .reindex() as an alternative.\n",
      "\n",
      "See the documentation here:\n",
      "https://pandas.pydata.org/pandas-docs/stable/indexing.html#deprecate-loc-reindex-listlike\n",
      "  return self._getitem_tuple(key)\n"
     ]
    },
    {
     "name": "stdout",
     "output_type": "stream",
     "text": [
      "\u001b[0;30;48modi/516207.csv : Successfully Written.\n",
      "\u001b[0;30;48modi/1022373.csv : Successfully Written.\n"
     ]
    },
    {
     "name": "stderr",
     "output_type": "stream",
     "text": [
      "/home/tprolifer/anaconda3/lib/python3.7/site-packages/pandas/core/indexing.py:1494: FutureWarning: \n",
      "Passing list-likes to .loc or [] with any missing label will raise\n",
      "KeyError in the future, you can use .reindex() as an alternative.\n",
      "\n",
      "See the documentation here:\n",
      "https://pandas.pydata.org/pandas-docs/stable/indexing.html#deprecate-loc-reindex-listlike\n",
      "  return self._getitem_tuple(key)\n"
     ]
    },
    {
     "name": "stdout",
     "output_type": "stream",
     "text": [
      "\u001b[0;30;48modi/597923.csv : Successfully Written.\n",
      "\u001b[0;30;48modi/226392.csv : Successfully Written.\n"
     ]
    },
    {
     "name": "stderr",
     "output_type": "stream",
     "text": [
      "/home/tprolifer/anaconda3/lib/python3.7/site-packages/pandas/core/indexing.py:1494: FutureWarning: \n",
      "Passing list-likes to .loc or [] with any missing label will raise\n",
      "KeyError in the future, you can use .reindex() as an alternative.\n",
      "\n",
      "See the documentation here:\n",
      "https://pandas.pydata.org/pandas-docs/stable/indexing.html#deprecate-loc-reindex-listlike\n",
      "  return self._getitem_tuple(key)\n"
     ]
    },
    {
     "name": "stdout",
     "output_type": "stream",
     "text": [
      "\u001b[0;30;48modi/808863.csv : Successfully Written.\n"
     ]
    },
    {
     "name": "stderr",
     "output_type": "stream",
     "text": [
      "/home/tprolifer/anaconda3/lib/python3.7/site-packages/pandas/core/indexing.py:1494: FutureWarning: \n",
      "Passing list-likes to .loc or [] with any missing label will raise\n",
      "KeyError in the future, you can use .reindex() as an alternative.\n",
      "\n",
      "See the documentation here:\n",
      "https://pandas.pydata.org/pandas-docs/stable/indexing.html#deprecate-loc-reindex-listlike\n",
      "  return self._getitem_tuple(key)\n"
     ]
    },
    {
     "name": "stdout",
     "output_type": "stream",
     "text": [
      "\u001b[0;30;48modi/518963.csv : Successfully Written.\n",
      "\u001b[0;30;48modi/659549.csv : Successfully Written.\n",
      "\u001b[0;30;48modi/860275.csv : Successfully Written.\n",
      "\u001b[0;30;48modi/757509.csv : Successfully Written.\n",
      "\u001b[0;30;48modi/351688.csv : Successfully Written.\n",
      "\u001b[0;30;48modi/297797.csv : Successfully Written.\n",
      "\u001b[0;30;48modi/522247.csv : Successfully Written.\n",
      "\u001b[0;30;48modi/518957.csv : Successfully Written.\n",
      "\u001b[0;30;48modi/936165.csv : Successfully Written.\n",
      "\u001b[0;30;48modi/238199.csv : Successfully Written.\n",
      "\u001b[0;30;48modi/696731.csv : Successfully Written.\n",
      "\u001b[0;30;48modi/433571.csv : Successfully Written.\n",
      "\u001b[0;30;48modi/536929.csv : Successfully Written.\n",
      "\u001b[0;30;48modi/736451.csv : Successfully Written.\n",
      "\u001b[0;30;48modi/433581.csv : Successfully Written.\n",
      "\u001b[0;30;48modi/668511.csv : Successfully Written.\n",
      "\u001b[0;30;48modi/770123.csv : Successfully Written.\n",
      "\u001b[0;30;48modi/756041.csv : Successfully Written.\n",
      "\u001b[0;30;48modi/566923.csv : Successfully Written.\n",
      "\u001b[0;30;48modi/335349.csv : Successfully Written.\n",
      "\u001b[0;30;48modi/792295.csv : Successfully Written.\n"
     ]
    },
    {
     "name": "stderr",
     "output_type": "stream",
     "text": [
      "/home/tprolifer/anaconda3/lib/python3.7/site-packages/pandas/core/indexing.py:1494: FutureWarning: \n",
      "Passing list-likes to .loc or [] with any missing label will raise\n",
      "KeyError in the future, you can use .reindex() as an alternative.\n",
      "\n",
      "See the documentation here:\n",
      "https://pandas.pydata.org/pandas-docs/stable/indexing.html#deprecate-loc-reindex-listlike\n",
      "  return self._getitem_tuple(key)\n"
     ]
    },
    {
     "name": "stdout",
     "output_type": "stream",
     "text": [
      "\u001b[0;30;48modi/870887.csv : Successfully Written.\n",
      "\u001b[0;30;48modi/565812.csv : Successfully Written.\n",
      "\u001b[0;30;48modi/746087.csv : Successfully Written.\n"
     ]
    },
    {
     "name": "stderr",
     "output_type": "stream",
     "text": [
      "/home/tprolifer/anaconda3/lib/python3.7/site-packages/pandas/core/indexing.py:1494: FutureWarning: \n",
      "Passing list-likes to .loc or [] with any missing label will raise\n",
      "KeyError in the future, you can use .reindex() as an alternative.\n",
      "\n",
      "See the documentation here:\n",
      "https://pandas.pydata.org/pandas-docs/stable/indexing.html#deprecate-loc-reindex-listlike\n",
      "  return self._getitem_tuple(key)\n"
     ]
    },
    {
     "name": "stdout",
     "output_type": "stream",
     "text": [
      "\u001b[0;30;48modi/247494.csv : Successfully Written.\n",
      "\u001b[0;30;48modi/848843.csv : Successfully Written.\n"
     ]
    },
    {
     "name": "stderr",
     "output_type": "stream",
     "text": [
      "/home/tprolifer/anaconda3/lib/python3.7/site-packages/pandas/core/indexing.py:1494: FutureWarning: \n",
      "Passing list-likes to .loc or [] with any missing label will raise\n",
      "KeyError in the future, you can use .reindex() as an alternative.\n",
      "\n",
      "See the documentation here:\n",
      "https://pandas.pydata.org/pandas-docs/stable/indexing.html#deprecate-loc-reindex-listlike\n",
      "  return self._getitem_tuple(key)\n"
     ]
    },
    {
     "name": "stdout",
     "output_type": "stream",
     "text": [
      "\u001b[0;30;48modi/593985.csv : Successfully Written.\n",
      "\u001b[0;30;48modi/406203.csv : Successfully Written.\n",
      "\u001b[0;30;48modi/433574.csv : Successfully Written.\n",
      "\u001b[0;30;48modi/226376.csv : Successfully Written.\n",
      "\u001b[0;30;48modi/226385.csv : Successfully Written.\n",
      "\u001b[0;30;48modi/1085960.csv : Successfully Written.\n",
      "\u001b[0;30;48modi/562442.csv : Successfully Written.\n",
      "\u001b[0;30;48modi/249744.csv : Successfully Written.\n"
     ]
    },
    {
     "name": "stderr",
     "output_type": "stream",
     "text": [
      "/home/tprolifer/anaconda3/lib/python3.7/site-packages/pandas/core/indexing.py:1494: FutureWarning: \n",
      "Passing list-likes to .loc or [] with any missing label will raise\n",
      "KeyError in the future, you can use .reindex() as an alternative.\n",
      "\n",
      "See the documentation here:\n",
      "https://pandas.pydata.org/pandas-docs/stable/indexing.html#deprecate-loc-reindex-listlike\n",
      "  return self._getitem_tuple(key)\n"
     ]
    },
    {
     "name": "stdout",
     "output_type": "stream",
     "text": [
      "\u001b[0;30;48modi/730291.csv : Successfully Written.\n",
      "\u001b[0;30;48modi/710299.csv : Successfully Written.\n",
      "\u001b[0;30;48modi/657637.csv : Successfully Written.\n"
     ]
    },
    {
     "name": "stderr",
     "output_type": "stream",
     "text": [
      "/home/tprolifer/anaconda3/lib/python3.7/site-packages/pandas/core/indexing.py:1494: FutureWarning: \n",
      "Passing list-likes to .loc or [] with any missing label will raise\n",
      "KeyError in the future, you can use .reindex() as an alternative.\n",
      "\n",
      "See the documentation here:\n",
      "https://pandas.pydata.org/pandas-docs/stable/indexing.html#deprecate-loc-reindex-listlike\n",
      "  return self._getitem_tuple(key)\n"
     ]
    },
    {
     "name": "stdout",
     "output_type": "stream",
     "text": [
      "\u001b[0;30;48modi/247487.csv : Successfully Written.\n",
      "\u001b[0;30;48modi/238214.csv : Successfully Written.\n",
      "\u001b[0;30;48modi/523733.csv : Successfully Written.\n"
     ]
    },
    {
     "name": "stderr",
     "output_type": "stream",
     "text": [
      "/home/tprolifer/anaconda3/lib/python3.7/site-packages/pandas/core/indexing.py:1494: FutureWarning: \n",
      "Passing list-likes to .loc or [] with any missing label will raise\n",
      "KeyError in the future, you can use .reindex() as an alternative.\n",
      "\n",
      "See the documentation here:\n",
      "https://pandas.pydata.org/pandas-docs/stable/indexing.html#deprecate-loc-reindex-listlike\n",
      "  return self._getitem_tuple(key)\n"
     ]
    },
    {
     "name": "stdout",
     "output_type": "stream",
     "text": [
      "\u001b[0;30;48modi/668961.csv : Successfully Written.\n",
      "\u001b[0;30;48modi/667897.csv : Successfully Written.\n"
     ]
    },
    {
     "name": "stderr",
     "output_type": "stream",
     "text": [
      "/home/tprolifer/anaconda3/lib/python3.7/site-packages/pandas/core/indexing.py:1494: FutureWarning: \n",
      "Passing list-likes to .loc or [] with any missing label will raise\n",
      "KeyError in the future, you can use .reindex() as an alternative.\n",
      "\n",
      "See the documentation here:\n",
      "https://pandas.pydata.org/pandas-docs/stable/indexing.html#deprecate-loc-reindex-listlike\n",
      "  return self._getitem_tuple(key)\n"
     ]
    },
    {
     "name": "stdout",
     "output_type": "stream",
     "text": [
      "\u001b[0;30;48modi/952199.csv : Successfully Written.\n",
      "\u001b[0;30;48modi/258475.csv : Successfully Written.\n",
      "\u001b[0;30;48modi/656491.csv : Successfully Written.\n",
      "\u001b[0;30;48modi/1085959.csv : Successfully Written.\n",
      "\u001b[0;30;48modi/817209.csv : Successfully Written.\n",
      "\u001b[0;30;48modi/870735.csv : Successfully Written.\n"
     ]
    },
    {
     "name": "stderr",
     "output_type": "stream",
     "text": [
      "/home/tprolifer/anaconda3/lib/python3.7/site-packages/pandas/core/indexing.py:1494: FutureWarning: \n",
      "Passing list-likes to .loc or [] with any missing label will raise\n",
      "KeyError in the future, you can use .reindex() as an alternative.\n",
      "\n",
      "See the documentation here:\n",
      "https://pandas.pydata.org/pandas-docs/stable/indexing.html#deprecate-loc-reindex-listlike\n",
      "  return self._getitem_tuple(key)\n"
     ]
    },
    {
     "name": "stdout",
     "output_type": "stream",
     "text": [
      "\u001b[0;30;48modi/441829.csv : Successfully Written.\n",
      "\u001b[0;30;48modi/456663.csv : Successfully Written.\n",
      "\u001b[0;30;48modi/736519.csv : Successfully Written.\n",
      "\u001b[0;30;48modi/503363.csv : Successfully Written.\n"
     ]
    },
    {
     "name": "stderr",
     "output_type": "stream",
     "text": [
      "/home/tprolifer/anaconda3/lib/python3.7/site-packages/pandas/core/indexing.py:1494: FutureWarning: \n",
      "Passing list-likes to .loc or [] with any missing label will raise\n",
      "KeyError in the future, you can use .reindex() as an alternative.\n",
      "\n",
      "See the documentation here:\n",
      "https://pandas.pydata.org/pandas-docs/stable/indexing.html#deprecate-loc-reindex-listlike\n",
      "  return self._getitem_tuple(key)\n"
     ]
    },
    {
     "name": "stdout",
     "output_type": "stream",
     "text": [
      "\u001b[0;30;48modi/247463.csv : Successfully Written.\n",
      "\u001b[0;30;48modi/1059714.csv : Successfully Written.\n",
      "\u001b[0;30;48modi/1168024.csv : Successfully Written.\n",
      "\u001b[0;30;48modi/736499.csv : Successfully Written.\n",
      "\u001b[0;30;48modi/335352.csv : Successfully Written.\n"
     ]
    },
    {
     "name": "stderr",
     "output_type": "stream",
     "text": [
      "/home/tprolifer/anaconda3/lib/python3.7/site-packages/pandas/core/indexing.py:1494: FutureWarning: \n",
      "Passing list-likes to .loc or [] with any missing label will raise\n",
      "KeyError in the future, you can use .reindex() as an alternative.\n",
      "\n",
      "See the documentation here:\n",
      "https://pandas.pydata.org/pandas-docs/stable/indexing.html#deprecate-loc-reindex-listlike\n",
      "  return self._getitem_tuple(key)\n"
     ]
    },
    {
     "name": "stdout",
     "output_type": "stream",
     "text": [
      "\u001b[0;30;48modi/1062509.csv : Successfully Written.\n",
      "\u001b[0;30;48modi/1089148.csv : Successfully Written.\n",
      "\u001b[0;30;48modi/736455.csv : Successfully Written.\n",
      "\u001b[0;30;48modi/668513.csv : Successfully Written.\n",
      "\u001b[0;30;48modi/380716.csv : Successfully Written.\n",
      "\u001b[0;30;48modi/746091.csv : Successfully Written.\n",
      "\u001b[0;30;48modi/1089145.csv : Successfully Written.\n",
      "\u001b[0;30;48modi/593723.csv : Successfully Written.\n",
      "\u001b[0;30;48modi/433585.csv : Successfully Written.\n",
      "\u001b[0;30;48modi/754731.csv : Successfully Written.\n",
      "\u001b[0;30;48modi/1085949.csv : Successfully Written.\n",
      "\u001b[0;30;48modi/249746.csv : Successfully Written.\n",
      "\u001b[0;30;48modi/521222.csv : Successfully Written.\n",
      "\u001b[0;30;48modi/298808.csv : Successfully Written.\n",
      "\u001b[0;30;48modi/257771.csv : Successfully Written.\n",
      "\u001b[0;30;48modi/913429.csv : Successfully Written.\n",
      "\u001b[0;30;48modi/297804.csv : Successfully Written.\n",
      "\u001b[0;30;48modi/567368.csv : Successfully Written.\n"
     ]
    },
    {
     "name": "stderr",
     "output_type": "stream",
     "text": [
      "/home/tprolifer/anaconda3/lib/python3.7/site-packages/pandas/core/indexing.py:1494: FutureWarning: \n",
      "Passing list-likes to .loc or [] with any missing label will raise\n",
      "KeyError in the future, you can use .reindex() as an alternative.\n",
      "\n",
      "See the documentation here:\n",
      "https://pandas.pydata.org/pandas-docs/stable/indexing.html#deprecate-loc-reindex-listlike\n",
      "  return self._getitem_tuple(key)\n"
     ]
    },
    {
     "name": "stdout",
     "output_type": "stream",
     "text": [
      "\u001b[0;30;48modi/239908.csv : Successfully Written.\n",
      "\u001b[0;30;48modi/995465.csv : Successfully Written.\n",
      "\u001b[0;30;48modi/589309.csv : Successfully Written.\n",
      "\u001b[0;30;48modi/657643.csv : Successfully Written.\n",
      "\u001b[0;30;48modi/656489.csv : Successfully Written.\n",
      "\u001b[0;30;48modi/375456.csv : Successfully Written.\n",
      "\u001b[0;30;48modi/1089531.csv : Successfully Written.\n",
      "\u001b[0;30;48modi/645637.csv : Successfully Written.\n",
      "\u001b[0;30;48modi/623573.csv : Successfully Written.\n",
      "\u001b[0;30;48modi/668965.csv : Successfully Written.\n",
      "\u001b[0;30;48modi/542852.csv : Successfully Written.\n",
      "\u001b[0;30;48modi/749545.csv : Successfully Written.\n"
     ]
    },
    {
     "name": "stderr",
     "output_type": "stream",
     "text": [
      "/home/tprolifer/anaconda3/lib/python3.7/site-packages/pandas/core/indexing.py:1494: FutureWarning: \n",
      "Passing list-likes to .loc or [] with any missing label will raise\n",
      "KeyError in the future, you can use .reindex() as an alternative.\n",
      "\n",
      "See the documentation here:\n",
      "https://pandas.pydata.org/pandas-docs/stable/indexing.html#deprecate-loc-reindex-listlike\n",
      "  return self._getitem_tuple(key)\n"
     ]
    },
    {
     "name": "stdout",
     "output_type": "stream",
     "text": [
      "\u001b[0;30;48modi/297795.csv : Successfully Written.\n",
      "\u001b[0;30;48modi/1089146.csv : Successfully Written.\n",
      "\u001b[0;30;48modi/296914.csv : Successfully Written.\n",
      "\u001b[0;30;48modi/298806.csv : Successfully Written.\n",
      "\u001b[0;30;48modi/902643.csv : Successfully Written.\n"
     ]
    },
    {
     "name": "stderr",
     "output_type": "stream",
     "text": [
      "/home/tprolifer/anaconda3/lib/python3.7/site-packages/pandas/core/indexing.py:1494: FutureWarning: \n",
      "Passing list-likes to .loc or [] with any missing label will raise\n",
      "KeyError in the future, you can use .reindex() as an alternative.\n",
      "\n",
      "See the documentation here:\n",
      "https://pandas.pydata.org/pandas-docs/stable/indexing.html#deprecate-loc-reindex-listlike\n",
      "  return self._getitem_tuple(key)\n"
     ]
    },
    {
     "name": "stdout",
     "output_type": "stream",
     "text": [
      "\u001b[0;30;48modi/907391.csv : Successfully Written.\n",
      "\u001b[0;30;48modi/237574.csv : Successfully Written.\n"
     ]
    },
    {
     "name": "stderr",
     "output_type": "stream",
     "text": [
      "/home/tprolifer/anaconda3/lib/python3.7/site-packages/pandas/core/indexing.py:1494: FutureWarning: \n",
      "Passing list-likes to .loc or [] with any missing label will raise\n",
      "KeyError in the future, you can use .reindex() as an alternative.\n",
      "\n",
      "See the documentation here:\n",
      "https://pandas.pydata.org/pandas-docs/stable/indexing.html#deprecate-loc-reindex-listlike\n",
      "  return self._getitem_tuple(key)\n"
     ]
    },
    {
     "name": "stdout",
     "output_type": "stream",
     "text": [
      "\u001b[0;30;48modi/907375.csv : Successfully Written.\n",
      "\u001b[0;30;48modi/1089472.csv : Successfully Written.\n",
      "\u001b[0;30;48modi/446958.csv : Successfully Written.\n",
      "\u001b[0;30;48modi/534229.csv : Successfully Written.\n",
      "\u001b[0;30;48modi/1022349.csv : Successfully Written.\n",
      "\u001b[0;30;48modi/380715.csv : Successfully Written.\n"
     ]
    },
    {
     "name": "stderr",
     "output_type": "stream",
     "text": [
      "/home/tprolifer/anaconda3/lib/python3.7/site-packages/pandas/core/indexing.py:1494: FutureWarning: \n",
      "Passing list-likes to .loc or [] with any missing label will raise\n",
      "KeyError in the future, you can use .reindex() as an alternative.\n",
      "\n",
      "See the documentation here:\n",
      "https://pandas.pydata.org/pandas-docs/stable/indexing.html#deprecate-loc-reindex-listlike\n",
      "  return self._getitem_tuple(key)\n"
     ]
    },
    {
     "name": "stdout",
     "output_type": "stream",
     "text": [
      "\u001b[0;30;48modi/543888.csv : Successfully Written.\n",
      "\u001b[0;30;48modi/1073430.csv : Successfully Written.\n",
      "\u001b[0;30;48modi/446964.csv : Successfully Written.\n"
     ]
    },
    {
     "name": "stderr",
     "output_type": "stream",
     "text": [
      "/home/tprolifer/anaconda3/lib/python3.7/site-packages/pandas/core/indexing.py:1494: FutureWarning: \n",
      "Passing list-likes to .loc or [] with any missing label will raise\n",
      "KeyError in the future, you can use .reindex() as an alternative.\n",
      "\n",
      "See the documentation here:\n",
      "https://pandas.pydata.org/pandas-docs/stable/indexing.html#deprecate-loc-reindex-listlike\n",
      "  return self._getitem_tuple(key)\n"
     ]
    },
    {
     "name": "stdout",
     "output_type": "stream",
     "text": [
      "\u001b[0;30;48modi/247489.csv : Successfully Written.\n",
      "\u001b[0;30;48modi/1085971.csv : Successfully Written.\n",
      "\u001b[0;30;48modi/1144511.csv : Successfully Written.\n",
      "\u001b[0;30;48modi/250672.csv : Successfully Written.\n",
      "\u001b[0;30;48modi/685733.csv : Successfully Written.\n",
      "\u001b[0;30;48modi/238213.csv : Successfully Written.\n"
     ]
    },
    {
     "name": "stderr",
     "output_type": "stream",
     "text": [
      "/home/tprolifer/anaconda3/lib/python3.7/site-packages/pandas/core/indexing.py:1494: FutureWarning: \n",
      "Passing list-likes to .loc or [] with any missing label will raise\n",
      "KeyError in the future, you can use .reindex() as an alternative.\n",
      "\n",
      "See the documentation here:\n",
      "https://pandas.pydata.org/pandas-docs/stable/indexing.html#deprecate-loc-reindex-listlike\n",
      "  return self._getitem_tuple(key)\n"
     ]
    },
    {
     "name": "stdout",
     "output_type": "stream",
     "text": [
      "\u001b[0;30;48modi/247462.csv : Successfully Written.\n",
      "\u001b[0;30;48modi/594894.csv : Successfully Written.\n",
      "\u001b[0;30;48modi/756039.csv : Successfully Written.\n",
      "\u001b[0;30;48modi/667891.csv : Successfully Written.\n",
      "\u001b[0;30;48modi/325802.csv : Successfully Written.\n",
      "\u001b[0;30;48modi/1022365.csv : Successfully Written.\n",
      "\u001b[0;30;48modi/647249.csv : Successfully Written.\n",
      "\u001b[0;30;48modi/885967.csv : Successfully Written.\n"
     ]
    },
    {
     "name": "stderr",
     "output_type": "stream",
     "text": [
      "/home/tprolifer/anaconda3/lib/python3.7/site-packages/pandas/core/indexing.py:1494: FutureWarning: \n",
      "Passing list-likes to .loc or [] with any missing label will raise\n",
      "KeyError in the future, you can use .reindex() as an alternative.\n",
      "\n",
      "See the documentation here:\n",
      "https://pandas.pydata.org/pandas-docs/stable/indexing.html#deprecate-loc-reindex-listlike\n",
      "  return self._getitem_tuple(key)\n"
     ]
    },
    {
     "name": "stdout",
     "output_type": "stream",
     "text": [
      "\u001b[0;30;48modi/727939.csv : Successfully Written.\n",
      "\u001b[0;30;48modi/743981.csv : Successfully Written.\n",
      "\u001b[0;30;48modi/913657.csv : Successfully Written.\n"
     ]
    },
    {
     "name": "stderr",
     "output_type": "stream",
     "text": [
      "/home/tprolifer/anaconda3/lib/python3.7/site-packages/pandas/core/indexing.py:1494: FutureWarning: \n",
      "Passing list-likes to .loc or [] with any missing label will raise\n",
      "KeyError in the future, you can use .reindex() as an alternative.\n",
      "\n",
      "See the documentation here:\n",
      "https://pandas.pydata.org/pandas-docs/stable/indexing.html#deprecate-loc-reindex-listlike\n",
      "  return self._getitem_tuple(key)\n"
     ]
    },
    {
     "name": "stdout",
     "output_type": "stream",
     "text": [
      "\u001b[0;30;48modi/935813.csv : Successfully Written.\n",
      "\u001b[0;30;48modi/1078660.csv : Successfully Written.\n"
     ]
    },
    {
     "name": "stderr",
     "output_type": "stream",
     "text": [
      "/home/tprolifer/anaconda3/lib/python3.7/site-packages/pandas/core/indexing.py:1494: FutureWarning: \n",
      "Passing list-likes to .loc or [] with any missing label will raise\n",
      "KeyError in the future, you can use .reindex() as an alternative.\n",
      "\n",
      "See the documentation here:\n",
      "https://pandas.pydata.org/pandas-docs/stable/indexing.html#deprecate-loc-reindex-listlike\n",
      "  return self._getitem_tuple(key)\n"
     ]
    },
    {
     "name": "stdout",
     "output_type": "stream",
     "text": [
      "\u001b[0;30;48modi/416237.csv : Successfully Written.\n",
      "\u001b[0;30;48modi/914233.csv : Successfully Written.\n",
      "\u001b[0;30;48modi/742623.csv : Successfully Written.\n",
      "\u001b[0;30;48modi/433590.csv : Successfully Written.\n",
      "\u001b[0;30;48modi/257772.csv : Successfully Written.\n",
      "\u001b[0;30;48modi/291364.csv : Successfully Written.\n",
      "\u001b[0;30;48modi/690359.csv : Successfully Written.\n",
      "\u001b[0;30;48modi/522246.csv : Successfully Written.\n"
     ]
    },
    {
     "name": "stderr",
     "output_type": "stream",
     "text": [
      "/home/tprolifer/anaconda3/lib/python3.7/site-packages/pandas/core/indexing.py:1494: FutureWarning: \n",
      "Passing list-likes to .loc or [] with any missing label will raise\n",
      "KeyError in the future, you can use .reindex() as an alternative.\n",
      "\n",
      "See the documentation here:\n",
      "https://pandas.pydata.org/pandas-docs/stable/indexing.html#deprecate-loc-reindex-listlike\n",
      "  return self._getitem_tuple(key)\n"
     ]
    },
    {
     "name": "stdout",
     "output_type": "stream",
     "text": [
      "\u001b[0;30;48modi/597929.csv : Successfully Written.\n",
      "\u001b[0;30;48modi/573025.csv : Successfully Written.\n",
      "\u001b[0;30;48modi/335355.csv : Successfully Written.\n",
      "\u001b[0;30;48modi/473923.csv : Successfully Written.\n",
      "\u001b[0;30;48modi/902641.csv : Successfully Written.\n",
      "\u001b[0;30;48modi/1085957.csv : Successfully Written.\n",
      "\u001b[0;30;48modi/1073416.csv : Successfully Written.\n",
      "\u001b[0;30;48modi/366625.csv : Successfully Written.\n",
      "\u001b[0;30;48modi/1085968.csv : Successfully Written.\n",
      "\u001b[0;30;48modi/534218.csv : Successfully Written.\n",
      "\u001b[0;30;48modi/936143.csv : Successfully Written.\n",
      "\u001b[0;30;48modi/366623.csv : Successfully Written.\n",
      "\u001b[0;30;48modi/452151.csv : Successfully Written.\n",
      "\u001b[0;30;48modi/754729.csv : Successfully Written.\n",
      "\u001b[0;30;48modi/1089529.csv : Successfully Written.\n",
      "\u001b[0;30;48modi/434259.csv : Successfully Written.\n",
      "\u001b[0;30;48modi/527014.csv : Successfully Written.\n",
      "\u001b[0;30;48modi/743983.csv : Successfully Written.\n",
      "\u001b[0;30;48modi/743943.csv : Successfully Written.\n"
     ]
    },
    {
     "name": "stderr",
     "output_type": "stream",
     "text": [
      "/home/tprolifer/anaconda3/lib/python3.7/site-packages/pandas/core/indexing.py:1494: FutureWarning: \n",
      "Passing list-likes to .loc or [] with any missing label will raise\n",
      "KeyError in the future, you can use .reindex() as an alternative.\n",
      "\n",
      "See the documentation here:\n",
      "https://pandas.pydata.org/pandas-docs/stable/indexing.html#deprecate-loc-reindex-listlike\n",
      "  return self._getitem_tuple(key)\n"
     ]
    },
    {
     "name": "stdout",
     "output_type": "stream",
     "text": [
      "\u001b[0;30;48modi/593983.csv : Successfully Written.\n"
     ]
    },
    {
     "name": "stderr",
     "output_type": "stream",
     "text": [
      "/home/tprolifer/anaconda3/lib/python3.7/site-packages/pandas/core/indexing.py:1494: FutureWarning: \n",
      "Passing list-likes to .loc or [] with any missing label will raise\n",
      "KeyError in the future, you can use .reindex() as an alternative.\n",
      "\n",
      "See the documentation here:\n",
      "https://pandas.pydata.org/pandas-docs/stable/indexing.html#deprecate-loc-reindex-listlike\n",
      "  return self._getitem_tuple(key)\n"
     ]
    },
    {
     "name": "stdout",
     "output_type": "stream",
     "text": [
      "\u001b[0;30;48modi/352669.csv : Successfully Written.\n",
      "\u001b[0;30;48modi/225254.csv : Successfully Written.\n",
      "\u001b[0;30;48modi/433596.csv : Successfully Written.\n",
      "\u001b[0;30;48modi/350479.csv : Successfully Written.\n"
     ]
    },
    {
     "name": "stderr",
     "output_type": "stream",
     "text": [
      "/home/tprolifer/anaconda3/lib/python3.7/site-packages/pandas/core/indexing.py:1494: FutureWarning: \n",
      "Passing list-likes to .loc or [] with any missing label will raise\n",
      "KeyError in the future, you can use .reindex() as an alternative.\n",
      "\n",
      "See the documentation here:\n",
      "https://pandas.pydata.org/pandas-docs/stable/indexing.html#deprecate-loc-reindex-listlike\n",
      "  return self._getitem_tuple(key)\n"
     ]
    },
    {
     "name": "stdout",
     "output_type": "stream",
     "text": [
      "\u001b[0;30;48modi/792291.csv : Successfully Written.\n",
      "\u001b[0;30;48modi/335354.csv : Successfully Written.\n",
      "\u001b[0;30;48modi/463144.csv : Successfully Written.\n"
     ]
    },
    {
     "name": "stderr",
     "output_type": "stream",
     "text": [
      "/home/tprolifer/anaconda3/lib/python3.7/site-packages/pandas/core/indexing.py:1494: FutureWarning: \n",
      "Passing list-likes to .loc or [] with any missing label will raise\n",
      "KeyError in the future, you can use .reindex() as an alternative.\n",
      "\n",
      "See the documentation here:\n",
      "https://pandas.pydata.org/pandas-docs/stable/indexing.html#deprecate-loc-reindex-listlike\n",
      "  return self._getitem_tuple(key)\n"
     ]
    },
    {
     "name": "stdout",
     "output_type": "stream",
     "text": [
      "\u001b[0;30;48modi/439142.csv : Successfully Written.\n",
      "\u001b[0;30;48modi/238196.csv : Successfully Written.\n",
      "\u001b[0;30;48modi/645635.csv : Successfully Written.\n",
      "\u001b[0;30;48modi/722345.csv : Successfully Written.\n",
      "\u001b[0;30;48modi/953341.csv : Successfully Written.\n",
      "\u001b[0;30;48modi/226391.csv : Successfully Written.\n",
      "\u001b[0;30;48modi/300439.csv : Successfully Written.\n",
      "\u001b[0;30;48modi/1144529.csv : Successfully Written.\n",
      "\u001b[0;30;48modi/545656.csv : Successfully Written.\n",
      "\u001b[0;30;48modi/995459.csv : Successfully Written.\n",
      "\u001b[0;30;48modi/936161.csv : Successfully Written.\n",
      "\u001b[0;30;48modi/299006.csv : Successfully Written.\n",
      "\u001b[0;30;48modi/749561.csv : Successfully Written.\n",
      "\u001b[0;30;48modi/235831.csv : Successfully Written.\n",
      "\u001b[0;30;48modi/531631.csv : Successfully Written.\n",
      "\u001b[0;30;48modi/249228.csv : Successfully Written.\n",
      "\u001b[0;30;48modi/1073414.csv : Successfully Written.\n",
      "\u001b[0;30;48modi/1034823.csv : Successfully Written.\n",
      "\u001b[0;30;48modi/531634.csv : Successfully Written.\n",
      "\u001b[0;30;48modi/530427.csv : Successfully Written.\n",
      "\u001b[0;30;48modi/742627.csv : Successfully Written.\n",
      "\u001b[0;30;48modi/464529.csv : Successfully Written.\n",
      "\u001b[0;30;48modi/1022351.csv : Successfully Written.\n",
      "\u001b[0;30;48modi/455231.csv : Successfully Written.\n",
      "\u001b[0;30;48modi/1000891.csv : Successfully Written.\n",
      "\u001b[0;30;48modi/534209.csv : Successfully Written.\n"
     ]
    },
    {
     "name": "stderr",
     "output_type": "stream",
     "text": [
      "/home/tprolifer/anaconda3/lib/python3.7/site-packages/pandas/core/indexing.py:1494: FutureWarning: \n",
      "Passing list-likes to .loc or [] with any missing label will raise\n",
      "KeyError in the future, you can use .reindex() as an alternative.\n",
      "\n",
      "See the documentation here:\n",
      "https://pandas.pydata.org/pandas-docs/stable/indexing.html#deprecate-loc-reindex-listlike\n",
      "  return self._getitem_tuple(key)\n"
     ]
    },
    {
     "name": "stdout",
     "output_type": "stream",
     "text": [
      "\u001b[0;30;48modi/727937.csv : Successfully Written.\n",
      "\u001b[0;30;48modi/415287.csv : Successfully Written.\n",
      "\u001b[0;30;48modi/1000889.csv : Successfully Written.\n",
      "\u001b[0;30;48modi/535795.csv : Successfully Written.\n",
      "\u001b[0;30;48modi/249747.csv : Successfully Written.\n",
      "\u001b[0;30;48modi/476598.csv : Successfully Written.\n"
     ]
    },
    {
     "name": "stderr",
     "output_type": "stream",
     "text": [
      "/home/tprolifer/anaconda3/lib/python3.7/site-packages/pandas/core/indexing.py:1494: FutureWarning: \n",
      "Passing list-likes to .loc or [] with any missing label will raise\n",
      "KeyError in the future, you can use .reindex() as an alternative.\n",
      "\n",
      "See the documentation here:\n",
      "https://pandas.pydata.org/pandas-docs/stable/indexing.html#deprecate-loc-reindex-listlike\n",
      "  return self._getitem_tuple(key)\n"
     ]
    },
    {
     "name": "stdout",
     "output_type": "stream",
     "text": [
      "\u001b[0;30;48modi/489222.csv : Successfully Written.\n",
      "\u001b[0;30;48modi/415285.csv : Successfully Written.\n",
      "\u001b[0;30;48modi/433587.csv : Successfully Written.\n"
     ]
    },
    {
     "name": "stderr",
     "output_type": "stream",
     "text": [
      "/home/tprolifer/anaconda3/lib/python3.7/site-packages/pandas/core/indexing.py:1494: FutureWarning: \n",
      "Passing list-likes to .loc or [] with any missing label will raise\n",
      "KeyError in the future, you can use .reindex() as an alternative.\n",
      "\n",
      "See the documentation here:\n",
      "https://pandas.pydata.org/pandas-docs/stable/indexing.html#deprecate-loc-reindex-listlike\n",
      "  return self._getitem_tuple(key)\n"
     ]
    },
    {
     "name": "stdout",
     "output_type": "stream",
     "text": [
      "\u001b[0;30;48modi/946549.csv : Successfully Written.\n",
      "\u001b[0;30;48modi/238215.csv : Successfully Written.\n",
      "\u001b[0;30;48modi/350481.csv : Successfully Written.\n",
      "\u001b[0;30;48modi/1144487.csv : Successfully Written.\n"
     ]
    },
    {
     "name": "stderr",
     "output_type": "stream",
     "text": [
      "/home/tprolifer/anaconda3/lib/python3.7/site-packages/pandas/core/indexing.py:1494: FutureWarning: \n",
      "Passing list-likes to .loc or [] with any missing label will raise\n",
      "KeyError in the future, you can use .reindex() as an alternative.\n",
      "\n",
      "See the documentation here:\n",
      "https://pandas.pydata.org/pandas-docs/stable/indexing.html#deprecate-loc-reindex-listlike\n",
      "  return self._getitem_tuple(key)\n"
     ]
    },
    {
     "name": "stdout",
     "output_type": "stream",
     "text": [
      "\u001b[0;30;48modi/932863.csv : Successfully Written.\n",
      "\u001b[0;30;48modi/1031425.csv : Successfully Written.\n",
      "\u001b[0;30;48modi/433597.csv : Successfully Written.\n",
      "\u001b[0;30;48modi/415280.csv : Successfully Written.\n"
     ]
    },
    {
     "name": "stderr",
     "output_type": "stream",
     "text": [
      "/home/tprolifer/anaconda3/lib/python3.7/site-packages/pandas/core/indexing.py:1494: FutureWarning: \n",
      "Passing list-likes to .loc or [] with any missing label will raise\n",
      "KeyError in the future, you can use .reindex() as an alternative.\n",
      "\n",
      "See the documentation here:\n",
      "https://pandas.pydata.org/pandas-docs/stable/indexing.html#deprecate-loc-reindex-listlike\n",
      "  return self._getitem_tuple(key)\n"
     ]
    },
    {
     "name": "stdout",
     "output_type": "stream",
     "text": [
      "\u001b[0;30;48modi/446959.csv : Successfully Written.\n",
      "\u001b[0;30;48modi/486520.csv : Successfully Written.\n",
      "\u001b[0;30;48modi/936167.csv : Successfully Written.\n",
      "\u001b[0;30;48modi/325803.csv : Successfully Written.\n",
      "\u001b[0;30;48modi/336201.csv : Successfully Written.\n"
     ]
    },
    {
     "name": "stderr",
     "output_type": "stream",
     "text": [
      "/home/tprolifer/anaconda3/lib/python3.7/site-packages/pandas/core/indexing.py:1494: FutureWarning: \n",
      "Passing list-likes to .loc or [] with any missing label will raise\n",
      "KeyError in the future, you can use .reindex() as an alternative.\n",
      "\n",
      "See the documentation here:\n",
      "https://pandas.pydata.org/pandas-docs/stable/indexing.html#deprecate-loc-reindex-listlike\n",
      "  return self._getitem_tuple(key)\n"
     ]
    },
    {
     "name": "stdout",
     "output_type": "stream",
     "text": [
      "\u001b[0;30;48modi/439144.csv : Successfully Written.\n",
      "\u001b[0;30;48modi/335357.csv : Successfully Written.\n"
     ]
    },
    {
     "name": "stderr",
     "output_type": "stream",
     "text": [
      "/home/tprolifer/anaconda3/lib/python3.7/site-packages/pandas/core/indexing.py:1494: FutureWarning: \n",
      "Passing list-likes to .loc or [] with any missing label will raise\n",
      "KeyError in the future, you can use .reindex() as an alternative.\n",
      "\n",
      "See the documentation here:\n",
      "https://pandas.pydata.org/pandas-docs/stable/indexing.html#deprecate-loc-reindex-listlike\n",
      "  return self._getitem_tuple(key)\n"
     ]
    },
    {
     "name": "stdout",
     "output_type": "stream",
     "text": [
      "\u001b[0;30;48modi/808865.csv : Successfully Written.\n",
      "\u001b[0;30;48modi/743951.csv : Successfully Written.\n",
      "\u001b[0;30;48modi/249758.csv : Successfully Written.\n"
     ]
    },
    {
     "name": "stderr",
     "output_type": "stream",
     "text": [
      "/home/tprolifer/anaconda3/lib/python3.7/site-packages/pandas/core/indexing.py:1494: FutureWarning: \n",
      "Passing list-likes to .loc or [] with any missing label will raise\n",
      "KeyError in the future, you can use .reindex() as an alternative.\n",
      "\n",
      "See the documentation here:\n",
      "https://pandas.pydata.org/pandas-docs/stable/indexing.html#deprecate-loc-reindex-listlike\n",
      "  return self._getitem_tuple(key)\n"
     ]
    },
    {
     "name": "stdout",
     "output_type": "stream",
     "text": [
      "\u001b[0;30;48modi/293071.csv : Successfully Written.\n"
     ]
    },
    {
     "name": "stderr",
     "output_type": "stream",
     "text": [
      "/home/tprolifer/anaconda3/lib/python3.7/site-packages/pandas/core/indexing.py:1494: FutureWarning: \n",
      "Passing list-likes to .loc or [] with any missing label will raise\n",
      "KeyError in the future, you can use .reindex() as an alternative.\n",
      "\n",
      "See the documentation here:\n",
      "https://pandas.pydata.org/pandas-docs/stable/indexing.html#deprecate-loc-reindex-listlike\n",
      "  return self._getitem_tuple(key)\n"
     ]
    },
    {
     "name": "stdout",
     "output_type": "stream",
     "text": [
      "\u001b[0;30;48modi/946545.csv : Successfully Written.\n",
      "\u001b[0;30;48modi/860273.csv : Successfully Written.\n",
      "\u001b[0;30;48modi/812783.csv : Successfully Written.\n",
      "\u001b[0;30;48modi/579741.csv : Successfully Written.\n",
      "\u001b[0;30;48modi/267709.csv : Successfully Written.\n"
     ]
    },
    {
     "name": "stderr",
     "output_type": "stream",
     "text": [
      "/home/tprolifer/anaconda3/lib/python3.7/site-packages/pandas/core/indexing.py:1494: FutureWarning: \n",
      "Passing list-likes to .loc or [] with any missing label will raise\n",
      "KeyError in the future, you can use .reindex() as an alternative.\n",
      "\n",
      "See the documentation here:\n",
      "https://pandas.pydata.org/pandas-docs/stable/indexing.html#deprecate-loc-reindex-listlike\n",
      "  return self._getitem_tuple(key)\n"
     ]
    },
    {
     "name": "stdout",
     "output_type": "stream",
     "text": [
      "\u001b[0;30;48modi/401073.csv : Successfully Written.\n",
      "\u001b[0;30;48modi/467092.csv : Successfully Written.\n",
      "\u001b[0;30;48modi/656469.csv : Successfully Written.\n",
      "\u001b[0;30;48modi/1001373.csv : Successfully Written.\n",
      "\u001b[0;30;48modi/267387.csv : Successfully Written.\n",
      "\u001b[0;30;48modi/858487.csv : Successfully Written.\n",
      "\u001b[0;30;48modi/668955.csv : Successfully Written.\n",
      "\u001b[0;30;48modi/486522.csv : Successfully Written.\n",
      "\u001b[0;30;48modi/430886.csv : Successfully Written.\n"
     ]
    },
    {
     "name": "stderr",
     "output_type": "stream",
     "text": [
      "/home/tprolifer/anaconda3/lib/python3.7/site-packages/pandas/core/indexing.py:1494: FutureWarning: \n",
      "Passing list-likes to .loc or [] with any missing label will raise\n",
      "KeyError in the future, you can use .reindex() as an alternative.\n",
      "\n",
      "See the documentation here:\n",
      "https://pandas.pydata.org/pandas-docs/stable/indexing.html#deprecate-loc-reindex-listlike\n",
      "  return self._getitem_tuple(key)\n"
     ]
    },
    {
     "name": "stdout",
     "output_type": "stream",
     "text": [
      "\u001b[0;30;48modi/489216.csv : Successfully Written.\n",
      "\u001b[0;30;48modi/979829.csv : Successfully Written.\n",
      "\u001b[0;30;48modi/736439.csv : Successfully Written.\n"
     ]
    },
    {
     "name": "stderr",
     "output_type": "stream",
     "text": [
      "/home/tprolifer/anaconda3/lib/python3.7/site-packages/pandas/core/indexing.py:1494: FutureWarning: \n",
      "Passing list-likes to .loc or [] with any missing label will raise\n",
      "KeyError in the future, you can use .reindex() as an alternative.\n",
      "\n",
      "See the documentation here:\n",
      "https://pandas.pydata.org/pandas-docs/stable/indexing.html#deprecate-loc-reindex-listlike\n",
      "  return self._getitem_tuple(key)\n"
     ]
    },
    {
     "name": "stdout",
     "output_type": "stream",
     "text": [
      "\u001b[0;30;48modi/997961.csv : Successfully Written.\n",
      "\u001b[0;30;48modi/913631.csv : Successfully Written.\n",
      "\u001b[0;30;48modi/249231.csv : Successfully Written.\n",
      "\u001b[0;30;48modi/1089530.csv : Successfully Written.\n",
      "\u001b[0;30;48modi/736521.csv : Successfully Written.\n",
      "\u001b[0;30;48modi/446957.csv : Successfully Written.\n",
      "\u001b[0;30;48modi/236520.csv : Successfully Written.\n"
     ]
    },
    {
     "name": "stderr",
     "output_type": "stream",
     "text": [
      "/home/tprolifer/anaconda3/lib/python3.7/site-packages/pandas/core/indexing.py:1494: FutureWarning: \n",
      "Passing list-likes to .loc or [] with any missing label will raise\n",
      "KeyError in the future, you can use .reindex() as an alternative.\n",
      "\n",
      "See the documentation here:\n",
      "https://pandas.pydata.org/pandas-docs/stable/indexing.html#deprecate-loc-reindex-listlike\n",
      "  return self._getitem_tuple(key)\n"
     ]
    },
    {
     "name": "stdout",
     "output_type": "stream",
     "text": [
      "\u001b[0;30;48modi/560925.csv : Successfully Written.\n",
      "\u001b[0;30;48modi/936139.csv : Successfully Written.\n",
      "\u001b[0;30;48modi/746105.csv : Successfully Written.\n",
      "\u001b[0;30;48modi/378755.csv : Successfully Written.\n",
      "\u001b[0;30;48modi/760795.csv : Successfully Written.\n"
     ]
    },
    {
     "name": "stderr",
     "output_type": "stream",
     "text": [
      "/home/tprolifer/anaconda3/lib/python3.7/site-packages/pandas/core/indexing.py:1494: FutureWarning: \n",
      "Passing list-likes to .loc or [] with any missing label will raise\n",
      "KeyError in the future, you can use .reindex() as an alternative.\n",
      "\n",
      "See the documentation here:\n",
      "https://pandas.pydata.org/pandas-docs/stable/indexing.html#deprecate-loc-reindex-listlike\n",
      "  return self._getitem_tuple(key)\n"
     ]
    },
    {
     "name": "stdout",
     "output_type": "stream",
     "text": [
      "\u001b[0;30;48modi/352668.csv : Successfully Written.\n",
      "\u001b[0;30;48modi/894287.csv : Successfully Written.\n"
     ]
    },
    {
     "name": "stderr",
     "output_type": "stream",
     "text": [
      "/home/tprolifer/anaconda3/lib/python3.7/site-packages/pandas/core/indexing.py:1494: FutureWarning: \n",
      "Passing list-likes to .loc or [] with any missing label will raise\n",
      "KeyError in the future, you can use .reindex() as an alternative.\n",
      "\n",
      "See the documentation here:\n",
      "https://pandas.pydata.org/pandas-docs/stable/indexing.html#deprecate-loc-reindex-listlike\n",
      "  return self._getitem_tuple(key)\n"
     ]
    },
    {
     "name": "stdout",
     "output_type": "stream",
     "text": [
      "\u001b[0;30;48modi/433570.csv : Successfully Written.\n",
      "\u001b[0;30;48modi/1073404.csv : Successfully Written.\n",
      "\u001b[0;30;48modi/258466.csv : Successfully Written.\n",
      "\u001b[0;30;48modi/238189.csv : Successfully Written.\n",
      "\u001b[0;30;48modi/578621.csv : Successfully Written.\n",
      "\u001b[0;30;48modi/578618.csv : Successfully Written.\n",
      "\u001b[0;30;48modi/743945.csv : Successfully Written.\n"
     ]
    },
    {
     "name": "stderr",
     "output_type": "stream",
     "text": [
      "/home/tprolifer/anaconda3/lib/python3.7/site-packages/pandas/core/indexing.py:1494: FutureWarning: \n",
      "Passing list-likes to .loc or [] with any missing label will raise\n",
      "KeyError in the future, you can use .reindex() as an alternative.\n",
      "\n",
      "See the documentation here:\n",
      "https://pandas.pydata.org/pandas-docs/stable/indexing.html#deprecate-loc-reindex-listlike\n",
      "  return self._getitem_tuple(key)\n"
     ]
    },
    {
     "name": "stdout",
     "output_type": "stream",
     "text": [
      "\u001b[0;30;48modi/383275.csv : Successfully Written.\n"
     ]
    },
    {
     "name": "stderr",
     "output_type": "stream",
     "text": [
      "/home/tprolifer/anaconda3/lib/python3.7/site-packages/pandas/core/indexing.py:1494: FutureWarning: \n",
      "Passing list-likes to .loc or [] with any missing label will raise\n",
      "KeyError in the future, you can use .reindex() as an alternative.\n",
      "\n",
      "See the documentation here:\n",
      "https://pandas.pydata.org/pandas-docs/stable/indexing.html#deprecate-loc-reindex-listlike\n",
      "  return self._getitem_tuple(key)\n"
     ]
    },
    {
     "name": "stdout",
     "output_type": "stream",
     "text": [
      "\u001b[0;30;48modi/916661.csv : Successfully Written.\n",
      "\u001b[0;30;48modi/627006.csv : Successfully Written.\n"
     ]
    },
    {
     "name": "stderr",
     "output_type": "stream",
     "text": [
      "/home/tprolifer/anaconda3/lib/python3.7/site-packages/pandas/core/indexing.py:1494: FutureWarning: \n",
      "Passing list-likes to .loc or [] with any missing label will raise\n",
      "KeyError in the future, you can use .reindex() as an alternative.\n",
      "\n",
      "See the documentation here:\n",
      "https://pandas.pydata.org/pandas-docs/stable/indexing.html#deprecate-loc-reindex-listlike\n",
      "  return self._getitem_tuple(key)\n"
     ]
    },
    {
     "name": "stdout",
     "output_type": "stream",
     "text": [
      "\u001b[0;30;48modi/1059195.csv : Successfully Written.\n",
      "\u001b[0;30;48modi/953337.csv : Successfully Written.\n",
      "\u001b[0;30;48modi/785979.csv : Successfully Written.\n",
      "\u001b[0;30;48modi/656481.csv : Successfully Written.\n",
      "\u001b[0;30;48modi/361045.csv : Successfully Written.\n",
      "\u001b[0;30;48modi/785987.csv : Successfully Written.\n"
     ]
    },
    {
     "name": "stderr",
     "output_type": "stream",
     "text": [
      "/home/tprolifer/anaconda3/lib/python3.7/site-packages/pandas/core/indexing.py:1494: FutureWarning: \n",
      "Passing list-likes to .loc or [] with any missing label will raise\n",
      "KeyError in the future, you can use .reindex() as an alternative.\n",
      "\n",
      "See the documentation here:\n",
      "https://pandas.pydata.org/pandas-docs/stable/indexing.html#deprecate-loc-reindex-listlike\n",
      "  return self._getitem_tuple(key)\n"
     ]
    },
    {
     "name": "stdout",
     "output_type": "stream",
     "text": [
      "\u001b[0;30;48modi/916663.csv : Successfully Written.\n",
      "\u001b[0;30;48modi/467091.csv : Successfully Written.\n",
      "\u001b[0;30;48modi/291221.csv : Successfully Written.\n",
      "\u001b[0;30;48modi/736441.csv : Successfully Written.\n",
      "\u001b[0;30;48modi/1104478.csv : Successfully Written.\n",
      "\u001b[0;30;48modi/1144528.csv : Successfully Written.\n",
      "\u001b[0;30;48modi/433592.csv : Successfully Written.\n",
      "\u001b[0;30;48modi/467090.csv : Successfully Written.\n"
     ]
    },
    {
     "name": "stderr",
     "output_type": "stream",
     "text": [
      "/home/tprolifer/anaconda3/lib/python3.7/site-packages/pandas/core/indexing.py:1494: FutureWarning: \n",
      "Passing list-likes to .loc or [] with any missing label will raise\n",
      "KeyError in the future, you can use .reindex() as an alternative.\n",
      "\n",
      "See the documentation here:\n",
      "https://pandas.pydata.org/pandas-docs/stable/indexing.html#deprecate-loc-reindex-listlike\n",
      "  return self._getitem_tuple(key)\n"
     ]
    },
    {
     "name": "stdout",
     "output_type": "stream",
     "text": [
      "\u001b[0;30;48modi/226383.csv : Successfully Written.\n"
     ]
    },
    {
     "name": "stderr",
     "output_type": "stream",
     "text": [
      "/home/tprolifer/anaconda3/lib/python3.7/site-packages/pandas/core/indexing.py:1494: FutureWarning: \n",
      "Passing list-likes to .loc or [] with any missing label will raise\n",
      "KeyError in the future, you can use .reindex() as an alternative.\n",
      "\n",
      "See the documentation here:\n",
      "https://pandas.pydata.org/pandas-docs/stable/indexing.html#deprecate-loc-reindex-listlike\n",
      "  return self._getitem_tuple(key)\n"
     ]
    },
    {
     "name": "stdout",
     "output_type": "stream",
     "text": [
      "\u001b[0;30;48modi/504779.csv : Successfully Written.\n"
     ]
    },
    {
     "name": "stderr",
     "output_type": "stream",
     "text": [
      "/home/tprolifer/anaconda3/lib/python3.7/site-packages/pandas/core/indexing.py:1494: FutureWarning: \n",
      "Passing list-likes to .loc or [] with any missing label will raise\n",
      "KeyError in the future, you can use .reindex() as an alternative.\n",
      "\n",
      "See the documentation here:\n",
      "https://pandas.pydata.org/pandas-docs/stable/indexing.html#deprecate-loc-reindex-listlike\n",
      "  return self._getitem_tuple(key)\n"
     ]
    },
    {
     "name": "stdout",
     "output_type": "stream",
     "text": [
      "\u001b[0;30;48modi/727935.csv : Successfully Written.\n",
      "\u001b[0;30;48modi/628081.csv : Successfully Written.\n"
     ]
    },
    {
     "name": "stderr",
     "output_type": "stream",
     "text": [
      "/home/tprolifer/anaconda3/lib/python3.7/site-packages/pandas/core/indexing.py:1494: FutureWarning: \n",
      "Passing list-likes to .loc or [] with any missing label will raise\n",
      "KeyError in the future, you can use .reindex() as an alternative.\n",
      "\n",
      "See the documentation here:\n",
      "https://pandas.pydata.org/pandas-docs/stable/indexing.html#deprecate-loc-reindex-listlike\n",
      "  return self._getitem_tuple(key)\n"
     ]
    },
    {
     "name": "stdout",
     "output_type": "stream",
     "text": [
      "\u001b[0;30;48modi/439149.csv : Successfully Written.\n",
      "\u001b[0;30;48modi/350046.csv : Successfully Written.\n",
      "\u001b[0;30;48modi/913427.csv : Successfully Written.\n",
      "\u001b[0;30;48modi/1029821.csv : Successfully Written.\n"
     ]
    },
    {
     "name": "stderr",
     "output_type": "stream",
     "text": [
      "/home/tprolifer/anaconda3/lib/python3.7/site-packages/pandas/core/indexing.py:1494: FutureWarning: \n",
      "Passing list-likes to .loc or [] with any missing label will raise\n",
      "KeyError in the future, you can use .reindex() as an alternative.\n",
      "\n",
      "See the documentation here:\n",
      "https://pandas.pydata.org/pandas-docs/stable/indexing.html#deprecate-loc-reindex-listlike\n",
      "  return self._getitem_tuple(key)\n"
     ]
    },
    {
     "name": "stdout",
     "output_type": "stream",
     "text": [
      "\u001b[0;30;48modi/932865.csv : Successfully Written.\n",
      "\u001b[0;30;48modi/531633.csv : Successfully Written.\n",
      "\u001b[0;30;48modi/296906.csv : Successfully Written.\n"
     ]
    },
    {
     "name": "stderr",
     "output_type": "stream",
     "text": [
      "/home/tprolifer/anaconda3/lib/python3.7/site-packages/pandas/core/indexing.py:1494: FutureWarning: \n",
      "Passing list-likes to .loc or [] with any missing label will raise\n",
      "KeyError in the future, you can use .reindex() as an alternative.\n",
      "\n",
      "See the documentation here:\n",
      "https://pandas.pydata.org/pandas-docs/stable/indexing.html#deprecate-loc-reindex-listlike\n",
      "  return self._getitem_tuple(key)\n"
     ]
    },
    {
     "name": "stdout",
     "output_type": "stream",
     "text": [
      "\u001b[0;30;48modi/601077.csv : Successfully Written.\n",
      "\u001b[0;30;48modi/1043961.csv : Successfully Written.\n",
      "\u001b[0;30;48modi/1033365.csv : Successfully Written.\n",
      "\u001b[0;30;48modi/536930.csv : Successfully Written.\n",
      "\u001b[0;30;48modi/749543.csv : Successfully Written.\n",
      "\u001b[0;30;48modi/578624.csv : Successfully Written.\n",
      "\u001b[0;30;48modi/578623.csv : Successfully Written.\n",
      "\u001b[0;30;48modi/710291.csv : Successfully Written.\n",
      "\u001b[0;30;48modi/350477.csv : Successfully Written.\n",
      "\u001b[0;30;48modi/1089136.csv : Successfully Written.\n",
      "\u001b[0;30;48modi/746089.csv : Successfully Written.\n"
     ]
    },
    {
     "name": "stderr",
     "output_type": "stream",
     "text": [
      "/home/tprolifer/anaconda3/lib/python3.7/site-packages/pandas/core/indexing.py:1494: FutureWarning: \n",
      "Passing list-likes to .loc or [] with any missing label will raise\n",
      "KeyError in the future, you can use .reindex() as an alternative.\n",
      "\n",
      "See the documentation here:\n",
      "https://pandas.pydata.org/pandas-docs/stable/indexing.html#deprecate-loc-reindex-listlike\n",
      "  return self._getitem_tuple(key)\n"
     ]
    },
    {
     "name": "stdout",
     "output_type": "stream",
     "text": [
      "\u001b[0;30;48modi/319145.csv : Successfully Written.\n",
      "\u001b[0;30;48modi/422627.csv : Successfully Written.\n",
      "\u001b[0;30;48modi/446968.csv : Successfully Written.\n"
     ]
    },
    {
     "name": "stderr",
     "output_type": "stream",
     "text": [
      "/home/tprolifer/anaconda3/lib/python3.7/site-packages/pandas/core/indexing.py:1494: FutureWarning: \n",
      "Passing list-likes to .loc or [] with any missing label will raise\n",
      "KeyError in the future, you can use .reindex() as an alternative.\n",
      "\n",
      "See the documentation here:\n",
      "https://pandas.pydata.org/pandas-docs/stable/indexing.html#deprecate-loc-reindex-listlike\n",
      "  return self._getitem_tuple(key)\n"
     ]
    },
    {
     "name": "stdout",
     "output_type": "stream",
     "text": [
      "\u001b[0;30;48modi/645641.csv : Successfully Written.\n",
      "\u001b[0;30;48modi/690355.csv : Successfully Written.\n",
      "\u001b[0;30;48modi/812797.csv : Successfully Written.\n",
      "\u001b[0;30;48modi/935817.csv : Successfully Written.\n",
      "\u001b[0;30;48modi/792297.csv : Successfully Written.\n",
      "\u001b[0;30;48modi/1073423.csv : Successfully Written.\n"
     ]
    },
    {
     "name": "stderr",
     "output_type": "stream",
     "text": [
      "/home/tprolifer/anaconda3/lib/python3.7/site-packages/pandas/core/indexing.py:1494: FutureWarning: \n",
      "Passing list-likes to .loc or [] with any missing label will raise\n",
      "KeyError in the future, you can use .reindex() as an alternative.\n",
      "\n",
      "See the documentation here:\n",
      "https://pandas.pydata.org/pandas-docs/stable/indexing.html#deprecate-loc-reindex-listlike\n",
      "  return self._getitem_tuple(key)\n"
     ]
    },
    {
     "name": "stdout",
     "output_type": "stream",
     "text": [
      "\u001b[0;30;48modi/540172.csv : Successfully Written.\n",
      "\u001b[0;30;48modi/562440.csv : Successfully Written.\n",
      "\u001b[0;30;48modi/433558.csv : Successfully Written.\n",
      "\u001b[0;30;48modi/582188.csv : Successfully Written.\n",
      "\u001b[0;30;48modi/249380.csv : Successfully Written.\n",
      "\u001b[0;30;48modi/1029819.csv : Successfully Written.\n",
      "\u001b[0;30;48modi/535797.csv : Successfully Written.\n",
      "\u001b[0;30;48modi/467885.csv : Successfully Written.\n",
      "\u001b[0;30;48modi/848845.csv : Successfully Written.\n",
      "\u001b[0;30;48modi/812775.csv : Successfully Written.\n",
      "\u001b[0;30;48modi/656399.csv : Successfully Written.\n",
      "\u001b[0;30;48modi/403382.csv : Successfully Written.\n",
      "\u001b[0;30;48modi/426390.csv : Successfully Written.\n",
      "\u001b[0;30;48modi/226380.csv : Successfully Written.\n"
     ]
    },
    {
     "name": "stderr",
     "output_type": "stream",
     "text": [
      "/home/tprolifer/anaconda3/lib/python3.7/site-packages/pandas/core/indexing.py:1494: FutureWarning: \n",
      "Passing list-likes to .loc or [] with any missing label will raise\n",
      "KeyError in the future, you can use .reindex() as an alternative.\n",
      "\n",
      "See the documentation here:\n",
      "https://pandas.pydata.org/pandas-docs/stable/indexing.html#deprecate-loc-reindex-listlike\n",
      "  return self._getitem_tuple(key)\n"
     ]
    },
    {
     "name": "stdout",
     "output_type": "stream",
     "text": [
      "\u001b[0;30;48modi/911049.csv : Successfully Written.\n",
      "\u001b[0;30;48modi/296687.csv : Successfully Written.\n",
      "\u001b[0;30;48modi/785993.csv : Successfully Written.\n",
      "\u001b[0;30;48modi/722339.csv : Successfully Written.\n",
      "\u001b[0;30;48modi/623575.csv : Successfully Written.\n",
      "\u001b[0;30;48modi/1079250.csv : Successfully Written.\n"
     ]
    },
    {
     "name": "stderr",
     "output_type": "stream",
     "text": [
      "/home/tprolifer/anaconda3/lib/python3.7/site-packages/pandas/core/indexing.py:1494: FutureWarning: \n",
      "Passing list-likes to .loc or [] with any missing label will raise\n",
      "KeyError in the future, you can use .reindex() as an alternative.\n",
      "\n",
      "See the documentation here:\n",
      "https://pandas.pydata.org/pandas-docs/stable/indexing.html#deprecate-loc-reindex-listlike\n",
      "  return self._getitem_tuple(key)\n"
     ]
    },
    {
     "name": "stdout",
     "output_type": "stream",
     "text": [
      "\u001b[0;30;48modi/489223.csv : Successfully Written.\n",
      "\u001b[0;30;48modi/406204.csv : Successfully Written.\n"
     ]
    },
    {
     "name": "stderr",
     "output_type": "stream",
     "text": [
      "/home/tprolifer/anaconda3/lib/python3.7/site-packages/pandas/core/indexing.py:1494: FutureWarning: \n",
      "Passing list-likes to .loc or [] with any missing label will raise\n",
      "KeyError in the future, you can use .reindex() as an alternative.\n",
      "\n",
      "See the documentation here:\n",
      "https://pandas.pydata.org/pandas-docs/stable/indexing.html#deprecate-loc-reindex-listlike\n",
      "  return self._getitem_tuple(key)\n"
     ]
    },
    {
     "name": "stdout",
     "output_type": "stream",
     "text": [
      "\u001b[0;30;48modi/540168.csv : Successfully Written.\n",
      "\u001b[0;30;48modi/416241.csv : Successfully Written.\n",
      "\u001b[0;30;48modi/800477.csv : Successfully Written.\n",
      "\u001b[0;30;48modi/1073426.csv : Successfully Written.\n",
      "\u001b[0;30;48modi/238176.csv : Successfully Written.\n",
      "\u001b[0;30;48modi/1073425.csv : Successfully Written.\n",
      "\u001b[0;30;48modi/1077951.csv : Successfully Written.\n",
      "\u001b[0;30;48modi/746109.csv : Successfully Written.\n",
      "\u001b[0;30;48modi/667647.csv : Successfully Written.\n",
      "\u001b[0;30;48modi/1085955.csv : Successfully Written.\n"
     ]
    },
    {
     "name": "stderr",
     "output_type": "stream",
     "text": [
      "/home/tprolifer/anaconda3/lib/python3.7/site-packages/pandas/core/indexing.py:1494: FutureWarning: \n",
      "Passing list-likes to .loc or [] with any missing label will raise\n",
      "KeyError in the future, you can use .reindex() as an alternative.\n",
      "\n",
      "See the documentation here:\n",
      "https://pandas.pydata.org/pandas-docs/stable/indexing.html#deprecate-loc-reindex-listlike\n",
      "  return self._getitem_tuple(key)\n"
     ]
    },
    {
     "name": "stdout",
     "output_type": "stream",
     "text": [
      "\u001b[0;30;48modi/249755.csv : Successfully Written.\n",
      "\u001b[0;30;48modi/1030221.csv : Successfully Written.\n",
      "\u001b[0;30;48modi/267713.csv : Successfully Written.\n",
      "\u001b[0;30;48modi/979819.csv : Successfully Written.\n"
     ]
    },
    {
     "name": "stderr",
     "output_type": "stream",
     "text": [
      "/home/tprolifer/anaconda3/lib/python3.7/site-packages/pandas/core/indexing.py:1494: FutureWarning: \n",
      "Passing list-likes to .loc or [] with any missing label will raise\n",
      "KeyError in the future, you can use .reindex() as an alternative.\n",
      "\n",
      "See the documentation here:\n",
      "https://pandas.pydata.org/pandas-docs/stable/indexing.html#deprecate-loc-reindex-listlike\n",
      "  return self._getitem_tuple(key)\n"
     ]
    },
    {
     "name": "stdout",
     "output_type": "stream",
     "text": [
      "\u001b[0;30;48modi/239907.csv : Successfully Written.\n",
      "\u001b[0;30;48modi/385025.csv : Successfully Written.\n"
     ]
    },
    {
     "name": "stderr",
     "output_type": "stream",
     "text": [
      "/home/tprolifer/anaconda3/lib/python3.7/site-packages/pandas/core/indexing.py:1494: FutureWarning: \n",
      "Passing list-likes to .loc or [] with any missing label will raise\n",
      "KeyError in the future, you can use .reindex() as an alternative.\n",
      "\n",
      "See the documentation here:\n",
      "https://pandas.pydata.org/pandas-docs/stable/indexing.html#deprecate-loc-reindex-listlike\n",
      "  return self._getitem_tuple(key)\n"
     ]
    },
    {
     "name": "stdout",
     "output_type": "stream",
     "text": [
      "\u001b[0;30;48modi/319143.csv : Successfully Written.\n",
      "\u001b[0;30;48modi/297798.csv : Successfully Written.\n",
      "\u001b[0;30;48modi/238174.csv : Successfully Written.\n",
      "\u001b[0;30;48modi/410339.csv : Successfully Written.\n",
      "\u001b[0;30;48modi/792289.csv : Successfully Written.\n",
      "\u001b[0;30;48modi/749567.csv : Successfully Written.\n"
     ]
    },
    {
     "name": "stderr",
     "output_type": "stream",
     "text": [
      "/home/tprolifer/anaconda3/lib/python3.7/site-packages/pandas/core/indexing.py:1494: FutureWarning: \n",
      "Passing list-likes to .loc or [] with any missing label will raise\n",
      "KeyError in the future, you can use .reindex() as an alternative.\n",
      "\n",
      "See the documentation here:\n",
      "https://pandas.pydata.org/pandas-docs/stable/indexing.html#deprecate-loc-reindex-listlike\n",
      "  return self._getitem_tuple(key)\n"
     ]
    },
    {
     "name": "stdout",
     "output_type": "stream",
     "text": [
      "\u001b[0;30;48modi/895797.csv : Successfully Written.\n",
      "\u001b[0;30;48modi/452152.csv : Successfully Written.\n",
      "\u001b[0;30;48modi/800475.csv : Successfully Written.\n",
      "\u001b[0;30;48modi/656439.csv : Successfully Written.\n",
      "\u001b[0;30;48modi/415162.csv : Successfully Written.\n",
      "\u001b[0;30;48modi/1073427.csv : Successfully Written.\n",
      "\u001b[0;30;48modi/317579.csv : Successfully Written.\n",
      "\u001b[0;30;48modi/656423.csv : Successfully Written.\n",
      "\u001b[0;30;48modi/710293.csv : Successfully Written.\n"
     ]
    },
    {
     "name": "stderr",
     "output_type": "stream",
     "text": [
      "/home/tprolifer/anaconda3/lib/python3.7/site-packages/pandas/core/indexing.py:1494: FutureWarning: \n",
      "Passing list-likes to .loc or [] with any missing label will raise\n",
      "KeyError in the future, you can use .reindex() as an alternative.\n",
      "\n",
      "See the documentation here:\n",
      "https://pandas.pydata.org/pandas-docs/stable/indexing.html#deprecate-loc-reindex-listlike\n",
      "  return self._getitem_tuple(key)\n"
     ]
    },
    {
     "name": "stdout",
     "output_type": "stream",
     "text": [
      "\u001b[0;30;48modi/247470.csv : Successfully Written.\n",
      "\u001b[0;30;48modi/1073418.csv : Successfully Written.\n",
      "\u001b[0;30;48modi/722347.csv : Successfully Written.\n",
      "\u001b[0;30;48modi/226384.csv : Successfully Written.\n",
      "\u001b[0;30;48modi/1022363.csv : Successfully Written.\n"
     ]
    },
    {
     "name": "stderr",
     "output_type": "stream",
     "text": [
      "/home/tprolifer/anaconda3/lib/python3.7/site-packages/pandas/core/indexing.py:1494: FutureWarning: \n",
      "Passing list-likes to .loc or [] with any missing label will raise\n",
      "KeyError in the future, you can use .reindex() as an alternative.\n",
      "\n",
      "See the documentation here:\n",
      "https://pandas.pydata.org/pandas-docs/stable/indexing.html#deprecate-loc-reindex-listlike\n",
      "  return self._getitem_tuple(key)\n"
     ]
    },
    {
     "name": "stdout",
     "output_type": "stream",
     "text": [
      "\u001b[0;30;48modi/757507.csv : Successfully Written.\n",
      "\u001b[0;30;48modi/656447.csv : Successfully Written.\n"
     ]
    },
    {
     "name": "stderr",
     "output_type": "stream",
     "text": [
      "/home/tprolifer/anaconda3/lib/python3.7/site-packages/pandas/core/indexing.py:1494: FutureWarning: \n",
      "Passing list-likes to .loc or [] with any missing label will raise\n",
      "KeyError in the future, you can use .reindex() as an alternative.\n",
      "\n",
      "See the documentation here:\n",
      "https://pandas.pydata.org/pandas-docs/stable/indexing.html#deprecate-loc-reindex-listlike\n",
      "  return self._getitem_tuple(key)\n"
     ]
    },
    {
     "name": "stdout",
     "output_type": "stream",
     "text": [
      "\u001b[0;30;48modi/293078.csv : Successfully Written.\n",
      "\u001b[0;30;48modi/226377.csv : Successfully Written.\n",
      "\u001b[0;30;48modi/749541.csv : Successfully Written.\n",
      "\u001b[0;30;48modi/1033363.csv : Successfully Written.\n"
     ]
    },
    {
     "name": "stderr",
     "output_type": "stream",
     "text": [
      "/home/tprolifer/anaconda3/lib/python3.7/site-packages/pandas/core/indexing.py:1494: FutureWarning: \n",
      "Passing list-likes to .loc or [] with any missing label will raise\n",
      "KeyError in the future, you can use .reindex() as an alternative.\n",
      "\n",
      "See the documentation here:\n",
      "https://pandas.pydata.org/pandas-docs/stable/indexing.html#deprecate-loc-reindex-listlike\n",
      "  return self._getitem_tuple(key)\n"
     ]
    },
    {
     "name": "stdout",
     "output_type": "stream",
     "text": [
      "\u001b[0;30;48modi/377315.csv : Successfully Written.\n",
      "\u001b[0;30;48modi/743947.csv : Successfully Written.\n",
      "\u001b[0;30;48modi/785965.csv : Successfully Written.\n"
     ]
    },
    {
     "name": "stderr",
     "output_type": "stream",
     "text": [
      "/home/tprolifer/anaconda3/lib/python3.7/site-packages/pandas/core/indexing.py:1494: FutureWarning: \n",
      "Passing list-likes to .loc or [] with any missing label will raise\n",
      "KeyError in the future, you can use .reindex() as an alternative.\n",
      "\n",
      "See the documentation here:\n",
      "https://pandas.pydata.org/pandas-docs/stable/indexing.html#deprecate-loc-reindex-listlike\n",
      "  return self._getitem_tuple(key)\n"
     ]
    },
    {
     "name": "stdout",
     "output_type": "stream",
     "text": [
      "\u001b[0;30;48modi/645639.csv : Successfully Written.\n",
      "\u001b[0;30;48modi/656417.csv : Successfully Written.\n",
      "\u001b[0;30;48modi/659553.csv : Successfully Written.\n",
      "\u001b[0;30;48modi/461566.csv : Successfully Written.\n",
      "\u001b[0;30;48modi/1073408.csv : Successfully Written.\n",
      "\u001b[0;30;48modi/710309.csv : Successfully Written.\n",
      "\u001b[0;30;48modi/1020017.csv : Successfully Written.\n",
      "\u001b[0;30;48modi/1000893.csv : Successfully Written.\n"
     ]
    },
    {
     "name": "stderr",
     "output_type": "stream",
     "text": [
      "/home/tprolifer/anaconda3/lib/python3.7/site-packages/pandas/core/indexing.py:1494: FutureWarning: \n",
      "Passing list-likes to .loc or [] with any missing label will raise\n",
      "KeyError in the future, you can use .reindex() as an alternative.\n",
      "\n",
      "See the documentation here:\n",
      "https://pandas.pydata.org/pandas-docs/stable/indexing.html#deprecate-loc-reindex-listlike\n",
      "  return self._getitem_tuple(key)\n"
     ]
    },
    {
     "name": "stdout",
     "output_type": "stream",
     "text": [
      "\u001b[0;30;48modi/249757.csv : Successfully Written.\n",
      "\u001b[0;30;48modi/656479.csv : Successfully Written.\n",
      "\u001b[0;30;48modi/474471.csv : Successfully Written.\n",
      "\u001b[0;30;48modi/534219.csv : Successfully Written.\n"
     ]
    },
    {
     "name": "stderr",
     "output_type": "stream",
     "text": [
      "/home/tprolifer/anaconda3/lib/python3.7/site-packages/pandas/core/indexing.py:1494: FutureWarning: \n",
      "Passing list-likes to .loc or [] with any missing label will raise\n",
      "KeyError in the future, you can use .reindex() as an alternative.\n",
      "\n",
      "See the documentation here:\n",
      "https://pandas.pydata.org/pandas-docs/stable/indexing.html#deprecate-loc-reindex-listlike\n",
      "  return self._getitem_tuple(key)\n"
     ]
    },
    {
     "name": "stdout",
     "output_type": "stream",
     "text": [
      "\u001b[0;30;48modi/1043953.csv : Successfully Written.\n",
      "\u001b[0;30;48modi/267389.csv : Successfully Written.\n",
      "\u001b[0;30;48modi/656485.csv : Successfully Written.\n",
      "\u001b[0;30;48modi/573017.csv : Successfully Written.\n",
      "\u001b[0;30;48modi/463143.csv : Successfully Written.\n",
      "\u001b[0;30;48modi/785985.csv : Successfully Written.\n",
      "\u001b[0;30;48modi/300440.csv : Successfully Written.\n",
      "\u001b[0;30;48modi/812779.csv : Successfully Written.\n",
      "\u001b[0;30;48modi/518961.csv : Successfully Written.\n",
      "\u001b[0;30;48modi/656405.csv : Successfully Written.\n",
      "\u001b[0;30;48modi/1144494.csv : Successfully Written.\n"
     ]
    },
    {
     "name": "stderr",
     "output_type": "stream",
     "text": [
      "/home/tprolifer/anaconda3/lib/python3.7/site-packages/pandas/core/indexing.py:1494: FutureWarning: \n",
      "Passing list-likes to .loc or [] with any missing label will raise\n",
      "KeyError in the future, you can use .reindex() as an alternative.\n",
      "\n",
      "See the documentation here:\n",
      "https://pandas.pydata.org/pandas-docs/stable/indexing.html#deprecate-loc-reindex-listlike\n",
      "  return self._getitem_tuple(key)\n"
     ]
    },
    {
     "name": "stdout",
     "output_type": "stream",
     "text": [
      "\u001b[0;30;48modi/516208.csv : Successfully Written.\n",
      "\u001b[0;30;48modi/1144520.csv : Successfully Written.\n",
      "\u001b[0;30;48modi/249379.csv : Successfully Written.\n",
      "\u001b[0;30;48modi/1089522.csv : Successfully Written.\n",
      "\u001b[0;30;48modi/1062580.csv : Successfully Written.\n"
     ]
    },
    {
     "name": "stderr",
     "output_type": "stream",
     "text": [
      "/home/tprolifer/anaconda3/lib/python3.7/site-packages/pandas/core/indexing.py:1494: FutureWarning: \n",
      "Passing list-likes to .loc or [] with any missing label will raise\n",
      "KeyError in the future, you can use .reindex() as an alternative.\n",
      "\n",
      "See the documentation here:\n",
      "https://pandas.pydata.org/pandas-docs/stable/indexing.html#deprecate-loc-reindex-listlike\n",
      "  return self._getitem_tuple(key)\n"
     ]
    },
    {
     "name": "stdout",
     "output_type": "stream",
     "text": [
      "\u001b[0;30;48modi/1161014.csv : Successfully Written.\n",
      "\u001b[0;30;48modi/325800.csv : Successfully Written.\n"
     ]
    },
    {
     "name": "stderr",
     "output_type": "stream",
     "text": [
      "/home/tprolifer/anaconda3/lib/python3.7/site-packages/pandas/core/indexing.py:1494: FutureWarning: \n",
      "Passing list-likes to .loc or [] with any missing label will raise\n",
      "KeyError in the future, you can use .reindex() as an alternative.\n",
      "\n",
      "See the documentation here:\n",
      "https://pandas.pydata.org/pandas-docs/stable/indexing.html#deprecate-loc-reindex-listlike\n",
      "  return self._getitem_tuple(key)\n"
     ]
    },
    {
     "name": "stdout",
     "output_type": "stream",
     "text": [
      "\u001b[0;30;48modi/932859.csv : Successfully Written.\n",
      "\u001b[0;30;48modi/744679.csv : Successfully Written.\n",
      "\u001b[0;30;48modi/406206.csv : Successfully Written.\n",
      "\u001b[0;30;48modi/1085951.csv : Successfully Written.\n",
      "\u001b[0;30;48modi/566942.csv : Successfully Written.\n",
      "\u001b[0;30;48modi/415278.csv : Successfully Written.\n",
      "\u001b[0;30;48modi/293482.csv : Successfully Written.\n",
      "\u001b[0;30;48modi/503365.csv : Successfully Written.\n",
      "\u001b[0;30;48modi/567360.csv : Successfully Written.\n",
      "\u001b[0;30;48modi/249207.csv : Successfully Written.\n",
      "\u001b[0;30;48modi/238169.csv : Successfully Written.\n"
     ]
    },
    {
     "name": "stderr",
     "output_type": "stream",
     "text": [
      "/home/tprolifer/anaconda3/lib/python3.7/site-packages/pandas/core/indexing.py:1494: FutureWarning: \n",
      "Passing list-likes to .loc or [] with any missing label will raise\n",
      "KeyError in the future, you can use .reindex() as an alternative.\n",
      "\n",
      "See the documentation here:\n",
      "https://pandas.pydata.org/pandas-docs/stable/indexing.html#deprecate-loc-reindex-listlike\n",
      "  return self._getitem_tuple(key)\n"
     ]
    },
    {
     "name": "stdout",
     "output_type": "stream",
     "text": [
      "\u001b[0;30;48modi/1098209.csv : Successfully Written.\n",
      "\u001b[0;30;48modi/812777.csv : Successfully Written.\n",
      "\u001b[0;30;48modi/1073415.csv : Successfully Written.\n",
      "\u001b[0;30;48modi/386532.csv : Successfully Written.\n",
      "\u001b[0;30;48modi/730083.csv : Successfully Written.\n",
      "\u001b[0;30;48modi/913653.csv : Successfully Written.\n"
     ]
    },
    {
     "name": "stderr",
     "output_type": "stream",
     "text": [
      "/home/tprolifer/anaconda3/lib/python3.7/site-packages/pandas/core/indexing.py:1494: FutureWarning: \n",
      "Passing list-likes to .loc or [] with any missing label will raise\n",
      "KeyError in the future, you can use .reindex() as an alternative.\n",
      "\n",
      "See the documentation here:\n",
      "https://pandas.pydata.org/pandas-docs/stable/indexing.html#deprecate-loc-reindex-listlike\n",
      "  return self._getitem_tuple(key)\n"
     ]
    },
    {
     "name": "stdout",
     "output_type": "stream",
     "text": [
      "\u001b[0;30;48modi/932857.csv : Successfully Written.\n"
     ]
    },
    {
     "name": "stderr",
     "output_type": "stream",
     "text": [
      "/home/tprolifer/anaconda3/lib/python3.7/site-packages/pandas/core/indexing.py:1494: FutureWarning: \n",
      "Passing list-likes to .loc or [] with any missing label will raise\n",
      "KeyError in the future, you can use .reindex() as an alternative.\n",
      "\n",
      "See the documentation here:\n",
      "https://pandas.pydata.org/pandas-docs/stable/indexing.html#deprecate-loc-reindex-listlike\n",
      "  return self._getitem_tuple(key)\n"
     ]
    },
    {
     "name": "stdout",
     "output_type": "stream",
     "text": [
      "\u001b[0;30;48modi/247474.csv : Successfully Written.\n",
      "\u001b[0;30;48modi/463151.csv : Successfully Written.\n"
     ]
    },
    {
     "name": "stderr",
     "output_type": "stream",
     "text": [
      "/home/tprolifer/anaconda3/lib/python3.7/site-packages/pandas/core/indexing.py:1494: FutureWarning: \n",
      "Passing list-likes to .loc or [] with any missing label will raise\n",
      "KeyError in the future, you can use .reindex() as an alternative.\n",
      "\n",
      "See the documentation here:\n",
      "https://pandas.pydata.org/pandas-docs/stable/indexing.html#deprecate-loc-reindex-listlike\n",
      "  return self._getitem_tuple(key)\n"
     ]
    },
    {
     "name": "stdout",
     "output_type": "stream",
     "text": [
      "\u001b[0;30;48modi/247458.csv : Successfully Written.\n",
      "\u001b[0;30;48modi/749555.csv : Successfully Written.\n",
      "\u001b[0;30;48modi/267391.csv : Successfully Written.\n",
      "\u001b[0;30;48modi/298807.csv : Successfully Written.\n",
      "\u001b[0;30;48modi/461568.csv : Successfully Written.\n",
      "\u001b[0;30;48modi/298805.csv : Successfully Written.\n"
     ]
    },
    {
     "name": "stderr",
     "output_type": "stream",
     "text": [
      "/home/tprolifer/anaconda3/lib/python3.7/site-packages/pandas/core/indexing.py:1494: FutureWarning: \n",
      "Passing list-likes to .loc or [] with any missing label will raise\n",
      "KeyError in the future, you can use .reindex() as an alternative.\n",
      "\n",
      "See the documentation here:\n",
      "https://pandas.pydata.org/pandas-docs/stable/indexing.html#deprecate-loc-reindex-listlike\n",
      "  return self._getitem_tuple(key)\n"
     ]
    },
    {
     "name": "stdout",
     "output_type": "stream",
     "text": [
      "\u001b[0;30;48modi/319134.csv : Successfully Written.\n",
      "\u001b[0;30;48modi/249759.csv : Successfully Written.\n",
      "\u001b[0;30;48modi/656401.csv : Successfully Written.\n",
      "\u001b[0;30;48modi/584549.csv : Successfully Written.\n",
      "\u001b[0;30;48modi/343759.csv : Successfully Written.\n",
      "\u001b[0;30;48modi/374059.csv : Successfully Written.\n",
      "\u001b[0;30;48modi/710311.csv : Successfully Written.\n",
      "\u001b[0;30;48modi/743979.csv : Successfully Written.\n"
     ]
    },
    {
     "name": "stderr",
     "output_type": "stream",
     "text": [
      "/home/tprolifer/anaconda3/lib/python3.7/site-packages/pandas/core/indexing.py:1494: FutureWarning: \n",
      "Passing list-likes to .loc or [] with any missing label will raise\n",
      "KeyError in the future, you can use .reindex() as an alternative.\n",
      "\n",
      "See the documentation here:\n",
      "https://pandas.pydata.org/pandas-docs/stable/indexing.html#deprecate-loc-reindex-listlike\n",
      "  return self._getitem_tuple(key)\n"
     ]
    },
    {
     "name": "stdout",
     "output_type": "stream",
     "text": [
      "\u001b[0;30;48modi/636160.csv : Successfully Written.\n"
     ]
    },
    {
     "name": "stderr",
     "output_type": "stream",
     "text": [
      "/home/tprolifer/anaconda3/lib/python3.7/site-packages/pandas/core/indexing.py:1494: FutureWarning: \n",
      "Passing list-likes to .loc or [] with any missing label will raise\n",
      "KeyError in the future, you can use .reindex() as an alternative.\n",
      "\n",
      "See the documentation here:\n",
      "https://pandas.pydata.org/pandas-docs/stable/indexing.html#deprecate-loc-reindex-listlike\n",
      "  return self._getitem_tuple(key)\n"
     ]
    },
    {
     "name": "stdout",
     "output_type": "stream",
     "text": [
      "\u001b[0;30;48modi/1062508.csv : Successfully Written.\n",
      "\u001b[0;30;48modi/1085945.csv : Successfully Written.\n",
      "\u001b[0;30;48modi/749781.csv : Successfully Written.\n",
      "\u001b[0;30;48modi/649099.csv : Successfully Written.\n",
      "\u001b[0;30;48modi/1085948.csv : Successfully Written.\n",
      "\u001b[0;30;48modi/1040497.csv : Successfully Written.\n",
      "\u001b[0;30;48modi/1085946.csv : Successfully Written.\n",
      "\u001b[0;30;48modi/250668.csv : Successfully Written.\n",
      "\u001b[0;30;48modi/749553.csv : Successfully Written.\n",
      "\u001b[0;30;48modi/433603.csv : Successfully Written.\n",
      "\u001b[0;30;48modi/1144503.csv : Successfully Written.\n",
      "\u001b[0;30;48modi/710307.csv : Successfully Written.\n"
     ]
    },
    {
     "name": "stderr",
     "output_type": "stream",
     "text": [
      "/home/tprolifer/anaconda3/lib/python3.7/site-packages/pandas/core/indexing.py:1494: FutureWarning: \n",
      "Passing list-likes to .loc or [] with any missing label will raise\n",
      "KeyError in the future, you can use .reindex() as an alternative.\n",
      "\n",
      "See the documentation here:\n",
      "https://pandas.pydata.org/pandas-docs/stable/indexing.html#deprecate-loc-reindex-listlike\n",
      "  return self._getitem_tuple(key)\n"
     ]
    },
    {
     "name": "stdout",
     "output_type": "stream",
     "text": [
      "\u001b[0;30;48modi/536931.csv : Successfully Written.\n",
      "\u001b[0;30;48modi/1059711.csv : Successfully Written.\n",
      "\u001b[0;30;48modi/657641.csv : Successfully Written.\n",
      "\u001b[0;30;48modi/868729.csv : Successfully Written.\n",
      "\u001b[0;30;48modi/433594.csv : Successfully Written.\n",
      "\u001b[0;30;48modi/415277.csv : Successfully Written.\n"
     ]
    },
    {
     "name": "stderr",
     "output_type": "stream",
     "text": [
      "/home/tprolifer/anaconda3/lib/python3.7/site-packages/pandas/core/indexing.py:1494: FutureWarning: \n",
      "Passing list-likes to .loc or [] with any missing label will raise\n",
      "KeyError in the future, you can use .reindex() as an alternative.\n",
      "\n",
      "See the documentation here:\n",
      "https://pandas.pydata.org/pandas-docs/stable/indexing.html#deprecate-loc-reindex-listlike\n",
      "  return self._getitem_tuple(key)\n"
     ]
    },
    {
     "name": "stdout",
     "output_type": "stream",
     "text": [
      "\u001b[0;30;48modi/750667.csv : Successfully Written.\n",
      "\u001b[0;30;48modi/1144491.csv : Successfully Written.\n",
      "\u001b[0;30;48modi/902645.csv : Successfully Written.\n"
     ]
    },
    {
     "name": "stderr",
     "output_type": "stream",
     "text": [
      "/home/tprolifer/anaconda3/lib/python3.7/site-packages/pandas/core/indexing.py:1494: FutureWarning: \n",
      "Passing list-likes to .loc or [] with any missing label will raise\n",
      "KeyError in the future, you can use .reindex() as an alternative.\n",
      "\n",
      "See the documentation here:\n",
      "https://pandas.pydata.org/pandas-docs/stable/indexing.html#deprecate-loc-reindex-listlike\n",
      "  return self._getitem_tuple(key)\n"
     ]
    },
    {
     "name": "stdout",
     "output_type": "stream",
     "text": [
      "\u001b[0;30;48modi/247504.csv : Successfully Written.\n",
      "\u001b[0;30;48modi/433591.csv : Successfully Written.\n",
      "\u001b[0;30;48modi/300438.csv : Successfully Written.\n",
      "\u001b[0;30;48modi/503364.csv : Successfully Written.\n",
      "\u001b[0;30;48modi/518964.csv : Successfully Written.\n",
      "\u001b[0;30;48modi/913419.csv : Successfully Written.\n",
      "\u001b[0;30;48modi/1089183.csv : Successfully Written.\n",
      "\u001b[0;30;48modi/247492.csv : Successfully Written.\n",
      "\u001b[0;30;48modi/973773.csv : Successfully Written.\n",
      "\u001b[0;30;48modi/668957.csv : Successfully Written.\n"
     ]
    },
    {
     "name": "stderr",
     "output_type": "stream",
     "text": [
      "/home/tprolifer/anaconda3/lib/python3.7/site-packages/pandas/core/indexing.py:1494: FutureWarning: \n",
      "Passing list-likes to .loc or [] with any missing label will raise\n",
      "KeyError in the future, you can use .reindex() as an alternative.\n",
      "\n",
      "See the documentation here:\n",
      "https://pandas.pydata.org/pandas-docs/stable/indexing.html#deprecate-loc-reindex-listlike\n",
      "  return self._getitem_tuple(key)\n"
     ]
    },
    {
     "name": "stdout",
     "output_type": "stream",
     "text": [
      "\u001b[0;30;48modi/247502.csv : Successfully Written.\n",
      "\u001b[0;30;48modi/335358.csv : Successfully Written.\n",
      "\u001b[0;30;48modi/635653.csv : Successfully Written.\n",
      "\u001b[0;30;48modi/463145.csv : Successfully Written.\n"
     ]
    },
    {
     "name": "stderr",
     "output_type": "stream",
     "text": [
      "/home/tprolifer/anaconda3/lib/python3.7/site-packages/pandas/core/indexing.py:1494: FutureWarning: \n",
      "Passing list-likes to .loc or [] with any missing label will raise\n",
      "KeyError in the future, you can use .reindex() as an alternative.\n",
      "\n",
      "See the documentation here:\n",
      "https://pandas.pydata.org/pandas-docs/stable/indexing.html#deprecate-loc-reindex-listlike\n",
      "  return self._getitem_tuple(key)\n"
     ]
    },
    {
     "name": "stdout",
     "output_type": "stream",
     "text": [
      "\u001b[0;30;48modi/631138.csv : Successfully Written.\n",
      "\u001b[0;30;48modi/915781.csv : Successfully Written.\n",
      "\u001b[0;30;48modi/727921.csv : Successfully Written.\n",
      "\u001b[0;30;48modi/584547.csv : Successfully Written.\n",
      "\u001b[0;30;48modi/225251.csv : Successfully Written.\n"
     ]
    },
    {
     "name": "stderr",
     "output_type": "stream",
     "text": [
      "/home/tprolifer/anaconda3/lib/python3.7/site-packages/pandas/core/indexing.py:1494: FutureWarning: \n",
      "Passing list-likes to .loc or [] with any missing label will raise\n",
      "KeyError in the future, you can use .reindex() as an alternative.\n",
      "\n",
      "See the documentation here:\n",
      "https://pandas.pydata.org/pandas-docs/stable/indexing.html#deprecate-loc-reindex-listlike\n",
      "  return self._getitem_tuple(key)\n"
     ]
    },
    {
     "name": "stdout",
     "output_type": "stream",
     "text": [
      "\u001b[0;30;48modi/439148.csv : Successfully Written.\n",
      "\u001b[0;30;48modi/446967.csv : Successfully Written.\n",
      "\u001b[0;30;48modi/749569.csv : Successfully Written.\n",
      "\u001b[0;30;48modi/520600.csv : Successfully Written.\n"
     ]
    },
    {
     "name": "stderr",
     "output_type": "stream",
     "text": [
      "/home/tprolifer/anaconda3/lib/python3.7/site-packages/pandas/core/indexing.py:1494: FutureWarning: \n",
      "Passing list-likes to .loc or [] with any missing label will raise\n",
      "KeyError in the future, you can use .reindex() as an alternative.\n",
      "\n",
      "See the documentation here:\n",
      "https://pandas.pydata.org/pandas-docs/stable/indexing.html#deprecate-loc-reindex-listlike\n",
      "  return self._getitem_tuple(key)\n"
     ]
    },
    {
     "name": "stdout",
     "output_type": "stream",
     "text": [
      "\u001b[0;30;48modi/433605.csv : Successfully Written.\n"
     ]
    },
    {
     "name": "stderr",
     "output_type": "stream",
     "text": [
      "/home/tprolifer/anaconda3/lib/python3.7/site-packages/pandas/core/indexing.py:1494: FutureWarning: \n",
      "Passing list-likes to .loc or [] with any missing label will raise\n",
      "KeyError in the future, you can use .reindex() as an alternative.\n",
      "\n",
      "See the documentation here:\n",
      "https://pandas.pydata.org/pandas-docs/stable/indexing.html#deprecate-loc-reindex-listlike\n",
      "  return self._getitem_tuple(key)\n"
     ]
    },
    {
     "name": "stdout",
     "output_type": "stream",
     "text": [
      "\u001b[0;30;48modi/1068737.csv : Successfully Written.\n",
      "\u001b[0;30;48modi/403380.csv : Successfully Written.\n",
      "\u001b[0;30;48modi/426720.csv : Successfully Written.\n",
      "\u001b[0;30;48modi/1083447.csv : Successfully Written.\n"
     ]
    },
    {
     "name": "stderr",
     "output_type": "stream",
     "text": [
      "/home/tprolifer/anaconda3/lib/python3.7/site-packages/pandas/core/indexing.py:1494: FutureWarning: \n",
      "Passing list-likes to .loc or [] with any missing label will raise\n",
      "KeyError in the future, you can use .reindex() as an alternative.\n",
      "\n",
      "See the documentation here:\n",
      "https://pandas.pydata.org/pandas-docs/stable/indexing.html#deprecate-loc-reindex-listlike\n",
      "  return self._getitem_tuple(key)\n"
     ]
    },
    {
     "name": "stdout",
     "output_type": "stream",
     "text": [
      "\u001b[0;30;48modi/1098210.csv : Successfully Written.\n",
      "\u001b[0;30;48modi/803797.csv : Successfully Written.\n",
      "\u001b[0;30;48modi/578616.csv : Successfully Written.\n"
     ]
    },
    {
     "name": "stderr",
     "output_type": "stream",
     "text": [
      "/home/tprolifer/anaconda3/lib/python3.7/site-packages/pandas/core/indexing.py:1494: FutureWarning: \n",
      "Passing list-likes to .loc or [] with any missing label will raise\n",
      "KeyError in the future, you can use .reindex() as an alternative.\n",
      "\n",
      "See the documentation here:\n",
      "https://pandas.pydata.org/pandas-docs/stable/indexing.html#deprecate-loc-reindex-listlike\n",
      "  return self._getitem_tuple(key)\n"
     ]
    },
    {
     "name": "stdout",
     "output_type": "stream",
     "text": [
      "\u001b[0;30;48modi/247469.csv : Successfully Written.\n"
     ]
    },
    {
     "name": "stderr",
     "output_type": "stream",
     "text": [
      "/home/tprolifer/anaconda3/lib/python3.7/site-packages/pandas/core/indexing.py:1494: FutureWarning: \n",
      "Passing list-likes to .loc or [] with any missing label will raise\n",
      "KeyError in the future, you can use .reindex() as an alternative.\n",
      "\n",
      "See the documentation here:\n",
      "https://pandas.pydata.org/pandas-docs/stable/indexing.html#deprecate-loc-reindex-listlike\n",
      "  return self._getitem_tuple(key)\n"
     ]
    },
    {
     "name": "stdout",
     "output_type": "stream",
     "text": [
      "\u001b[0;30;48modi/433601.csv : Successfully Written.\n",
      "\u001b[0;30;48modi/415282.csv : Successfully Written.\n"
     ]
    },
    {
     "name": "stderr",
     "output_type": "stream",
     "text": [
      "/home/tprolifer/anaconda3/lib/python3.7/site-packages/pandas/core/indexing.py:1494: FutureWarning: \n",
      "Passing list-likes to .loc or [] with any missing label will raise\n",
      "KeyError in the future, you can use .reindex() as an alternative.\n",
      "\n",
      "See the documentation here:\n",
      "https://pandas.pydata.org/pandas-docs/stable/indexing.html#deprecate-loc-reindex-listlike\n",
      "  return self._getitem_tuple(key)\n"
     ]
    },
    {
     "name": "stdout",
     "output_type": "stream",
     "text": [
      "\u001b[0;30;48modi/543882.csv : Successfully Written.\n",
      "\u001b[0;30;48modi/567359.csv : Successfully Written.\n"
     ]
    },
    {
     "name": "stderr",
     "output_type": "stream",
     "text": [
      "/home/tprolifer/anaconda3/lib/python3.7/site-packages/pandas/core/indexing.py:1494: FutureWarning: \n",
      "Passing list-likes to .loc or [] with any missing label will raise\n",
      "KeyError in the future, you can use .reindex() as an alternative.\n",
      "\n",
      "See the documentation here:\n",
      "https://pandas.pydata.org/pandas-docs/stable/indexing.html#deprecate-loc-reindex-listlike\n",
      "  return self._getitem_tuple(key)\n"
     ]
    },
    {
     "name": "stdout",
     "output_type": "stream",
     "text": [
      "\u001b[0;30;48modi/247466.csv : Successfully Written.\n",
      "\u001b[0;30;48modi/1029823.csv : Successfully Written.\n",
      "\u001b[0;30;48modi/1144522.csv : Successfully Written.\n",
      "\u001b[0;30;48modi/251492.csv : Successfully Written.\n",
      "\u001b[0;30;48modi/238198.csv : Successfully Written.\n",
      "\u001b[0;30;48modi/1073407.csv : Successfully Written.\n"
     ]
    },
    {
     "name": "stderr",
     "output_type": "stream",
     "text": [
      "/home/tprolifer/anaconda3/lib/python3.7/site-packages/pandas/core/indexing.py:1494: FutureWarning: \n",
      "Passing list-likes to .loc or [] with any missing label will raise\n",
      "KeyError in the future, you can use .reindex() as an alternative.\n",
      "\n",
      "See the documentation here:\n",
      "https://pandas.pydata.org/pandas-docs/stable/indexing.html#deprecate-loc-reindex-listlike\n",
      "  return self._getitem_tuple(key)\n"
     ]
    },
    {
     "name": "stdout",
     "output_type": "stream",
     "text": [
      "\u001b[0;30;48modi/249233.csv : Successfully Written.\n",
      "\u001b[0;30;48modi/463153.csv : Successfully Written.\n",
      "\u001b[0;30;48modi/643665.csv : Successfully Written.\n"
     ]
    },
    {
     "name": "stderr",
     "output_type": "stream",
     "text": [
      "/home/tprolifer/anaconda3/lib/python3.7/site-packages/pandas/core/indexing.py:1494: FutureWarning: \n",
      "Passing list-likes to .loc or [] with any missing label will raise\n",
      "KeyError in the future, you can use .reindex() as an alternative.\n",
      "\n",
      "See the documentation here:\n",
      "https://pandas.pydata.org/pandas-docs/stable/indexing.html#deprecate-loc-reindex-listlike\n",
      "  return self._getitem_tuple(key)\n"
     ]
    },
    {
     "name": "stdout",
     "output_type": "stream",
     "text": [
      "\u001b[0;30;48modi/754753.csv : Successfully Written.\n",
      "\u001b[0;30;48modi/760789.csv : Successfully Written.\n",
      "\u001b[0;30;48modi/249748.csv : Successfully Written.\n"
     ]
    },
    {
     "name": "stderr",
     "output_type": "stream",
     "text": [
      "/home/tprolifer/anaconda3/lib/python3.7/site-packages/pandas/core/indexing.py:1494: FutureWarning: \n",
      "Passing list-likes to .loc or [] with any missing label will raise\n",
      "KeyError in the future, you can use .reindex() as an alternative.\n",
      "\n",
      "See the documentation here:\n",
      "https://pandas.pydata.org/pandas-docs/stable/indexing.html#deprecate-loc-reindex-listlike\n",
      "  return self._getitem_tuple(key)\n"
     ]
    },
    {
     "name": "stdout",
     "output_type": "stream",
     "text": [
      "\u001b[0;30;48modi/247500.csv : Successfully Written.\n",
      "\u001b[0;30;48modi/434260.csv : Successfully Written.\n",
      "\u001b[0;30;48modi/410341.csv : Successfully Written.\n",
      "\u001b[0;30;48modi/225247.csv : Successfully Written.\n"
     ]
    },
    {
     "name": "stderr",
     "output_type": "stream",
     "text": [
      "/home/tprolifer/anaconda3/lib/python3.7/site-packages/pandas/core/indexing.py:1494: FutureWarning: \n",
      "Passing list-likes to .loc or [] with any missing label will raise\n",
      "KeyError in the future, you can use .reindex() as an alternative.\n",
      "\n",
      "See the documentation here:\n",
      "https://pandas.pydata.org/pandas-docs/stable/indexing.html#deprecate-loc-reindex-listlike\n",
      "  return self._getitem_tuple(key)\n"
     ]
    },
    {
     "name": "stdout",
     "output_type": "stream",
     "text": [
      "\u001b[0;30;48modi/319135.csv : Successfully Written.\n",
      "\u001b[0;30;48modi/1089523.csv : Successfully Written.\n",
      "\u001b[0;30;48modi/1144490.csv : Successfully Written.\n"
     ]
    },
    {
     "name": "stderr",
     "output_type": "stream",
     "text": [
      "/home/tprolifer/anaconda3/lib/python3.7/site-packages/pandas/core/indexing.py:1494: FutureWarning: \n",
      "Passing list-likes to .loc or [] with any missing label will raise\n",
      "KeyError in the future, you can use .reindex() as an alternative.\n",
      "\n",
      "See the documentation here:\n",
      "https://pandas.pydata.org/pandas-docs/stable/indexing.html#deprecate-loc-reindex-listlike\n",
      "  return self._getitem_tuple(key)\n"
     ]
    },
    {
     "name": "stdout",
     "output_type": "stream",
     "text": [
      "\u001b[0;30;48modi/1089420.csv : Successfully Written.\n",
      "\u001b[0;30;48modi/659551.csv : Successfully Written.\n",
      "\u001b[0;30;48modi/648653.csv : Successfully Written.\n",
      "\u001b[0;30;48modi/542856.csv : Successfully Written.\n",
      "\u001b[0;30;48modi/644945.csv : Successfully Written.\n",
      "\u001b[0;30;48modi/636162.csv : Successfully Written.\n",
      "\u001b[0;30;48modi/473029.csv : Successfully Written.\n",
      "\u001b[0;30;48modi/351687.csv : Successfully Written.\n"
     ]
    },
    {
     "name": "stderr",
     "output_type": "stream",
     "text": [
      "/home/tprolifer/anaconda3/lib/python3.7/site-packages/pandas/core/indexing.py:1494: FutureWarning: \n",
      "Passing list-likes to .loc or [] with any missing label will raise\n",
      "KeyError in the future, you can use .reindex() as an alternative.\n",
      "\n",
      "See the documentation here:\n",
      "https://pandas.pydata.org/pandas-docs/stable/indexing.html#deprecate-loc-reindex-listlike\n",
      "  return self._getitem_tuple(key)\n"
     ]
    },
    {
     "name": "stdout",
     "output_type": "stream",
     "text": [
      "\u001b[0;30;48modi/433579.csv : Successfully Written.\n",
      "\u001b[0;30;48modi/256608.csv : Successfully Written.\n"
     ]
    },
    {
     "name": "stderr",
     "output_type": "stream",
     "text": [
      "/home/tprolifer/anaconda3/lib/python3.7/site-packages/pandas/core/indexing.py:1494: FutureWarning: \n",
      "Passing list-likes to .loc or [] with any missing label will raise\n",
      "KeyError in the future, you can use .reindex() as an alternative.\n",
      "\n",
      "See the documentation here:\n",
      "https://pandas.pydata.org/pandas-docs/stable/indexing.html#deprecate-loc-reindex-listlike\n",
      "  return self._getitem_tuple(key)\n"
     ]
    },
    {
     "name": "stdout",
     "output_type": "stream",
     "text": [
      "\u001b[0;30;48modi/239916.csv : Successfully Written.\n",
      "\u001b[0;30;48modi/885965.csv : Successfully Written.\n",
      "\u001b[0;30;48modi/749551.csv : Successfully Written.\n",
      "\u001b[0;30;48modi/518967.csv : Successfully Written.\n",
      "\u001b[0;30;48modi/860271.csv : Successfully Written.\n"
     ]
    },
    {
     "name": "stderr",
     "output_type": "stream",
     "text": [
      "/home/tprolifer/anaconda3/lib/python3.7/site-packages/pandas/core/indexing.py:1494: FutureWarning: \n",
      "Passing list-likes to .loc or [] with any missing label will raise\n",
      "KeyError in the future, you can use .reindex() as an alternative.\n",
      "\n",
      "See the documentation here:\n",
      "https://pandas.pydata.org/pandas-docs/stable/indexing.html#deprecate-loc-reindex-listlike\n",
      "  return self._getitem_tuple(key)\n"
     ]
    },
    {
     "name": "stdout",
     "output_type": "stream",
     "text": [
      "\u001b[0;30;48modi/1104481.csv : Successfully Written.\n",
      "\u001b[0;30;48modi/656441.csv : Successfully Written.\n",
      "\u001b[0;30;48modi/426431.csv : Successfully Written.\n",
      "\u001b[0;30;48modi/656461.csv : Successfully Written.\n",
      "\u001b[0;30;48modi/1168018.csv : Successfully Written.\n",
      "\u001b[0;30;48modi/249213.csv : Successfully Written.\n"
     ]
    },
    {
     "name": "stderr",
     "output_type": "stream",
     "text": [
      "/home/tprolifer/anaconda3/lib/python3.7/site-packages/pandas/core/indexing.py:1494: FutureWarning: \n",
      "Passing list-likes to .loc or [] with any missing label will raise\n",
      "KeyError in the future, you can use .reindex() as an alternative.\n",
      "\n",
      "See the documentation here:\n",
      "https://pandas.pydata.org/pandas-docs/stable/indexing.html#deprecate-loc-reindex-listlike\n",
      "  return self._getitem_tuple(key)\n"
     ]
    },
    {
     "name": "stdout",
     "output_type": "stream",
     "text": [
      "\u001b[0;30;48modi/238190.csv : Successfully Written.\n",
      "\u001b[0;30;48modi/667643.csv : Successfully Written.\n",
      "\u001b[0;30;48modi/259391.csv : Successfully Written.\n",
      "\u001b[0;30;48modi/530428.csv : Successfully Written.\n",
      "\u001b[0;30;48modi/423795.csv : Successfully Written.\n",
      "\u001b[0;30;48modi/578625.csv : Successfully Written.\n",
      "\u001b[0;30;48modi/936135.csv : Successfully Written.\n",
      "\u001b[0;30;48modi/870733.csv : Successfully Written.\n",
      "\u001b[0;30;48modi/514026.csv : Successfully Written.\n",
      "\u001b[0;30;48modi/594904.csv : Successfully Written.\n",
      "\u001b[0;30;48modi/439140.csv : Successfully Written.\n",
      "\u001b[0;30;48modi/343762.csv : Successfully Written.\n",
      "\u001b[0;30;48modi/1089524.csv : Successfully Written.\n"
     ]
    },
    {
     "name": "stderr",
     "output_type": "stream",
     "text": [
      "/home/tprolifer/anaconda3/lib/python3.7/site-packages/pandas/core/indexing.py:1494: FutureWarning: \n",
      "Passing list-likes to .loc or [] with any missing label will raise\n",
      "KeyError in the future, you can use .reindex() as an alternative.\n",
      "\n",
      "See the documentation here:\n",
      "https://pandas.pydata.org/pandas-docs/stable/indexing.html#deprecate-loc-reindex-listlike\n",
      "  return self._getitem_tuple(key)\n"
     ]
    },
    {
     "name": "stdout",
     "output_type": "stream",
     "text": [
      "\u001b[0;30;48modi/289108.csv : Successfully Written.\n",
      "\u001b[0;30;48modi/351692.csv : Successfully Written.\n"
     ]
    },
    {
     "name": "stderr",
     "output_type": "stream",
     "text": [
      "/home/tprolifer/anaconda3/lib/python3.7/site-packages/pandas/core/indexing.py:1494: FutureWarning: \n",
      "Passing list-likes to .loc or [] with any missing label will raise\n",
      "KeyError in the future, you can use .reindex() as an alternative.\n",
      "\n",
      "See the documentation here:\n",
      "https://pandas.pydata.org/pandas-docs/stable/indexing.html#deprecate-loc-reindex-listlike\n",
      "  return self._getitem_tuple(key)\n"
     ]
    },
    {
     "name": "stdout",
     "output_type": "stream",
     "text": [
      "\u001b[0;30;48modi/660837.csv : Successfully Written.\n",
      "\u001b[0;30;48modi/656473.csv : Successfully Written.\n",
      "\u001b[0;30;48modi/514036.csv : Successfully Written.\n",
      "\u001b[0;30;48modi/456666.csv : Successfully Written.\n"
     ]
    },
    {
     "name": "stderr",
     "output_type": "stream",
     "text": [
      "/home/tprolifer/anaconda3/lib/python3.7/site-packages/pandas/core/indexing.py:1494: FutureWarning: \n",
      "Passing list-likes to .loc or [] with any missing label will raise\n",
      "KeyError in the future, you can use .reindex() as an alternative.\n",
      "\n",
      "See the documentation here:\n",
      "https://pandas.pydata.org/pandas-docs/stable/indexing.html#deprecate-loc-reindex-listlike\n",
      "  return self._getitem_tuple(key)\n"
     ]
    },
    {
     "name": "stdout",
     "output_type": "stream",
     "text": [
      "\u001b[0;30;48modi/291372.csv : Successfully Written.\n",
      "\u001b[0;30;48modi/749787.csv : Successfully Written.\n",
      "\u001b[0;30;48modi/426429.csv : Successfully Written.\n",
      "\u001b[0;30;48modi/258467.csv : Successfully Written.\n",
      "\u001b[0;30;48modi/1040493.csv : Successfully Written.\n"
     ]
    },
    {
     "name": "stderr",
     "output_type": "stream",
     "text": [
      "/home/tprolifer/anaconda3/lib/python3.7/site-packages/pandas/core/indexing.py:1494: FutureWarning: \n",
      "Passing list-likes to .loc or [] with any missing label will raise\n",
      "KeyError in the future, you can use .reindex() as an alternative.\n",
      "\n",
      "See the documentation here:\n",
      "https://pandas.pydata.org/pandas-docs/stable/indexing.html#deprecate-loc-reindex-listlike\n",
      "  return self._getitem_tuple(key)\n"
     ]
    },
    {
     "name": "stdout",
     "output_type": "stream",
     "text": [
      "\u001b[0;30;48modi/1027315.csv : Successfully Written.\n",
      "\u001b[0;30;48modi/736503.csv : Successfully Written.\n",
      "\u001b[0;30;48modi/535794.csv : Successfully Written.\n",
      "\u001b[0;30;48modi/291362.csv : Successfully Written.\n",
      "\u001b[0;30;48modi/812787.csv : Successfully Written.\n"
     ]
    },
    {
     "name": "stderr",
     "output_type": "stream",
     "text": [
      "/home/tprolifer/anaconda3/lib/python3.7/site-packages/pandas/core/indexing.py:1494: FutureWarning: \n",
      "Passing list-likes to .loc or [] with any missing label will raise\n",
      "KeyError in the future, you can use .reindex() as an alternative.\n",
      "\n",
      "See the documentation here:\n",
      "https://pandas.pydata.org/pandas-docs/stable/indexing.html#deprecate-loc-reindex-listlike\n",
      "  return self._getitem_tuple(key)\n"
     ]
    },
    {
     "name": "stdout",
     "output_type": "stream",
     "text": [
      "\u001b[0;30;48modi/1062501.csv : Successfully Written.\n",
      "\u001b[0;30;48modi/249229.csv : Successfully Written.\n",
      "\u001b[0;30;48modi/1144505.csv : Successfully Written.\n",
      "\u001b[0;30;48modi/249750.csv : Successfully Written.\n",
      "\u001b[0;30;48modi/249230.csv : Successfully Written.\n"
     ]
    },
    {
     "name": "stderr",
     "output_type": "stream",
     "text": [
      "/home/tprolifer/anaconda3/lib/python3.7/site-packages/pandas/core/indexing.py:1494: FutureWarning: \n",
      "Passing list-likes to .loc or [] with any missing label will raise\n",
      "KeyError in the future, you can use .reindex() as an alternative.\n",
      "\n",
      "See the documentation here:\n",
      "https://pandas.pydata.org/pandas-docs/stable/indexing.html#deprecate-loc-reindex-listlike\n",
      "  return self._getitem_tuple(key)\n"
     ]
    },
    {
     "name": "stdout",
     "output_type": "stream",
     "text": [
      "\u001b[0;30;48modi/1004285.csv : Successfully Written.\n",
      "\u001b[0;30;48modi/785961.csv : Successfully Written.\n",
      "\u001b[0;30;48modi/473928.csv : Successfully Written.\n",
      "\u001b[0;30;48modi/1144514.csv : Successfully Written.\n"
     ]
    },
    {
     "name": "stderr",
     "output_type": "stream",
     "text": [
      "/home/tprolifer/anaconda3/lib/python3.7/site-packages/pandas/core/indexing.py:1494: FutureWarning: \n",
      "Passing list-likes to .loc or [] with any missing label will raise\n",
      "KeyError in the future, you can use .reindex() as an alternative.\n",
      "\n",
      "See the documentation here:\n",
      "https://pandas.pydata.org/pandas-docs/stable/indexing.html#deprecate-loc-reindex-listlike\n",
      "  return self._getitem_tuple(key)\n"
     ]
    },
    {
     "name": "stdout",
     "output_type": "stream",
     "text": [
      "\u001b[0;30;48modi/249753.csv : Successfully Written.\n",
      "\u001b[0;30;48modi/345470.csv : Successfully Written.\n",
      "\u001b[0;30;48modi/361043.csv : Successfully Written.\n",
      "\u001b[0;30;48modi/578620.csv : Successfully Written.\n",
      "\u001b[0;30;48modi/566944.csv : Successfully Written.\n",
      "\u001b[0;30;48modi/576405.csv : Successfully Written.\n",
      "\u001b[0;30;48modi/722341.csv : Successfully Written.\n",
      "\u001b[0;30;48modi/1078659.csv : Successfully Written.\n",
      "\u001b[0;30;48modi/995457.csv : Successfully Written.\n"
     ]
    },
    {
     "name": "stderr",
     "output_type": "stream",
     "text": [
      "/home/tprolifer/anaconda3/lib/python3.7/site-packages/pandas/core/indexing.py:1494: FutureWarning: \n",
      "Passing list-likes to .loc or [] with any missing label will raise\n",
      "KeyError in the future, you can use .reindex() as an alternative.\n",
      "\n",
      "See the documentation here:\n",
      "https://pandas.pydata.org/pandas-docs/stable/indexing.html#deprecate-loc-reindex-listlike\n",
      "  return self._getitem_tuple(key)\n"
     ]
    },
    {
     "name": "stdout",
     "output_type": "stream",
     "text": [
      "\u001b[0;30;48modi/239911.csv : Successfully Written.\n",
      "\u001b[0;30;48modi/538069.csv : Successfully Written.\n",
      "\u001b[0;30;48modi/603241.csv : Successfully Written.\n",
      "\u001b[0;30;48modi/1089521.csv : Successfully Written.\n"
     ]
    },
    {
     "name": "stderr",
     "output_type": "stream",
     "text": [
      "/home/tprolifer/anaconda3/lib/python3.7/site-packages/pandas/core/indexing.py:1494: FutureWarning: \n",
      "Passing list-likes to .loc or [] with any missing label will raise\n",
      "KeyError in the future, you can use .reindex() as an alternative.\n",
      "\n",
      "See the documentation here:\n",
      "https://pandas.pydata.org/pandas-docs/stable/indexing.html#deprecate-loc-reindex-listlike\n",
      "  return self._getitem_tuple(key)\n"
     ]
    },
    {
     "name": "stdout",
     "output_type": "stream",
     "text": [
      "\u001b[0;30;48modi/247473.csv : Successfully Written.\n",
      "\u001b[0;30;48modi/902647.csv : Successfully Written.\n",
      "\u001b[0;30;48modi/1007649.csv : Successfully Written.\n",
      "\u001b[0;30;48modi/656487.csv : Successfully Written.\n",
      "\u001b[0;30;48modi/323949.csv : Successfully Written.\n",
      "\u001b[0;30;48modi/406192.csv : Successfully Written.\n",
      "\u001b[0;30;48modi/1020033.csv : Successfully Written.\n",
      "\u001b[0;30;48modi/249212.csv : Successfully Written.\n",
      "\u001b[0;30;48modi/661691.csv : Successfully Written.\n",
      "\u001b[0;30;48modi/1085954.csv : Successfully Written.\n",
      "\u001b[0;30;48modi/576406.csv : Successfully Written.\n",
      "\u001b[0;30;48modi/1085970.csv : Successfully Written.\n",
      "\u001b[0;30;48modi/643669.csv : Successfully Written.\n",
      "\u001b[0;30;48modi/578617.csv : Successfully Written.\n"
     ]
    },
    {
     "name": "stderr",
     "output_type": "stream",
     "text": [
      "/home/tprolifer/anaconda3/lib/python3.7/site-packages/pandas/core/indexing.py:1494: FutureWarning: \n",
      "Passing list-likes to .loc or [] with any missing label will raise\n",
      "KeyError in the future, you can use .reindex() as an alternative.\n",
      "\n",
      "See the documentation here:\n",
      "https://pandas.pydata.org/pandas-docs/stable/indexing.html#deprecate-loc-reindex-listlike\n",
      "  return self._getitem_tuple(key)\n"
     ]
    },
    {
     "name": "stdout",
     "output_type": "stream",
     "text": [
      "\u001b[0;30;48modi/543881.csv : Successfully Written.\n",
      "\u001b[0;30;48modi/225252.csv : Successfully Written.\n"
     ]
    },
    {
     "name": "stderr",
     "output_type": "stream",
     "text": [
      "/home/tprolifer/anaconda3/lib/python3.7/site-packages/pandas/core/indexing.py:1494: FutureWarning: \n",
      "Passing list-likes to .loc or [] with any missing label will raise\n",
      "KeyError in the future, you can use .reindex() as an alternative.\n",
      "\n",
      "See the documentation here:\n",
      "https://pandas.pydata.org/pandas-docs/stable/indexing.html#deprecate-loc-reindex-listlike\n",
      "  return self._getitem_tuple(key)\n"
     ]
    },
    {
     "name": "stdout",
     "output_type": "stream",
     "text": [
      "\u001b[0;30;48modi/730287.csv : Successfully Written.\n"
     ]
    },
    {
     "name": "stderr",
     "output_type": "stream",
     "text": [
      "/home/tprolifer/anaconda3/lib/python3.7/site-packages/pandas/core/indexing.py:1494: FutureWarning: \n",
      "Passing list-likes to .loc or [] with any missing label will raise\n",
      "KeyError in the future, you can use .reindex() as an alternative.\n",
      "\n",
      "See the documentation here:\n",
      "https://pandas.pydata.org/pandas-docs/stable/indexing.html#deprecate-loc-reindex-listlike\n",
      "  return self._getitem_tuple(key)\n"
     ]
    },
    {
     "name": "stdout",
     "output_type": "stream",
     "text": [
      "\u001b[0;30;48modi/439150.csv : Successfully Written.\n",
      "\u001b[0;30;48modi/289107.csv : Successfully Written.\n",
      "\u001b[0;30;48modi/872481.csv : Successfully Written.\n"
     ]
    },
    {
     "name": "stderr",
     "output_type": "stream",
     "text": [
      "/home/tprolifer/anaconda3/lib/python3.7/site-packages/pandas/core/indexing.py:1494: FutureWarning: \n",
      "Passing list-likes to .loc or [] with any missing label will raise\n",
      "KeyError in the future, you can use .reindex() as an alternative.\n",
      "\n",
      "See the documentation here:\n",
      "https://pandas.pydata.org/pandas-docs/stable/indexing.html#deprecate-loc-reindex-listlike\n",
      "  return self._getitem_tuple(key)\n"
     ]
    },
    {
     "name": "stdout",
     "output_type": "stream",
     "text": [
      "\u001b[0;30;48modi/1068732.csv : Successfully Written.\n"
     ]
    },
    {
     "name": "stderr",
     "output_type": "stream",
     "text": [
      "/home/tprolifer/anaconda3/lib/python3.7/site-packages/pandas/core/indexing.py:1494: FutureWarning: \n",
      "Passing list-likes to .loc or [] with any missing label will raise\n",
      "KeyError in the future, you can use .reindex() as an alternative.\n",
      "\n",
      "See the documentation here:\n",
      "https://pandas.pydata.org/pandas-docs/stable/indexing.html#deprecate-loc-reindex-listlike\n",
      "  return self._getitem_tuple(key)\n"
     ]
    },
    {
     "name": "stdout",
     "output_type": "stream",
     "text": [
      "\u001b[0;30;48modi/1168017.csv : Successfully Written.\n"
     ]
    },
    {
     "name": "stderr",
     "output_type": "stream",
     "text": [
      "/home/tprolifer/anaconda3/lib/python3.7/site-packages/pandas/core/indexing.py:1494: FutureWarning: \n",
      "Passing list-likes to .loc or [] with any missing label will raise\n",
      "KeyError in the future, you can use .reindex() as an alternative.\n",
      "\n",
      "See the documentation here:\n",
      "https://pandas.pydata.org/pandas-docs/stable/indexing.html#deprecate-loc-reindex-listlike\n",
      "  return self._getitem_tuple(key)\n"
     ]
    },
    {
     "name": "stdout",
     "output_type": "stream",
     "text": [
      "\u001b[0;30;48modi/467887.csv : Successfully Written.\n",
      "\u001b[0;30;48modi/666039.csv : Successfully Written.\n",
      "\u001b[0;30;48modi/426403.csv : Successfully Written.\n",
      "\u001b[0;30;48modi/1144521.csv : Successfully Written.\n",
      "\u001b[0;30;48modi/375460.csv : Successfully Written.\n",
      "\u001b[0;30;48modi/352666.csv : Successfully Written.\n",
      "\u001b[0;30;48modi/785967.csv : Successfully Written.\n",
      "\u001b[0;30;48modi/571145.csv : Successfully Written.\n",
      "\u001b[0;30;48modi/433588.csv : Successfully Written.\n",
      "\u001b[0;30;48modi/567372.csv : Successfully Written.\n",
      "\u001b[0;30;48modi/666043.csv : Successfully Written.\n",
      "\u001b[0;30;48modi/1022347.csv : Successfully Written.\n"
     ]
    },
    {
     "name": "stderr",
     "output_type": "stream",
     "text": [
      "/home/tprolifer/anaconda3/lib/python3.7/site-packages/pandas/core/indexing.py:1494: FutureWarning: \n",
      "Passing list-likes to .loc or [] with any missing label will raise\n",
      "KeyError in the future, you can use .reindex() as an alternative.\n",
      "\n",
      "See the documentation here:\n",
      "https://pandas.pydata.org/pandas-docs/stable/indexing.html#deprecate-loc-reindex-listlike\n",
      "  return self._getitem_tuple(key)\n"
     ]
    },
    {
     "name": "stdout",
     "output_type": "stream",
     "text": [
      "\u001b[0;30;48modi/636533.csv : Successfully Written.\n",
      "\u001b[0;30;48modi/433602.csv : Successfully Written.\n",
      "\u001b[0;30;48modi/756037.csv : Successfully Written.\n",
      "\u001b[0;30;48modi/953335.csv : Successfully Written.\n",
      "\u001b[0;30;48modi/225246.csv : Successfully Written.\n"
     ]
    },
    {
     "name": "stderr",
     "output_type": "stream",
     "text": [
      "/home/tprolifer/anaconda3/lib/python3.7/site-packages/pandas/core/indexing.py:1494: FutureWarning: \n",
      "Passing list-likes to .loc or [] with any missing label will raise\n",
      "KeyError in the future, you can use .reindex() as an alternative.\n",
      "\n",
      "See the documentation here:\n",
      "https://pandas.pydata.org/pandas-docs/stable/indexing.html#deprecate-loc-reindex-listlike\n",
      "  return self._getitem_tuple(key)\n"
     ]
    },
    {
     "name": "stdout",
     "output_type": "stream",
     "text": [
      "\u001b[0;30;48modi/249739.csv : Successfully Written.\n",
      "\u001b[0;30;48modi/914227.csv : Successfully Written.\n"
     ]
    },
    {
     "name": "stderr",
     "output_type": "stream",
     "text": [
      "/home/tprolifer/anaconda3/lib/python3.7/site-packages/pandas/core/indexing.py:1494: FutureWarning: \n",
      "Passing list-likes to .loc or [] with any missing label will raise\n",
      "KeyError in the future, you can use .reindex() as an alternative.\n",
      "\n",
      "See the documentation here:\n",
      "https://pandas.pydata.org/pandas-docs/stable/indexing.html#deprecate-loc-reindex-listlike\n",
      "  return self._getitem_tuple(key)\n"
     ]
    },
    {
     "name": "stdout",
     "output_type": "stream",
     "text": [
      "\u001b[0;30;48modi/319136.csv : Successfully Written.\n",
      "\u001b[0;30;48modi/576411.csv : Successfully Written.\n",
      "\u001b[0;30;48modi/535798.csv : Successfully Written.\n",
      "\u001b[0;30;48modi/375457.csv : Successfully Written.\n",
      "\u001b[0;30;48modi/1144502.csv : Successfully Written.\n",
      "\u001b[0;30;48modi/299009.csv : Successfully Written.\n",
      "\u001b[0;30;48modi/1078661.csv : Successfully Written.\n",
      "\u001b[0;30;48modi/932849.csv : Successfully Written.\n",
      "\u001b[0;30;48modi/467886.csv : Successfully Written.\n"
     ]
    },
    {
     "name": "stderr",
     "output_type": "stream",
     "text": [
      "/home/tprolifer/anaconda3/lib/python3.7/site-packages/pandas/core/indexing.py:1494: FutureWarning: \n",
      "Passing list-likes to .loc or [] with any missing label will raise\n",
      "KeyError in the future, you can use .reindex() as an alternative.\n",
      "\n",
      "See the documentation here:\n",
      "https://pandas.pydata.org/pandas-docs/stable/indexing.html#deprecate-loc-reindex-listlike\n",
      "  return self._getitem_tuple(key)\n"
     ]
    },
    {
     "name": "stdout",
     "output_type": "stream",
     "text": [
      "\u001b[0;30;48modi/433561.csv : Successfully Written.\n",
      "\u001b[0;30;48modi/722677.csv : Successfully Written.\n",
      "\u001b[0;30;48modi/1144525.csv : Successfully Written.\n"
     ]
    },
    {
     "name": "stderr",
     "output_type": "stream",
     "text": [
      "/home/tprolifer/anaconda3/lib/python3.7/site-packages/pandas/core/indexing.py:1494: FutureWarning: \n",
      "Passing list-likes to .loc or [] with any missing label will raise\n",
      "KeyError in the future, you can use .reindex() as an alternative.\n",
      "\n",
      "See the documentation here:\n",
      "https://pandas.pydata.org/pandas-docs/stable/indexing.html#deprecate-loc-reindex-listlike\n",
      "  return self._getitem_tuple(key)\n"
     ]
    },
    {
     "name": "stdout",
     "output_type": "stream",
     "text": [
      "\u001b[0;30;48modi/297802.csv : Successfully Written.\n",
      "\u001b[0;30;48modi/538071.csv : Successfully Written.\n"
     ]
    },
    {
     "name": "stderr",
     "output_type": "stream",
     "text": [
      "/home/tprolifer/anaconda3/lib/python3.7/site-packages/pandas/core/indexing.py:1494: FutureWarning: \n",
      "Passing list-likes to .loc or [] with any missing label will raise\n",
      "KeyError in the future, you can use .reindex() as an alternative.\n",
      "\n",
      "See the documentation here:\n",
      "https://pandas.pydata.org/pandas-docs/stable/indexing.html#deprecate-loc-reindex-listlike\n",
      "  return self._getitem_tuple(key)\n"
     ]
    },
    {
     "name": "stdout",
     "output_type": "stream",
     "text": [
      "\u001b[0;30;48modi/247464.csv : Successfully Written.\n",
      "\u001b[0;30;48modi/1051297.csv : Successfully Written.\n",
      "\u001b[0;30;48modi/433564.csv : Successfully Written.\n",
      "\u001b[0;30;48modi/527015.csv : Successfully Written.\n",
      "\u001b[0;30;48modi/1144510.csv : Successfully Written.\n",
      "\u001b[0;30;48modi/264069.csv : Successfully Written.\n",
      "\u001b[0;30;48modi/573024.csv : Successfully Written.\n",
      "\u001b[0;30;48modi/696759.csv : Successfully Written.\n"
     ]
    },
    {
     "name": "stderr",
     "output_type": "stream",
     "text": [
      "/home/tprolifer/anaconda3/lib/python3.7/site-packages/pandas/core/indexing.py:1494: FutureWarning: \n",
      "Passing list-likes to .loc or [] with any missing label will raise\n",
      "KeyError in the future, you can use .reindex() as an alternative.\n",
      "\n",
      "See the documentation here:\n",
      "https://pandas.pydata.org/pandas-docs/stable/indexing.html#deprecate-loc-reindex-listlike\n",
      "  return self._getitem_tuple(key)\n"
     ]
    },
    {
     "name": "stdout",
     "output_type": "stream",
     "text": [
      "\u001b[0;30;48modi/644943.csv : Successfully Written.\n",
      "\u001b[0;30;48modi/467095.csv : Successfully Written.\n",
      "\u001b[0;30;48modi/1050625.csv : Successfully Written.\n",
      "\u001b[0;30;48modi/474479.csv : Successfully Written.\n",
      "\u001b[0;30;48modi/238197.csv : Successfully Written.\n",
      "\u001b[0;30;48modi/656413.csv : Successfully Written.\n",
      "\u001b[0;30;48modi/736443.csv : Successfully Written.\n",
      "\u001b[0;30;48modi/403372.csv : Successfully Written.\n",
      "\u001b[0;30;48modi/251495.csv : Successfully Written.\n",
      "\u001b[0;30;48modi/237568.csv : Successfully Written.\n",
      "\u001b[0;30;48modi/565814.csv : Successfully Written.\n",
      "\u001b[0;30;48modi/255961.csv : Successfully Written.\n"
     ]
    },
    {
     "name": "stderr",
     "output_type": "stream",
     "text": [
      "/home/tprolifer/anaconda3/lib/python3.7/site-packages/pandas/core/indexing.py:1494: FutureWarning: \n",
      "Passing list-likes to .loc or [] with any missing label will raise\n",
      "KeyError in the future, you can use .reindex() as an alternative.\n",
      "\n",
      "See the documentation here:\n",
      "https://pandas.pydata.org/pandas-docs/stable/indexing.html#deprecate-loc-reindex-listlike\n",
      "  return self._getitem_tuple(key)\n"
     ]
    },
    {
     "name": "stdout",
     "output_type": "stream",
     "text": [
      "\u001b[0;30;48modi/293072.csv : Successfully Written.\n",
      "\u001b[0;30;48modi/749793.csv : Successfully Written.\n",
      "\u001b[0;30;48modi/403383.csv : Successfully Written.\n"
     ]
    },
    {
     "name": "stderr",
     "output_type": "stream",
     "text": [
      "/home/tprolifer/anaconda3/lib/python3.7/site-packages/pandas/core/indexing.py:1494: FutureWarning: \n",
      "Passing list-likes to .loc or [] with any missing label will raise\n",
      "KeyError in the future, you can use .reindex() as an alternative.\n",
      "\n",
      "See the documentation here:\n",
      "https://pandas.pydata.org/pandas-docs/stable/indexing.html#deprecate-loc-reindex-listlike\n",
      "  return self._getitem_tuple(key)\n"
     ]
    },
    {
     "name": "stdout",
     "output_type": "stream",
     "text": [
      "\u001b[0;30;48modi/597926.csv : Successfully Written.\n",
      "\u001b[0;30;48modi/656431.csv : Successfully Written.\n",
      "\u001b[0;30;48modi/1050225.csv : Successfully Written.\n",
      "\u001b[0;30;48modi/476600.csv : Successfully Written.\n"
     ]
    },
    {
     "name": "stderr",
     "output_type": "stream",
     "text": [
      "/home/tprolifer/anaconda3/lib/python3.7/site-packages/pandas/core/indexing.py:1494: FutureWarning: \n",
      "Passing list-likes to .loc or [] with any missing label will raise\n",
      "KeyError in the future, you can use .reindex() as an alternative.\n",
      "\n",
      "See the documentation here:\n",
      "https://pandas.pydata.org/pandas-docs/stable/indexing.html#deprecate-loc-reindex-listlike\n",
      "  return self._getitem_tuple(key)\n"
     ]
    },
    {
     "name": "stdout",
     "output_type": "stream",
     "text": [
      "\u001b[0;30;48modi/540169.csv : Successfully Written.\n",
      "\u001b[0;30;48modi/1144527.csv : Successfully Written.\n",
      "\u001b[0;30;48modi/476596.csv : Successfully Written.\n"
     ]
    },
    {
     "name": "stderr",
     "output_type": "stream",
     "text": [
      "/home/tprolifer/anaconda3/lib/python3.7/site-packages/pandas/core/indexing.py:1494: FutureWarning: \n",
      "Passing list-likes to .loc or [] with any missing label will raise\n",
      "KeyError in the future, you can use .reindex() as an alternative.\n",
      "\n",
      "See the documentation here:\n",
      "https://pandas.pydata.org/pandas-docs/stable/indexing.html#deprecate-loc-reindex-listlike\n",
      "  return self._getitem_tuple(key)\n"
     ]
    },
    {
     "name": "stdout",
     "output_type": "stream",
     "text": [
      "\u001b[0;30;48modi/555892.csv : Successfully Written.\n"
     ]
    },
    {
     "name": "stderr",
     "output_type": "stream",
     "text": [
      "/home/tprolifer/anaconda3/lib/python3.7/site-packages/pandas/core/indexing.py:1494: FutureWarning: \n",
      "Passing list-likes to .loc or [] with any missing label will raise\n",
      "KeyError in the future, you can use .reindex() as an alternative.\n",
      "\n",
      "See the documentation here:\n",
      "https://pandas.pydata.org/pandas-docs/stable/indexing.html#deprecate-loc-reindex-listlike\n",
      "  return self._getitem_tuple(key)\n"
     ]
    },
    {
     "name": "stdout",
     "output_type": "stream",
     "text": [
      "\u001b[0;30;48modi/566940.csv : Successfully Written.\n",
      "\u001b[0;30;48modi/434264.csv : Successfully Written.\n",
      "\u001b[0;30;48modi/648655.csv : Successfully Written.\n",
      "\u001b[0;30;48modi/403371.csv : Successfully Written.\n",
      "\u001b[0;30;48modi/936133.csv : Successfully Written.\n",
      "\u001b[0;30;48modi/571146.csv : Successfully Written.\n",
      "\u001b[0;30;48modi/296917.csv : Successfully Written.\n",
      "\u001b[0;30;48modi/1085953.csv : Successfully Written.\n",
      "\u001b[0;30;48modi/594914.csv : Successfully Written.\n",
      "\u001b[0;30;48modi/995461.csv : Successfully Written.\n",
      "\u001b[0;30;48modi/345468.csv : Successfully Written.\n"
     ]
    },
    {
     "name": "stderr",
     "output_type": "stream",
     "text": [
      "/home/tprolifer/anaconda3/lib/python3.7/site-packages/pandas/core/indexing.py:1494: FutureWarning: \n",
      "Passing list-likes to .loc or [] with any missing label will raise\n",
      "KeyError in the future, you can use .reindex() as an alternative.\n",
      "\n",
      "See the documentation here:\n",
      "https://pandas.pydata.org/pandas-docs/stable/indexing.html#deprecate-loc-reindex-listlike\n",
      "  return self._getitem_tuple(key)\n"
     ]
    },
    {
     "name": "stdout",
     "output_type": "stream",
     "text": [
      "\u001b[0;30;48modi/489214.csv : Successfully Written.\n"
     ]
    },
    {
     "name": "stderr",
     "output_type": "stream",
     "text": [
      "/home/tprolifer/anaconda3/lib/python3.7/site-packages/pandas/core/indexing.py:1494: FutureWarning: \n",
      "Passing list-likes to .loc or [] with any missing label will raise\n",
      "KeyError in the future, you can use .reindex() as an alternative.\n",
      "\n",
      "See the documentation here:\n",
      "https://pandas.pydata.org/pandas-docs/stable/indexing.html#deprecate-loc-reindex-listlike\n",
      "  return self._getitem_tuple(key)\n"
     ]
    },
    {
     "name": "stdout",
     "output_type": "stream",
     "text": [
      "\u001b[0;30;48modi/247457.csv : Successfully Written.\n",
      "\u001b[0;30;48modi/760791.csv : Successfully Written.\n",
      "\u001b[0;30;48modi/667645.csv : Successfully Written.\n"
     ]
    },
    {
     "name": "stderr",
     "output_type": "stream",
     "text": [
      "/home/tprolifer/anaconda3/lib/python3.7/site-packages/pandas/core/indexing.py:1494: FutureWarning: \n",
      "Passing list-likes to .loc or [] with any missing label will raise\n",
      "KeyError in the future, you can use .reindex() as an alternative.\n",
      "\n",
      "See the documentation here:\n",
      "https://pandas.pydata.org/pandas-docs/stable/indexing.html#deprecate-loc-reindex-listlike\n",
      "  return self._getitem_tuple(key)\n"
     ]
    },
    {
     "name": "stdout",
     "output_type": "stream",
     "text": [
      "\u001b[0;30;48modi/433563.csv : Successfully Written.\n",
      "\u001b[0;30;48modi/736507.csv : Successfully Written.\n",
      "\u001b[0;30;48modi/473926.csv : Successfully Written.\n",
      "\u001b[0;30;48modi/656495.csv : Successfully Written.\n",
      "\u001b[0;30;48modi/264068.csv : Successfully Written.\n",
      "\u001b[0;30;48modi/710297.csv : Successfully Written.\n"
     ]
    },
    {
     "name": "stderr",
     "output_type": "stream",
     "text": [
      "/home/tprolifer/anaconda3/lib/python3.7/site-packages/pandas/core/indexing.py:1494: FutureWarning: \n",
      "Passing list-likes to .loc or [] with any missing label will raise\n",
      "KeyError in the future, you can use .reindex() as an alternative.\n",
      "\n",
      "See the documentation here:\n",
      "https://pandas.pydata.org/pandas-docs/stable/indexing.html#deprecate-loc-reindex-listlike\n",
      "  return self._getitem_tuple(key)\n"
     ]
    },
    {
     "name": "stdout",
     "output_type": "stream",
     "text": [
      "\u001b[0;30;48modi/582190.csv : Successfully Written.\n",
      "\u001b[0;30;48modi/919615.csv : Successfully Written.\n",
      "\u001b[0;30;48modi/291370.csv : Successfully Written.\n",
      "\u001b[0;30;48modi/953343.csv : Successfully Written.\n",
      "\u001b[0;30;48modi/569240.csv : Successfully Written.\n",
      "\u001b[0;30;48modi/962017.csv : Successfully Written.\n",
      "\u001b[0;30;48modi/226378.csv : Successfully Written.\n",
      "\u001b[0;30;48modi/366624.csv : Successfully Written.\n",
      "\u001b[0;30;48modi/979827.csv : Successfully Written.\n"
     ]
    },
    {
     "name": "stderr",
     "output_type": "stream",
     "text": [
      "/home/tprolifer/anaconda3/lib/python3.7/site-packages/pandas/core/indexing.py:1494: FutureWarning: \n",
      "Passing list-likes to .loc or [] with any missing label will raise\n",
      "KeyError in the future, you can use .reindex() as an alternative.\n",
      "\n",
      "See the documentation here:\n",
      "https://pandas.pydata.org/pandas-docs/stable/indexing.html#deprecate-loc-reindex-listlike\n",
      "  return self._getitem_tuple(key)\n"
     ]
    },
    {
     "name": "stdout",
     "output_type": "stream",
     "text": [
      "\u001b[0;30;48modi/757505.csv : Successfully Written.\n",
      "\u001b[0;30;48modi/238177.csv : Successfully Written.\n",
      "\u001b[0;30;48modi/573014.csv : Successfully Written.\n",
      "\u001b[0;30;48modi/750663.csv : Successfully Written.\n",
      "\u001b[0;30;48modi/656455.csv : Successfully Written.\n",
      "\u001b[0;30;48modi/754723.csv : Successfully Written.\n",
      "\u001b[0;30;48modi/489217.csv : Successfully Written.\n"
     ]
    },
    {
     "name": "stderr",
     "output_type": "stream",
     "text": [
      "/home/tprolifer/anaconda3/lib/python3.7/site-packages/pandas/core/indexing.py:1494: FutureWarning: \n",
      "Passing list-likes to .loc or [] with any missing label will raise\n",
      "KeyError in the future, you can use .reindex() as an alternative.\n",
      "\n",
      "See the documentation here:\n",
      "https://pandas.pydata.org/pandas-docs/stable/indexing.html#deprecate-loc-reindex-listlike\n",
      "  return self._getitem_tuple(key)\n"
     ]
    },
    {
     "name": "stdout",
     "output_type": "stream",
     "text": [
      "\u001b[0;30;48modi/247465.csv : Successfully Written.\n",
      "\u001b[0;30;48modi/1079246.csv : Successfully Written.\n",
      "\u001b[0;30;48modi/291361.csv : Successfully Written.\n"
     ]
    },
    {
     "name": "stderr",
     "output_type": "stream",
     "text": [
      "/home/tprolifer/anaconda3/lib/python3.7/site-packages/pandas/core/indexing.py:1494: FutureWarning: \n",
      "Passing list-likes to .loc or [] with any missing label will raise\n",
      "KeyError in the future, you can use .reindex() as an alternative.\n",
      "\n",
      "See the documentation here:\n",
      "https://pandas.pydata.org/pandas-docs/stable/indexing.html#deprecate-loc-reindex-listlike\n",
      "  return self._getitem_tuple(key)\n"
     ]
    },
    {
     "name": "stdout",
     "output_type": "stream",
     "text": [
      "\u001b[0;30;48modi/1026849.csv : Successfully Written.\n",
      "\u001b[0;30;48modi/531632.csv : Successfully Written.\n",
      "\u001b[0;30;48modi/244511.csv : Successfully Written.\n"
     ]
    },
    {
     "name": "stderr",
     "output_type": "stream",
     "text": [
      "/home/tprolifer/anaconda3/lib/python3.7/site-packages/pandas/core/indexing.py:1494: FutureWarning: \n",
      "Passing list-likes to .loc or [] with any missing label will raise\n",
      "KeyError in the future, you can use .reindex() as an alternative.\n",
      "\n",
      "See the documentation here:\n",
      "https://pandas.pydata.org/pandas-docs/stable/indexing.html#deprecate-loc-reindex-listlike\n",
      "  return self._getitem_tuple(key)\n"
     ]
    },
    {
     "name": "stdout",
     "output_type": "stream",
     "text": [
      "\u001b[0;30;48modi/1062511.csv : Successfully Written.\n"
     ]
    },
    {
     "name": "stderr",
     "output_type": "stream",
     "text": [
      "/home/tprolifer/anaconda3/lib/python3.7/site-packages/pandas/core/indexing.py:1494: FutureWarning: \n",
      "Passing list-likes to .loc or [] with any missing label will raise\n",
      "KeyError in the future, you can use .reindex() as an alternative.\n",
      "\n",
      "See the documentation here:\n",
      "https://pandas.pydata.org/pandas-docs/stable/indexing.html#deprecate-loc-reindex-listlike\n",
      "  return self._getitem_tuple(key)\n"
     ]
    },
    {
     "name": "stdout",
     "output_type": "stream",
     "text": [
      "\u001b[0;30;48modi/247507.csv : Successfully Written.\n"
     ]
    },
    {
     "name": "stderr",
     "output_type": "stream",
     "text": [
      "/home/tprolifer/anaconda3/lib/python3.7/site-packages/pandas/core/indexing.py:1494: FutureWarning: \n",
      "Passing list-likes to .loc or [] with any missing label will raise\n",
      "KeyError in the future, you can use .reindex() as an alternative.\n",
      "\n",
      "See the documentation here:\n",
      "https://pandas.pydata.org/pandas-docs/stable/indexing.html#deprecate-loc-reindex-listlike\n",
      "  return self._getitem_tuple(key)\n"
     ]
    },
    {
     "name": "stdout",
     "output_type": "stream",
     "text": [
      "\u001b[0;30;48modi/489221.csv : Successfully Written.\n",
      "\u001b[0;30;48modi/913451.csv : Successfully Written.\n"
     ]
    },
    {
     "name": "stderr",
     "output_type": "stream",
     "text": [
      "/home/tprolifer/anaconda3/lib/python3.7/site-packages/pandas/core/indexing.py:1494: FutureWarning: \n",
      "Passing list-likes to .loc or [] with any missing label will raise\n",
      "KeyError in the future, you can use .reindex() as an alternative.\n",
      "\n",
      "See the documentation here:\n",
      "https://pandas.pydata.org/pandas-docs/stable/indexing.html#deprecate-loc-reindex-listlike\n",
      "  return self._getitem_tuple(key)\n"
     ]
    },
    {
     "name": "stdout",
     "output_type": "stream",
     "text": [
      "\u001b[0;30;48modi/247478.csv : Successfully Written.\n",
      "\u001b[0;30;48modi/1144504.csv : Successfully Written.\n",
      "\u001b[0;30;48modi/628093.csv : Successfully Written.\n",
      "\u001b[0;30;48modi/1019977.csv : Successfully Written.\n",
      "\u001b[0;30;48modi/423792.csv : Successfully Written.\n",
      "\u001b[0;30;48modi/1079248.csv : Successfully Written.\n",
      "\u001b[0;30;48modi/579751.csv : Successfully Written.\n",
      "\u001b[0;30;48modi/1083446.csv : Successfully Written.\n"
     ]
    },
    {
     "name": "stderr",
     "output_type": "stream",
     "text": [
      "/home/tprolifer/anaconda3/lib/python3.7/site-packages/pandas/core/indexing.py:1494: FutureWarning: \n",
      "Passing list-likes to .loc or [] with any missing label will raise\n",
      "KeyError in the future, you can use .reindex() as an alternative.\n",
      "\n",
      "See the documentation here:\n",
      "https://pandas.pydata.org/pandas-docs/stable/indexing.html#deprecate-loc-reindex-listlike\n",
      "  return self._getitem_tuple(key)\n"
     ]
    },
    {
     "name": "stdout",
     "output_type": "stream",
     "text": [
      "\u001b[0;30;48modi/1004269.csv : Successfully Written.\n",
      "\u001b[0;30;48modi/1029001.csv : Successfully Written.\n",
      "\u001b[0;30;48modi/238193.csv : Successfully Written.\n",
      "\u001b[0;30;48modi/1022367.csv : Successfully Written.\n",
      "\u001b[0;30;48modi/406193.csv : Successfully Written.\n",
      "\u001b[0;30;48modi/350044.csv : Successfully Written.\n",
      "\u001b[0;30;48modi/455237.csv : Successfully Written.\n",
      "\u001b[0;30;48modi/392616.csv : Successfully Written.\n",
      "\u001b[0;30;48modi/534232.csv : Successfully Written.\n",
      "\u001b[0;30;48modi/256614.csv : Successfully Written.\n",
      "\u001b[0;30;48modi/536932.csv : Successfully Written.\n",
      "\u001b[0;30;48modi/566946.csv : Successfully Written.\n",
      "\u001b[0;30;48modi/913421.csv : Successfully Written.\n",
      "\u001b[0;30;48modi/433578.csv : Successfully Written.\n",
      "\u001b[0;30;48modi/743949.csv : Successfully Written.\n",
      "\u001b[0;30;48modi/1050627.csv : Successfully Written.\n",
      "\u001b[0;30;48modi/433568.csv : Successfully Written.\n",
      "\u001b[0;30;48modi/535799.csv : Successfully Written.\n",
      "\u001b[0;30;48modi/336202.csv : Successfully Written.\n",
      "\u001b[0;30;48modi/343733.csv : Successfully Written.\n",
      "\u001b[0;30;48modi/636163.csv : Successfully Written.\n",
      "\u001b[0;30;48modi/430509.csv : Successfully Written.\n",
      "\u001b[0;30;48modi/383283.csv : Successfully Written.\n",
      "\u001b[0;30;48modi/514037.csv : Successfully Written.\n",
      "\u001b[0;30;48modi/426422.csv : Successfully Written.\n",
      "\u001b[0;30;48modi/250669.csv : Successfully Written.\n"
     ]
    },
    {
     "name": "stderr",
     "output_type": "stream",
     "text": [
      "/home/tprolifer/anaconda3/lib/python3.7/site-packages/pandas/core/indexing.py:1494: FutureWarning: \n",
      "Passing list-likes to .loc or [] with any missing label will raise\n",
      "KeyError in the future, you can use .reindex() as an alternative.\n",
      "\n",
      "See the documentation here:\n",
      "https://pandas.pydata.org/pandas-docs/stable/indexing.html#deprecate-loc-reindex-listlike\n",
      "  return self._getitem_tuple(key)\n"
     ]
    },
    {
     "name": "stdout",
     "output_type": "stream",
     "text": [
      "\u001b[0;30;48modi/592266.csv : Successfully Written.\n"
     ]
    },
    {
     "name": "stderr",
     "output_type": "stream",
     "text": [
      "/home/tprolifer/anaconda3/lib/python3.7/site-packages/pandas/core/indexing.py:1494: FutureWarning: \n",
      "Passing list-likes to .loc or [] with any missing label will raise\n",
      "KeyError in the future, you can use .reindex() as an alternative.\n",
      "\n",
      "See the documentation here:\n",
      "https://pandas.pydata.org/pandas-docs/stable/indexing.html#deprecate-loc-reindex-listlike\n",
      "  return self._getitem_tuple(key)\n"
     ]
    },
    {
     "name": "stdout",
     "output_type": "stream",
     "text": [
      "\u001b[0;30;48modi/560927.csv : Successfully Written.\n",
      "\u001b[0;30;48modi/1033371.csv : Successfully Written.\n"
     ]
    },
    {
     "name": "stderr",
     "output_type": "stream",
     "text": [
      "/home/tprolifer/anaconda3/lib/python3.7/site-packages/pandas/core/indexing.py:1494: FutureWarning: \n",
      "Passing list-likes to .loc or [] with any missing label will raise\n",
      "KeyError in the future, you can use .reindex() as an alternative.\n",
      "\n",
      "See the documentation here:\n",
      "https://pandas.pydata.org/pandas-docs/stable/indexing.html#deprecate-loc-reindex-listlike\n",
      "  return self._getitem_tuple(key)\n"
     ]
    },
    {
     "name": "stdout",
     "output_type": "stream",
     "text": [
      "\u001b[0;30;48modi/1050611.csv : Successfully Written.\n",
      "\u001b[0;30;48modi/1089528.csv : Successfully Written.\n",
      "\u001b[0;30;48modi/335353.csv : Successfully Written.\n",
      "\u001b[0;30;48modi/423791.csv : Successfully Written.\n",
      "\u001b[0;30;48modi/518956.csv : Successfully Written.\n",
      "\u001b[0;30;48modi/1059710.csv : Successfully Written.\n",
      "\u001b[0;30;48modi/1168023.csv : Successfully Written.\n",
      "\u001b[0;30;48modi/264071.csv : Successfully Written.\n"
     ]
    },
    {
     "name": "stderr",
     "output_type": "stream",
     "text": [
      "/home/tprolifer/anaconda3/lib/python3.7/site-packages/pandas/core/indexing.py:1494: FutureWarning: \n",
      "Passing list-likes to .loc or [] with any missing label will raise\n",
      "KeyError in the future, you can use .reindex() as an alternative.\n",
      "\n",
      "See the documentation here:\n",
      "https://pandas.pydata.org/pandas-docs/stable/indexing.html#deprecate-loc-reindex-listlike\n",
      "  return self._getitem_tuple(key)\n"
     ]
    },
    {
     "name": "stdout",
     "output_type": "stream",
     "text": [
      "\u001b[0;30;48modi/319147.csv : Successfully Written.\n"
     ]
    },
    {
     "name": "stderr",
     "output_type": "stream",
     "text": [
      "/home/tprolifer/anaconda3/lib/python3.7/site-packages/pandas/core/indexing.py:1494: FutureWarning: \n",
      "Passing list-likes to .loc or [] with any missing label will raise\n",
      "KeyError in the future, you can use .reindex() as an alternative.\n",
      "\n",
      "See the documentation here:\n",
      "https://pandas.pydata.org/pandas-docs/stable/indexing.html#deprecate-loc-reindex-listlike\n",
      "  return self._getitem_tuple(key)\n"
     ]
    },
    {
     "name": "stdout",
     "output_type": "stream",
     "text": [
      "\u001b[0;30;48modi/1003271.csv : Successfully Written.\n",
      "\u001b[0;30;48modi/914231.csv : Successfully Written.\n",
      "\u001b[0;30;48modi/903601.csv : Successfully Written.\n",
      "\u001b[0;30;48modi/730085.csv : Successfully Written.\n",
      "\u001b[0;30;48modi/594897.csv : Successfully Written.\n",
      "\u001b[0;30;48modi/473925.csv : Successfully Written.\n",
      "\u001b[0;30;48modi/249241.csv : Successfully Written.\n"
     ]
    },
    {
     "name": "stderr",
     "output_type": "stream",
     "text": [
      "/home/tprolifer/anaconda3/lib/python3.7/site-packages/pandas/core/indexing.py:1494: FutureWarning: \n",
      "Passing list-likes to .loc or [] with any missing label will raise\n",
      "KeyError in the future, you can use .reindex() as an alternative.\n",
      "\n",
      "See the documentation here:\n",
      "https://pandas.pydata.org/pandas-docs/stable/indexing.html#deprecate-loc-reindex-listlike\n",
      "  return self._getitem_tuple(key)\n"
     ]
    },
    {
     "name": "stdout",
     "output_type": "stream",
     "text": [
      "\u001b[0;30;48modi/913621.csv : Successfully Written.\n",
      "\u001b[0;30;48modi/392619.csv : Successfully Written.\n",
      "\u001b[0;30;48modi/1104479.csv : Successfully Written.\n"
     ]
    },
    {
     "name": "stderr",
     "output_type": "stream",
     "text": [
      "/home/tprolifer/anaconda3/lib/python3.7/site-packages/pandas/core/indexing.py:1494: FutureWarning: \n",
      "Passing list-likes to .loc or [] with any missing label will raise\n",
      "KeyError in the future, you can use .reindex() as an alternative.\n",
      "\n",
      "See the documentation here:\n",
      "https://pandas.pydata.org/pandas-docs/stable/indexing.html#deprecate-loc-reindex-listlike\n",
      "  return self._getitem_tuple(key)\n"
     ]
    },
    {
     "name": "stdout",
     "output_type": "stream",
     "text": [
      "\u001b[0;30;48modi/1168519.csv : Successfully Written.\n",
      "\u001b[0;30;48modi/1085972.csv : Successfully Written.\n",
      "\u001b[0;30;48modi/291367.csv : Successfully Written.\n",
      "\u001b[0;30;48modi/656409.csv : Successfully Written.\n"
     ]
    },
    {
     "name": "stderr",
     "output_type": "stream",
     "text": [
      "/home/tprolifer/anaconda3/lib/python3.7/site-packages/pandas/core/indexing.py:1494: FutureWarning: \n",
      "Passing list-likes to .loc or [] with any missing label will raise\n",
      "KeyError in the future, you can use .reindex() as an alternative.\n",
      "\n",
      "See the documentation here:\n",
      "https://pandas.pydata.org/pandas-docs/stable/indexing.html#deprecate-loc-reindex-listlike\n",
      "  return self._getitem_tuple(key)\n"
     ]
    },
    {
     "name": "stdout",
     "output_type": "stream",
     "text": [
      "\u001b[0;30;48modi/239912.csv : Successfully Written.\n",
      "\u001b[0;30;48modi/258471.csv : Successfully Written.\n"
     ]
    },
    {
     "name": "stderr",
     "output_type": "stream",
     "text": [
      "/home/tprolifer/anaconda3/lib/python3.7/site-packages/pandas/core/indexing.py:1494: FutureWarning: \n",
      "Passing list-likes to .loc or [] with any missing label will raise\n",
      "KeyError in the future, you can use .reindex() as an alternative.\n",
      "\n",
      "See the documentation here:\n",
      "https://pandas.pydata.org/pandas-docs/stable/indexing.html#deprecate-loc-reindex-listlike\n",
      "  return self._getitem_tuple(key)\n"
     ]
    },
    {
     "name": "stdout",
     "output_type": "stream",
     "text": [
      "\u001b[0;30;48modi/1014845.csv : Successfully Written.\n",
      "\u001b[0;30;48modi/225248.csv : Successfully Written.\n",
      "\u001b[0;30;48modi/750665.csv : Successfully Written.\n",
      "\u001b[0;30;48modi/594891.csv : Successfully Written.\n",
      "\u001b[0;30;48modi/785975.csv : Successfully Written.\n",
      "\u001b[0;30;48modi/649091.csv : Successfully Written.\n",
      "\u001b[0;30;48modi/299007.csv : Successfully Written.\n",
      "\u001b[0;30;48modi/576402.csv : Successfully Written.\n",
      "\u001b[0;30;48modi/749563.csv : Successfully Written.\n",
      "\u001b[0;30;48modi/564783.csv : Successfully Written.\n",
      "\u001b[0;30;48modi/812623.csv : Successfully Written.\n",
      "\u001b[0;30;48modi/770127.csv : Successfully Written.\n",
      "\u001b[0;30;48modi/995463.csv : Successfully Written.\n",
      "\u001b[0;30;48modi/1085965.csv : Successfully Written.\n"
     ]
    },
    {
     "name": "stderr",
     "output_type": "stream",
     "text": [
      "/home/tprolifer/anaconda3/lib/python3.7/site-packages/pandas/core/indexing.py:1494: FutureWarning: \n",
      "Passing list-likes to .loc or [] with any missing label will raise\n",
      "KeyError in the future, you can use .reindex() as an alternative.\n",
      "\n",
      "See the documentation here:\n",
      "https://pandas.pydata.org/pandas-docs/stable/indexing.html#deprecate-loc-reindex-listlike\n",
      "  return self._getitem_tuple(key)\n"
     ]
    },
    {
     "name": "stdout",
     "output_type": "stream",
     "text": [
      "\u001b[0;30;48modi/1068739.csv : Successfully Written.\n",
      "\u001b[0;30;48modi/930569.csv : Successfully Written.\n",
      "\u001b[0;30;48modi/1089137.csv : Successfully Written.\n",
      "\u001b[0;30;48modi/628096.csv : Successfully Written.\n"
     ]
    },
    {
     "name": "stderr",
     "output_type": "stream",
     "text": [
      "/home/tprolifer/anaconda3/lib/python3.7/site-packages/pandas/core/indexing.py:1494: FutureWarning: \n",
      "Passing list-likes to .loc or [] with any missing label will raise\n",
      "KeyError in the future, you can use .reindex() as an alternative.\n",
      "\n",
      "See the documentation here:\n",
      "https://pandas.pydata.org/pandas-docs/stable/indexing.html#deprecate-loc-reindex-listlike\n",
      "  return self._getitem_tuple(key)\n"
     ]
    },
    {
     "name": "stdout",
     "output_type": "stream",
     "text": [
      "\u001b[0;30;48modi/647253.csv : Successfully Written.\n",
      "\u001b[0;30;48modi/291347.csv : Successfully Written.\n"
     ]
    },
    {
     "name": "stderr",
     "output_type": "stream",
     "text": [
      "/home/tprolifer/anaconda3/lib/python3.7/site-packages/pandas/core/indexing.py:1494: FutureWarning: \n",
      "Passing list-likes to .loc or [] with any missing label will raise\n",
      "KeyError in the future, you can use .reindex() as an alternative.\n",
      "\n",
      "See the documentation here:\n",
      "https://pandas.pydata.org/pandas-docs/stable/indexing.html#deprecate-loc-reindex-listlike\n",
      "  return self._getitem_tuple(key)\n"
     ]
    },
    {
     "name": "stdout",
     "output_type": "stream",
     "text": [
      "\u001b[0;30;48modi/560926.csv : Successfully Written.\n",
      "\u001b[0;30;48modi/249742.csv : Successfully Written.\n",
      "\u001b[0;30;48modi/656445.csv : Successfully Written.\n",
      "\u001b[0;30;48modi/258465.csv : Successfully Written.\n",
      "\u001b[0;30;48modi/1001375.csv : Successfully Written.\n",
      "\u001b[0;30;48modi/754725.csv : Successfully Written.\n",
      "\u001b[0;30;48modi/903595.csv : Successfully Written.\n",
      "\u001b[0;30;48modi/476599.csv : Successfully Written.\n",
      "\u001b[0;30;48modi/422628.csv : Successfully Written.\n",
      "\u001b[0;30;48modi/335346.csv : Successfully Written.\n"
     ]
    },
    {
     "name": "stderr",
     "output_type": "stream",
     "text": [
      "/home/tprolifer/anaconda3/lib/python3.7/site-packages/pandas/core/indexing.py:1494: FutureWarning: \n",
      "Passing list-likes to .loc or [] with any missing label will raise\n",
      "KeyError in the future, you can use .reindex() as an alternative.\n",
      "\n",
      "See the documentation here:\n",
      "https://pandas.pydata.org/pandas-docs/stable/indexing.html#deprecate-loc-reindex-listlike\n",
      "  return self._getitem_tuple(key)\n"
     ]
    },
    {
     "name": "stdout",
     "output_type": "stream",
     "text": [
      "\u001b[0;30;48modi/540171.csv : Successfully Written.\n"
     ]
    },
    {
     "name": "stderr",
     "output_type": "stream",
     "text": [
      "/home/tprolifer/anaconda3/lib/python3.7/site-packages/pandas/core/indexing.py:1494: FutureWarning: \n",
      "Passing list-likes to .loc or [] with any missing label will raise\n",
      "KeyError in the future, you can use .reindex() as an alternative.\n",
      "\n",
      "See the documentation here:\n",
      "https://pandas.pydata.org/pandas-docs/stable/indexing.html#deprecate-loc-reindex-listlike\n",
      "  return self._getitem_tuple(key)\n"
     ]
    },
    {
     "name": "stdout",
     "output_type": "stream",
     "text": [
      "\u001b[0;30;48modi/247467.csv : Successfully Written.\n",
      "\u001b[0;30;48modi/531984.csv : Successfully Written.\n",
      "\u001b[0;30;48modi/1144513.csv : Successfully Written.\n",
      "\u001b[0;30;48modi/1059712.csv : Successfully Written.\n",
      "\u001b[0;30;48modi/238179.csv : Successfully Written.\n",
      "\u001b[0;30;48modi/643675.csv : Successfully Written.\n",
      "\u001b[0;30;48modi/257769.csv : Successfully Written.\n",
      "\u001b[0;30;48modi/1007651.csv : Successfully Written.\n"
     ]
    },
    {
     "name": "stderr",
     "output_type": "stream",
     "text": [
      "/home/tprolifer/anaconda3/lib/python3.7/site-packages/pandas/core/indexing.py:1494: FutureWarning: \n",
      "Passing list-likes to .loc or [] with any missing label will raise\n",
      "KeyError in the future, you can use .reindex() as an alternative.\n",
      "\n",
      "See the documentation here:\n",
      "https://pandas.pydata.org/pandas-docs/stable/indexing.html#deprecate-loc-reindex-listlike\n",
      "  return self._getitem_tuple(key)\n"
     ]
    },
    {
     "name": "stdout",
     "output_type": "stream",
     "text": [
      "\u001b[0;30;48modi/628083.csv : Successfully Written.\n",
      "\u001b[0;30;48modi/293483.csv : Successfully Written.\n",
      "\u001b[0;30;48modi/415276.csv : Successfully Written.\n"
     ]
    },
    {
     "name": "stderr",
     "output_type": "stream",
     "text": [
      "/home/tprolifer/anaconda3/lib/python3.7/site-packages/pandas/core/indexing.py:1494: FutureWarning: \n",
      "Passing list-likes to .loc or [] with any missing label will raise\n",
      "KeyError in the future, you can use .reindex() as an alternative.\n",
      "\n",
      "See the documentation here:\n",
      "https://pandas.pydata.org/pandas-docs/stable/indexing.html#deprecate-loc-reindex-listlike\n",
      "  return self._getitem_tuple(key)\n"
     ]
    },
    {
     "name": "stdout",
     "output_type": "stream",
     "text": [
      "\u001b[0;30;48modi/636535.csv : Successfully Written.\n",
      "\u001b[0;30;48modi/649095.csv : Successfully Written.\n",
      "\u001b[0;30;48modi/565813.csv : Successfully Written.\n",
      "\u001b[0;30;48modi/403374.csv : Successfully Written.\n",
      "\u001b[0;30;48modi/361044.csv : Successfully Written.\n",
      "\u001b[0;30;48modi/785969.csv : Successfully Written.\n",
      "\u001b[0;30;48modi/325579.csv : Successfully Written.\n",
      "\u001b[0;30;48modi/745163.csv : Successfully Written.\n",
      "\u001b[0;30;48modi/1144507.csv : Successfully Written.\n",
      "\u001b[0;30;48modi/1022361.csv : Successfully Written.\n",
      "\u001b[0;30;48modi/335350.csv : Successfully Written.\n",
      "\u001b[0;30;48modi/323951.csv : Successfully Written.\n"
     ]
    },
    {
     "name": "stderr",
     "output_type": "stream",
     "text": [
      "/home/tprolifer/anaconda3/lib/python3.7/site-packages/pandas/core/indexing.py:1494: FutureWarning: \n",
      "Passing list-likes to .loc or [] with any missing label will raise\n",
      "KeyError in the future, you can use .reindex() as an alternative.\n",
      "\n",
      "See the documentation here:\n",
      "https://pandas.pydata.org/pandas-docs/stable/indexing.html#deprecate-loc-reindex-listlike\n",
      "  return self._getitem_tuple(key)\n"
     ]
    },
    {
     "name": "stdout",
     "output_type": "stream",
     "text": [
      "\u001b[0;30;48modi/293076.csv : Successfully Written.\n",
      "\u001b[0;30;48modi/667727.csv : Successfully Written.\n",
      "\u001b[0;30;48modi/919613.csv : Successfully Written.\n"
     ]
    },
    {
     "name": "stderr",
     "output_type": "stream",
     "text": [
      "/home/tprolifer/anaconda3/lib/python3.7/site-packages/pandas/core/indexing.py:1494: FutureWarning: \n",
      "Passing list-likes to .loc or [] with any missing label will raise\n",
      "KeyError in the future, you can use .reindex() as an alternative.\n",
      "\n",
      "See the documentation here:\n",
      "https://pandas.pydata.org/pandas-docs/stable/indexing.html#deprecate-loc-reindex-listlike\n",
      "  return self._getitem_tuple(key)\n"
     ]
    },
    {
     "name": "stdout",
     "output_type": "stream",
     "text": [
      "\u001b[0;30;48modi/792293.csv : Successfully Written.\n",
      "\u001b[0;30;48modi/350480.csv : Successfully Written.\n",
      "\u001b[0;30;48modi/656411.csv : Successfully Written.\n",
      "\u001b[0;30;48modi/250671.csv : Successfully Written.\n",
      "\u001b[0;30;48modi/1077950.csv : Successfully Written.\n",
      "\u001b[0;30;48modi/1020035.csv : Successfully Written.\n",
      "\u001b[0;30;48modi/423387.csv : Successfully Written.\n"
     ]
    },
    {
     "name": "stderr",
     "output_type": "stream",
     "text": [
      "/home/tprolifer/anaconda3/lib/python3.7/site-packages/pandas/core/indexing.py:1494: FutureWarning: \n",
      "Passing list-likes to .loc or [] with any missing label will raise\n",
      "KeyError in the future, you can use .reindex() as an alternative.\n",
      "\n",
      "See the documentation here:\n",
      "https://pandas.pydata.org/pandas-docs/stable/indexing.html#deprecate-loc-reindex-listlike\n",
      "  return self._getitem_tuple(key)\n"
     ]
    },
    {
     "name": "stdout",
     "output_type": "stream",
     "text": [
      "\u001b[0;30;48modi/247505.csv : Successfully Written.\n",
      "\u001b[0;30;48modi/474480.csv : Successfully Written.\n",
      "\u001b[0;30;48modi/696733.csv : Successfully Written.\n",
      "\u001b[0;30;48modi/743985.csv : Successfully Written.\n",
      "\u001b[0;30;48modi/785989.csv : Successfully Written.\n",
      "\u001b[0;30;48modi/914207.csv : Successfully Written.\n"
     ]
    },
    {
     "name": "stderr",
     "output_type": "stream",
     "text": [
      "/home/tprolifer/anaconda3/lib/python3.7/site-packages/pandas/core/indexing.py:1494: FutureWarning: \n",
      "Passing list-likes to .loc or [] with any missing label will raise\n",
      "KeyError in the future, you can use .reindex() as an alternative.\n",
      "\n",
      "See the documentation here:\n",
      "https://pandas.pydata.org/pandas-docs/stable/indexing.html#deprecate-loc-reindex-listlike\n",
      "  return self._getitem_tuple(key)\n"
     ]
    },
    {
     "name": "stdout",
     "output_type": "stream",
     "text": [
      "\u001b[0;30;48modi/1027317.csv : Successfully Written.\n",
      "\u001b[0;30;48modi/656449.csv : Successfully Written.\n",
      "\u001b[0;30;48modi/521221.csv : Successfully Written.\n",
      "\u001b[0;30;48modi/584546.csv : Successfully Written.\n",
      "\u001b[0;30;48modi/656465.csv : Successfully Written.\n",
      "\u001b[0;30;48modi/1144485.csv : Successfully Written.\n",
      "\u001b[0;30;48modi/467883.csv : Successfully Written.\n",
      "\u001b[0;30;48modi/749791.csv : Successfully Written.\n",
      "\u001b[0;30;48modi/433595.csv : Successfully Written.\n",
      "\u001b[0;30;48modi/300426.csv : Successfully Written.\n"
     ]
    },
    {
     "name": "stderr",
     "output_type": "stream",
     "text": [
      "/home/tprolifer/anaconda3/lib/python3.7/site-packages/pandas/core/indexing.py:1494: FutureWarning: \n",
      "Passing list-likes to .loc or [] with any missing label will raise\n",
      "KeyError in the future, you can use .reindex() as an alternative.\n",
      "\n",
      "See the documentation here:\n",
      "https://pandas.pydata.org/pandas-docs/stable/indexing.html#deprecate-loc-reindex-listlike\n",
      "  return self._getitem_tuple(key)\n"
     ]
    },
    {
     "name": "stdout",
     "output_type": "stream",
     "text": [
      "\u001b[0;30;48modi/1062510.csv : Successfully Written.\n",
      "\u001b[0;30;48modi/594901.csv : Successfully Written.\n",
      "\u001b[0;30;48modi/649093.csv : Successfully Written.\n"
     ]
    },
    {
     "name": "stderr",
     "output_type": "stream",
     "text": [
      "/home/tprolifer/anaconda3/lib/python3.7/site-packages/pandas/core/indexing.py:1494: FutureWarning: \n",
      "Passing list-likes to .loc or [] with any missing label will raise\n",
      "KeyError in the future, you can use .reindex() as an alternative.\n",
      "\n",
      "See the documentation here:\n",
      "https://pandas.pydata.org/pandas-docs/stable/indexing.html#deprecate-loc-reindex-listlike\n",
      "  return self._getitem_tuple(key)\n"
     ]
    },
    {
     "name": "stdout",
     "output_type": "stream",
     "text": [
      "\u001b[0;30;48modi/636534.csv : Successfully Written.\n",
      "\u001b[0;30;48modi/256615.csv : Successfully Written.\n",
      "\u001b[0;30;48modi/603240.csv : Successfully Written.\n"
     ]
    },
    {
     "name": "stderr",
     "output_type": "stream",
     "text": [
      "/home/tprolifer/anaconda3/lib/python3.7/site-packages/pandas/core/indexing.py:1494: FutureWarning: \n",
      "Passing list-likes to .loc or [] with any missing label will raise\n",
      "KeyError in the future, you can use .reindex() as an alternative.\n",
      "\n",
      "See the documentation here:\n",
      "https://pandas.pydata.org/pandas-docs/stable/indexing.html#deprecate-loc-reindex-listlike\n",
      "  return self._getitem_tuple(key)\n"
     ]
    },
    {
     "name": "stdout",
     "output_type": "stream",
     "text": [
      "\u001b[0;30;48modi/247503.csv : Successfully Written.\n",
      "\u001b[0;30;48modi/750669.csv : Successfully Written.\n",
      "\u001b[0;30;48modi/579753.csv : Successfully Written.\n",
      "\u001b[0;30;48modi/390253.csv : Successfully Written.\n",
      "\u001b[0;30;48modi/914265.csv : Successfully Written.\n",
      "\u001b[0;30;48modi/520602.csv : Successfully Written.\n",
      "\u001b[0;30;48modi/754749.csv : Successfully Written.\n"
     ]
    },
    {
     "name": "stderr",
     "output_type": "stream",
     "text": [
      "/home/tprolifer/anaconda3/lib/python3.7/site-packages/pandas/core/indexing.py:1494: FutureWarning: \n",
      "Passing list-likes to .loc or [] with any missing label will raise\n",
      "KeyError in the future, you can use .reindex() as an alternative.\n",
      "\n",
      "See the documentation here:\n",
      "https://pandas.pydata.org/pandas-docs/stable/indexing.html#deprecate-loc-reindex-listlike\n",
      "  return self._getitem_tuple(key)\n"
     ]
    },
    {
     "name": "stdout",
     "output_type": "stream",
     "text": [
      "\u001b[0;30;48modi/1050609.csv : Successfully Written.\n"
     ]
    },
    {
     "name": "stderr",
     "output_type": "stream",
     "text": [
      "/home/tprolifer/anaconda3/lib/python3.7/site-packages/pandas/core/indexing.py:1494: FutureWarning: \n",
      "Passing list-likes to .loc or [] with any missing label will raise\n",
      "KeyError in the future, you can use .reindex() as an alternative.\n",
      "\n",
      "See the documentation here:\n",
      "https://pandas.pydata.org/pandas-docs/stable/indexing.html#deprecate-loc-reindex-listlike\n",
      "  return self._getitem_tuple(key)\n"
     ]
    },
    {
     "name": "stdout",
     "output_type": "stream",
     "text": [
      "\u001b[0;30;48modi/433599.csv : Successfully Written.\n",
      "\u001b[0;30;48modi/486523.csv : Successfully Written.\n",
      "\u001b[0;30;48modi/1040491.csv : Successfully Written.\n",
      "\u001b[0;30;48modi/251489.csv : Successfully Written.\n",
      "\u001b[0;30;48modi/236358.csv : Successfully Written.\n",
      "\u001b[0;30;48modi/520593.csv : Successfully Written.\n"
     ]
    },
    {
     "name": "stderr",
     "output_type": "stream",
     "text": [
      "/home/tprolifer/anaconda3/lib/python3.7/site-packages/pandas/core/indexing.py:1494: FutureWarning: \n",
      "Passing list-likes to .loc or [] with any missing label will raise\n",
      "KeyError in the future, you can use .reindex() as an alternative.\n",
      "\n",
      "See the documentation here:\n",
      "https://pandas.pydata.org/pandas-docs/stable/indexing.html#deprecate-loc-reindex-listlike\n",
      "  return self._getitem_tuple(key)\n"
     ]
    },
    {
     "name": "stdout",
     "output_type": "stream",
     "text": [
      "\u001b[0;30;48modi/247476.csv : Successfully Written.\n",
      "\u001b[0;30;48modi/387567.csv : Successfully Written.\n",
      "\u001b[0;30;48modi/238188.csv : Successfully Written.\n"
     ]
    }
   ],
   "source": [
    "os.remove(\"info.csv\")\n",
    "os.remove(\"data.csv\")\n",
    "for infile in glob.glob(os.path.join(\"odi/\", '*.csv')):\n",
    "    try:\n",
    "        textFile = open(infile, \"r\")\n",
    "        df11 = textFile.read()\n",
    "        for i in range(len(df11)):\n",
    "            if(df11[i] == 'i' and df11[i-1] == '\\n'):\n",
    "                break\n",
    "        st11 = \"\"\n",
    "        df30 = pd.DataFrame()\n",
    "        for j in range(i, len(df11)):\n",
    "            if(df11[j] == '\\n'):\n",
    "                df30 = df30.append([st11.split(\",\")])\n",
    "                st11 = \"\"\n",
    "            else:\n",
    "                st11 = st11 + df11[j]\n",
    "        \n",
    "        info_df = pd.DataFrame()\n",
    "        info_df = df30[df30[0].str.startswith('info')]\n",
    "        info_df = info_df.iloc[:, 1:3]\n",
    "        info_df = info_df.reset_index(drop=True)\n",
    "        info_df1 = pd.DataFrame()\n",
    "        info_df1 = info_df.transpose()\n",
    "        new_header = info_df1.iloc[0]\n",
    "        info_df1.columns = new_header\n",
    "        \n",
    "        Row_list = info_df1.iloc[0]\n",
    "        info_list = ['team','team','gender','season','date','series', 'competition', 'match_number','venue','city', 'neutralvenue','toss_winner','toss_decision','player_of_match','umpire','umpire','reserve_umpire', 'tv_umpire','match_referee','winner','outcome','winner_runs', 'winner_wickets','method']\n",
    "        differ = []\n",
    "        differ = list(set(info_list) - set(Row_list))\n",
    "        info_df1 = info_df1.iloc[1:,]\n",
    "        \n",
    "        if 'gender' in differ:\n",
    "            info_df1.insert(2, \"Gender\", [''], True)\n",
    "        if 'season' in differ:\n",
    "            info_df1.insert(3, \"Season\", [''], True)\n",
    "        if 'date' in differ:\n",
    "            info_df1.insert(4, \"date\", [''], True)\n",
    "        if len(info_df1['date'].keys()) > 1:\n",
    "            trex = info_df1['date']\n",
    "            x = trex.keys()\n",
    "            y = []\n",
    "            for i in range(len(x)):\n",
    "                y.append(str(i))\n",
    "            trex.columns=[y]\n",
    "            tree = trex[trex.columns].apply(lambda row: ' - '.join(row.values.astype(str)), axis=1)\n",
    "            info_df1 = info_df1.drop(columns = ['date'])\n",
    "            info_df1.insert(4, \"Date\", [tree], True)\n",
    "        if 'series' in differ:\n",
    "            info_df1.insert(5, \"Series\", [''], True)\n",
    "        else:\n",
    "            info_df1.insert(5, \"Series\", info_df1['series'], True)\n",
    "            info_df1 = info_df1.drop(columns = ['series'])\n",
    "        if 'competition' in differ:\n",
    "            info_df1.insert(6, \"Competition\", [''], True)\n",
    "        else:\n",
    "            info_df1.insert(6, \"Competition\", info_df1['competition'], True)\n",
    "            info_df1 = info_df1.drop(columns = ['competition'])\n",
    "        if 'match_number' in differ:\n",
    "            info_df1.insert(7, \"match_number\", [''], True)\n",
    "        if len(info_df1['match_number'].keys()) > 1:\n",
    "            trex = info_df1['match_number']\n",
    "            x = trex.keys()\n",
    "            y = []\n",
    "            for i in range(len(x)):\n",
    "                y.append(str(i))\n",
    "            trex.columns=[y]\n",
    "            tree = trex.iloc[:,0:1]\n",
    "            tree = int(tree.iat[0,0])\n",
    "            info_df1 = info_df1.drop(columns = ['match_number'])\n",
    "            info_df1.insert(7, \"Match Number\", [tree], True)\n",
    "        if 'venue' in differ:\n",
    "            info_df1.insert(8, \"Venue\", [''], True)\n",
    "        if 'city' in differ:\n",
    "            info_df1.insert(9, \"city\", [''], True)\n",
    "        if 'neutralvenue' in differ:\n",
    "            info_df1.insert(10, \"Neutral Venue\", [''], True)\n",
    "        if 'player_of_match' in differ:\n",
    "            info_df1.insert(13, \"player_of_match\", [''], True)\n",
    "        if len(info_df1['player_of_match'].keys()) > 1:\n",
    "            trex = info_df1['player_of_match']\n",
    "            x = trex.keys()\n",
    "            y = []\n",
    "            for i in range(len(x)):\n",
    "                y.append(str(i))\n",
    "            trex.columns=[y]\n",
    "            tree = trex[trex.columns].apply(lambda row: ', '.join(row.values.astype(str)), axis=1)\n",
    "            info_df1 = info_df1.drop(columns = ['player_of_match'])\n",
    "            info_df1.insert(13, \"Player of the Match\", [tree], True)\n",
    "        if 'reserve_umpire' in differ:\n",
    "            info_df1.insert(16, \"reserve_umpire\", [''], True)\n",
    "        if len(info_df1['reserve_umpire'].keys()) > 1:\n",
    "            trex = info_df1['reserve_umpire']\n",
    "            x = trex.keys()\n",
    "            y = []\n",
    "            for i in range(len(x)):\n",
    "                y.append(str(i))\n",
    "            trex.columns=[y]\n",
    "            tree = trex[trex.columns].apply(lambda row: ', '.join(row.values.astype(str)), axis=1)\n",
    "            info_df1 = info_df1.drop(columns = ['reserve_umpire'])\n",
    "            info_df1.insert(16, \"Reserve Umpire\", [tree], True)\n",
    "        if 'tv_umpire' in differ:\n",
    "            info_df1.insert(17, \"TV Umpire\", [''], True)\n",
    "        if 'match_referee' in differ:\n",
    "            info_df1.insert(18, \"Match Referee\", [''], True)\n",
    "        if 'winner' in differ:\n",
    "            info_df1.insert(19, \"Winner\", [''], True)\n",
    "        if 'outcome' in differ:\n",
    "            info_df1.insert(20, \"Outcome\", [''], True)\n",
    "        else:\n",
    "            info_df1.insert(20, \"Outcome\", info_df1['outcome'], True)\n",
    "            info_df1 = info_df1.drop(columns = ['outcome'])\n",
    "        if 'winner_runs' in differ:\n",
    "            if 'winner_wickets' in differ:\n",
    "                info_df1.insert(21, \"Winner Runs\", [''], True)\n",
    "                info_df1.insert(22, \"Winner Wickets\", [''], True)\n",
    "            else:\n",
    "                info_df1.insert(21, \"Winner Runs\", [''], True)\n",
    "                info_df1.insert(22, \"Winner Wickets\", info_df1['winner_wickets'], True)\n",
    "                info_df1 = info_df1.drop(columns = ['winner_wickets'])\n",
    "        else:\n",
    "            info_df1.insert(22, \"Winner Wickets\", [''], True)\n",
    "            \n",
    "        if 'method' not in differ:\n",
    "            if 'method' in info_df1:\n",
    "                info_df1.insert(23, \"Method\", info_df1['method'], True)\n",
    "                info_df1 = info_df1.drop(columns = ['method'])\n",
    "            else:\n",
    "                info_df1.insert(23, \"Method\", [''], True)\n",
    "        else:\n",
    "            info_df1.insert(23, \"Method\", [''], True)\n",
    "        \n",
    "        info_df1.insert(0, \"File No\", [infile[4:]], True)\n",
    "        info_df1.columns = ['File No','Team 1','Team 2','Gender','Season','Date','Series','Competition','Match Number','Venue','City','Neutral Venue','Toss Winner','Toss Decision','Player of Match','Umpire 1','Umpire 2','Reserve Umpire','TV Umpire','Match Referee','Winner','Outcome','Winner Runs', 'Winner Wickets', 'Method']\n",
    "        \n",
    "    \n",
    "        #Data Processing\n",
    "        \n",
    "        data_df = pd.DataFrame()\n",
    "        data_df = df30[df30[0].str.startswith('ball')]\n",
    "        data_df.insert(0, \"File No\", [infile[4:]] * data_df.count()[1], True)\n",
    "        data_df.columns=['File No','Ball','Inning','Overs','Team','Striker','Non Striker','Bowler','Runs','Extra','DismissalType','DismissalBatsman']\n",
    "        data_df=data_df.reset_index(drop=True)\n",
    "        data_df['Runs']=data_df['Runs'].astype(int)\n",
    "        data_df['Inning']=data_df['Inning'].astype(int)\n",
    "        data_df['Extra']=data_df['Extra'].astype(int)\n",
    "        data_df['Overs']=data_df['Overs'].astype(float)\n",
    "        \n",
    "        innings = np.unique(data_df['Inning'])\n",
    "        \n",
    "        team1 = 0\n",
    "        team2 = 0\n",
    "        for inni in data_df['Inning']:\n",
    "            if(inni == 1):\n",
    "                team1 = team1 + 1\n",
    "            else:\n",
    "                team2 = team2 + 1\n",
    "                \n",
    "        runs_Team1 = 0\n",
    "        runs_Team2 = 0\n",
    "        team2 = len(data_df['Runs'])-team2\n",
    "        runs_Team1 = sum(data_df['Runs'][:team1,])\n",
    "        runs_Team2 = sum(data_df['Runs'][team2:,])\n",
    "        extras_team1 = sum(data_df['Extra'][:team1,])\n",
    "        extras_team2 = sum(data_df['Extra'][team2:,])\n",
    "        runs_Team1 = runs_Team1 + extras_team1\n",
    "        runs_Team2 = runs_Team2 + extras_team2\n",
    "        \n",
    "        wkt_Team1 = 0\n",
    "        wkt_Team2 = 0\n",
    "        for wkt in data_df['DismissalType'][:team1,]:\n",
    "            if (wkt != '\"\"'):\n",
    "                wkt_Team1 = wkt_Team1 + 1\n",
    "        for wkt in data_df['DismissalType'][team2:,]:\n",
    "            if (wkt != '\"\"'):\n",
    "                wkt_Team2 = wkt_Team2 + 1\n",
    "                \n",
    "                \n",
    "        # INFO CSV\n",
    "        info_df1.insert(2, \"Team 1 Runs\", [runs_Team1], True)\n",
    "        info_df1.insert(3, \"Team 1 Wickets\", [wkt_Team1], True)\n",
    "        info_df1.insert(5, \"Team 2 Runs\", [runs_Team2], True)\n",
    "        info_df1.insert(6, \"Team 2 Wickets\", [wkt_Team2], True)\n",
    "    \n",
    "        with open('info.csv', 'a') as f:\n",
    "            info_df1.to_csv(f, header=False)\n",
    "\n",
    "        \n",
    "                \n",
    "        striker1 = np.unique(data_df['Striker'][:team1,])\n",
    "        non_striker1 = np.unique(data_df['Non Striker'][:team1,])\n",
    "        bowler2 = np.unique(data_df['Bowler'][:team1,])\n",
    "        striker2 = np.unique(data_df['Striker'][team2:,])\n",
    "        non_striker2 = np.unique(data_df['Non Striker'][team2:,])\n",
    "        bowler1 = np.unique(data_df['Bowler'][team2:,])\n",
    "        team1_players = np.unique(np.concatenate((striker1, non_striker1, bowler1)))\n",
    "        team2_players = np.unique(np.concatenate((striker2, non_striker2, bowler2)))\n",
    "        \n",
    "        team1_position = {}\n",
    "        team1_position1 = {}\n",
    "        team1_position2 = {}\n",
    "        for play in striker1:\n",
    "            dd = np.where(data_df['Striker'] == play)\n",
    "            team1_position[play] = dd[0][0]\n",
    "            \n",
    "        listofTuples = sorted(team1_position.items() ,  key=lambda x: x[1])\n",
    "        for elem in listofTuples :\n",
    "            team1_position1[elem[0]] = elem[1]\n",
    "        for i in range(len(list(team1_position1.keys()))):\n",
    "            team1_position2[list(team1_position1.keys())[i]] = i+1\n",
    "        \n",
    "        player_team1_runs = {}\n",
    "        player_team1_balls = {}\n",
    "        player_bounds = {}\n",
    "        player_team1_balls_bowled = {}\n",
    "        player_team1_extras_given = {}\n",
    "        player_team1_runs_given = {}\n",
    "        player_team1_wickets_taken = {}\n",
    "        player_team1_wicket_method = {}\n",
    "        player_team1_wicket_bowler = {}\n",
    "        for play in team1_players:\n",
    "            wkt_Taken = 0\n",
    "            play1 = data_df.loc[data_df['Striker'] == play, 'Runs']\n",
    "            play1 = play1.reset_index(drop=True)\n",
    "            player_runs = sum(play1)\n",
    "            player_balls = play1.count()\n",
    "            player_team1_runs[play] = player_runs\n",
    "            player_team1_balls[play] = player_balls\n",
    "            balls_type = Counter(play1)\n",
    "            player_bounds[play] = balls_type\n",
    "            play2 = data_df.loc[data_df['Bowler'] == play, 'Extra']\n",
    "            play3 = data_df.loc[data_df['Bowler'] == play, 'Runs']\n",
    "            play4 = data_df.loc[data_df['Bowler'] == play, 'DismissalType']\n",
    "            player_balls_bowled = play2.count()\n",
    "            player_extras_given = sum(play2)\n",
    "            player_runs_given = sum(play3)\n",
    "            player_team1_balls_bowled[play] = player_balls_bowled\n",
    "            player_team1_extras_given[play] = player_extras_given\n",
    "            player_team1_runs_given[play] = player_runs_given\n",
    "            for wkt in play4:\n",
    "                if (wkt != '\"\"'):\n",
    "                    wkt_Taken = wkt_Taken + 1\n",
    "            player_team1_wickets_taken[play] = wkt_Taken\n",
    "            play5 = data_df[data_df['DismissalBatsman']==play]['DismissalType'].values\n",
    "            if(len(play5) == 0):\n",
    "                continue\n",
    "            else:\n",
    "                play5 = play5.astype(str)\n",
    "                player_team1_wicket_method[play] = play5[0]\n",
    "        \n",
    "        players_team1 = pd.DataFrame(columns=['Player Name', 'Innings','Batting Position', 'Runs','Dots', '1s', '2s', '3s', '4s', '6s', 'Balls Played','Wicket Method', 'Balls Bowled','Runs Given', 'Extras Given', 'Wickets Taken'])\n",
    "        players_team1['Player Name'] = team1_players\n",
    "        players_team1['Innings'] = 1\n",
    "        players_team1['Runs']= players_team1['Player Name'].map(player_team1_runs) \n",
    "        players_team1['Balls Played']= players_team1['Player Name'].map(player_team1_balls) \n",
    "        player_dots = {}\n",
    "        player_ones = {}\n",
    "        player_twos = {}\n",
    "        player_threes = {}\n",
    "        player_fours = {}\n",
    "        player_sixes = {}\n",
    "        for k in player_bounds.keys():\n",
    "            player_dots[k] = player_bounds[k][0]\n",
    "            player_ones[k] = player_bounds[k][1]\n",
    "            player_twos[k] = player_bounds[k][2]\n",
    "            player_threes[k] = player_bounds[k][3]\n",
    "            player_fours[k] = player_bounds[k][4]\n",
    "            player_sixes[k] = player_bounds[k][6]\n",
    "        players_team1['6s']= players_team1['Player Name'].map(player_sixes) \n",
    "        players_team1['4s']= players_team1['Player Name'].map(player_fours) \n",
    "        players_team1['3s']= players_team1['Player Name'].map(player_threes) \n",
    "        players_team1['2s']= players_team1['Player Name'].map(player_twos) \n",
    "        players_team1['1s']= players_team1['Player Name'].map(player_ones) \n",
    "        players_team1['Dots']= players_team1['Player Name'].map(player_dots) \n",
    "        \n",
    "        players_team1['Batting Position']= players_team1['Player Name'].map(team1_position2) \n",
    "        players_team1['Balls Bowled']= players_team1['Player Name'].map(player_team1_balls_bowled) \n",
    "        players_team1['Extras Given']= players_team1['Player Name'].map(player_team1_extras_given)\n",
    "        players_team1['Runs Given']= players_team1['Player Name'].map(player_team1_runs_given)\n",
    "        players_team1['Wickets Taken']= players_team1['Player Name'].map(player_team1_wickets_taken)\n",
    "        players_team1['Wicket Method']= players_team1['Player Name'].map(player_team1_wicket_method)\n",
    "        players_team1 = players_team1.sort_values(by=['Batting Position'])\n",
    "        players_team1.insert(0, \"File No\", [infile[4:]] * players_team1.count()[1], True)\n",
    "        \n",
    "        \n",
    "        # for Team 2\n",
    "        \n",
    "        team2_position = {}\n",
    "        team2_position1 = {}\n",
    "        team2_position2 = {}\n",
    "        for play in striker2:\n",
    "            dd = np.where(data_df['Striker'] == play)\n",
    "            team2_position[play] = dd[0][0]\n",
    "            \n",
    "        listofTuples = sorted(team2_position.items() ,  key=lambda x: x[1])\n",
    "        for elem in listofTuples :\n",
    "            team2_position1[elem[0]] = elem[1]\n",
    "        for i in range(len(list(team2_position1.keys()))):\n",
    "            team2_position2[list(team2_position1.keys())[i]] = i+1\n",
    "        \n",
    "        player_team2_runs = {}\n",
    "        player_team2_balls = {}\n",
    "        player_team2_bounds = {}\n",
    "        player_team2_balls_bowled = {}\n",
    "        player_team2_extras_given = {}\n",
    "        player_team2_runs_given = {}\n",
    "        player_team2_wickets_taken = {}\n",
    "        player_team2_wicket_method = {}\n",
    "        player_team2_wicket_bowler = {}\n",
    "        for play in team2_players:\n",
    "            wkt_Taken = 0\n",
    "            play1 = data_df.loc[data_df['Striker'] == play, 'Runs']\n",
    "            play1 = play1.reset_index(drop=True)\n",
    "            player_runs = sum(play1)\n",
    "            player_balls = play1.count()\n",
    "            player_team2_runs[play] = player_runs\n",
    "            player_team2_balls[play] = player_balls\n",
    "            balls_type = Counter(play1)\n",
    "            player_team2_bounds[play] = balls_type\n",
    "            play2 = data_df.loc[data_df['Bowler'] == play, 'Extra']\n",
    "            play3 = data_df.loc[data_df['Bowler'] == play, 'Runs']\n",
    "            play4 = data_df.loc[data_df['Bowler'] == play, 'DismissalType']\n",
    "            player_balls_bowled = play2.count()\n",
    "            player_extras_given = sum(play2)\n",
    "            player_runs_given = sum(play3)\n",
    "            player_team2_balls_bowled[play] = player_balls_bowled\n",
    "            player_team2_extras_given[play] = player_extras_given\n",
    "            player_team2_runs_given[play] = player_runs_given\n",
    "            for wkt in play4:\n",
    "                if (wkt != '\"\"'):\n",
    "                    wkt_Taken = wkt_Taken + 1\n",
    "            player_team2_wickets_taken[play] = wkt_Taken\n",
    "            play5 = data_df[data_df['DismissalBatsman']==play]['DismissalType'].values\n",
    "            if(len(play5) == 0):\n",
    "                continue\n",
    "            else:\n",
    "                play5 = play5.astype(str)\n",
    "                player_team2_wicket_method[play] = play5[0]\n",
    "        \n",
    "        players_team2 = pd.DataFrame(columns=['Player Name', 'Innings','Batting Position', 'Runs','Dots', '1s', '2s', '3s', '4s', '6s', 'Balls Played','Wicket Method', 'Balls Bowled','Runs Given', 'Extras Given', 'Wickets Taken'])\n",
    "        players_team2['Player Name'] = team2_players\n",
    "        players_team2['Innings'] = 2\n",
    "        players_team2['Runs']= players_team2['Player Name'].map(player_team2_runs) \n",
    "        players_team2['Balls Played']= players_team2['Player Name'].map(player_team2_balls) \n",
    "        player_dots = {}\n",
    "        player_ones = {}\n",
    "        player_twos = {}\n",
    "        player_threes = {}\n",
    "        player_fours = {}\n",
    "        player_sixes = {}\n",
    "        for k in player_team2_bounds.keys():\n",
    "            player_dots[k] = player_team2_bounds[k][0]\n",
    "            player_ones[k] = player_team2_bounds[k][1]\n",
    "            player_twos[k] = player_team2_bounds[k][2]\n",
    "            player_threes[k] = player_team2_bounds[k][3]\n",
    "            player_fours[k] = player_team2_bounds[k][4]\n",
    "            player_sixes[k] = player_team2_bounds[k][6]\n",
    "        players_team2['6s']= players_team2['Player Name'].map(player_sixes) \n",
    "        players_team2['4s']= players_team2['Player Name'].map(player_fours) \n",
    "        players_team2['3s']= players_team2['Player Name'].map(player_threes) \n",
    "        players_team2['2s']= players_team2['Player Name'].map(player_twos) \n",
    "        players_team2['1s']= players_team2['Player Name'].map(player_ones) \n",
    "        players_team2['Dots']= players_team2['Player Name'].map(player_dots) \n",
    "        \n",
    "        players_team2['Batting Position'] = players_team2['Player Name'].map(team2_position2)\n",
    "        players_team2['Balls Bowled']= players_team2['Player Name'].map(player_team2_balls_bowled) \n",
    "        players_team2['Extras Given']= players_team2['Player Name'].map(player_team2_extras_given)\n",
    "        players_team2['Runs Given']= players_team2['Player Name'].map(player_team2_runs_given)\n",
    "        players_team2['Wickets Taken']= players_team2['Player Name'].map(player_team2_wickets_taken)\n",
    "        players_team2['Wicket Method']= players_team2['Player Name'].map(player_team2_wicket_method)\n",
    "        players_team2 = players_team2.sort_values(by=['Batting Position'])\n",
    "        players_team2.insert(0, \"File No\", [infile[4:]] * players_team2.count()[1], True)\n",
    "\n",
    "        \n",
    "        with open('data.csv', 'a') as f:\n",
    "            players_team1.to_csv(f, header=False)\n",
    "            players_team2.to_csv(f, header=False)\n",
    "            \n",
    "        print(\"\\033[0;30;48m\" + infile + \" : Successfully Written.\")\n",
    "        \n",
    "    except:\n",
    "        print(\"\\033[1;31;47m\" + infile +  \" : Something Went Wrong!!!  \\n\")"
   ]
  },
  {
   "cell_type": "code",
   "execution_count": 5,
   "metadata": {},
   "outputs": [
    {
     "data": {
      "text/html": [
       "<div>\n",
       "<style scoped>\n",
       "    .dataframe tbody tr th:only-of-type {\n",
       "        vertical-align: middle;\n",
       "    }\n",
       "\n",
       "    .dataframe tbody tr th {\n",
       "        vertical-align: top;\n",
       "    }\n",
       "\n",
       "    .dataframe thead th {\n",
       "        text-align: right;\n",
       "    }\n",
       "</style>\n",
       "<table border=\"1\" class=\"dataframe\">\n",
       "  <thead>\n",
       "    <tr style=\"text-align: right;\">\n",
       "      <th></th>\n",
       "      <th>File No</th>\n",
       "      <th>Player Name</th>\n",
       "      <th>Innings</th>\n",
       "      <th>Batting Position</th>\n",
       "      <th>Runs</th>\n",
       "      <th>Dots</th>\n",
       "      <th>1s</th>\n",
       "      <th>2s</th>\n",
       "      <th>3s</th>\n",
       "      <th>4s</th>\n",
       "      <th>6s</th>\n",
       "      <th>Balls Played</th>\n",
       "      <th>Wicket Method</th>\n",
       "      <th>Balls Bowled</th>\n",
       "      <th>Runs Given</th>\n",
       "      <th>Extras Given</th>\n",
       "      <th>Wickets Taken</th>\n",
       "    </tr>\n",
       "  </thead>\n",
       "  <tbody>\n",
       "    <tr>\n",
       "      <th>6</th>\n",
       "      <td>298797.csv</td>\n",
       "      <td>L Vincent</td>\n",
       "      <td>2</td>\n",
       "      <td>1.0</td>\n",
       "      <td>9</td>\n",
       "      <td>6</td>\n",
       "      <td>1</td>\n",
       "      <td>2</td>\n",
       "      <td>0</td>\n",
       "      <td>1</td>\n",
       "      <td>0</td>\n",
       "      <td>10</td>\n",
       "      <td>run out</td>\n",
       "      <td>0</td>\n",
       "      <td>0</td>\n",
       "      <td>0</td>\n",
       "      <td>0</td>\n",
       "    </tr>\n",
       "    <tr>\n",
       "      <th>3</th>\n",
       "      <td>298797.csv</td>\n",
       "      <td>JM How</td>\n",
       "      <td>2</td>\n",
       "      <td>2.0</td>\n",
       "      <td>76</td>\n",
       "      <td>71</td>\n",
       "      <td>20</td>\n",
       "      <td>6</td>\n",
       "      <td>0</td>\n",
       "      <td>11</td>\n",
       "      <td>0</td>\n",
       "      <td>108</td>\n",
       "      <td>lbw</td>\n",
       "      <td>0</td>\n",
       "      <td>0</td>\n",
       "      <td>0</td>\n",
       "      <td>0</td>\n",
       "    </tr>\n",
       "    <tr>\n",
       "      <th>0</th>\n",
       "      <td>298797.csv</td>\n",
       "      <td>BB McCullum</td>\n",
       "      <td>2</td>\n",
       "      <td>3.0</td>\n",
       "      <td>81</td>\n",
       "      <td>47</td>\n",
       "      <td>22</td>\n",
       "      <td>7</td>\n",
       "      <td>1</td>\n",
       "      <td>9</td>\n",
       "      <td>1</td>\n",
       "      <td>87</td>\n",
       "      <td>run out</td>\n",
       "      <td>0</td>\n",
       "      <td>0</td>\n",
       "      <td>0</td>\n",
       "      <td>0</td>\n",
       "    </tr>\n",
       "    <tr>\n",
       "      <th>9</th>\n",
       "      <td>298797.csv</td>\n",
       "      <td>SB Styris</td>\n",
       "      <td>2</td>\n",
       "      <td>4.0</td>\n",
       "      <td>24</td>\n",
       "      <td>10</td>\n",
       "      <td>6</td>\n",
       "      <td>2</td>\n",
       "      <td>0</td>\n",
       "      <td>2</td>\n",
       "      <td>1</td>\n",
       "      <td>21</td>\n",
       "      <td>NaN</td>\n",
       "      <td>12</td>\n",
       "      <td>12</td>\n",
       "      <td>0</td>\n",
       "      <td>0</td>\n",
       "    </tr>\n",
       "    <tr>\n",
       "      <th>7</th>\n",
       "      <td>298797.csv</td>\n",
       "      <td>LRPL Taylor</td>\n",
       "      <td>2</td>\n",
       "      <td>5.0</td>\n",
       "      <td>13</td>\n",
       "      <td>4</td>\n",
       "      <td>3</td>\n",
       "      <td>1</td>\n",
       "      <td>0</td>\n",
       "      <td>2</td>\n",
       "      <td>0</td>\n",
       "      <td>10</td>\n",
       "      <td>NaN</td>\n",
       "      <td>0</td>\n",
       "      <td>0</td>\n",
       "      <td>0</td>\n",
       "      <td>0</td>\n",
       "    </tr>\n",
       "    <tr>\n",
       "      <th>1</th>\n",
       "      <td>298797.csv</td>\n",
       "      <td>DL Vettori</td>\n",
       "      <td>2</td>\n",
       "      <td>NaN</td>\n",
       "      <td>0</td>\n",
       "      <td>0</td>\n",
       "      <td>0</td>\n",
       "      <td>0</td>\n",
       "      <td>0</td>\n",
       "      <td>0</td>\n",
       "      <td>0</td>\n",
       "      <td>0</td>\n",
       "      <td>NaN</td>\n",
       "      <td>61</td>\n",
       "      <td>28</td>\n",
       "      <td>1</td>\n",
       "      <td>1</td>\n",
       "    </tr>\n",
       "    <tr>\n",
       "      <th>2</th>\n",
       "      <td>298797.csv</td>\n",
       "      <td>JDP Oram</td>\n",
       "      <td>2</td>\n",
       "      <td>NaN</td>\n",
       "      <td>0</td>\n",
       "      <td>0</td>\n",
       "      <td>0</td>\n",
       "      <td>0</td>\n",
       "      <td>0</td>\n",
       "      <td>0</td>\n",
       "      <td>0</td>\n",
       "      <td>0</td>\n",
       "      <td>NaN</td>\n",
       "      <td>61</td>\n",
       "      <td>30</td>\n",
       "      <td>1</td>\n",
       "      <td>1</td>\n",
       "    </tr>\n",
       "    <tr>\n",
       "      <th>4</th>\n",
       "      <td>298797.csv</td>\n",
       "      <td>JS Patel</td>\n",
       "      <td>2</td>\n",
       "      <td>NaN</td>\n",
       "      <td>0</td>\n",
       "      <td>0</td>\n",
       "      <td>0</td>\n",
       "      <td>0</td>\n",
       "      <td>0</td>\n",
       "      <td>0</td>\n",
       "      <td>0</td>\n",
       "      <td>0</td>\n",
       "      <td>NaN</td>\n",
       "      <td>61</td>\n",
       "      <td>38</td>\n",
       "      <td>1</td>\n",
       "      <td>1</td>\n",
       "    </tr>\n",
       "    <tr>\n",
       "      <th>5</th>\n",
       "      <td>298797.csv</td>\n",
       "      <td>KD Mills</td>\n",
       "      <td>2</td>\n",
       "      <td>NaN</td>\n",
       "      <td>0</td>\n",
       "      <td>0</td>\n",
       "      <td>0</td>\n",
       "      <td>0</td>\n",
       "      <td>0</td>\n",
       "      <td>0</td>\n",
       "      <td>0</td>\n",
       "      <td>0</td>\n",
       "      <td>NaN</td>\n",
       "      <td>49</td>\n",
       "      <td>42</td>\n",
       "      <td>1</td>\n",
       "      <td>3</td>\n",
       "    </tr>\n",
       "    <tr>\n",
       "      <th>8</th>\n",
       "      <td>298797.csv</td>\n",
       "      <td>MR Gillespie</td>\n",
       "      <td>2</td>\n",
       "      <td>NaN</td>\n",
       "      <td>0</td>\n",
       "      <td>0</td>\n",
       "      <td>0</td>\n",
       "      <td>0</td>\n",
       "      <td>0</td>\n",
       "      <td>0</td>\n",
       "      <td>0</td>\n",
       "      <td>0</td>\n",
       "      <td>NaN</td>\n",
       "      <td>62</td>\n",
       "      <td>53</td>\n",
       "      <td>2</td>\n",
       "      <td>3</td>\n",
       "    </tr>\n",
       "  </tbody>\n",
       "</table>\n",
       "</div>"
      ],
      "text/plain": [
       "      File No   Player Name  Innings  Batting Position  Runs  Dots  1s  2s  \\\n",
       "6  298797.csv     L Vincent        2               1.0     9     6   1   2   \n",
       "3  298797.csv        JM How        2               2.0    76    71  20   6   \n",
       "0  298797.csv   BB McCullum        2               3.0    81    47  22   7   \n",
       "9  298797.csv     SB Styris        2               4.0    24    10   6   2   \n",
       "7  298797.csv   LRPL Taylor        2               5.0    13     4   3   1   \n",
       "1  298797.csv    DL Vettori        2               NaN     0     0   0   0   \n",
       "2  298797.csv      JDP Oram        2               NaN     0     0   0   0   \n",
       "4  298797.csv      JS Patel        2               NaN     0     0   0   0   \n",
       "5  298797.csv      KD Mills        2               NaN     0     0   0   0   \n",
       "8  298797.csv  MR Gillespie        2               NaN     0     0   0   0   \n",
       "\n",
       "   3s  4s  6s  Balls Played Wicket Method  Balls Bowled  Runs Given  \\\n",
       "6   0   1   0            10       run out             0           0   \n",
       "3   0  11   0           108           lbw             0           0   \n",
       "0   1   9   1            87       run out             0           0   \n",
       "9   0   2   1            21           NaN            12          12   \n",
       "7   0   2   0            10           NaN             0           0   \n",
       "1   0   0   0             0           NaN            61          28   \n",
       "2   0   0   0             0           NaN            61          30   \n",
       "4   0   0   0             0           NaN            61          38   \n",
       "5   0   0   0             0           NaN            49          42   \n",
       "8   0   0   0             0           NaN            62          53   \n",
       "\n",
       "   Extras Given  Wickets Taken  \n",
       "6             0              0  \n",
       "3             0              0  \n",
       "0             0              0  \n",
       "9             0              0  \n",
       "7             0              0  \n",
       "1             1              1  \n",
       "2             1              1  \n",
       "4             1              1  \n",
       "5             1              3  \n",
       "8             2              3  "
      ]
     },
     "execution_count": 5,
     "metadata": {},
     "output_type": "execute_result"
    }
   ],
   "source": [
    "pd.set_option('display.max_columns', 500)\n",
    "players_team2"
   ]
  },
  {
   "cell_type": "code",
   "execution_count": 289,
   "metadata": {},
   "outputs": [
    {
     "data": {
      "text/plain": [
       "{'JM How': 'JM How', 'L Vincent': 'L Vincent'}"
      ]
     },
     "execution_count": 289,
     "metadata": {},
     "output_type": "execute_result"
    }
   ],
   "source": [
    "player_team1_wicket_bowler"
   ]
  },
  {
   "cell_type": "code",
   "execution_count": 284,
   "metadata": {},
   "outputs": [
    {
     "data": {
      "text/plain": [
       "136        \"\"\n",
       "137        \"\"\n",
       "144        \"\"\n",
       "145        \"\"\n",
       "146        \"\"\n",
       "147        \"\"\n",
       "151        \"\"\n",
       "152        \"\"\n",
       "153        \"\"\n",
       "156        \"\"\n",
       "157        \"\"\n",
       "158        \"\"\n",
       "160        \"\"\n",
       "161        \"\"\n",
       "162        \"\"\n",
       "165        \"\"\n",
       "169        \"\"\n",
       "170        \"\"\n",
       "173        \"\"\n",
       "174        \"\"\n",
       "175        \"\"\n",
       "176        \"\"\n",
       "178        \"\"\n",
       "179        \"\"\n",
       "181        \"\"\n",
       "184        \"\"\n",
       "185        \"\"\n",
       "188        \"\"\n",
       "190        \"\"\n",
       "194        \"\"\n",
       "        ...  \n",
       "214        \"\"\n",
       "215        \"\"\n",
       "216        \"\"\n",
       "220        \"\"\n",
       "222        \"\"\n",
       "224        \"\"\n",
       "225        \"\"\n",
       "227        \"\"\n",
       "231        \"\"\n",
       "232        \"\"\n",
       "236        \"\"\n",
       "239        \"\"\n",
       "241        \"\"\n",
       "243        \"\"\n",
       "247        \"\"\n",
       "254        \"\"\n",
       "256        \"\"\n",
       "260        \"\"\n",
       "261        \"\"\n",
       "262        \"\"\n",
       "265        \"\"\n",
       "266        \"\"\n",
       "269        \"\"\n",
       "272        \"\"\n",
       "273        \"\"\n",
       "275        \"\"\n",
       "277        \"\"\n",
       "282        \"\"\n",
       "286        \"\"\n",
       "288    bowled\n",
       "Name: DismissalType, Length: 76, dtype: object"
      ]
     },
     "execution_count": 284,
     "metadata": {},
     "output_type": "execute_result"
    }
   ],
   "source": [
    "play5"
   ]
  },
  {
   "cell_type": "code",
   "execution_count": null,
   "metadata": {},
   "outputs": [],
   "source": []
  }
 ],
 "metadata": {
  "kernelspec": {
   "display_name": "Python 3",
   "language": "python",
   "name": "python3"
  },
  "language_info": {
   "codemirror_mode": {
    "name": "ipython",
    "version": 3
   },
   "file_extension": ".py",
   "mimetype": "text/x-python",
   "name": "python",
   "nbconvert_exporter": "python",
   "pygments_lexer": "ipython3",
   "version": "3.7.3"
  }
 },
 "nbformat": 4,
 "nbformat_minor": 2
}
